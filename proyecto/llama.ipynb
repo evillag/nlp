{
 "cells": [
  {
   "metadata": {
    "jupyter": {
     "is_executing": true
    }
   },
   "cell_type": "code",
   "source": "%pip install -U langchain-nomic langchain_community tiktoken langchainhub chromadb langchain langgraph tavily-python nomic[local] langchain-text-splitters unstructured unstructured_inference pdfminer.six pi_heif onnx numpy protobuf",
   "id": "b02f74ddb4e9f9f3",
   "outputs": [],
   "execution_count": null
  },
  {
   "cell_type": "code",
   "id": "initial_id",
   "metadata": {
    "collapsed": true,
    "ExecuteTime": {
     "end_time": "2024-11-06T04:52:27.607069Z",
     "start_time": "2024-11-06T04:52:26.441433Z"
    }
   },
   "source": [
    "from langchain_community.document_loaders import UnstructuredPDFLoader\n",
    "from langchain_community.document_loaders import WebBaseLoader\n",
    "from langchain_text_splitters import RecursiveCharacterTextSplitter\n",
    "from langchain_community.vectorstores import Chroma\n",
    "from langchain_nomic.embeddings import NomicEmbeddings"
   ],
   "outputs": [
    {
     "name": "stderr",
     "output_type": "stream",
     "text": [
      "USER_AGENT environment variable not set, consider setting it to identify your requests.\n"
     ]
    }
   ],
   "execution_count": 1
  },
  {
   "metadata": {
    "ExecuteTime": {
     "end_time": "2024-11-06T04:52:31.534993Z",
     "start_time": "2024-11-06T04:52:28.896279Z"
    }
   },
   "cell_type": "code",
   "source": [
    "loader = UnstructuredPDFLoader(\n",
    "    \"PEN_septimo_informe_estado_region_2024.pdf\", \n",
    "    mode=\"elements\", strategy=\"fast\",\n",
    ")\n",
    "docs = [loader.load()]"
   ],
   "id": "90b669fa07dbb50b",
   "outputs": [
    {
     "ename": "ImportError",
     "evalue": "DLL load failed while importing onnx_cpp2py_export: Error en una rutina de inicialización de biblioteca de vínculos dinámicos (DLL).",
     "output_type": "error",
     "traceback": [
      "\u001B[1;31m---------------------------------------------------------------------------\u001B[0m",
      "\u001B[1;31mImportError\u001B[0m                               Traceback (most recent call last)",
      "Cell \u001B[1;32mIn[2], line 5\u001B[0m\n\u001B[0;32m      1\u001B[0m loader \u001B[38;5;241m=\u001B[39m UnstructuredPDFLoader(\n\u001B[0;32m      2\u001B[0m     \u001B[38;5;124m\"\u001B[39m\u001B[38;5;124mPEN_septimo_informe_estado_region_2024.pdf\u001B[39m\u001B[38;5;124m\"\u001B[39m, \n\u001B[0;32m      3\u001B[0m     mode\u001B[38;5;241m=\u001B[39m\u001B[38;5;124m\"\u001B[39m\u001B[38;5;124melements\u001B[39m\u001B[38;5;124m\"\u001B[39m, strategy\u001B[38;5;241m=\u001B[39m\u001B[38;5;124m\"\u001B[39m\u001B[38;5;124mfast\u001B[39m\u001B[38;5;124m\"\u001B[39m,\n\u001B[0;32m      4\u001B[0m )\n\u001B[1;32m----> 5\u001B[0m docs \u001B[38;5;241m=\u001B[39m [\u001B[43mloader\u001B[49m\u001B[38;5;241;43m.\u001B[39;49m\u001B[43mload\u001B[49m\u001B[43m(\u001B[49m\u001B[43m)\u001B[49m]\n",
      "File \u001B[1;32mD:\\src\\maestria\\nlp\\venv\\lib\\site-packages\\langchain_core\\document_loaders\\base.py:31\u001B[0m, in \u001B[0;36mBaseLoader.load\u001B[1;34m(self)\u001B[0m\n\u001B[0;32m     29\u001B[0m \u001B[38;5;28;01mdef\u001B[39;00m \u001B[38;5;21mload\u001B[39m(\u001B[38;5;28mself\u001B[39m) \u001B[38;5;241m-\u001B[39m\u001B[38;5;241m>\u001B[39m \u001B[38;5;28mlist\u001B[39m[Document]:\n\u001B[0;32m     30\u001B[0m \u001B[38;5;250m    \u001B[39m\u001B[38;5;124;03m\"\"\"Load data into Document objects.\"\"\"\u001B[39;00m\n\u001B[1;32m---> 31\u001B[0m     \u001B[38;5;28;01mreturn\u001B[39;00m \u001B[38;5;28;43mlist\u001B[39;49m\u001B[43m(\u001B[49m\u001B[38;5;28;43mself\u001B[39;49m\u001B[38;5;241;43m.\u001B[39;49m\u001B[43mlazy_load\u001B[49m\u001B[43m(\u001B[49m\u001B[43m)\u001B[49m\u001B[43m)\u001B[49m\n",
      "File \u001B[1;32mD:\\src\\maestria\\nlp\\venv\\lib\\site-packages\\langchain_community\\document_loaders\\unstructured.py:107\u001B[0m, in \u001B[0;36mUnstructuredBaseLoader.lazy_load\u001B[1;34m(self)\u001B[0m\n\u001B[0;32m    105\u001B[0m \u001B[38;5;28;01mdef\u001B[39;00m \u001B[38;5;21mlazy_load\u001B[39m(\u001B[38;5;28mself\u001B[39m) \u001B[38;5;241m-\u001B[39m\u001B[38;5;241m>\u001B[39m Iterator[Document]:\n\u001B[0;32m    106\u001B[0m \u001B[38;5;250m    \u001B[39m\u001B[38;5;124;03m\"\"\"Load file.\"\"\"\u001B[39;00m\n\u001B[1;32m--> 107\u001B[0m     elements \u001B[38;5;241m=\u001B[39m \u001B[38;5;28;43mself\u001B[39;49m\u001B[38;5;241;43m.\u001B[39;49m\u001B[43m_get_elements\u001B[49m\u001B[43m(\u001B[49m\u001B[43m)\u001B[49m\n\u001B[0;32m    108\u001B[0m     \u001B[38;5;28mself\u001B[39m\u001B[38;5;241m.\u001B[39m_post_process_elements(elements)\n\u001B[0;32m    109\u001B[0m     \u001B[38;5;28;01mif\u001B[39;00m \u001B[38;5;28mself\u001B[39m\u001B[38;5;241m.\u001B[39mmode \u001B[38;5;241m==\u001B[39m \u001B[38;5;124m\"\u001B[39m\u001B[38;5;124melements\u001B[39m\u001B[38;5;124m\"\u001B[39m:\n",
      "File \u001B[1;32mD:\\src\\maestria\\nlp\\venv\\lib\\site-packages\\langchain_community\\document_loaders\\pdf.py:72\u001B[0m, in \u001B[0;36mUnstructuredPDFLoader._get_elements\u001B[1;34m(self)\u001B[0m\n\u001B[0;32m     71\u001B[0m \u001B[38;5;28;01mdef\u001B[39;00m \u001B[38;5;21m_get_elements\u001B[39m(\u001B[38;5;28mself\u001B[39m) \u001B[38;5;241m-\u001B[39m\u001B[38;5;241m>\u001B[39m List:\n\u001B[1;32m---> 72\u001B[0m     \u001B[38;5;28;01mfrom\u001B[39;00m \u001B[38;5;21;01munstructured\u001B[39;00m\u001B[38;5;21;01m.\u001B[39;00m\u001B[38;5;21;01mpartition\u001B[39;00m\u001B[38;5;21;01m.\u001B[39;00m\u001B[38;5;21;01mpdf\u001B[39;00m \u001B[38;5;28;01mimport\u001B[39;00m partition_pdf\n\u001B[0;32m     74\u001B[0m     \u001B[38;5;28;01mreturn\u001B[39;00m partition_pdf(filename\u001B[38;5;241m=\u001B[39m\u001B[38;5;28mself\u001B[39m\u001B[38;5;241m.\u001B[39mfile_path, \u001B[38;5;241m*\u001B[39m\u001B[38;5;241m*\u001B[39m\u001B[38;5;28mself\u001B[39m\u001B[38;5;241m.\u001B[39munstructured_kwargs)\n",
      "File \u001B[1;32mD:\\src\\maestria\\nlp\\venv\\lib\\site-packages\\unstructured\\partition\\pdf.py:20\u001B[0m\n\u001B[0;32m     18\u001B[0m \u001B[38;5;28;01mfrom\u001B[39;00m \u001B[38;5;21;01mPIL\u001B[39;00m \u001B[38;5;28;01mimport\u001B[39;00m Image \u001B[38;5;28;01mas\u001B[39;00m PILImage\n\u001B[0;32m     19\u001B[0m \u001B[38;5;28;01mfrom\u001B[39;00m \u001B[38;5;21;01mpypdf\u001B[39;00m \u001B[38;5;28;01mimport\u001B[39;00m PdfReader\n\u001B[1;32m---> 20\u001B[0m \u001B[38;5;28;01mfrom\u001B[39;00m \u001B[38;5;21;01munstructured_inference\u001B[39;00m\u001B[38;5;21;01m.\u001B[39;00m\u001B[38;5;21;01minference\u001B[39;00m\u001B[38;5;21;01m.\u001B[39;00m\u001B[38;5;21;01mlayout\u001B[39;00m \u001B[38;5;28;01mimport\u001B[39;00m DocumentLayout\n\u001B[0;32m     21\u001B[0m \u001B[38;5;28;01mfrom\u001B[39;00m \u001B[38;5;21;01munstructured_inference\u001B[39;00m\u001B[38;5;21;01m.\u001B[39;00m\u001B[38;5;21;01minference\u001B[39;00m\u001B[38;5;21;01m.\u001B[39;00m\u001B[38;5;21;01mlayoutelement\u001B[39;00m \u001B[38;5;28;01mimport\u001B[39;00m LayoutElement\n\u001B[0;32m     23\u001B[0m \u001B[38;5;28;01mfrom\u001B[39;00m \u001B[38;5;21;01munstructured\u001B[39;00m\u001B[38;5;21;01m.\u001B[39;00m\u001B[38;5;21;01mchunking\u001B[39;00m \u001B[38;5;28;01mimport\u001B[39;00m add_chunking_strategy\n",
      "File \u001B[1;32mD:\\src\\maestria\\nlp\\venv\\lib\\site-packages\\unstructured_inference\\inference\\layout.py:17\u001B[0m\n\u001B[0;32m     15\u001B[0m \u001B[38;5;28;01mfrom\u001B[39;00m \u001B[38;5;21;01munstructured_inference\u001B[39;00m\u001B[38;5;21;01m.\u001B[39;00m\u001B[38;5;21;01minference\u001B[39;00m\u001B[38;5;21;01m.\u001B[39;00m\u001B[38;5;21;01mlayoutelement\u001B[39;00m \u001B[38;5;28;01mimport\u001B[39;00m LayoutElement, LayoutElements\n\u001B[0;32m     16\u001B[0m \u001B[38;5;28;01mfrom\u001B[39;00m \u001B[38;5;21;01munstructured_inference\u001B[39;00m\u001B[38;5;21;01m.\u001B[39;00m\u001B[38;5;21;01mlogger\u001B[39;00m \u001B[38;5;28;01mimport\u001B[39;00m logger\n\u001B[1;32m---> 17\u001B[0m \u001B[38;5;28;01mfrom\u001B[39;00m \u001B[38;5;21;01munstructured_inference\u001B[39;00m\u001B[38;5;21;01m.\u001B[39;00m\u001B[38;5;21;01mmodels\u001B[39;00m\u001B[38;5;21;01m.\u001B[39;00m\u001B[38;5;21;01mbase\u001B[39;00m \u001B[38;5;28;01mimport\u001B[39;00m get_model\n\u001B[0;32m     18\u001B[0m \u001B[38;5;28;01mfrom\u001B[39;00m \u001B[38;5;21;01munstructured_inference\u001B[39;00m\u001B[38;5;21;01m.\u001B[39;00m\u001B[38;5;21;01mmodels\u001B[39;00m\u001B[38;5;21;01m.\u001B[39;00m\u001B[38;5;21;01munstructuredmodel\u001B[39;00m \u001B[38;5;28;01mimport\u001B[39;00m (\n\u001B[0;32m     19\u001B[0m     UnstructuredElementExtractionModel,\n\u001B[0;32m     20\u001B[0m     UnstructuredObjectDetectionModel,\n\u001B[0;32m     21\u001B[0m )\n\u001B[0;32m     22\u001B[0m \u001B[38;5;28;01mfrom\u001B[39;00m \u001B[38;5;21;01munstructured_inference\u001B[39;00m\u001B[38;5;21;01m.\u001B[39;00m\u001B[38;5;21;01mvisualize\u001B[39;00m \u001B[38;5;28;01mimport\u001B[39;00m draw_bbox\n",
      "File \u001B[1;32mD:\\src\\maestria\\nlp\\venv\\lib\\site-packages\\unstructured_inference\\models\\base.py:7\u001B[0m\n\u001B[0;32m      4\u001B[0m \u001B[38;5;28;01mimport\u001B[39;00m \u001B[38;5;21;01mos\u001B[39;00m\n\u001B[0;32m      5\u001B[0m \u001B[38;5;28;01mfrom\u001B[39;00m \u001B[38;5;21;01mtyping\u001B[39;00m \u001B[38;5;28;01mimport\u001B[39;00m Dict, Optional, Tuple, Type\n\u001B[1;32m----> 7\u001B[0m \u001B[38;5;28;01mfrom\u001B[39;00m \u001B[38;5;21;01munstructured_inference\u001B[39;00m\u001B[38;5;21;01m.\u001B[39;00m\u001B[38;5;21;01mmodels\u001B[39;00m\u001B[38;5;21;01m.\u001B[39;00m\u001B[38;5;21;01mdetectron2onnx\u001B[39;00m \u001B[38;5;28;01mimport\u001B[39;00m (\n\u001B[0;32m      8\u001B[0m     MODEL_TYPES \u001B[38;5;28;01mas\u001B[39;00m DETECTRON2_ONNX_MODEL_TYPES,\n\u001B[0;32m      9\u001B[0m )\n\u001B[0;32m     10\u001B[0m \u001B[38;5;28;01mfrom\u001B[39;00m \u001B[38;5;21;01munstructured_inference\u001B[39;00m\u001B[38;5;21;01m.\u001B[39;00m\u001B[38;5;21;01mmodels\u001B[39;00m\u001B[38;5;21;01m.\u001B[39;00m\u001B[38;5;21;01mdetectron2onnx\u001B[39;00m \u001B[38;5;28;01mimport\u001B[39;00m UnstructuredDetectronONNXModel\n\u001B[0;32m     11\u001B[0m \u001B[38;5;28;01mfrom\u001B[39;00m \u001B[38;5;21;01munstructured_inference\u001B[39;00m\u001B[38;5;21;01m.\u001B[39;00m\u001B[38;5;21;01mmodels\u001B[39;00m\u001B[38;5;21;01m.\u001B[39;00m\u001B[38;5;21;01munstructuredmodel\u001B[39;00m \u001B[38;5;28;01mimport\u001B[39;00m UnstructuredModel\n",
      "File \u001B[1;32mD:\\src\\maestria\\nlp\\venv\\lib\\site-packages\\unstructured_inference\\models\\detectron2onnx.py:9\u001B[0m\n\u001B[0;32m      7\u001B[0m \u001B[38;5;28;01mfrom\u001B[39;00m \u001B[38;5;21;01mhuggingface_hub\u001B[39;00m\u001B[38;5;21;01m.\u001B[39;00m\u001B[38;5;21;01mconstants\u001B[39;00m \u001B[38;5;28;01mimport\u001B[39;00m HUGGINGFACE_HUB_CACHE\n\u001B[0;32m      8\u001B[0m \u001B[38;5;28;01mfrom\u001B[39;00m \u001B[38;5;21;01monnxruntime\u001B[39;00m\u001B[38;5;21;01m.\u001B[39;00m\u001B[38;5;21;01mcapi\u001B[39;00m \u001B[38;5;28;01mimport\u001B[39;00m _pybind_state \u001B[38;5;28;01mas\u001B[39;00m C\n\u001B[1;32m----> 9\u001B[0m \u001B[38;5;28;01mfrom\u001B[39;00m \u001B[38;5;21;01monnxruntime\u001B[39;00m\u001B[38;5;21;01m.\u001B[39;00m\u001B[38;5;21;01mquantization\u001B[39;00m \u001B[38;5;28;01mimport\u001B[39;00m QuantType, quantize_dynamic\n\u001B[0;32m     10\u001B[0m \u001B[38;5;28;01mfrom\u001B[39;00m \u001B[38;5;21;01mPIL\u001B[39;00m \u001B[38;5;28;01mimport\u001B[39;00m Image\n\u001B[0;32m     12\u001B[0m \u001B[38;5;28;01mfrom\u001B[39;00m \u001B[38;5;21;01munstructured_inference\u001B[39;00m\u001B[38;5;21;01m.\u001B[39;00m\u001B[38;5;21;01mconstants\u001B[39;00m \u001B[38;5;28;01mimport\u001B[39;00m Source\n",
      "File \u001B[1;32mD:\\src\\maestria\\nlp\\venv\\lib\\site-packages\\onnxruntime\\quantization\\__init__.py:1\u001B[0m\n\u001B[1;32m----> 1\u001B[0m \u001B[38;5;28;01mfrom\u001B[39;00m \u001B[38;5;21;01m.\u001B[39;00m\u001B[38;5;21;01mcalibrate\u001B[39;00m \u001B[38;5;28;01mimport\u001B[39;00m (  \u001B[38;5;66;03m# noqa: F401\u001B[39;00m\n\u001B[0;32m      2\u001B[0m     CalibraterBase,\n\u001B[0;32m      3\u001B[0m     CalibrationDataReader,\n\u001B[0;32m      4\u001B[0m     CalibrationMethod,\n\u001B[0;32m      5\u001B[0m     MinMaxCalibrater,\n\u001B[0;32m      6\u001B[0m     create_calibrator,\n\u001B[0;32m      7\u001B[0m )\n\u001B[0;32m      8\u001B[0m \u001B[38;5;28;01mfrom\u001B[39;00m \u001B[38;5;21;01m.\u001B[39;00m\u001B[38;5;21;01mqdq_quantizer\u001B[39;00m \u001B[38;5;28;01mimport\u001B[39;00m QDQQuantizer  \u001B[38;5;66;03m# noqa: F401\u001B[39;00m\n\u001B[0;32m      9\u001B[0m \u001B[38;5;28;01mfrom\u001B[39;00m \u001B[38;5;21;01m.\u001B[39;00m\u001B[38;5;21;01mquant_utils\u001B[39;00m \u001B[38;5;28;01mimport\u001B[39;00m QuantFormat, QuantType, write_calibration_table  \u001B[38;5;66;03m# noqa: F401\u001B[39;00m\n",
      "File \u001B[1;32mD:\\src\\maestria\\nlp\\venv\\lib\\site-packages\\onnxruntime\\quantization\\calibrate.py:17\u001B[0m\n\u001B[0;32m     14\u001B[0m \u001B[38;5;28;01mfrom\u001B[39;00m \u001B[38;5;21;01mtyping\u001B[39;00m \u001B[38;5;28;01mimport\u001B[39;00m Dict, Optional, Sequence, Tuple, Union\n\u001B[0;32m     16\u001B[0m \u001B[38;5;28;01mimport\u001B[39;00m \u001B[38;5;21;01mnumpy\u001B[39;00m \u001B[38;5;28;01mas\u001B[39;00m \u001B[38;5;21;01mnp\u001B[39;00m\n\u001B[1;32m---> 17\u001B[0m \u001B[38;5;28;01mimport\u001B[39;00m \u001B[38;5;21;01monnx\u001B[39;00m\n\u001B[0;32m     18\u001B[0m \u001B[38;5;28;01mfrom\u001B[39;00m \u001B[38;5;21;01monnx\u001B[39;00m \u001B[38;5;28;01mimport\u001B[39;00m ModelProto, TensorProto, helper, numpy_helper\n\u001B[0;32m     20\u001B[0m \u001B[38;5;28;01mimport\u001B[39;00m \u001B[38;5;21;01monnxruntime\u001B[39;00m\n",
      "File \u001B[1;32mD:\\src\\maestria\\nlp\\venv\\lib\\site-packages\\onnx\\__init__.py:77\u001B[0m\n\u001B[0;32m     73\u001B[0m \u001B[38;5;28;01mfrom\u001B[39;00m \u001B[38;5;21;01mtyping\u001B[39;00m \u001B[38;5;28;01mimport\u001B[39;00m IO, Literal, Union\n\u001B[0;32m     76\u001B[0m \u001B[38;5;28;01mfrom\u001B[39;00m \u001B[38;5;21;01monnx\u001B[39;00m \u001B[38;5;28;01mimport\u001B[39;00m serialization\n\u001B[1;32m---> 77\u001B[0m \u001B[38;5;28;01mfrom\u001B[39;00m \u001B[38;5;21;01monnx\u001B[39;00m\u001B[38;5;21;01m.\u001B[39;00m\u001B[38;5;21;01monnx_cpp2py_export\u001B[39;00m \u001B[38;5;28;01mimport\u001B[39;00m ONNX_ML\n\u001B[0;32m     78\u001B[0m \u001B[38;5;28;01mfrom\u001B[39;00m \u001B[38;5;21;01monnx\u001B[39;00m\u001B[38;5;21;01m.\u001B[39;00m\u001B[38;5;21;01mexternal_data_helper\u001B[39;00m \u001B[38;5;28;01mimport\u001B[39;00m (\n\u001B[0;32m     79\u001B[0m     load_external_data_for_model,\n\u001B[0;32m     80\u001B[0m     write_external_data_tensors,\n\u001B[0;32m     81\u001B[0m     convert_model_to_external_data,\n\u001B[0;32m     82\u001B[0m )\n\u001B[0;32m     83\u001B[0m \u001B[38;5;28;01mfrom\u001B[39;00m \u001B[38;5;21;01monnx\u001B[39;00m\u001B[38;5;21;01m.\u001B[39;00m\u001B[38;5;21;01monnx_pb\u001B[39;00m \u001B[38;5;28;01mimport\u001B[39;00m (\n\u001B[0;32m     84\u001B[0m     AttributeProto,\n\u001B[0;32m     85\u001B[0m     EXPERIMENTAL,\n\u001B[1;32m   (...)\u001B[0m\n\u001B[0;32m    111\u001B[0m     Version,\n\u001B[0;32m    112\u001B[0m )\n",
      "\u001B[1;31mImportError\u001B[0m: DLL load failed while importing onnx_cpp2py_export: Error en una rutina de inicialización de biblioteca de vínculos dinámicos (DLL)."
     ]
    }
   ],
   "execution_count": 2
  },
  {
   "metadata": {},
   "cell_type": "code",
   "outputs": [],
   "execution_count": null,
   "source": [
    "# urls = [\n",
    "#     \"https://example.com/post1\",\n",
    "#     \"https://example.com/post2\",\n",
    "#     \"https://example.com/post3\",\n",
    "# ]\n",
    "\n",
    "# docs = [WebBaseLoader(url).load() for url in urls]"
   ],
   "id": "1e2caa5fe556171c"
  },
  {
   "metadata": {
    "ExecuteTime": {
     "end_time": "2024-11-06T04:43:53.076292Z",
     "start_time": "2024-11-06T04:43:52.459557Z"
    }
   },
   "cell_type": "code",
   "source": [
    "docs_list = [item for sublist in docs for item in sublist]\n",
    "\n",
    "text_splitter = RecursiveCharacterTextSplitter.from_tiktoken_encoder(chunk_size=250, chunk_overlap=0)\n",
    "doc_splits = text_splitter.split_documents(docs_list)\n",
    "\n",
    "vectorstore = Chroma.from_documents(\n",
    "    documents=doc_splits,\n",
    "    collection_name=\"rag-chroma\",\n",
    "    embedding=NomicEmbeddings(model=\"nomic-embed-text-v1.5\", inference_mode=\"local\"),\n",
    ")\n",
    "retriever = vectorstore.as_retriever()"
   ],
   "id": "d3868589f88a1ee4",
   "outputs": [
    {
     "ename": "NameError",
     "evalue": "name 'docs' is not defined",
     "output_type": "error",
     "traceback": [
      "\u001B[1;31m---------------------------------------------------------------------------\u001B[0m",
      "\u001B[1;31mNameError\u001B[0m                                 Traceback (most recent call last)",
      "Cell \u001B[1;32mIn[2], line 8\u001B[0m\n\u001B[0;32m      1\u001B[0m urls \u001B[38;5;241m=\u001B[39m [\n\u001B[0;32m      2\u001B[0m     \u001B[38;5;124m\"\u001B[39m\u001B[38;5;124mhttps://example.com/post1\u001B[39m\u001B[38;5;124m\"\u001B[39m,\n\u001B[0;32m      3\u001B[0m     \u001B[38;5;124m\"\u001B[39m\u001B[38;5;124mhttps://example.com/post2\u001B[39m\u001B[38;5;124m\"\u001B[39m,\n\u001B[0;32m      4\u001B[0m     \u001B[38;5;124m\"\u001B[39m\u001B[38;5;124mhttps://example.com/post3\u001B[39m\u001B[38;5;124m\"\u001B[39m,\n\u001B[0;32m      5\u001B[0m ]\n\u001B[0;32m      7\u001B[0m \u001B[38;5;66;03m# docs = [WebBaseLoader(url).load() for url in urls]\u001B[39;00m\n\u001B[1;32m----> 8\u001B[0m docs_list \u001B[38;5;241m=\u001B[39m [item \u001B[38;5;28;01mfor\u001B[39;00m sublist \u001B[38;5;129;01min\u001B[39;00m \u001B[43mdocs\u001B[49m \u001B[38;5;28;01mfor\u001B[39;00m item \u001B[38;5;129;01min\u001B[39;00m sublist]\n\u001B[0;32m     10\u001B[0m text_splitter \u001B[38;5;241m=\u001B[39m RecursiveCharacterTextSplitter\u001B[38;5;241m.\u001B[39mfrom_tiktoken_encoder(chunk_size\u001B[38;5;241m=\u001B[39m\u001B[38;5;241m250\u001B[39m, chunk_overlap\u001B[38;5;241m=\u001B[39m\u001B[38;5;241m0\u001B[39m)\n\u001B[0;32m     11\u001B[0m doc_splits \u001B[38;5;241m=\u001B[39m text_splitter\u001B[38;5;241m.\u001B[39msplit_documents(docs_list)\n",
      "\u001B[1;31mNameError\u001B[0m: name 'docs' is not defined"
     ]
    }
   ],
   "execution_count": 2
  }
 ],
 "metadata": {
  "kernelspec": {
   "display_name": "Python 3",
   "language": "python",
   "name": "python3"
  },
  "language_info": {
   "codemirror_mode": {
    "name": "ipython",
    "version": 2
   },
   "file_extension": ".py",
   "mimetype": "text/x-python",
   "name": "python",
   "nbconvert_exporter": "python",
   "pygments_lexer": "ipython2",
   "version": "2.7.6"
  }
 },
 "nbformat": 4,
 "nbformat_minor": 5
}
