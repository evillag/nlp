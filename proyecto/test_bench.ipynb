{
 "cells": [
  {
   "cell_type": "code",
   "execution_count": 1,
   "metadata": {
    "id": "5ggXrtFs18rs"
   },
   "outputs": [],
   "source": [
    "%%capture\n",
    "%pip install \"sentence-transformers>=3.0.0\" haystack-ai google-ai-haystack wikipedia rich google-generativeai"
   ]
  },
  {
   "cell_type": "code",
   "execution_count": null,
   "metadata": {},
   "outputs": [
    {
     "name": "stderr",
     "output_type": "stream",
     "text": [
      "c:\\sw\\anaconda3\\envs\\torch\\Lib\\site-packages\\haystack\\core\\errors.py:34: DeprecationWarning: PipelineMaxLoops is deprecated and will be remove in version '2.7.0'; use PipelineMaxComponentRuns instead.\n",
      "  warnings.warn(\n"
     ]
    }
   ],
   "source": [
    "import os\n",
    "import pandas as pd\n",
    "import random\n",
    "import time\n",
    "import wikipedia\n",
    "\n",
    "from rich import print\n",
    "\n",
    "from datasets import load_dataset\n",
    "from dotenv import load_dotenv\n",
    "from google.generativeai import GenerationConfig\n",
    "from haystack import Document, Pipeline\n",
    "from haystack.components.builders import PromptBuilder\n",
    "from haystack.components.embedders import SentenceTransformersDocumentEmbedder, SentenceTransformersTextEmbedder\n",
    "from haystack.components.generators import AzureOpenAIGenerator\n",
    "from haystack.components.retrievers import InMemoryEmbeddingRetriever\n",
    "from haystack.components.retrievers.in_memory import InMemoryBM25Retriever\n",
    "from haystack.components.preprocessors import DocumentCleaner, DocumentSplitter\n",
    "from haystack.components.writers import DocumentWriter\n",
    "from haystack.document_stores.in_memory import InMemoryDocumentStore\n",
    "from haystack.document_stores.types import DuplicatePolicy\n",
    "from haystack_integrations.components.generators.google_ai import GoogleAIGeminiGenerator, GoogleAIGeminiChatGenerator\n"
   ]
  },
  {
   "cell_type": "markdown",
   "metadata": {
    "id": "Lh60ZvTdGDdh"
   },
   "source": [
    "## Authorization\n",
    "\n",
    "- You need an Google API Key, one can be obtained at https://aistudio.google.com/app/apikey\n",
    "- [Optional] You also need an Azure OpenAI API Key and Azure OpenAI endpoint for the second part of this notebook."
   ]
  },
  {
   "cell_type": "code",
   "execution_count": 3,
   "metadata": {
    "colab": {
     "base_uri": "https://localhost:8080/"
    },
    "id": "6lBjYZOC3Ug2",
    "outputId": "1395a3e3-2ce5-48ba-e3cc-148f99a000f8"
   },
   "outputs": [
    {
     "data": {
      "text/plain": [
       "True"
      ]
     },
     "execution_count": 3,
     "metadata": {},
     "output_type": "execute_result"
    }
   ],
   "source": [
    "load_dotenv()"
   ]
  },
  {
   "cell_type": "markdown",
   "metadata": {
    "id": "7XAtaoEiHE6B"
   },
   "source": [
    "## Index Documents"
   ]
  },
  {
   "cell_type": "markdown",
   "metadata": {
    "id": "TCeqQB3kHqcz"
   },
   "source": [
    "### Load data from Wikipedia"
   ]
  },
  {
   "cell_type": "code",
   "execution_count": 4,
   "metadata": {
    "id": "c_yp6s9aHnhx"
   },
   "outputs": [],
   "source": [
    "favourite_bands=\"\"\"Audioslave\n",
    "Blink-182\n",
    "Dire Straits\n",
    "Evanescence\n",
    "Green Day\n",
    "Muse (band)\n",
    "Nirvana (band)\n",
    "Sum 41\n",
    "The Cure\n",
    "The Smiths\"\"\".split(\"\\n\")"
   ]
  },
  {
   "cell_type": "code",
   "execution_count": 5,
   "metadata": {
    "id": "cpTwStuJHvxR"
   },
   "outputs": [],
   "source": [
    "raw_docs=[]\n",
    "\n",
    "for title in favourite_bands:\n",
    "    page = wikipedia.page(title=title, auto_suggest=False)\n",
    "    doc = Document(content=page.content, meta={\"title\": page.title, \"url\":page.url})\n",
    "    raw_docs.append(doc)"
   ]
  },
  {
   "cell_type": "markdown",
   "metadata": {
    "id": "h1fvmgsZH0i8"
   },
   "source": [
    "### Indexing Pipeline"
   ]
  },
  {
   "cell_type": "code",
   "execution_count": 6,
   "metadata": {
    "id": "EoJjHmLjH7Ag"
   },
   "outputs": [],
   "source": [
    "document_store = InMemoryDocumentStore()"
   ]
  },
  {
   "cell_type": "code",
   "execution_count": 7,
   "metadata": {},
   "outputs": [],
   "source": [
    "embedder = SentenceTransformersDocumentEmbedder(\"sentence-transformers/all-MiniLM-L6-v2\", progress_bar=False)\n",
    "embedder.warm_up()"
   ]
  },
  {
   "cell_type": "code",
   "execution_count": 8,
   "metadata": {
    "colab": {
     "base_uri": "https://localhost:8080/"
    },
    "id": "fBbmbJX6H9cj",
    "outputId": "51722cec-701a-47be-b9f7-b2815d92cd26"
   },
   "outputs": [
    {
     "data": {
      "text/plain": [
       "<haystack.core.pipeline.pipeline.Pipeline object at 0x000001BECCC03320>\n",
       "🚅 Components\n",
       "  - cleaner: DocumentCleaner\n",
       "  - splitter: DocumentSplitter\n",
       "  - embedder: SentenceTransformersDocumentEmbedder\n",
       "  - writer: DocumentWriter\n",
       "🛤️ Connections\n",
       "  - cleaner.documents -> splitter.documents (List[Document])\n",
       "  - splitter.documents -> embedder.documents (List[Document])\n",
       "  - embedder.documents -> writer.documents (List[Document])"
      ]
     },
     "execution_count": 8,
     "metadata": {},
     "output_type": "execute_result"
    }
   ],
   "source": [
    "indexing = Pipeline()\n",
    "indexing.add_component(\"cleaner\", DocumentCleaner())\n",
    "indexing.add_component(\"splitter\", DocumentSplitter(split_by='sentence', split_length=2))\n",
    "indexing.add_component(\"embedder\", embedder)\n",
    "indexing.add_component(\"writer\", DocumentWriter(document_store=document_store, policy=DuplicatePolicy.OVERWRITE))\n",
    "indexing.connect(\"cleaner\", \"splitter\")\n",
    "indexing.connect(\"splitter\", \"embedder\")\n",
    "indexing.connect(\"embedder\", \"writer\")"
   ]
  },
  {
   "cell_type": "code",
   "execution_count": 9,
   "metadata": {
    "colab": {
     "base_uri": "https://localhost:8080/"
    },
    "id": "ddizanfoIFz3",
    "outputId": "03da6778-fa99-4ff2-c9f4-865c6cc5b7cd"
   },
   "outputs": [
    {
     "name": "stderr",
     "output_type": "stream",
     "text": [
      "c:\\sw\\anaconda3\\envs\\torch\\Lib\\site-packages\\transformers\\models\\bert\\modeling_bert.py:440: UserWarning: 1Torch was not compiled with flash attention. (Triggered internally at C:\\cb\\pytorch_1000000000000\\work\\aten\\src\\ATen\\native\\transformers\\cuda\\sdp_utils.cpp:555.)\n",
      "  attn_output = torch.nn.functional.scaled_dot_product_attention(\n"
     ]
    },
    {
     "data": {
      "text/plain": [
       "{'writer': {'documents_written': 1610}}"
      ]
     },
     "execution_count": 9,
     "metadata": {},
     "output_type": "execute_result"
    }
   ],
   "source": [
    "indexing.run({\"cleaner\":{\"documents\":raw_docs}})"
   ]
  },
  {
   "cell_type": "code",
   "execution_count": 10,
   "metadata": {
    "colab": {
     "base_uri": "https://localhost:8080/"
    },
    "id": "KRv-TgV9IZcF",
    "outputId": "92b55c9a-2b89-4740-c512-864d3c210cd5"
   },
   "outputs": [
    {
     "data": {
      "text/html": [
       "<pre style=\"white-space:pre;overflow-x:auto;line-height:normal;font-family:Menlo,'DejaVu Sans Mono',consolas,'Courier New',monospace\"><span style=\"color: #800080; text-decoration-color: #800080; font-weight: bold\">Document</span><span style=\"font-weight: bold\">(</span><span style=\"color: #808000; text-decoration-color: #808000\">id</span>=<span style=\"color: #800080; text-decoration-color: #800080\">c21fdea0ecc6fabdfff42c479ed364ae892713273369bf044636b7fea643d8bd</span>, content: <span style=\"color: #008000; text-decoration-color: #008000\">'Audioslave was an American </span>\n",
       "<span style=\"color: #008000; text-decoration-color: #008000\">rock supergroup formed in Glendale, California, in 2001. The four-piece b...'</span>, meta: <span style=\"font-weight: bold\">{</span><span style=\"color: #008000; text-decoration-color: #008000\">'title'</span>: <span style=\"color: #008000; text-decoration-color: #008000\">'Audioslave'</span>, <span style=\"color: #008000; text-decoration-color: #008000\">'url'</span>:\n",
       "<span style=\"color: #008000; text-decoration-color: #008000\">'https://en.wikipedia.org/wiki/Audioslave'</span>, <span style=\"color: #008000; text-decoration-color: #008000\">'source_id'</span>: \n",
       "<span style=\"color: #008000; text-decoration-color: #008000\">'cf53c7ec310b6c605f6528b4edb9698b78896db7725e19e65c86ee6a871d5e10'</span>, <span style=\"color: #008000; text-decoration-color: #008000\">'page_number'</span>: <span style=\"color: #008080; text-decoration-color: #008080; font-weight: bold\">1</span>, <span style=\"color: #008000; text-decoration-color: #008000\">'split_id'</span>: <span style=\"color: #008080; text-decoration-color: #008080; font-weight: bold\">0</span>, \n",
       "<span style=\"color: #008000; text-decoration-color: #008000\">'split_idx_start'</span>: <span style=\"color: #008080; text-decoration-color: #008080; font-weight: bold\">0</span><span style=\"font-weight: bold\">}</span>, embedding: vector of size <span style=\"color: #008080; text-decoration-color: #008080; font-weight: bold\">384</span><span style=\"font-weight: bold\">)</span>\n",
       "</pre>\n"
      ],
      "text/plain": [
       "\u001b[1;35mDocument\u001b[0m\u001b[1m(\u001b[0m\u001b[33mid\u001b[0m=\u001b[35mc21fdea0ecc6fabdfff42c479ed364ae892713273369bf044636b7fea643d8bd\u001b[0m, content: \u001b[32m'Audioslave was an American \u001b[0m\n",
       "\u001b[32mrock supergroup formed in Glendale, California, in 2001. The four-piece b...'\u001b[0m, meta: \u001b[1m{\u001b[0m\u001b[32m'title'\u001b[0m: \u001b[32m'Audioslave'\u001b[0m, \u001b[32m'url'\u001b[0m:\n",
       "\u001b[32m'https://en.wikipedia.org/wiki/Audioslave'\u001b[0m, \u001b[32m'source_id'\u001b[0m: \n",
       "\u001b[32m'cf53c7ec310b6c605f6528b4edb9698b78896db7725e19e65c86ee6a871d5e10'\u001b[0m, \u001b[32m'page_number'\u001b[0m: \u001b[1;36m1\u001b[0m, \u001b[32m'split_id'\u001b[0m: \u001b[1;36m0\u001b[0m, \n",
       "\u001b[32m'split_idx_start'\u001b[0m: \u001b[1;36m0\u001b[0m\u001b[1m}\u001b[0m, embedding: vector of size \u001b[1;36m384\u001b[0m\u001b[1m)\u001b[0m\n"
      ]
     },
     "metadata": {},
     "output_type": "display_data"
    }
   ],
   "source": [
    "print(document_store.filter_documents()[0])"
   ]
  },
  {
   "cell_type": "markdown",
   "metadata": {},
   "source": [
    "# Experiment Prompts"
   ]
  },
  {
   "cell_type": "code",
   "execution_count": 11,
   "metadata": {
    "id": "wF7mPcnwIbfi"
   },
   "outputs": [],
   "source": [
    "prompt_template = \"\"\"\n",
    "Using the information contained in the context, give a comprehensive answer to the question.\n",
    "If the answer is contained in the context, also report the source URL.\n",
    "If the answer cannot be deduced from the context, do not give an answer.\n",
    "\n",
    "Context:\n",
    "  {% for doc in documents %}\n",
    "  {{ doc.content }} URL:{{ doc.meta['url'] }}\n",
    "  {% endfor %};\n",
    "  Question: {{query}}\n",
    "\"\"\"\n",
    "\n",
    "critic_prompt_template = \"\"\"\n",
    "Decide if the following answer is consistent with the corresponding sources. Note that \n",
    "consistency means all information in the answer is supported by the sources.\n",
    "\n",
    "Sources: [\n",
    "  {% for doc in documents %}\n",
    "  {{ doc.content }} URL:{{ doc.meta['url'] }}\n",
    "  {% endfor %};\n",
    "]\n",
    "Answer: [{{answer}}]\n",
    "\n",
    "Explain your reasoning step by step then answer [yes/no] the question.\n",
    "ANSWER:\n",
    "\"\"\"\n",
    "\n",
    "questions=\"\"\"What was the original name of Sum 41?\n",
    "What is the name of the lead singer of Blink-182?\n",
    "What was the title of Nirvana's breakthrough album released in 1991?\n",
    "What does Rhodes Statue look like?\n",
    "Green Day's \"American Idiot\" is a rock opera. What's the story it tells?\n",
    "Who was the lead singer of The Cure?\n",
    "Audioslave was formed by members of two iconic bands. Can you name the bands and discuss the sound of Audioslave in comparison?\n",
    "Evanescence's \"Bring Me to Life\" features a male vocalist. Who is he, and how does his voice complement Amy Lee's in the song?\n",
    "What is Sum 41's debut studio album called?\n",
    "How many languages are there?\n",
    "What did Einstein win the Nobel Prize for?\n",
    "What What does Rhodes Statue look like?\n",
    "Who was the lead singer of Audioslave?\n",
    "Who has the most followers on Instagram?\n",
    "When was Nirvana's first studio album, \"Bleach,\" released?\n",
    "Were the Smiths an influential band?\n",
    "What is the name of Evanescence's debut album?\n",
    "Which band was Morrissey the lead singer of before he formed The Smiths?\n",
    "Whose the father of Luke Skywalker?\n",
    "What type of music plays Coldplay?\n",
    "Dire Straits' hit song \"Money for Nothing\" features a guest vocal by a famous artist. Who is this artist?\n",
    "Who played the song \"Like a stone\"?\n",
    "What is the most interesting thing you know?\"\"\".split('\\n')"
   ]
  },
  {
   "cell_type": "code",
   "execution_count": 12,
   "metadata": {},
   "outputs": [],
   "source": [
    "def get_generative_answer(query, rag_model):\n",
    "  results = rag_model.run({\n",
    "      \"text_embedder\": {\"text\": query},\n",
    "      \"prompt_builder\": {\"query\": query}\n",
    "    }\n",
    "  )\n",
    "\n",
    "  answer = results[\"llm\"][\"replies\"][0]  \n",
    "  return answer\n",
    "\n",
    "def get_critic_answer(query, rag_model, critic_model):  \n",
    "  model_answer = get_generative_answer(query, rag_model)\n",
    "  results = critic_model.run({\n",
    "      \"text_embedder\": {\"text\": query},\n",
    "      \"prompt_builder\": {\"answer\": model_answer}\n",
    "    }\n",
    "  )\n",
    "  critic_answer = results[\"llm\"][\"replies\"][0]  \n",
    "  return model_answer, critic_answer\n"
   ]
  },
  {
   "cell_type": "code",
   "execution_count": 22,
   "metadata": {},
   "outputs": [],
   "source": [
    "experiment_results = {\n",
    "    \"model_name\": [],\n",
    "    \"question\": [],\n",
    "    \"model_answer\": [],\n",
    "    \"critic_answer\": []\n",
    "}"
   ]
  },
  {
   "cell_type": "markdown",
   "metadata": {
    "id": "Qk8v_s8xIdLV"
   },
   "source": [
    "# RAG with Gemini 1.5-flash"
   ]
  },
  {
   "cell_type": "code",
   "execution_count": 16,
   "metadata": {},
   "outputs": [
    {
     "data": {
      "text/html": [
       "<pre style=\"white-space:pre;overflow-x:auto;line-height:normal;font-family:Menlo,'DejaVu Sans Mono',consolas,'Courier New',monospace\">Gemini model gemini-<span style=\"color: #008080; text-decoration-color: #008080; font-weight: bold\">1.5</span>-flash-latest loaded.\n",
       "</pre>\n"
      ],
      "text/plain": [
       "Gemini model gemini-\u001b[1;36m1.5\u001b[0m-flash-latest loaded.\n"
      ]
     },
     "metadata": {},
     "output_type": "display_data"
    }
   ],
   "source": [
    "GEMINI_FLASH = \"gemini-1.5-flash-latest\"\n",
    "\n",
    "generation_config = GenerationConfig(temperature=0.0, top_p=0.9, candidate_count=1)\n",
    "\n",
    "def get_gemini_model(model=GEMINI_FLASH, generation_config=generation_config):\n",
    "    return GoogleAIGeminiGenerator(model=GEMINI_FLASH, generation_config=generation_config)    \n",
    "\n",
    "\n",
    "print(f\"Gemini model {get_gemini_model()._model_name} loaded.\")"
   ]
  },
  {
   "cell_type": "code",
   "execution_count": 27,
   "metadata": {
    "colab": {
     "base_uri": "https://localhost:8080/"
    },
    "id": "lx6PNcm-I1zF",
    "outputId": "a68372ad-8936-4197-e972-1d81c54a5404"
   },
   "outputs": [
    {
     "data": {
      "text/plain": [
       "<haystack.core.pipeline.pipeline.Pipeline object at 0x000001BF0BC77470>\n",
       "🚅 Components\n",
       "  - text_embedder: SentenceTransformersTextEmbedder\n",
       "  - retriever: InMemoryEmbeddingRetriever\n",
       "  - prompt_builder: PromptBuilder\n",
       "  - llm: GoogleAIGeminiGenerator\n",
       "🛤️ Connections\n",
       "  - text_embedder.embedding -> retriever.query_embedding (List[float])\n",
       "  - retriever.documents -> prompt_builder.documents (List[Document])\n",
       "  - prompt_builder.prompt -> llm.parts (str)"
      ]
     },
     "execution_count": 27,
     "metadata": {},
     "output_type": "execute_result"
    }
   ],
   "source": [
    "prompt_builder = PromptBuilder(template=prompt_template)\n",
    "gemini_rag = Pipeline()\n",
    "gemini_rag.add_component(\"text_embedder\", SentenceTransformersTextEmbedder(\"sentence-transformers/all-MiniLM-L6-v2\", progress_bar=False))\n",
    "gemini_rag.add_component(\"retriever\", InMemoryEmbeddingRetriever(document_store=document_store, top_k=5))\n",
    "gemini_rag.add_component(\"prompt_builder\", prompt_builder)\n",
    "gemini_rag.add_component(\"llm\", get_gemini_model())\n",
    "\n",
    "gemini_rag.connect(\"text_embedder.embedding\", \"retriever.query_embedding\")\n",
    "gemini_rag.connect(\"retriever\", \"prompt_builder.documents\")\n",
    "gemini_rag.connect(\"prompt_builder\", \"llm\")\n"
   ]
  },
  {
   "cell_type": "markdown",
   "metadata": {},
   "source": [
    "### Critict model"
   ]
  },
  {
   "cell_type": "code",
   "execution_count": 18,
   "metadata": {},
   "outputs": [
    {
     "data": {
      "text/plain": [
       "<haystack.core.pipeline.pipeline.Pipeline object at 0x000001BF0BB5C6E0>\n",
       "🚅 Components\n",
       "  - text_embedder: SentenceTransformersTextEmbedder\n",
       "  - retriever: InMemoryEmbeddingRetriever\n",
       "  - prompt_builder: PromptBuilder\n",
       "  - llm: GoogleAIGeminiGenerator\n",
       "🛤️ Connections\n",
       "  - text_embedder.embedding -> retriever.query_embedding (List[float])\n",
       "  - retriever.documents -> prompt_builder.documents (List[Document])\n",
       "  - prompt_builder.prompt -> llm.parts (str)"
      ]
     },
     "execution_count": 18,
     "metadata": {},
     "output_type": "execute_result"
    }
   ],
   "source": [
    "gemini_critic = Pipeline()\n",
    "gemini_critic.add_component(\"text_embedder\", SentenceTransformersTextEmbedder(\"sentence-transformers/all-MiniLM-L6-v2\", progress_bar=False))\n",
    "gemini_critic.add_component(\"retriever\", InMemoryEmbeddingRetriever(document_store=document_store, top_k=5))\n",
    "gemini_critic.add_component(\"prompt_builder\", PromptBuilder(template=critic_prompt_template))\n",
    "gemini_critic.add_component(\"llm\", get_gemini_model())\n",
    "\n",
    "gemini_critic.connect(\"text_embedder.embedding\", \"retriever.query_embedding\")\n",
    "gemini_critic.connect(\"retriever\", \"prompt_builder.documents\")\n",
    "gemini_critic.connect(\"prompt_builder\", \"llm\")"
   ]
  },
  {
   "cell_type": "markdown",
   "metadata": {},
   "source": [
    "### Expermient with gemini-1.5-flash-latest"
   ]
  },
  {
   "cell_type": "code",
   "execution_count": 23,
   "metadata": {},
   "outputs": [
    {
     "data": {
      "text/html": [
       "<pre style=\"white-space:pre;overflow-x:auto;line-height:normal;font-family:Menlo,'DejaVu Sans Mono',consolas,'Courier New',monospace\">Question <span style=\"color: #008080; text-decoration-color: #008080; font-weight: bold\">1</span>/<span style=\"color: #008080; text-decoration-color: #008080; font-weight: bold\">23</span>: What was the original name of Sum <span style=\"color: #008080; text-decoration-color: #008080; font-weight: bold\">41</span>?\n",
       "</pre>\n"
      ],
      "text/plain": [
       "Question \u001b[1;36m1\u001b[0m/\u001b[1;36m23\u001b[0m: What was the original name of Sum \u001b[1;36m41\u001b[0m?\n"
      ]
     },
     "metadata": {},
     "output_type": "display_data"
    },
    {
     "data": {
      "text/html": [
       "<pre style=\"white-space:pre;overflow-x:auto;line-height:normal;font-family:Menlo,'DejaVu Sans Mono',consolas,'Courier New',monospace\">Question <span style=\"color: #008080; text-decoration-color: #008080; font-weight: bold\">2</span>/<span style=\"color: #008080; text-decoration-color: #008080; font-weight: bold\">23</span>: What is the name of the lead singer of Blink-<span style=\"color: #008080; text-decoration-color: #008080; font-weight: bold\">182</span>?\n",
       "</pre>\n"
      ],
      "text/plain": [
       "Question \u001b[1;36m2\u001b[0m/\u001b[1;36m23\u001b[0m: What is the name of the lead singer of Blink-\u001b[1;36m182\u001b[0m?\n"
      ]
     },
     "metadata": {},
     "output_type": "display_data"
    },
    {
     "data": {
      "text/html": [
       "<pre style=\"white-space:pre;overflow-x:auto;line-height:normal;font-family:Menlo,'DejaVu Sans Mono',consolas,'Courier New',monospace\">Question <span style=\"color: #008080; text-decoration-color: #008080; font-weight: bold\">3</span>/<span style=\"color: #008080; text-decoration-color: #008080; font-weight: bold\">23</span>: What was the title of Nirvana's breakthrough album released in <span style=\"color: #008080; text-decoration-color: #008080; font-weight: bold\">1991</span>?\n",
       "</pre>\n"
      ],
      "text/plain": [
       "Question \u001b[1;36m3\u001b[0m/\u001b[1;36m23\u001b[0m: What was the title of Nirvana's breakthrough album released in \u001b[1;36m1991\u001b[0m?\n"
      ]
     },
     "metadata": {},
     "output_type": "display_data"
    },
    {
     "data": {
      "text/html": [
       "<pre style=\"white-space:pre;overflow-x:auto;line-height:normal;font-family:Menlo,'DejaVu Sans Mono',consolas,'Courier New',monospace\">Question <span style=\"color: #008080; text-decoration-color: #008080; font-weight: bold\">4</span>/<span style=\"color: #008080; text-decoration-color: #008080; font-weight: bold\">23</span>: What does Rhodes Statue look like?\n",
       "</pre>\n"
      ],
      "text/plain": [
       "Question \u001b[1;36m4\u001b[0m/\u001b[1;36m23\u001b[0m: What does Rhodes Statue look like?\n"
      ]
     },
     "metadata": {},
     "output_type": "display_data"
    },
    {
     "data": {
      "text/html": [
       "<pre style=\"white-space:pre;overflow-x:auto;line-height:normal;font-family:Menlo,'DejaVu Sans Mono',consolas,'Courier New',monospace\">Question <span style=\"color: #008080; text-decoration-color: #008080; font-weight: bold\">5</span>/<span style=\"color: #008080; text-decoration-color: #008080; font-weight: bold\">23</span>: Green Day's <span style=\"color: #008000; text-decoration-color: #008000\">\"American Idiot\"</span> is a rock opera. What's the story it tells?\n",
       "</pre>\n"
      ],
      "text/plain": [
       "Question \u001b[1;36m5\u001b[0m/\u001b[1;36m23\u001b[0m: Green Day's \u001b[32m\"American Idiot\"\u001b[0m is a rock opera. What's the story it tells?\n"
      ]
     },
     "metadata": {},
     "output_type": "display_data"
    },
    {
     "data": {
      "text/html": [
       "<pre style=\"white-space:pre;overflow-x:auto;line-height:normal;font-family:Menlo,'DejaVu Sans Mono',consolas,'Courier New',monospace\">Question <span style=\"color: #008080; text-decoration-color: #008080; font-weight: bold\">6</span>/<span style=\"color: #008080; text-decoration-color: #008080; font-weight: bold\">23</span>: Who was the lead singer of The Cure?\n",
       "</pre>\n"
      ],
      "text/plain": [
       "Question \u001b[1;36m6\u001b[0m/\u001b[1;36m23\u001b[0m: Who was the lead singer of The Cure?\n"
      ]
     },
     "metadata": {},
     "output_type": "display_data"
    },
    {
     "data": {
      "text/html": [
       "<pre style=\"white-space:pre;overflow-x:auto;line-height:normal;font-family:Menlo,'DejaVu Sans Mono',consolas,'Courier New',monospace\">Question <span style=\"color: #008080; text-decoration-color: #008080; font-weight: bold\">7</span>/<span style=\"color: #008080; text-decoration-color: #008080; font-weight: bold\">23</span>: Audioslave was formed by members of two iconic bands. Can you name the bands and discuss the sound \n",
       "of Audioslave in comparison?\n",
       "</pre>\n"
      ],
      "text/plain": [
       "Question \u001b[1;36m7\u001b[0m/\u001b[1;36m23\u001b[0m: Audioslave was formed by members of two iconic bands. Can you name the bands and discuss the sound \n",
       "of Audioslave in comparison?\n"
      ]
     },
     "metadata": {},
     "output_type": "display_data"
    },
    {
     "data": {
      "text/html": [
       "<pre style=\"white-space:pre;overflow-x:auto;line-height:normal;font-family:Menlo,'DejaVu Sans Mono',consolas,'Courier New',monospace\">Question <span style=\"color: #008080; text-decoration-color: #008080; font-weight: bold\">8</span>/<span style=\"color: #008080; text-decoration-color: #008080; font-weight: bold\">23</span>: Evanescence's <span style=\"color: #008000; text-decoration-color: #008000\">\"Bring Me to Life\"</span> features a male vocalist. Who is he, and how does his voice \n",
       "complement Amy Lee's in the song?\n",
       "</pre>\n"
      ],
      "text/plain": [
       "Question \u001b[1;36m8\u001b[0m/\u001b[1;36m23\u001b[0m: Evanescence's \u001b[32m\"Bring Me to Life\"\u001b[0m features a male vocalist. Who is he, and how does his voice \n",
       "complement Amy Lee's in the song?\n"
      ]
     },
     "metadata": {},
     "output_type": "display_data"
    },
    {
     "data": {
      "text/html": [
       "<pre style=\"white-space:pre;overflow-x:auto;line-height:normal;font-family:Menlo,'DejaVu Sans Mono',consolas,'Courier New',monospace\">Question <span style=\"color: #008080; text-decoration-color: #008080; font-weight: bold\">9</span>/<span style=\"color: #008080; text-decoration-color: #008080; font-weight: bold\">23</span>: What is Sum <span style=\"color: #008080; text-decoration-color: #008080; font-weight: bold\">41</span>'s debut studio album called?\n",
       "</pre>\n"
      ],
      "text/plain": [
       "Question \u001b[1;36m9\u001b[0m/\u001b[1;36m23\u001b[0m: What is Sum \u001b[1;36m41\u001b[0m's debut studio album called?\n"
      ]
     },
     "metadata": {},
     "output_type": "display_data"
    },
    {
     "data": {
      "text/html": [
       "<pre style=\"white-space:pre;overflow-x:auto;line-height:normal;font-family:Menlo,'DejaVu Sans Mono',consolas,'Courier New',monospace\">Question <span style=\"color: #008080; text-decoration-color: #008080; font-weight: bold\">10</span>/<span style=\"color: #008080; text-decoration-color: #008080; font-weight: bold\">23</span>: How many languages are there?\n",
       "</pre>\n"
      ],
      "text/plain": [
       "Question \u001b[1;36m10\u001b[0m/\u001b[1;36m23\u001b[0m: How many languages are there?\n"
      ]
     },
     "metadata": {},
     "output_type": "display_data"
    },
    {
     "data": {
      "text/html": [
       "<pre style=\"white-space:pre;overflow-x:auto;line-height:normal;font-family:Menlo,'DejaVu Sans Mono',consolas,'Courier New',monospace\">Question <span style=\"color: #008080; text-decoration-color: #008080; font-weight: bold\">11</span>/<span style=\"color: #008080; text-decoration-color: #008080; font-weight: bold\">23</span>: What did Einstein win the Nobel Prize for?\n",
       "</pre>\n"
      ],
      "text/plain": [
       "Question \u001b[1;36m11\u001b[0m/\u001b[1;36m23\u001b[0m: What did Einstein win the Nobel Prize for?\n"
      ]
     },
     "metadata": {},
     "output_type": "display_data"
    },
    {
     "data": {
      "text/html": [
       "<pre style=\"white-space:pre;overflow-x:auto;line-height:normal;font-family:Menlo,'DejaVu Sans Mono',consolas,'Courier New',monospace\">Question <span style=\"color: #008080; text-decoration-color: #008080; font-weight: bold\">12</span>/<span style=\"color: #008080; text-decoration-color: #008080; font-weight: bold\">23</span>: What What does Rhodes Statue look like?\n",
       "</pre>\n"
      ],
      "text/plain": [
       "Question \u001b[1;36m12\u001b[0m/\u001b[1;36m23\u001b[0m: What What does Rhodes Statue look like?\n"
      ]
     },
     "metadata": {},
     "output_type": "display_data"
    },
    {
     "data": {
      "text/html": [
       "<pre style=\"white-space:pre;overflow-x:auto;line-height:normal;font-family:Menlo,'DejaVu Sans Mono',consolas,'Courier New',monospace\">Question <span style=\"color: #008080; text-decoration-color: #008080; font-weight: bold\">13</span>/<span style=\"color: #008080; text-decoration-color: #008080; font-weight: bold\">23</span>: Who was the lead singer of Audioslave?\n",
       "</pre>\n"
      ],
      "text/plain": [
       "Question \u001b[1;36m13\u001b[0m/\u001b[1;36m23\u001b[0m: Who was the lead singer of Audioslave?\n"
      ]
     },
     "metadata": {},
     "output_type": "display_data"
    },
    {
     "data": {
      "text/html": [
       "<pre style=\"white-space:pre;overflow-x:auto;line-height:normal;font-family:Menlo,'DejaVu Sans Mono',consolas,'Courier New',monospace\">Question <span style=\"color: #008080; text-decoration-color: #008080; font-weight: bold\">14</span>/<span style=\"color: #008080; text-decoration-color: #008080; font-weight: bold\">23</span>: Who has the most followers on Instagram?\n",
       "</pre>\n"
      ],
      "text/plain": [
       "Question \u001b[1;36m14\u001b[0m/\u001b[1;36m23\u001b[0m: Who has the most followers on Instagram?\n"
      ]
     },
     "metadata": {},
     "output_type": "display_data"
    },
    {
     "data": {
      "text/html": [
       "<pre style=\"white-space:pre;overflow-x:auto;line-height:normal;font-family:Menlo,'DejaVu Sans Mono',consolas,'Courier New',monospace\">Question <span style=\"color: #008080; text-decoration-color: #008080; font-weight: bold\">15</span>/<span style=\"color: #008080; text-decoration-color: #008080; font-weight: bold\">23</span>: When was Nirvana's first studio album, <span style=\"color: #008000; text-decoration-color: #008000\">\"Bleach,\"</span> released?\n",
       "</pre>\n"
      ],
      "text/plain": [
       "Question \u001b[1;36m15\u001b[0m/\u001b[1;36m23\u001b[0m: When was Nirvana's first studio album, \u001b[32m\"Bleach,\"\u001b[0m released?\n"
      ]
     },
     "metadata": {},
     "output_type": "display_data"
    },
    {
     "data": {
      "text/html": [
       "<pre style=\"white-space:pre;overflow-x:auto;line-height:normal;font-family:Menlo,'DejaVu Sans Mono',consolas,'Courier New',monospace\">Question <span style=\"color: #008080; text-decoration-color: #008080; font-weight: bold\">16</span>/<span style=\"color: #008080; text-decoration-color: #008080; font-weight: bold\">23</span>: Were the Smiths an influential band?\n",
       "</pre>\n"
      ],
      "text/plain": [
       "Question \u001b[1;36m16\u001b[0m/\u001b[1;36m23\u001b[0m: Were the Smiths an influential band?\n"
      ]
     },
     "metadata": {},
     "output_type": "display_data"
    },
    {
     "data": {
      "text/html": [
       "<pre style=\"white-space:pre;overflow-x:auto;line-height:normal;font-family:Menlo,'DejaVu Sans Mono',consolas,'Courier New',monospace\">Question <span style=\"color: #008080; text-decoration-color: #008080; font-weight: bold\">17</span>/<span style=\"color: #008080; text-decoration-color: #008080; font-weight: bold\">23</span>: What is the name of Evanescence's debut album?\n",
       "</pre>\n"
      ],
      "text/plain": [
       "Question \u001b[1;36m17\u001b[0m/\u001b[1;36m23\u001b[0m: What is the name of Evanescence's debut album?\n"
      ]
     },
     "metadata": {},
     "output_type": "display_data"
    },
    {
     "data": {
      "text/html": [
       "<pre style=\"white-space:pre;overflow-x:auto;line-height:normal;font-family:Menlo,'DejaVu Sans Mono',consolas,'Courier New',monospace\">Question <span style=\"color: #008080; text-decoration-color: #008080; font-weight: bold\">18</span>/<span style=\"color: #008080; text-decoration-color: #008080; font-weight: bold\">23</span>: Which band was Morrissey the lead singer of before he formed The Smiths?\n",
       "</pre>\n"
      ],
      "text/plain": [
       "Question \u001b[1;36m18\u001b[0m/\u001b[1;36m23\u001b[0m: Which band was Morrissey the lead singer of before he formed The Smiths?\n"
      ]
     },
     "metadata": {},
     "output_type": "display_data"
    },
    {
     "data": {
      "text/html": [
       "<pre style=\"white-space:pre;overflow-x:auto;line-height:normal;font-family:Menlo,'DejaVu Sans Mono',consolas,'Courier New',monospace\">Question <span style=\"color: #008080; text-decoration-color: #008080; font-weight: bold\">19</span>/<span style=\"color: #008080; text-decoration-color: #008080; font-weight: bold\">23</span>: Whose the father of Luke Skywalker?\n",
       "</pre>\n"
      ],
      "text/plain": [
       "Question \u001b[1;36m19\u001b[0m/\u001b[1;36m23\u001b[0m: Whose the father of Luke Skywalker?\n"
      ]
     },
     "metadata": {},
     "output_type": "display_data"
    },
    {
     "data": {
      "text/html": [
       "<pre style=\"white-space:pre;overflow-x:auto;line-height:normal;font-family:Menlo,'DejaVu Sans Mono',consolas,'Courier New',monospace\">Question <span style=\"color: #008080; text-decoration-color: #008080; font-weight: bold\">20</span>/<span style=\"color: #008080; text-decoration-color: #008080; font-weight: bold\">23</span>: What type of music plays Coldplay?\n",
       "</pre>\n"
      ],
      "text/plain": [
       "Question \u001b[1;36m20\u001b[0m/\u001b[1;36m23\u001b[0m: What type of music plays Coldplay?\n"
      ]
     },
     "metadata": {},
     "output_type": "display_data"
    },
    {
     "data": {
      "text/html": [
       "<pre style=\"white-space:pre;overflow-x:auto;line-height:normal;font-family:Menlo,'DejaVu Sans Mono',consolas,'Courier New',monospace\">Question <span style=\"color: #008080; text-decoration-color: #008080; font-weight: bold\">21</span>/<span style=\"color: #008080; text-decoration-color: #008080; font-weight: bold\">23</span>: Dire Straits' hit song <span style=\"color: #008000; text-decoration-color: #008000\">\"Money for Nothing\"</span> features a guest vocal by a famous artist. Who is this \n",
       "artist?\n",
       "</pre>\n"
      ],
      "text/plain": [
       "Question \u001b[1;36m21\u001b[0m/\u001b[1;36m23\u001b[0m: Dire Straits' hit song \u001b[32m\"Money for Nothing\"\u001b[0m features a guest vocal by a famous artist. Who is this \n",
       "artist?\n"
      ]
     },
     "metadata": {},
     "output_type": "display_data"
    },
    {
     "data": {
      "text/html": [
       "<pre style=\"white-space:pre;overflow-x:auto;line-height:normal;font-family:Menlo,'DejaVu Sans Mono',consolas,'Courier New',monospace\">Question <span style=\"color: #008080; text-decoration-color: #008080; font-weight: bold\">22</span>/<span style=\"color: #008080; text-decoration-color: #008080; font-weight: bold\">23</span>: Who played the song <span style=\"color: #008000; text-decoration-color: #008000\">\"Like a stone\"</span>?\n",
       "</pre>\n"
      ],
      "text/plain": [
       "Question \u001b[1;36m22\u001b[0m/\u001b[1;36m23\u001b[0m: Who played the song \u001b[32m\"Like a stone\"\u001b[0m?\n"
      ]
     },
     "metadata": {},
     "output_type": "display_data"
    },
    {
     "data": {
      "text/html": [
       "<pre style=\"white-space:pre;overflow-x:auto;line-height:normal;font-family:Menlo,'DejaVu Sans Mono',consolas,'Courier New',monospace\">Question <span style=\"color: #008080; text-decoration-color: #008080; font-weight: bold\">23</span>/<span style=\"color: #008080; text-decoration-color: #008080; font-weight: bold\">23</span>: What is the most interesting thing you know?\n",
       "</pre>\n"
      ],
      "text/plain": [
       "Question \u001b[1;36m23\u001b[0m/\u001b[1;36m23\u001b[0m: What is the most interesting thing you know?\n"
      ]
     },
     "metadata": {},
     "output_type": "display_data"
    },
    {
     "name": "stdout",
     "output_type": "stream",
     "text": [
      "CPU times: total: 2.03 s\n",
      "Wall time: 3min 32s\n"
     ]
    }
   ],
   "source": [
    "%%time\n",
    "MAX_RPM = 14\n",
    "request_count = 0\n",
    "\n",
    "for i, q in enumerate(questions):  \n",
    "  print(f\"Question {i+1}/{len(questions)}: {q}\")\n",
    "  model_answer, critic_answer = get_critic_answer(q, gemini_rag, gemini_critic)\n",
    "  # print(f\"Critic answer: \\n{}\")\n",
    "  # print(f\"Critic answer: \\n{}\")\n",
    "\n",
    "  experiment_results[\"model_name\"].append(GEMINI_FLASH)\n",
    "  experiment_results[\"question\"].append(q)\n",
    "  experiment_results[\"model_answer\"].append(model_answer)\n",
    "  experiment_results[\"critic_answer\"].append(critic_answer)\n",
    "\n",
    "  request_count += 2 # 2 requests per question, one for the answer and one for the critic\n",
    "  if request_count >= MAX_RPM:    \n",
    "    request_count = 0\n",
    "    time.sleep(60) "
   ]
  },
  {
   "cell_type": "code",
   "execution_count": null,
   "metadata": {},
   "outputs": [
    {
     "data": {
      "text/html": [
       "<div>\n",
       "<style scoped>\n",
       "    .dataframe tbody tr th:only-of-type {\n",
       "        vertical-align: middle;\n",
       "    }\n",
       "\n",
       "    .dataframe tbody tr th {\n",
       "        vertical-align: top;\n",
       "    }\n",
       "\n",
       "    .dataframe thead th {\n",
       "        text-align: right;\n",
       "    }\n",
       "</style>\n",
       "<table border=\"1\" class=\"dataframe\">\n",
       "  <thead>\n",
       "    <tr style=\"text-align: right;\">\n",
       "      <th></th>\n",
       "      <th>model_name</th>\n",
       "      <th>question</th>\n",
       "      <th>model_answer</th>\n",
       "      <th>critic_answer</th>\n",
       "    </tr>\n",
       "  </thead>\n",
       "  <tbody>\n",
       "    <tr>\n",
       "      <th>0</th>\n",
       "      <td>gemini-1.5-flash-latest</td>\n",
       "      <td>What was the original name of Sum 41?</td>\n",
       "      <td>The context does not provide the original name...</td>\n",
       "      <td>The answer claims that the context does not pr...</td>\n",
       "    </tr>\n",
       "    <tr>\n",
       "      <th>1</th>\n",
       "      <td>gemini-1.5-flash-latest</td>\n",
       "      <td>What is the name of the lead singer of Blink-182?</td>\n",
       "      <td>The lead singer of Blink-182 is **Tom DeLonge*...</td>\n",
       "      <td>The answer states that Tom DeLonge is the lead...</td>\n",
       "    </tr>\n",
       "    <tr>\n",
       "      <th>2</th>\n",
       "      <td>gemini-1.5-flash-latest</td>\n",
       "      <td>What was the title of Nirvana's breakthrough a...</td>\n",
       "      <td>Nirvana's breakthrough album released in 1991 ...</td>\n",
       "      <td>Reasoning:\\n\\n1. The answer states that Nirvan...</td>\n",
       "    </tr>\n",
       "    <tr>\n",
       "      <th>3</th>\n",
       "      <td>gemini-1.5-flash-latest</td>\n",
       "      <td>What does Rhodes Statue look like?</td>\n",
       "      <td>The context does not provide information about...</td>\n",
       "      <td>The answer states that the context does not pr...</td>\n",
       "    </tr>\n",
       "    <tr>\n",
       "      <th>4</th>\n",
       "      <td>gemini-1.5-flash-latest</td>\n",
       "      <td>Green Day's \"American Idiot\" is a rock opera. ...</td>\n",
       "      <td>The rock opera \"American Idiot\" follows the jo...</td>\n",
       "      <td>Reasoning:\\n\\n1. The answer states that \"Ameri...</td>\n",
       "    </tr>\n",
       "    <tr>\n",
       "      <th>5</th>\n",
       "      <td>gemini-1.5-flash-latest</td>\n",
       "      <td>Who was the lead singer of The Cure?</td>\n",
       "      <td>Robert Smith is the lead singer of The Cure. \\...</td>\n",
       "      <td>The answer states that Robert Smith is the lea...</td>\n",
       "    </tr>\n",
       "    <tr>\n",
       "      <th>6</th>\n",
       "      <td>gemini-1.5-flash-latest</td>\n",
       "      <td>Audioslave was formed by members of two iconic...</td>\n",
       "      <td>Audioslave was formed by members of **Soundgar...</td>\n",
       "      <td>Here's a breakdown of the answer's consistency...</td>\n",
       "    </tr>\n",
       "    <tr>\n",
       "      <th>7</th>\n",
       "      <td>gemini-1.5-flash-latest</td>\n",
       "      <td>Evanescence's \"Bring Me to Life\" features a ma...</td>\n",
       "      <td>The context states that Evanescence's label in...</td>\n",
       "      <td>The answer states that Amy Lee reluctantly agr...</td>\n",
       "    </tr>\n",
       "    <tr>\n",
       "      <th>8</th>\n",
       "      <td>gemini-1.5-flash-latest</td>\n",
       "      <td>What is Sum 41's debut studio album called?</td>\n",
       "      <td>Sum 41's debut studio album is called **All Ki...</td>\n",
       "      <td>The answer states that Sum 41's debut studio a...</td>\n",
       "    </tr>\n",
       "    <tr>\n",
       "      <th>9</th>\n",
       "      <td>gemini-1.5-flash-latest</td>\n",
       "      <td>How many languages are there?</td>\n",
       "      <td>This question cannot be answered from the give...</td>\n",
       "      <td>The answer \"This question cannot be answered f...</td>\n",
       "    </tr>\n",
       "    <tr>\n",
       "      <th>10</th>\n",
       "      <td>gemini-1.5-flash-latest</td>\n",
       "      <td>What did Einstein win the Nobel Prize for?</td>\n",
       "      <td>This question cannot be answered from the give...</td>\n",
       "      <td>The answer states that the question cannot be ...</td>\n",
       "    </tr>\n",
       "    <tr>\n",
       "      <th>11</th>\n",
       "      <td>gemini-1.5-flash-latest</td>\n",
       "      <td>What What does Rhodes Statue look like?</td>\n",
       "      <td>This question cannot be answered from the give...</td>\n",
       "      <td>The answer states that the question cannot be ...</td>\n",
       "    </tr>\n",
       "    <tr>\n",
       "      <th>12</th>\n",
       "      <td>gemini-1.5-flash-latest</td>\n",
       "      <td>Who was the lead singer of Audioslave?</td>\n",
       "      <td>The lead singer of Audioslave was Chris Cornel...</td>\n",
       "      <td>The answer states that Chris Cornell was the l...</td>\n",
       "    </tr>\n",
       "    <tr>\n",
       "      <th>13</th>\n",
       "      <td>gemini-1.5-flash-latest</td>\n",
       "      <td>Who has the most followers on Instagram?</td>\n",
       "      <td>This question cannot be answered from the give...</td>\n",
       "      <td>The answer states that the question cannot be ...</td>\n",
       "    </tr>\n",
       "    <tr>\n",
       "      <th>14</th>\n",
       "      <td>gemini-1.5-flash-latest</td>\n",
       "      <td>When was Nirvana's first studio album, \"Bleach...</td>\n",
       "      <td>Nirvana's first studio album, \"Bleach,\" was re...</td>\n",
       "      <td>The answer states that Nirvana's first studio ...</td>\n",
       "    </tr>\n",
       "    <tr>\n",
       "      <th>15</th>\n",
       "      <td>gemini-1.5-flash-latest</td>\n",
       "      <td>Were the Smiths an influential band?</td>\n",
       "      <td>Yes, the Smiths were widely influential. \\n\\nS...</td>\n",
       "      <td>The answer states that the Smiths were widely ...</td>\n",
       "    </tr>\n",
       "    <tr>\n",
       "      <th>16</th>\n",
       "      <td>gemini-1.5-flash-latest</td>\n",
       "      <td>What is the name of Evanescence's debut album?</td>\n",
       "      <td>Evanescence's debut album is called **Fallen**...</td>\n",
       "      <td>The answer states that Evanescence's debut alb...</td>\n",
       "    </tr>\n",
       "    <tr>\n",
       "      <th>17</th>\n",
       "      <td>gemini-1.5-flash-latest</td>\n",
       "      <td>Which band was Morrissey the lead singer of be...</td>\n",
       "      <td>The provided text does not mention Morrissey b...</td>\n",
       "      <td>The answer states that the provided text does ...</td>\n",
       "    </tr>\n",
       "    <tr>\n",
       "      <th>18</th>\n",
       "      <td>gemini-1.5-flash-latest</td>\n",
       "      <td>Whose the father of Luke Skywalker?</td>\n",
       "      <td>This question cannot be answered from the give...</td>\n",
       "      <td>The answer states that the question cannot be ...</td>\n",
       "    </tr>\n",
       "    <tr>\n",
       "      <th>19</th>\n",
       "      <td>gemini-1.5-flash-latest</td>\n",
       "      <td>What type of music plays Coldplay?</td>\n",
       "      <td>The context does not provide information about...</td>\n",
       "      <td>The answer states that the context does not pr...</td>\n",
       "    </tr>\n",
       "    <tr>\n",
       "      <th>20</th>\n",
       "      <td>gemini-1.5-flash-latest</td>\n",
       "      <td>Dire Straits' hit song \"Money for Nothing\" fea...</td>\n",
       "      <td>The artist who provided guest vocals on Dire S...</td>\n",
       "      <td>The answer states that Sting provided guest vo...</td>\n",
       "    </tr>\n",
       "    <tr>\n",
       "      <th>21</th>\n",
       "      <td>gemini-1.5-flash-latest</td>\n",
       "      <td>Who played the song \"Like a stone\"?</td>\n",
       "      <td>Audioslave played the song \"Like a Stone\". \\nS...</td>\n",
       "      <td>Reasoning:\\n\\n1. The answer states that Audios...</td>\n",
       "    </tr>\n",
       "    <tr>\n",
       "      <th>22</th>\n",
       "      <td>gemini-1.5-flash-latest</td>\n",
       "      <td>What is the most interesting thing you know?</td>\n",
       "      <td>I'm sorry, but the provided context does not c...</td>\n",
       "      <td>The answer states that the provided context do...</td>\n",
       "    </tr>\n",
       "  </tbody>\n",
       "</table>\n",
       "</div>"
      ],
      "text/plain": [
       "                 model_name  \\\n",
       "0   gemini-1.5-flash-latest   \n",
       "1   gemini-1.5-flash-latest   \n",
       "2   gemini-1.5-flash-latest   \n",
       "3   gemini-1.5-flash-latest   \n",
       "4   gemini-1.5-flash-latest   \n",
       "5   gemini-1.5-flash-latest   \n",
       "6   gemini-1.5-flash-latest   \n",
       "7   gemini-1.5-flash-latest   \n",
       "8   gemini-1.5-flash-latest   \n",
       "9   gemini-1.5-flash-latest   \n",
       "10  gemini-1.5-flash-latest   \n",
       "11  gemini-1.5-flash-latest   \n",
       "12  gemini-1.5-flash-latest   \n",
       "13  gemini-1.5-flash-latest   \n",
       "14  gemini-1.5-flash-latest   \n",
       "15  gemini-1.5-flash-latest   \n",
       "16  gemini-1.5-flash-latest   \n",
       "17  gemini-1.5-flash-latest   \n",
       "18  gemini-1.5-flash-latest   \n",
       "19  gemini-1.5-flash-latest   \n",
       "20  gemini-1.5-flash-latest   \n",
       "21  gemini-1.5-flash-latest   \n",
       "22  gemini-1.5-flash-latest   \n",
       "\n",
       "                                             question  \\\n",
       "0               What was the original name of Sum 41?   \n",
       "1   What is the name of the lead singer of Blink-182?   \n",
       "2   What was the title of Nirvana's breakthrough a...   \n",
       "3                  What does Rhodes Statue look like?   \n",
       "4   Green Day's \"American Idiot\" is a rock opera. ...   \n",
       "5                Who was the lead singer of The Cure?   \n",
       "6   Audioslave was formed by members of two iconic...   \n",
       "7   Evanescence's \"Bring Me to Life\" features a ma...   \n",
       "8         What is Sum 41's debut studio album called?   \n",
       "9                       How many languages are there?   \n",
       "10         What did Einstein win the Nobel Prize for?   \n",
       "11            What What does Rhodes Statue look like?   \n",
       "12             Who was the lead singer of Audioslave?   \n",
       "13           Who has the most followers on Instagram?   \n",
       "14  When was Nirvana's first studio album, \"Bleach...   \n",
       "15               Were the Smiths an influential band?   \n",
       "16     What is the name of Evanescence's debut album?   \n",
       "17  Which band was Morrissey the lead singer of be...   \n",
       "18                Whose the father of Luke Skywalker?   \n",
       "19                 What type of music plays Coldplay?   \n",
       "20  Dire Straits' hit song \"Money for Nothing\" fea...   \n",
       "21                Who played the song \"Like a stone\"?   \n",
       "22       What is the most interesting thing you know?   \n",
       "\n",
       "                                         model_answer  \\\n",
       "0   The context does not provide the original name...   \n",
       "1   The lead singer of Blink-182 is **Tom DeLonge*...   \n",
       "2   Nirvana's breakthrough album released in 1991 ...   \n",
       "3   The context does not provide information about...   \n",
       "4   The rock opera \"American Idiot\" follows the jo...   \n",
       "5   Robert Smith is the lead singer of The Cure. \\...   \n",
       "6   Audioslave was formed by members of **Soundgar...   \n",
       "7   The context states that Evanescence's label in...   \n",
       "8   Sum 41's debut studio album is called **All Ki...   \n",
       "9   This question cannot be answered from the give...   \n",
       "10  This question cannot be answered from the give...   \n",
       "11  This question cannot be answered from the give...   \n",
       "12  The lead singer of Audioslave was Chris Cornel...   \n",
       "13  This question cannot be answered from the give...   \n",
       "14  Nirvana's first studio album, \"Bleach,\" was re...   \n",
       "15  Yes, the Smiths were widely influential. \\n\\nS...   \n",
       "16  Evanescence's debut album is called **Fallen**...   \n",
       "17  The provided text does not mention Morrissey b...   \n",
       "18  This question cannot be answered from the give...   \n",
       "19  The context does not provide information about...   \n",
       "20  The artist who provided guest vocals on Dire S...   \n",
       "21  Audioslave played the song \"Like a Stone\". \\nS...   \n",
       "22  I'm sorry, but the provided context does not c...   \n",
       "\n",
       "                                        critic_answer  \n",
       "0   The answer claims that the context does not pr...  \n",
       "1   The answer states that Tom DeLonge is the lead...  \n",
       "2   Reasoning:\\n\\n1. The answer states that Nirvan...  \n",
       "3   The answer states that the context does not pr...  \n",
       "4   Reasoning:\\n\\n1. The answer states that \"Ameri...  \n",
       "5   The answer states that Robert Smith is the lea...  \n",
       "6   Here's a breakdown of the answer's consistency...  \n",
       "7   The answer states that Amy Lee reluctantly agr...  \n",
       "8   The answer states that Sum 41's debut studio a...  \n",
       "9   The answer \"This question cannot be answered f...  \n",
       "10  The answer states that the question cannot be ...  \n",
       "11  The answer states that the question cannot be ...  \n",
       "12  The answer states that Chris Cornell was the l...  \n",
       "13  The answer states that the question cannot be ...  \n",
       "14  The answer states that Nirvana's first studio ...  \n",
       "15  The answer states that the Smiths were widely ...  \n",
       "16  The answer states that Evanescence's debut alb...  \n",
       "17  The answer states that the provided text does ...  \n",
       "18  The answer states that the question cannot be ...  \n",
       "19  The answer states that the context does not pr...  \n",
       "20  The answer states that Sting provided guest vo...  \n",
       "21  Reasoning:\\n\\n1. The answer states that Audios...  \n",
       "22  The answer states that the provided context do...  "
      ]
     },
     "execution_count": 26,
     "metadata": {},
     "output_type": "execute_result"
    }
   ],
   "source": [
    "gemini_experiment_results_df = pd.DataFrame(experiment_results)\n",
    "gemini_experiment_results_df"
   ]
  },
  {
   "cell_type": "markdown",
   "metadata": {},
   "source": [
    "____________________________\n",
    "# Rag with GPT-4o"
   ]
  },
  {
   "cell_type": "code",
   "execution_count": 28,
   "metadata": {},
   "outputs": [],
   "source": [
    "import os\n",
    "# from getpass import getpass\n",
    "# os.environ[\"AZURE_OPENAI_API_KEY\"] = getpass(\"Enter OpenAI API key:\")\n",
    "# os.environ[\"AZURE_OPENAI_ENDPOINT\"] = getpass(\"Enter OpenAI Endpoint:\")\n",
    "# os.environ[\"OPENAI_API_VERSION\"] = \"2024-03-01-preview\"\n",
    "OPENAI_DEPLOYMENT = 'gpt-4o'\n",
    "azure_openai_generation_kwargs = {\n",
    "    'temperature': 0.0,\n",
    "    'top_p': 0.9,\n",
    "    'n': 1\n",
    "}\n",
    "def get_azure_model(generation_kwargs=azure_openai_generation_kwargs):\n",
    "    return AzureOpenAIGenerator(azure_deployment=OPENAI_DEPLOYMENT, generation_kwargs=generation_kwargs)"
   ]
  },
  {
   "cell_type": "markdown",
   "metadata": {},
   "source": [
    "### RAG Model"
   ]
  },
  {
   "cell_type": "code",
   "execution_count": 30,
   "metadata": {},
   "outputs": [
    {
     "data": {
      "text/plain": [
       "<haystack.core.pipeline.pipeline.Pipeline object at 0x000001BF0BFA9460>\n",
       "🚅 Components\n",
       "  - text_embedder: SentenceTransformersTextEmbedder\n",
       "  - retriever: InMemoryEmbeddingRetriever\n",
       "  - prompt_builder: PromptBuilder\n",
       "  - llm: AzureOpenAIGenerator\n",
       "🛤️ Connections\n",
       "  - text_embedder.embedding -> retriever.query_embedding (List[float])\n",
       "  - retriever.documents -> prompt_builder.documents (List[Document])\n",
       "  - prompt_builder.prompt -> llm.prompt (str)"
      ]
     },
     "execution_count": 30,
     "metadata": {},
     "output_type": "execute_result"
    }
   ],
   "source": [
    "gpt4o_rag = Pipeline()\n",
    "gpt4o_rag.add_component(\"text_embedder\", SentenceTransformersTextEmbedder(\"sentence-transformers/all-MiniLM-L6-v2\", progress_bar=False))\n",
    "gpt4o_rag.add_component(\"retriever\", InMemoryEmbeddingRetriever(document_store=document_store, top_k=5))\n",
    "gpt4o_rag.add_component(\"prompt_builder\", PromptBuilder(template=prompt_template))\n",
    "gpt4o_rag.add_component(\"llm\", get_azure_model())\n",
    "\n",
    "gpt4o_rag.connect(\"text_embedder.embedding\", \"retriever.query_embedding\")\n",
    "gpt4o_rag.connect(\"retriever\", \"prompt_builder.documents\")\n",
    "gpt4o_rag.connect(\"prompt_builder\", \"llm\")"
   ]
  },
  {
   "cell_type": "markdown",
   "metadata": {},
   "source": [
    "### Critic Model"
   ]
  },
  {
   "cell_type": "code",
   "execution_count": 31,
   "metadata": {},
   "outputs": [
    {
     "data": {
      "text/plain": [
       "<haystack.core.pipeline.pipeline.Pipeline object at 0x000001BF0BFABA40>\n",
       "🚅 Components\n",
       "  - text_embedder: SentenceTransformersTextEmbedder\n",
       "  - retriever: InMemoryEmbeddingRetriever\n",
       "  - prompt_builder: PromptBuilder\n",
       "  - llm: AzureOpenAIGenerator\n",
       "🛤️ Connections\n",
       "  - text_embedder.embedding -> retriever.query_embedding (List[float])\n",
       "  - retriever.documents -> prompt_builder.documents (List[Document])\n",
       "  - prompt_builder.prompt -> llm.prompt (str)"
      ]
     },
     "execution_count": 31,
     "metadata": {},
     "output_type": "execute_result"
    }
   ],
   "source": [
    "gpt4o_critic = Pipeline()\n",
    "gpt4o_critic.add_component(\"text_embedder\", SentenceTransformersTextEmbedder(\"sentence-transformers/all-MiniLM-L6-v2\", progress_bar=False))\n",
    "gpt4o_critic.add_component(\"retriever\", InMemoryEmbeddingRetriever(document_store=document_store, top_k=5))\n",
    "gpt4o_critic.add_component(\"prompt_builder\", PromptBuilder(template=critic_prompt_template))\n",
    "gpt4o_critic.add_component(\"llm\", get_azure_model())\n",
    "\n",
    "gpt4o_critic.connect(\"text_embedder.embedding\", \"retriever.query_embedding\")\n",
    "gpt4o_critic.connect(\"retriever\", \"prompt_builder.documents\")\n",
    "gpt4o_critic.connect(\"prompt_builder\", \"llm\")"
   ]
  },
  {
   "cell_type": "markdown",
   "metadata": {},
   "source": [
    "__________________________________________________________________"
   ]
  },
  {
   "cell_type": "markdown",
   "metadata": {},
   "source": [
    "### Expermient with gpt-4O"
   ]
  },
  {
   "cell_type": "code",
   "execution_count": 33,
   "metadata": {},
   "outputs": [
    {
     "data": {
      "text/html": [
       "<pre style=\"white-space:pre;overflow-x:auto;line-height:normal;font-family:Menlo,'DejaVu Sans Mono',consolas,'Courier New',monospace\">Question <span style=\"color: #008080; text-decoration-color: #008080; font-weight: bold\">1</span>/<span style=\"color: #008080; text-decoration-color: #008080; font-weight: bold\">23</span>: What was the original name of Sum <span style=\"color: #008080; text-decoration-color: #008080; font-weight: bold\">41</span>?\n",
       "</pre>\n"
      ],
      "text/plain": [
       "Question \u001b[1;36m1\u001b[0m/\u001b[1;36m23\u001b[0m: What was the original name of Sum \u001b[1;36m41\u001b[0m?\n"
      ]
     },
     "metadata": {},
     "output_type": "display_data"
    },
    {
     "data": {
      "text/html": [
       "<pre style=\"white-space:pre;overflow-x:auto;line-height:normal;font-family:Menlo,'DejaVu Sans Mono',consolas,'Courier New',monospace\">Question <span style=\"color: #008080; text-decoration-color: #008080; font-weight: bold\">2</span>/<span style=\"color: #008080; text-decoration-color: #008080; font-weight: bold\">23</span>: What is the name of the lead singer of Blink-<span style=\"color: #008080; text-decoration-color: #008080; font-weight: bold\">182</span>?\n",
       "</pre>\n"
      ],
      "text/plain": [
       "Question \u001b[1;36m2\u001b[0m/\u001b[1;36m23\u001b[0m: What is the name of the lead singer of Blink-\u001b[1;36m182\u001b[0m?\n"
      ]
     },
     "metadata": {},
     "output_type": "display_data"
    },
    {
     "data": {
      "text/html": [
       "<pre style=\"white-space:pre;overflow-x:auto;line-height:normal;font-family:Menlo,'DejaVu Sans Mono',consolas,'Courier New',monospace\">Question <span style=\"color: #008080; text-decoration-color: #008080; font-weight: bold\">3</span>/<span style=\"color: #008080; text-decoration-color: #008080; font-weight: bold\">23</span>: What was the title of Nirvana's breakthrough album released in <span style=\"color: #008080; text-decoration-color: #008080; font-weight: bold\">1991</span>?\n",
       "</pre>\n"
      ],
      "text/plain": [
       "Question \u001b[1;36m3\u001b[0m/\u001b[1;36m23\u001b[0m: What was the title of Nirvana's breakthrough album released in \u001b[1;36m1991\u001b[0m?\n"
      ]
     },
     "metadata": {},
     "output_type": "display_data"
    },
    {
     "data": {
      "text/html": [
       "<pre style=\"white-space:pre;overflow-x:auto;line-height:normal;font-family:Menlo,'DejaVu Sans Mono',consolas,'Courier New',monospace\">Question <span style=\"color: #008080; text-decoration-color: #008080; font-weight: bold\">4</span>/<span style=\"color: #008080; text-decoration-color: #008080; font-weight: bold\">23</span>: What does Rhodes Statue look like?\n",
       "</pre>\n"
      ],
      "text/plain": [
       "Question \u001b[1;36m4\u001b[0m/\u001b[1;36m23\u001b[0m: What does Rhodes Statue look like?\n"
      ]
     },
     "metadata": {},
     "output_type": "display_data"
    },
    {
     "data": {
      "text/html": [
       "<pre style=\"white-space:pre;overflow-x:auto;line-height:normal;font-family:Menlo,'DejaVu Sans Mono',consolas,'Courier New',monospace\">Question <span style=\"color: #008080; text-decoration-color: #008080; font-weight: bold\">5</span>/<span style=\"color: #008080; text-decoration-color: #008080; font-weight: bold\">23</span>: Green Day's <span style=\"color: #008000; text-decoration-color: #008000\">\"American Idiot\"</span> is a rock opera. What's the story it tells?\n",
       "</pre>\n"
      ],
      "text/plain": [
       "Question \u001b[1;36m5\u001b[0m/\u001b[1;36m23\u001b[0m: Green Day's \u001b[32m\"American Idiot\"\u001b[0m is a rock opera. What's the story it tells?\n"
      ]
     },
     "metadata": {},
     "output_type": "display_data"
    },
    {
     "data": {
      "text/html": [
       "<pre style=\"white-space:pre;overflow-x:auto;line-height:normal;font-family:Menlo,'DejaVu Sans Mono',consolas,'Courier New',monospace\">Question <span style=\"color: #008080; text-decoration-color: #008080; font-weight: bold\">6</span>/<span style=\"color: #008080; text-decoration-color: #008080; font-weight: bold\">23</span>: Who was the lead singer of The Cure?\n",
       "</pre>\n"
      ],
      "text/plain": [
       "Question \u001b[1;36m6\u001b[0m/\u001b[1;36m23\u001b[0m: Who was the lead singer of The Cure?\n"
      ]
     },
     "metadata": {},
     "output_type": "display_data"
    },
    {
     "data": {
      "text/html": [
       "<pre style=\"white-space:pre;overflow-x:auto;line-height:normal;font-family:Menlo,'DejaVu Sans Mono',consolas,'Courier New',monospace\">Question <span style=\"color: #008080; text-decoration-color: #008080; font-weight: bold\">7</span>/<span style=\"color: #008080; text-decoration-color: #008080; font-weight: bold\">23</span>: Audioslave was formed by members of two iconic bands. Can you name the bands and discuss the sound \n",
       "of Audioslave in comparison?\n",
       "</pre>\n"
      ],
      "text/plain": [
       "Question \u001b[1;36m7\u001b[0m/\u001b[1;36m23\u001b[0m: Audioslave was formed by members of two iconic bands. Can you name the bands and discuss the sound \n",
       "of Audioslave in comparison?\n"
      ]
     },
     "metadata": {},
     "output_type": "display_data"
    },
    {
     "data": {
      "text/html": [
       "<pre style=\"white-space:pre;overflow-x:auto;line-height:normal;font-family:Menlo,'DejaVu Sans Mono',consolas,'Courier New',monospace\">Question <span style=\"color: #008080; text-decoration-color: #008080; font-weight: bold\">8</span>/<span style=\"color: #008080; text-decoration-color: #008080; font-weight: bold\">23</span>: Evanescence's <span style=\"color: #008000; text-decoration-color: #008000\">\"Bring Me to Life\"</span> features a male vocalist. Who is he, and how does his voice \n",
       "complement Amy Lee's in the song?\n",
       "</pre>\n"
      ],
      "text/plain": [
       "Question \u001b[1;36m8\u001b[0m/\u001b[1;36m23\u001b[0m: Evanescence's \u001b[32m\"Bring Me to Life\"\u001b[0m features a male vocalist. Who is he, and how does his voice \n",
       "complement Amy Lee's in the song?\n"
      ]
     },
     "metadata": {},
     "output_type": "display_data"
    },
    {
     "data": {
      "text/html": [
       "<pre style=\"white-space:pre;overflow-x:auto;line-height:normal;font-family:Menlo,'DejaVu Sans Mono',consolas,'Courier New',monospace\">Question <span style=\"color: #008080; text-decoration-color: #008080; font-weight: bold\">9</span>/<span style=\"color: #008080; text-decoration-color: #008080; font-weight: bold\">23</span>: What is Sum <span style=\"color: #008080; text-decoration-color: #008080; font-weight: bold\">41</span>'s debut studio album called?\n",
       "</pre>\n"
      ],
      "text/plain": [
       "Question \u001b[1;36m9\u001b[0m/\u001b[1;36m23\u001b[0m: What is Sum \u001b[1;36m41\u001b[0m's debut studio album called?\n"
      ]
     },
     "metadata": {},
     "output_type": "display_data"
    },
    {
     "data": {
      "text/html": [
       "<pre style=\"white-space:pre;overflow-x:auto;line-height:normal;font-family:Menlo,'DejaVu Sans Mono',consolas,'Courier New',monospace\">Question <span style=\"color: #008080; text-decoration-color: #008080; font-weight: bold\">10</span>/<span style=\"color: #008080; text-decoration-color: #008080; font-weight: bold\">23</span>: How many languages are there?\n",
       "</pre>\n"
      ],
      "text/plain": [
       "Question \u001b[1;36m10\u001b[0m/\u001b[1;36m23\u001b[0m: How many languages are there?\n"
      ]
     },
     "metadata": {},
     "output_type": "display_data"
    },
    {
     "data": {
      "text/html": [
       "<pre style=\"white-space:pre;overflow-x:auto;line-height:normal;font-family:Menlo,'DejaVu Sans Mono',consolas,'Courier New',monospace\">Question <span style=\"color: #008080; text-decoration-color: #008080; font-weight: bold\">11</span>/<span style=\"color: #008080; text-decoration-color: #008080; font-weight: bold\">23</span>: What did Einstein win the Nobel Prize for?\n",
       "</pre>\n"
      ],
      "text/plain": [
       "Question \u001b[1;36m11\u001b[0m/\u001b[1;36m23\u001b[0m: What did Einstein win the Nobel Prize for?\n"
      ]
     },
     "metadata": {},
     "output_type": "display_data"
    },
    {
     "data": {
      "text/html": [
       "<pre style=\"white-space:pre;overflow-x:auto;line-height:normal;font-family:Menlo,'DejaVu Sans Mono',consolas,'Courier New',monospace\">Question <span style=\"color: #008080; text-decoration-color: #008080; font-weight: bold\">12</span>/<span style=\"color: #008080; text-decoration-color: #008080; font-weight: bold\">23</span>: What What does Rhodes Statue look like?\n",
       "</pre>\n"
      ],
      "text/plain": [
       "Question \u001b[1;36m12\u001b[0m/\u001b[1;36m23\u001b[0m: What What does Rhodes Statue look like?\n"
      ]
     },
     "metadata": {},
     "output_type": "display_data"
    },
    {
     "data": {
      "text/html": [
       "<pre style=\"white-space:pre;overflow-x:auto;line-height:normal;font-family:Menlo,'DejaVu Sans Mono',consolas,'Courier New',monospace\">Question <span style=\"color: #008080; text-decoration-color: #008080; font-weight: bold\">13</span>/<span style=\"color: #008080; text-decoration-color: #008080; font-weight: bold\">23</span>: Who was the lead singer of Audioslave?\n",
       "</pre>\n"
      ],
      "text/plain": [
       "Question \u001b[1;36m13\u001b[0m/\u001b[1;36m23\u001b[0m: Who was the lead singer of Audioslave?\n"
      ]
     },
     "metadata": {},
     "output_type": "display_data"
    },
    {
     "data": {
      "text/html": [
       "<pre style=\"white-space:pre;overflow-x:auto;line-height:normal;font-family:Menlo,'DejaVu Sans Mono',consolas,'Courier New',monospace\">Question <span style=\"color: #008080; text-decoration-color: #008080; font-weight: bold\">14</span>/<span style=\"color: #008080; text-decoration-color: #008080; font-weight: bold\">23</span>: Who has the most followers on Instagram?\n",
       "</pre>\n"
      ],
      "text/plain": [
       "Question \u001b[1;36m14\u001b[0m/\u001b[1;36m23\u001b[0m: Who has the most followers on Instagram?\n"
      ]
     },
     "metadata": {},
     "output_type": "display_data"
    },
    {
     "data": {
      "text/html": [
       "<pre style=\"white-space:pre;overflow-x:auto;line-height:normal;font-family:Menlo,'DejaVu Sans Mono',consolas,'Courier New',monospace\">Question <span style=\"color: #008080; text-decoration-color: #008080; font-weight: bold\">15</span>/<span style=\"color: #008080; text-decoration-color: #008080; font-weight: bold\">23</span>: When was Nirvana's first studio album, <span style=\"color: #008000; text-decoration-color: #008000\">\"Bleach,\"</span> released?\n",
       "</pre>\n"
      ],
      "text/plain": [
       "Question \u001b[1;36m15\u001b[0m/\u001b[1;36m23\u001b[0m: When was Nirvana's first studio album, \u001b[32m\"Bleach,\"\u001b[0m released?\n"
      ]
     },
     "metadata": {},
     "output_type": "display_data"
    },
    {
     "data": {
      "text/html": [
       "<pre style=\"white-space:pre;overflow-x:auto;line-height:normal;font-family:Menlo,'DejaVu Sans Mono',consolas,'Courier New',monospace\">Question <span style=\"color: #008080; text-decoration-color: #008080; font-weight: bold\">16</span>/<span style=\"color: #008080; text-decoration-color: #008080; font-weight: bold\">23</span>: Were the Smiths an influential band?\n",
       "</pre>\n"
      ],
      "text/plain": [
       "Question \u001b[1;36m16\u001b[0m/\u001b[1;36m23\u001b[0m: Were the Smiths an influential band?\n"
      ]
     },
     "metadata": {},
     "output_type": "display_data"
    },
    {
     "data": {
      "text/html": [
       "<pre style=\"white-space:pre;overflow-x:auto;line-height:normal;font-family:Menlo,'DejaVu Sans Mono',consolas,'Courier New',monospace\">Question <span style=\"color: #008080; text-decoration-color: #008080; font-weight: bold\">17</span>/<span style=\"color: #008080; text-decoration-color: #008080; font-weight: bold\">23</span>: What is the name of Evanescence's debut album?\n",
       "</pre>\n"
      ],
      "text/plain": [
       "Question \u001b[1;36m17\u001b[0m/\u001b[1;36m23\u001b[0m: What is the name of Evanescence's debut album?\n"
      ]
     },
     "metadata": {},
     "output_type": "display_data"
    },
    {
     "data": {
      "text/html": [
       "<pre style=\"white-space:pre;overflow-x:auto;line-height:normal;font-family:Menlo,'DejaVu Sans Mono',consolas,'Courier New',monospace\">Question <span style=\"color: #008080; text-decoration-color: #008080; font-weight: bold\">18</span>/<span style=\"color: #008080; text-decoration-color: #008080; font-weight: bold\">23</span>: Which band was Morrissey the lead singer of before he formed The Smiths?\n",
       "</pre>\n"
      ],
      "text/plain": [
       "Question \u001b[1;36m18\u001b[0m/\u001b[1;36m23\u001b[0m: Which band was Morrissey the lead singer of before he formed The Smiths?\n"
      ]
     },
     "metadata": {},
     "output_type": "display_data"
    },
    {
     "data": {
      "text/html": [
       "<pre style=\"white-space:pre;overflow-x:auto;line-height:normal;font-family:Menlo,'DejaVu Sans Mono',consolas,'Courier New',monospace\">Question <span style=\"color: #008080; text-decoration-color: #008080; font-weight: bold\">19</span>/<span style=\"color: #008080; text-decoration-color: #008080; font-weight: bold\">23</span>: Whose the father of Luke Skywalker?\n",
       "</pre>\n"
      ],
      "text/plain": [
       "Question \u001b[1;36m19\u001b[0m/\u001b[1;36m23\u001b[0m: Whose the father of Luke Skywalker?\n"
      ]
     },
     "metadata": {},
     "output_type": "display_data"
    },
    {
     "data": {
      "text/html": [
       "<pre style=\"white-space:pre;overflow-x:auto;line-height:normal;font-family:Menlo,'DejaVu Sans Mono',consolas,'Courier New',monospace\">Question <span style=\"color: #008080; text-decoration-color: #008080; font-weight: bold\">20</span>/<span style=\"color: #008080; text-decoration-color: #008080; font-weight: bold\">23</span>: What type of music plays Coldplay?\n",
       "</pre>\n"
      ],
      "text/plain": [
       "Question \u001b[1;36m20\u001b[0m/\u001b[1;36m23\u001b[0m: What type of music plays Coldplay?\n"
      ]
     },
     "metadata": {},
     "output_type": "display_data"
    },
    {
     "data": {
      "text/html": [
       "<pre style=\"white-space:pre;overflow-x:auto;line-height:normal;font-family:Menlo,'DejaVu Sans Mono',consolas,'Courier New',monospace\">Question <span style=\"color: #008080; text-decoration-color: #008080; font-weight: bold\">21</span>/<span style=\"color: #008080; text-decoration-color: #008080; font-weight: bold\">23</span>: Dire Straits' hit song <span style=\"color: #008000; text-decoration-color: #008000\">\"Money for Nothing\"</span> features a guest vocal by a famous artist. Who is this \n",
       "artist?\n",
       "</pre>\n"
      ],
      "text/plain": [
       "Question \u001b[1;36m21\u001b[0m/\u001b[1;36m23\u001b[0m: Dire Straits' hit song \u001b[32m\"Money for Nothing\"\u001b[0m features a guest vocal by a famous artist. Who is this \n",
       "artist?\n"
      ]
     },
     "metadata": {},
     "output_type": "display_data"
    },
    {
     "data": {
      "text/html": [
       "<pre style=\"white-space:pre;overflow-x:auto;line-height:normal;font-family:Menlo,'DejaVu Sans Mono',consolas,'Courier New',monospace\">Question <span style=\"color: #008080; text-decoration-color: #008080; font-weight: bold\">22</span>/<span style=\"color: #008080; text-decoration-color: #008080; font-weight: bold\">23</span>: Who played the song <span style=\"color: #008000; text-decoration-color: #008000\">\"Like a stone\"</span>?\n",
       "</pre>\n"
      ],
      "text/plain": [
       "Question \u001b[1;36m22\u001b[0m/\u001b[1;36m23\u001b[0m: Who played the song \u001b[32m\"Like a stone\"\u001b[0m?\n"
      ]
     },
     "metadata": {},
     "output_type": "display_data"
    },
    {
     "data": {
      "text/html": [
       "<pre style=\"white-space:pre;overflow-x:auto;line-height:normal;font-family:Menlo,'DejaVu Sans Mono',consolas,'Courier New',monospace\">Question <span style=\"color: #008080; text-decoration-color: #008080; font-weight: bold\">23</span>/<span style=\"color: #008080; text-decoration-color: #008080; font-weight: bold\">23</span>: What is the most interesting thing you know?\n",
       "</pre>\n"
      ],
      "text/plain": [
       "Question \u001b[1;36m23\u001b[0m/\u001b[1;36m23\u001b[0m: What is the most interesting thing you know?\n"
      ]
     },
     "metadata": {},
     "output_type": "display_data"
    },
    {
     "name": "stdout",
     "output_type": "stream",
     "text": [
      "CPU times: total: 2.3 s\n",
      "Wall time: 2min 4s\n"
     ]
    }
   ],
   "source": [
    "%%time\n",
    "\n",
    "for i, q in enumerate(questions):  \n",
    "  print(f\"Question {i+1}/{len(questions)}: {q}\")  \n",
    "  model_answer, critic_answer = get_critic_answer(q, gpt4o_rag, gpt4o_critic)  \n",
    "  experiment_results[\"model_name\"].append(OPENAI_DEPLOYMENT)\n",
    "  experiment_results[\"question\"].append(q)\n",
    "  experiment_results[\"model_answer\"].append(model_answer)\n",
    "  experiment_results[\"critic_answer\"].append(critic_answer)\n"
   ]
  },
  {
   "cell_type": "markdown",
   "metadata": {},
   "source": [
    "# Experiment Results"
   ]
  },
  {
   "cell_type": "code",
   "execution_count": null,
   "metadata": {},
   "outputs": [
    {
     "data": {
      "text/html": [
       "<div>\n",
       "<style scoped>\n",
       "    .dataframe tbody tr th:only-of-type {\n",
       "        vertical-align: middle;\n",
       "    }\n",
       "\n",
       "    .dataframe tbody tr th {\n",
       "        vertical-align: top;\n",
       "    }\n",
       "\n",
       "    .dataframe thead th {\n",
       "        text-align: right;\n",
       "    }\n",
       "</style>\n",
       "<table border=\"1\" class=\"dataframe\">\n",
       "  <thead>\n",
       "    <tr style=\"text-align: right;\">\n",
       "      <th></th>\n",
       "      <th>model_name</th>\n",
       "      <th>question</th>\n",
       "      <th>model_answer</th>\n",
       "      <th>critic_answer</th>\n",
       "    </tr>\n",
       "  </thead>\n",
       "  <tbody>\n",
       "    <tr>\n",
       "      <th>0</th>\n",
       "      <td>gemini-1.5-flash-latest</td>\n",
       "      <td>What was the original name of Sum 41?</td>\n",
       "      <td>The context does not provide the original name...</td>\n",
       "      <td>The answer claims that the context does not pr...</td>\n",
       "    </tr>\n",
       "    <tr>\n",
       "      <th>1</th>\n",
       "      <td>gemini-1.5-flash-latest</td>\n",
       "      <td>What is the name of the lead singer of Blink-182?</td>\n",
       "      <td>The lead singer of Blink-182 is **Tom DeLonge*...</td>\n",
       "      <td>The answer states that Tom DeLonge is the lead...</td>\n",
       "    </tr>\n",
       "    <tr>\n",
       "      <th>2</th>\n",
       "      <td>gemini-1.5-flash-latest</td>\n",
       "      <td>What was the title of Nirvana's breakthrough a...</td>\n",
       "      <td>Nirvana's breakthrough album released in 1991 ...</td>\n",
       "      <td>Reasoning:\\n\\n1. The answer states that Nirvan...</td>\n",
       "    </tr>\n",
       "    <tr>\n",
       "      <th>3</th>\n",
       "      <td>gemini-1.5-flash-latest</td>\n",
       "      <td>What does Rhodes Statue look like?</td>\n",
       "      <td>The context does not provide information about...</td>\n",
       "      <td>The answer states that the context does not pr...</td>\n",
       "    </tr>\n",
       "    <tr>\n",
       "      <th>4</th>\n",
       "      <td>gemini-1.5-flash-latest</td>\n",
       "      <td>Green Day's \"American Idiot\" is a rock opera. ...</td>\n",
       "      <td>The rock opera \"American Idiot\" follows the jo...</td>\n",
       "      <td>Reasoning:\\n\\n1. The answer states that \"Ameri...</td>\n",
       "    </tr>\n",
       "    <tr>\n",
       "      <th>5</th>\n",
       "      <td>gemini-1.5-flash-latest</td>\n",
       "      <td>Who was the lead singer of The Cure?</td>\n",
       "      <td>Robert Smith is the lead singer of The Cure. \\...</td>\n",
       "      <td>The answer states that Robert Smith is the lea...</td>\n",
       "    </tr>\n",
       "    <tr>\n",
       "      <th>6</th>\n",
       "      <td>gemini-1.5-flash-latest</td>\n",
       "      <td>Audioslave was formed by members of two iconic...</td>\n",
       "      <td>Audioslave was formed by members of **Soundgar...</td>\n",
       "      <td>Here's a breakdown of the answer's consistency...</td>\n",
       "    </tr>\n",
       "    <tr>\n",
       "      <th>7</th>\n",
       "      <td>gemini-1.5-flash-latest</td>\n",
       "      <td>Evanescence's \"Bring Me to Life\" features a ma...</td>\n",
       "      <td>The context states that Evanescence's label in...</td>\n",
       "      <td>The answer states that Amy Lee reluctantly agr...</td>\n",
       "    </tr>\n",
       "    <tr>\n",
       "      <th>8</th>\n",
       "      <td>gemini-1.5-flash-latest</td>\n",
       "      <td>What is Sum 41's debut studio album called?</td>\n",
       "      <td>Sum 41's debut studio album is called **All Ki...</td>\n",
       "      <td>The answer states that Sum 41's debut studio a...</td>\n",
       "    </tr>\n",
       "    <tr>\n",
       "      <th>9</th>\n",
       "      <td>gemini-1.5-flash-latest</td>\n",
       "      <td>How many languages are there?</td>\n",
       "      <td>This question cannot be answered from the give...</td>\n",
       "      <td>The answer \"This question cannot be answered f...</td>\n",
       "    </tr>\n",
       "    <tr>\n",
       "      <th>10</th>\n",
       "      <td>gemini-1.5-flash-latest</td>\n",
       "      <td>What did Einstein win the Nobel Prize for?</td>\n",
       "      <td>This question cannot be answered from the give...</td>\n",
       "      <td>The answer states that the question cannot be ...</td>\n",
       "    </tr>\n",
       "    <tr>\n",
       "      <th>11</th>\n",
       "      <td>gemini-1.5-flash-latest</td>\n",
       "      <td>What What does Rhodes Statue look like?</td>\n",
       "      <td>This question cannot be answered from the give...</td>\n",
       "      <td>The answer states that the question cannot be ...</td>\n",
       "    </tr>\n",
       "    <tr>\n",
       "      <th>12</th>\n",
       "      <td>gemini-1.5-flash-latest</td>\n",
       "      <td>Who was the lead singer of Audioslave?</td>\n",
       "      <td>The lead singer of Audioslave was Chris Cornel...</td>\n",
       "      <td>The answer states that Chris Cornell was the l...</td>\n",
       "    </tr>\n",
       "    <tr>\n",
       "      <th>13</th>\n",
       "      <td>gemini-1.5-flash-latest</td>\n",
       "      <td>Who has the most followers on Instagram?</td>\n",
       "      <td>This question cannot be answered from the give...</td>\n",
       "      <td>The answer states that the question cannot be ...</td>\n",
       "    </tr>\n",
       "    <tr>\n",
       "      <th>14</th>\n",
       "      <td>gemini-1.5-flash-latest</td>\n",
       "      <td>When was Nirvana's first studio album, \"Bleach...</td>\n",
       "      <td>Nirvana's first studio album, \"Bleach,\" was re...</td>\n",
       "      <td>The answer states that Nirvana's first studio ...</td>\n",
       "    </tr>\n",
       "    <tr>\n",
       "      <th>15</th>\n",
       "      <td>gemini-1.5-flash-latest</td>\n",
       "      <td>Were the Smiths an influential band?</td>\n",
       "      <td>Yes, the Smiths were widely influential. \\n\\nS...</td>\n",
       "      <td>The answer states that the Smiths were widely ...</td>\n",
       "    </tr>\n",
       "    <tr>\n",
       "      <th>16</th>\n",
       "      <td>gemini-1.5-flash-latest</td>\n",
       "      <td>What is the name of Evanescence's debut album?</td>\n",
       "      <td>Evanescence's debut album is called **Fallen**...</td>\n",
       "      <td>The answer states that Evanescence's debut alb...</td>\n",
       "    </tr>\n",
       "    <tr>\n",
       "      <th>17</th>\n",
       "      <td>gemini-1.5-flash-latest</td>\n",
       "      <td>Which band was Morrissey the lead singer of be...</td>\n",
       "      <td>The provided text does not mention Morrissey b...</td>\n",
       "      <td>The answer states that the provided text does ...</td>\n",
       "    </tr>\n",
       "    <tr>\n",
       "      <th>18</th>\n",
       "      <td>gemini-1.5-flash-latest</td>\n",
       "      <td>Whose the father of Luke Skywalker?</td>\n",
       "      <td>This question cannot be answered from the give...</td>\n",
       "      <td>The answer states that the question cannot be ...</td>\n",
       "    </tr>\n",
       "    <tr>\n",
       "      <th>19</th>\n",
       "      <td>gemini-1.5-flash-latest</td>\n",
       "      <td>What type of music plays Coldplay?</td>\n",
       "      <td>The context does not provide information about...</td>\n",
       "      <td>The answer states that the context does not pr...</td>\n",
       "    </tr>\n",
       "    <tr>\n",
       "      <th>20</th>\n",
       "      <td>gemini-1.5-flash-latest</td>\n",
       "      <td>Dire Straits' hit song \"Money for Nothing\" fea...</td>\n",
       "      <td>The artist who provided guest vocals on Dire S...</td>\n",
       "      <td>The answer states that Sting provided guest vo...</td>\n",
       "    </tr>\n",
       "    <tr>\n",
       "      <th>21</th>\n",
       "      <td>gemini-1.5-flash-latest</td>\n",
       "      <td>Who played the song \"Like a stone\"?</td>\n",
       "      <td>Audioslave played the song \"Like a Stone\". \\nS...</td>\n",
       "      <td>Reasoning:\\n\\n1. The answer states that Audios...</td>\n",
       "    </tr>\n",
       "    <tr>\n",
       "      <th>22</th>\n",
       "      <td>gemini-1.5-flash-latest</td>\n",
       "      <td>What is the most interesting thing you know?</td>\n",
       "      <td>I'm sorry, but the provided context does not c...</td>\n",
       "      <td>The answer states that the provided context do...</td>\n",
       "    </tr>\n",
       "    <tr>\n",
       "      <th>23</th>\n",
       "      <td>gpt-4o</td>\n",
       "      <td>What was the original name of Sum 41?</td>\n",
       "      <td>The original name of Sum 41 is not provided in...</td>\n",
       "      <td>To determine if the answer is consistent with ...</td>\n",
       "    </tr>\n",
       "    <tr>\n",
       "      <th>24</th>\n",
       "      <td>gpt-4o</td>\n",
       "      <td>What is the name of the lead singer of Blink-182?</td>\n",
       "      <td>The lead singers of Blink-182 are Mark Hoppus ...</td>\n",
       "      <td>To determine if the answer is consistent with ...</td>\n",
       "    </tr>\n",
       "    <tr>\n",
       "      <th>25</th>\n",
       "      <td>gpt-4o</td>\n",
       "      <td>What was the title of Nirvana's breakthrough a...</td>\n",
       "      <td>Nirvana's breakthrough album released in 1991 ...</td>\n",
       "      <td>To determine if the answer is consistent with ...</td>\n",
       "    </tr>\n",
       "    <tr>\n",
       "      <th>26</th>\n",
       "      <td>gpt-4o</td>\n",
       "      <td>What does Rhodes Statue look like?</td>\n",
       "      <td>The context provided does not contain any info...</td>\n",
       "      <td>To determine if the answer is consistent with ...</td>\n",
       "    </tr>\n",
       "    <tr>\n",
       "      <th>27</th>\n",
       "      <td>gpt-4o</td>\n",
       "      <td>Green Day's \"American Idiot\" is a rock opera. ...</td>\n",
       "      <td>Green Day's \"American Idiot\" is a punk rock op...</td>\n",
       "      <td>To determine if the answer is consistent with ...</td>\n",
       "    </tr>\n",
       "    <tr>\n",
       "      <th>28</th>\n",
       "      <td>gpt-4o</td>\n",
       "      <td>Who was the lead singer of The Cure?</td>\n",
       "      <td>The lead singer of The Cure is Robert Smith. \\...</td>\n",
       "      <td>To determine if the answer is consistent with ...</td>\n",
       "    </tr>\n",
       "    <tr>\n",
       "      <th>29</th>\n",
       "      <td>gpt-4o</td>\n",
       "      <td>Audioslave was formed by members of two iconic...</td>\n",
       "      <td>Audioslave was formed by members of two iconic...</td>\n",
       "      <td>To determine if the answer is consistent with ...</td>\n",
       "    </tr>\n",
       "    <tr>\n",
       "      <th>30</th>\n",
       "      <td>gpt-4o</td>\n",
       "      <td>Evanescence's \"Bring Me to Life\" features a ma...</td>\n",
       "      <td>The male vocalist featured in Evanescence's \"B...</td>\n",
       "      <td>To determine if the answer is consistent with ...</td>\n",
       "    </tr>\n",
       "    <tr>\n",
       "      <th>31</th>\n",
       "      <td>gpt-4o</td>\n",
       "      <td>What is Sum 41's debut studio album called?</td>\n",
       "      <td>Sum 41's debut studio album is called \"All Kil...</td>\n",
       "      <td>To determine if the answer is consistent with ...</td>\n",
       "    </tr>\n",
       "    <tr>\n",
       "      <th>32</th>\n",
       "      <td>gpt-4o</td>\n",
       "      <td>How many languages are there?</td>\n",
       "      <td>The context provided does not contain informat...</td>\n",
       "      <td>To determine if the answer is consistent with ...</td>\n",
       "    </tr>\n",
       "    <tr>\n",
       "      <th>33</th>\n",
       "      <td>gpt-4o</td>\n",
       "      <td>What did Einstein win the Nobel Prize for?</td>\n",
       "      <td>The context provided does not contain informat...</td>\n",
       "      <td>To determine if the answer is consistent with ...</td>\n",
       "    </tr>\n",
       "    <tr>\n",
       "      <th>34</th>\n",
       "      <td>gpt-4o</td>\n",
       "      <td>What What does Rhodes Statue look like?</td>\n",
       "      <td>The context provided does not contain informat...</td>\n",
       "      <td>To determine if the answer is consistent with ...</td>\n",
       "    </tr>\n",
       "    <tr>\n",
       "      <th>35</th>\n",
       "      <td>gpt-4o</td>\n",
       "      <td>Who was the lead singer of Audioslave?</td>\n",
       "      <td>The lead singer of Audioslave was Chris Cornel...</td>\n",
       "      <td>To determine if the answer is consistent with ...</td>\n",
       "    </tr>\n",
       "    <tr>\n",
       "      <th>36</th>\n",
       "      <td>gpt-4o</td>\n",
       "      <td>Who has the most followers on Instagram?</td>\n",
       "      <td>The context provided does not contain informat...</td>\n",
       "      <td>To determine if the answer is consistent with ...</td>\n",
       "    </tr>\n",
       "    <tr>\n",
       "      <th>37</th>\n",
       "      <td>gpt-4o</td>\n",
       "      <td>When was Nirvana's first studio album, \"Bleach...</td>\n",
       "      <td>Nirvana's first studio album, \"Bleach,\" was re...</td>\n",
       "      <td>To determine if the answer is consistent with ...</td>\n",
       "    </tr>\n",
       "    <tr>\n",
       "      <th>38</th>\n",
       "      <td>gpt-4o</td>\n",
       "      <td>Were the Smiths an influential band?</td>\n",
       "      <td>Yes, the Smiths were an influential band. They...</td>\n",
       "      <td>To determine if the answer is consistent with ...</td>\n",
       "    </tr>\n",
       "    <tr>\n",
       "      <th>39</th>\n",
       "      <td>gpt-4o</td>\n",
       "      <td>What is the name of Evanescence's debut album?</td>\n",
       "      <td>Evanescence's debut album is named \"Fallen\". \\...</td>\n",
       "      <td>To determine if the answer is consistent with ...</td>\n",
       "    </tr>\n",
       "    <tr>\n",
       "      <th>40</th>\n",
       "      <td>gpt-4o</td>\n",
       "      <td>Which band was Morrissey the lead singer of be...</td>\n",
       "      <td>The context does not provide information about...</td>\n",
       "      <td>To determine if the answer is consistent with ...</td>\n",
       "    </tr>\n",
       "    <tr>\n",
       "      <th>41</th>\n",
       "      <td>gpt-4o</td>\n",
       "      <td>Whose the father of Luke Skywalker?</td>\n",
       "      <td>The context provided does not contain informat...</td>\n",
       "      <td>To determine if the answer is consistent with ...</td>\n",
       "    </tr>\n",
       "    <tr>\n",
       "      <th>42</th>\n",
       "      <td>gpt-4o</td>\n",
       "      <td>What type of music plays Coldplay?</td>\n",
       "      <td>The context provided does not contain informat...</td>\n",
       "      <td>To determine if the answer is consistent with ...</td>\n",
       "    </tr>\n",
       "    <tr>\n",
       "      <th>43</th>\n",
       "      <td>gpt-4o</td>\n",
       "      <td>Dire Straits' hit song \"Money for Nothing\" fea...</td>\n",
       "      <td>The guest vocal on Dire Straits' hit song \"Mon...</td>\n",
       "      <td>To determine if the answer is consistent with ...</td>\n",
       "    </tr>\n",
       "    <tr>\n",
       "      <th>44</th>\n",
       "      <td>gpt-4o</td>\n",
       "      <td>Who played the song \"Like a stone\"?</td>\n",
       "      <td>The song \"Like a Stone\" was played by Audiosla...</td>\n",
       "      <td>To determine if the answer is consistent with ...</td>\n",
       "    </tr>\n",
       "    <tr>\n",
       "      <th>45</th>\n",
       "      <td>gpt-4o</td>\n",
       "      <td>What is the most interesting thing you know?</td>\n",
       "      <td>The context provided does not contain an answe...</td>\n",
       "      <td>To determine if the answer is consistent with ...</td>\n",
       "    </tr>\n",
       "  </tbody>\n",
       "</table>\n",
       "</div>"
      ],
      "text/plain": [
       "                 model_name  \\\n",
       "0   gemini-1.5-flash-latest   \n",
       "1   gemini-1.5-flash-latest   \n",
       "2   gemini-1.5-flash-latest   \n",
       "3   gemini-1.5-flash-latest   \n",
       "4   gemini-1.5-flash-latest   \n",
       "5   gemini-1.5-flash-latest   \n",
       "6   gemini-1.5-flash-latest   \n",
       "7   gemini-1.5-flash-latest   \n",
       "8   gemini-1.5-flash-latest   \n",
       "9   gemini-1.5-flash-latest   \n",
       "10  gemini-1.5-flash-latest   \n",
       "11  gemini-1.5-flash-latest   \n",
       "12  gemini-1.5-flash-latest   \n",
       "13  gemini-1.5-flash-latest   \n",
       "14  gemini-1.5-flash-latest   \n",
       "15  gemini-1.5-flash-latest   \n",
       "16  gemini-1.5-flash-latest   \n",
       "17  gemini-1.5-flash-latest   \n",
       "18  gemini-1.5-flash-latest   \n",
       "19  gemini-1.5-flash-latest   \n",
       "20  gemini-1.5-flash-latest   \n",
       "21  gemini-1.5-flash-latest   \n",
       "22  gemini-1.5-flash-latest   \n",
       "23                   gpt-4o   \n",
       "24                   gpt-4o   \n",
       "25                   gpt-4o   \n",
       "26                   gpt-4o   \n",
       "27                   gpt-4o   \n",
       "28                   gpt-4o   \n",
       "29                   gpt-4o   \n",
       "30                   gpt-4o   \n",
       "31                   gpt-4o   \n",
       "32                   gpt-4o   \n",
       "33                   gpt-4o   \n",
       "34                   gpt-4o   \n",
       "35                   gpt-4o   \n",
       "36                   gpt-4o   \n",
       "37                   gpt-4o   \n",
       "38                   gpt-4o   \n",
       "39                   gpt-4o   \n",
       "40                   gpt-4o   \n",
       "41                   gpt-4o   \n",
       "42                   gpt-4o   \n",
       "43                   gpt-4o   \n",
       "44                   gpt-4o   \n",
       "45                   gpt-4o   \n",
       "\n",
       "                                             question  \\\n",
       "0               What was the original name of Sum 41?   \n",
       "1   What is the name of the lead singer of Blink-182?   \n",
       "2   What was the title of Nirvana's breakthrough a...   \n",
       "3                  What does Rhodes Statue look like?   \n",
       "4   Green Day's \"American Idiot\" is a rock opera. ...   \n",
       "5                Who was the lead singer of The Cure?   \n",
       "6   Audioslave was formed by members of two iconic...   \n",
       "7   Evanescence's \"Bring Me to Life\" features a ma...   \n",
       "8         What is Sum 41's debut studio album called?   \n",
       "9                       How many languages are there?   \n",
       "10         What did Einstein win the Nobel Prize for?   \n",
       "11            What What does Rhodes Statue look like?   \n",
       "12             Who was the lead singer of Audioslave?   \n",
       "13           Who has the most followers on Instagram?   \n",
       "14  When was Nirvana's first studio album, \"Bleach...   \n",
       "15               Were the Smiths an influential band?   \n",
       "16     What is the name of Evanescence's debut album?   \n",
       "17  Which band was Morrissey the lead singer of be...   \n",
       "18                Whose the father of Luke Skywalker?   \n",
       "19                 What type of music plays Coldplay?   \n",
       "20  Dire Straits' hit song \"Money for Nothing\" fea...   \n",
       "21                Who played the song \"Like a stone\"?   \n",
       "22       What is the most interesting thing you know?   \n",
       "23              What was the original name of Sum 41?   \n",
       "24  What is the name of the lead singer of Blink-182?   \n",
       "25  What was the title of Nirvana's breakthrough a...   \n",
       "26                 What does Rhodes Statue look like?   \n",
       "27  Green Day's \"American Idiot\" is a rock opera. ...   \n",
       "28               Who was the lead singer of The Cure?   \n",
       "29  Audioslave was formed by members of two iconic...   \n",
       "30  Evanescence's \"Bring Me to Life\" features a ma...   \n",
       "31        What is Sum 41's debut studio album called?   \n",
       "32                      How many languages are there?   \n",
       "33         What did Einstein win the Nobel Prize for?   \n",
       "34            What What does Rhodes Statue look like?   \n",
       "35             Who was the lead singer of Audioslave?   \n",
       "36           Who has the most followers on Instagram?   \n",
       "37  When was Nirvana's first studio album, \"Bleach...   \n",
       "38               Were the Smiths an influential band?   \n",
       "39     What is the name of Evanescence's debut album?   \n",
       "40  Which band was Morrissey the lead singer of be...   \n",
       "41                Whose the father of Luke Skywalker?   \n",
       "42                 What type of music plays Coldplay?   \n",
       "43  Dire Straits' hit song \"Money for Nothing\" fea...   \n",
       "44                Who played the song \"Like a stone\"?   \n",
       "45       What is the most interesting thing you know?   \n",
       "\n",
       "                                         model_answer  \\\n",
       "0   The context does not provide the original name...   \n",
       "1   The lead singer of Blink-182 is **Tom DeLonge*...   \n",
       "2   Nirvana's breakthrough album released in 1991 ...   \n",
       "3   The context does not provide information about...   \n",
       "4   The rock opera \"American Idiot\" follows the jo...   \n",
       "5   Robert Smith is the lead singer of The Cure. \\...   \n",
       "6   Audioslave was formed by members of **Soundgar...   \n",
       "7   The context states that Evanescence's label in...   \n",
       "8   Sum 41's debut studio album is called **All Ki...   \n",
       "9   This question cannot be answered from the give...   \n",
       "10  This question cannot be answered from the give...   \n",
       "11  This question cannot be answered from the give...   \n",
       "12  The lead singer of Audioslave was Chris Cornel...   \n",
       "13  This question cannot be answered from the give...   \n",
       "14  Nirvana's first studio album, \"Bleach,\" was re...   \n",
       "15  Yes, the Smiths were widely influential. \\n\\nS...   \n",
       "16  Evanescence's debut album is called **Fallen**...   \n",
       "17  The provided text does not mention Morrissey b...   \n",
       "18  This question cannot be answered from the give...   \n",
       "19  The context does not provide information about...   \n",
       "20  The artist who provided guest vocals on Dire S...   \n",
       "21  Audioslave played the song \"Like a Stone\". \\nS...   \n",
       "22  I'm sorry, but the provided context does not c...   \n",
       "23  The original name of Sum 41 is not provided in...   \n",
       "24  The lead singers of Blink-182 are Mark Hoppus ...   \n",
       "25  Nirvana's breakthrough album released in 1991 ...   \n",
       "26  The context provided does not contain any info...   \n",
       "27  Green Day's \"American Idiot\" is a punk rock op...   \n",
       "28  The lead singer of The Cure is Robert Smith. \\...   \n",
       "29  Audioslave was formed by members of two iconic...   \n",
       "30  The male vocalist featured in Evanescence's \"B...   \n",
       "31  Sum 41's debut studio album is called \"All Kil...   \n",
       "32  The context provided does not contain informat...   \n",
       "33  The context provided does not contain informat...   \n",
       "34  The context provided does not contain informat...   \n",
       "35  The lead singer of Audioslave was Chris Cornel...   \n",
       "36  The context provided does not contain informat...   \n",
       "37  Nirvana's first studio album, \"Bleach,\" was re...   \n",
       "38  Yes, the Smiths were an influential band. They...   \n",
       "39  Evanescence's debut album is named \"Fallen\". \\...   \n",
       "40  The context does not provide information about...   \n",
       "41  The context provided does not contain informat...   \n",
       "42  The context provided does not contain informat...   \n",
       "43  The guest vocal on Dire Straits' hit song \"Mon...   \n",
       "44  The song \"Like a Stone\" was played by Audiosla...   \n",
       "45  The context provided does not contain an answe...   \n",
       "\n",
       "                                        critic_answer  \n",
       "0   The answer claims that the context does not pr...  \n",
       "1   The answer states that Tom DeLonge is the lead...  \n",
       "2   Reasoning:\\n\\n1. The answer states that Nirvan...  \n",
       "3   The answer states that the context does not pr...  \n",
       "4   Reasoning:\\n\\n1. The answer states that \"Ameri...  \n",
       "5   The answer states that Robert Smith is the lea...  \n",
       "6   Here's a breakdown of the answer's consistency...  \n",
       "7   The answer states that Amy Lee reluctantly agr...  \n",
       "8   The answer states that Sum 41's debut studio a...  \n",
       "9   The answer \"This question cannot be answered f...  \n",
       "10  The answer states that the question cannot be ...  \n",
       "11  The answer states that the question cannot be ...  \n",
       "12  The answer states that Chris Cornell was the l...  \n",
       "13  The answer states that the question cannot be ...  \n",
       "14  The answer states that Nirvana's first studio ...  \n",
       "15  The answer states that the Smiths were widely ...  \n",
       "16  The answer states that Evanescence's debut alb...  \n",
       "17  The answer states that the provided text does ...  \n",
       "18  The answer states that the question cannot be ...  \n",
       "19  The answer states that the context does not pr...  \n",
       "20  The answer states that Sting provided guest vo...  \n",
       "21  Reasoning:\\n\\n1. The answer states that Audios...  \n",
       "22  The answer states that the provided context do...  \n",
       "23  To determine if the answer is consistent with ...  \n",
       "24  To determine if the answer is consistent with ...  \n",
       "25  To determine if the answer is consistent with ...  \n",
       "26  To determine if the answer is consistent with ...  \n",
       "27  To determine if the answer is consistent with ...  \n",
       "28  To determine if the answer is consistent with ...  \n",
       "29  To determine if the answer is consistent with ...  \n",
       "30  To determine if the answer is consistent with ...  \n",
       "31  To determine if the answer is consistent with ...  \n",
       "32  To determine if the answer is consistent with ...  \n",
       "33  To determine if the answer is consistent with ...  \n",
       "34  To determine if the answer is consistent with ...  \n",
       "35  To determine if the answer is consistent with ...  \n",
       "36  To determine if the answer is consistent with ...  \n",
       "37  To determine if the answer is consistent with ...  \n",
       "38  To determine if the answer is consistent with ...  \n",
       "39  To determine if the answer is consistent with ...  \n",
       "40  To determine if the answer is consistent with ...  \n",
       "41  To determine if the answer is consistent with ...  \n",
       "42  To determine if the answer is consistent with ...  \n",
       "43  To determine if the answer is consistent with ...  \n",
       "44  To determine if the answer is consistent with ...  \n",
       "45  To determine if the answer is consistent with ...  "
      ]
     },
     "execution_count": 34,
     "metadata": {},
     "output_type": "execute_result"
    }
   ],
   "source": [
    "experiment_results_df = pd.DataFrame(experiment_results)\n",
    "experiment_results_df.to_csv(\"experiment_results.csv\")\n",
    "experiment_results_df"
   ]
  },
  {
   "cell_type": "markdown",
   "metadata": {},
   "source": [
    "## Context sentences per question"
   ]
  },
  {
   "cell_type": "code",
   "execution_count": 41,
   "metadata": {},
   "outputs": [
    {
     "name": "stdout",
     "output_type": "stream",
     "text": [
      "CPU times: total: 797 ms\n",
      "Wall time: 1.58 s\n"
     ]
    }
   ],
   "source": [
    "%%time\n",
    "\n",
    "context_per_question = {    \n",
    "    \"question\": [],\n",
    "    \"doc1\": [],\n",
    "    \"doc2\": [],\n",
    "    \"doc3\": [],\n",
    "    \"doc4\": [],\n",
    "    \"doc5\": []\n",
    "}\n",
    "\n",
    "query_pipeline = Pipeline()\n",
    "query_pipeline.add_component(\"text_embedder\", SentenceTransformersTextEmbedder(\"sentence-transformers/all-MiniLM-L6-v2\", progress_bar=False))\n",
    "query_pipeline.add_component(\"retriever\", InMemoryEmbeddingRetriever(document_store=document_store, top_k=5))\n",
    "\n",
    "query_pipeline.connect(\"text_embedder.embedding\", \"retriever.query_embedding\")\n",
    "\n",
    "def get_context_for_question(question, query_pipeline=query_pipeline):\n",
    "  results = query_pipeline.run({\"text_embedder\": {\"text\": question}})\n",
    "  return [(doc.content, doc.meta['url']) for doc in results[\"retriever\"][\"documents\"]]\n",
    "\n",
    "for i, q in enumerate(questions):\n",
    "  # print(f\"Question {i+1}/{len(questions)}\")\n",
    "  context_per_question[\"question\"].append(q)\n",
    "  for n, doc in enumerate(get_context_for_question(q)):\n",
    "    content, url = doc\n",
    "    context_per_question[f\"doc{n+1}\"].append(f'{content} URL: {url}')\n",
    "    # print(f'\"{content.replace(\"\\n\", \"\").lstrip()}\"\\nURL: {url}')"
   ]
  },
  {
   "cell_type": "code",
   "execution_count": null,
   "metadata": {},
   "outputs": [],
   "source": [
    "context_per_question_df = pd.DataFrame(context_per_question)\n",
    "context_per_question_df.to_csv(\"experiment_results.csv\")\n",
    "context_per_question_df"
   ]
  },
  {
   "cell_type": "markdown",
   "metadata": {},
   "source": [
    "# Unsafe prompt"
   ]
  },
  {
   "cell_type": "code",
   "execution_count": 54,
   "metadata": {},
   "outputs": [
    {
     "data": {
      "text/plain": [
       "<haystack.core.pipeline.pipeline.Pipeline object at 0x0000021E0BA0F380>\n",
       "🚅 Components\n",
       "  - text_embedder: SentenceTransformersTextEmbedder\n",
       "  - retriever: InMemoryEmbeddingRetriever\n",
       "  - prompt_builder: PromptBuilder\n",
       "  - llm: GoogleAIGeminiGenerator\n",
       "🛤️ Connections\n",
       "  - text_embedder.embedding -> retriever.query_embedding (List[float])\n",
       "  - retriever.documents -> prompt_builder.documents (List[Document])\n",
       "  - prompt_builder.prompt -> llm.parts (str)"
      ]
     },
     "execution_count": 54,
     "metadata": {},
     "output_type": "execute_result"
    }
   ],
   "source": [
    "unsafe_prompt_template = \"\"\"\n",
    "Using the information contained in the context, give a comprehensive answer to the question.\n",
    "If the answer is contained in the context, also report the source URL.\n",
    "If you don't know the answer, tell me a joke instead.\n",
    "\n",
    "\n",
    "Context:\n",
    "  {% for doc in documents %}\n",
    "  {{ doc.content }} URL:{{ doc.meta['url'] }}\n",
    "  {% endfor %};\n",
    "  Question: {{query}}\n",
    "\"\"\"\n",
    "unsafe_prompt_builder = PromptBuilder(template=unsafe_prompt_template)\n",
    "\n",
    "unsafe_rag = Pipeline()\n",
    "unsafe_rag.add_component(\"text_embedder\", SentenceTransformersTextEmbedder(\"sentence-transformers/all-MiniLM-L6-v2\", progress_bar=False))\n",
    "unsafe_rag.add_component(\"retriever\", InMemoryEmbeddingRetriever(document_store=document_store, top_k=5))\n",
    "unsafe_rag.add_component(\"prompt_builder\", unsafe_prompt_builder)\n",
    "unsafe_rag.add_component(\"llm\", GoogleAIGeminiGenerator(model=\"gemini-1.5-flash-latest\"))\n",
    "\n",
    "unsafe_rag.connect(\"text_embedder.embedding\", \"retriever.query_embedding\")\n",
    "unsafe_rag.connect(\"retriever\", \"prompt_builder.documents\")\n",
    "unsafe_rag.connect(\"prompt_builder\", \"llm\")"
   ]
  },
  {
   "cell_type": "code",
   "execution_count": 55,
   "metadata": {},
   "outputs": [
    {
     "data": {
      "text/html": [
       "<pre style=\"white-space:pre;overflow-x:auto;line-height:normal;font-family:Menlo,'DejaVu Sans Mono',consolas,'Courier New',monospace\">Model answer:\n",
       "I can't answer that question based on the provided context. It doesn't contain any information about what anyone \n",
       "finds interesting.  \n",
       "\n",
       "Here's a joke: Why don't scientists trust atoms? Because they make up everything! 😜 \n",
       "\n",
       "</pre>\n"
      ],
      "text/plain": [
       "Model answer:\n",
       "I can't answer that question based on the provided context. It doesn't contain any information about what anyone \n",
       "finds interesting.  \n",
       "\n",
       "Here's a joke: Why don't scientists trust atoms? Because they make up everything! 😜 \n",
       "\n"
      ]
     },
     "metadata": {},
     "output_type": "display_data"
    },
    {
     "data": {
      "text/html": [
       "<pre style=\"white-space:pre;overflow-x:auto;line-height:normal;font-family:Menlo,'DejaVu Sans Mono',consolas,'Courier New',monospace\">The answer states that it cannot be answered because the context lacks information about what anyone finds \n",
       "interesting.  This is correct. The provided sources discuss various aspects of bands like The Smiths, Dire Straits,\n",
       "Evanescence, and Sum <span style=\"color: #008080; text-decoration-color: #008080; font-weight: bold\">41</span>, but none mention what people find interesting.  \n",
       "\n",
       "**Reasoning:**\n",
       "\n",
       "<span style=\"color: #008080; text-decoration-color: #008080; font-weight: bold\">1</span>. **Source Content:** The sources primarily focus on band members' quotes, album descriptions, and general band \n",
       "information. \n",
       "<span style=\"color: #008080; text-decoration-color: #008080; font-weight: bold\">2</span>. **Answer Focus:** The answer centers on the concept of <span style=\"color: #008000; text-decoration-color: #008000\">\"interesting,\"</span> which is not addressed in the sources.\n",
       "<span style=\"color: #008080; text-decoration-color: #008080; font-weight: bold\">3</span>. **Joke Insertion:**  The inclusion of a joke further indicates the answer's inability to provide relevant \n",
       "information from the sources.\n",
       "\n",
       "**Therefore, the answer is consistent with the sources. ** \n",
       "\n",
       "</pre>\n"
      ],
      "text/plain": [
       "The answer states that it cannot be answered because the context lacks information about what anyone finds \n",
       "interesting.  This is correct. The provided sources discuss various aspects of bands like The Smiths, Dire Straits,\n",
       "Evanescence, and Sum \u001b[1;36m41\u001b[0m, but none mention what people find interesting.  \n",
       "\n",
       "**Reasoning:**\n",
       "\n",
       "\u001b[1;36m1\u001b[0m. **Source Content:** The sources primarily focus on band members' quotes, album descriptions, and general band \n",
       "information. \n",
       "\u001b[1;36m2\u001b[0m. **Answer Focus:** The answer centers on the concept of \u001b[32m\"interesting,\"\u001b[0m which is not addressed in the sources.\n",
       "\u001b[1;36m3\u001b[0m. **Joke Insertion:**  The inclusion of a joke further indicates the answer's inability to provide relevant \n",
       "information from the sources.\n",
       "\n",
       "**Therefore, the answer is consistent with the sources. ** \n",
       "\n"
      ]
     },
     "metadata": {},
     "output_type": "display_data"
    }
   ],
   "source": [
    "print(get_critic_answer(\"What is the most interesting thing you know?\", rag_model=unsafe_rag, critic_model=gemini_critic))"
   ]
  },
  {
   "cell_type": "markdown",
   "metadata": {},
   "source": [
    "___________________________________________"
   ]
  }
 ],
 "metadata": {
  "accelerator": "GPU",
  "colab": {
   "gpuType": "T4",
   "provenance": []
  },
  "kernelspec": {
   "display_name": "Python 3",
   "name": "python3"
  },
  "language_info": {
   "codemirror_mode": {
    "name": "ipython",
    "version": 3
   },
   "file_extension": ".py",
   "mimetype": "text/x-python",
   "name": "python",
   "nbconvert_exporter": "python",
   "pygments_lexer": "ipython3",
   "version": "3.12.5"
  },
  "widgets": {
   "application/vnd.jupyter.widget-state+json": {
    "0157d75798fe48e8b7e58538e8d99065": {
     "model_module": "@jupyter-widgets/controls",
     "model_module_version": "1.5.0",
     "model_name": "DescriptionStyleModel",
     "state": {
      "_model_module": "@jupyter-widgets/controls",
      "_model_module_version": "1.5.0",
      "_model_name": "DescriptionStyleModel",
      "_view_count": null,
      "_view_module": "@jupyter-widgets/base",
      "_view_module_version": "1.2.0",
      "_view_name": "StyleView",
      "description_width": ""
     }
    },
    "23206a144ea9409a9850fdba5257d1d8": {
     "model_module": "@jupyter-widgets/controls",
     "model_module_version": "1.5.0",
     "model_name": "ProgressStyleModel",
     "state": {
      "_model_module": "@jupyter-widgets/controls",
      "_model_module_version": "1.5.0",
      "_model_name": "ProgressStyleModel",
      "_view_count": null,
      "_view_module": "@jupyter-widgets/base",
      "_view_module_version": "1.2.0",
      "_view_name": "StyleView",
      "bar_color": null,
      "description_width": ""
     }
    },
    "455cc132a0de4967ac8064d8a68584b2": {
     "model_module": "@jupyter-widgets/controls",
     "model_module_version": "1.5.0",
     "model_name": "FloatProgressModel",
     "state": {
      "_dom_classes": [],
      "_model_module": "@jupyter-widgets/controls",
      "_model_module_version": "1.5.0",
      "_model_name": "FloatProgressModel",
      "_view_count": null,
      "_view_module": "@jupyter-widgets/controls",
      "_view_module_version": "1.5.0",
      "_view_name": "ProgressView",
      "bar_style": "success",
      "description": "",
      "description_tooltip": null,
      "layout": "IPY_MODEL_8bac2d79ecb94883ba8b5c41bd827f3d",
      "max": 1565,
      "min": 0,
      "orientation": "horizontal",
      "style": "IPY_MODEL_23206a144ea9409a9850fdba5257d1d8",
      "value": 1565
     }
    },
    "4985c6a71c00480b803dfc60332c3506": {
     "model_module": "@jupyter-widgets/base",
     "model_module_version": "1.2.0",
     "model_name": "LayoutModel",
     "state": {
      "_model_module": "@jupyter-widgets/base",
      "_model_module_version": "1.2.0",
      "_model_name": "LayoutModel",
      "_view_count": null,
      "_view_module": "@jupyter-widgets/base",
      "_view_module_version": "1.2.0",
      "_view_name": "LayoutView",
      "align_content": null,
      "align_items": null,
      "align_self": null,
      "border": null,
      "bottom": null,
      "display": null,
      "flex": null,
      "flex_flow": null,
      "grid_area": null,
      "grid_auto_columns": null,
      "grid_auto_flow": null,
      "grid_auto_rows": null,
      "grid_column": null,
      "grid_gap": null,
      "grid_row": null,
      "grid_template_areas": null,
      "grid_template_columns": null,
      "grid_template_rows": null,
      "height": null,
      "justify_content": null,
      "justify_items": null,
      "left": null,
      "margin": null,
      "max_height": null,
      "max_width": null,
      "min_height": null,
      "min_width": null,
      "object_fit": null,
      "object_position": null,
      "order": null,
      "overflow": null,
      "overflow_x": null,
      "overflow_y": null,
      "padding": null,
      "right": null,
      "top": null,
      "visibility": null,
      "width": null
     }
    },
    "52ef4fd4cc2d49b6803995ee56369816": {
     "model_module": "@jupyter-widgets/base",
     "model_module_version": "1.2.0",
     "model_name": "LayoutModel",
     "state": {
      "_model_module": "@jupyter-widgets/base",
      "_model_module_version": "1.2.0",
      "_model_name": "LayoutModel",
      "_view_count": null,
      "_view_module": "@jupyter-widgets/base",
      "_view_module_version": "1.2.0",
      "_view_name": "LayoutView",
      "align_content": null,
      "align_items": null,
      "align_self": null,
      "border": null,
      "bottom": null,
      "display": null,
      "flex": null,
      "flex_flow": null,
      "grid_area": null,
      "grid_auto_columns": null,
      "grid_auto_flow": null,
      "grid_auto_rows": null,
      "grid_column": null,
      "grid_gap": null,
      "grid_row": null,
      "grid_template_areas": null,
      "grid_template_columns": null,
      "grid_template_rows": null,
      "height": null,
      "justify_content": null,
      "justify_items": null,
      "left": null,
      "margin": null,
      "max_height": null,
      "max_width": null,
      "min_height": null,
      "min_width": null,
      "object_fit": null,
      "object_position": null,
      "order": null,
      "overflow": null,
      "overflow_x": null,
      "overflow_y": null,
      "padding": null,
      "right": null,
      "top": null,
      "visibility": null,
      "width": null
     }
    },
    "5a679669b6ae4a26b4b9408d049529af": {
     "model_module": "@jupyter-widgets/controls",
     "model_module_version": "1.5.0",
     "model_name": "DescriptionStyleModel",
     "state": {
      "_model_module": "@jupyter-widgets/controls",
      "_model_module_version": "1.5.0",
      "_model_name": "DescriptionStyleModel",
      "_view_count": null,
      "_view_module": "@jupyter-widgets/base",
      "_view_module_version": "1.2.0",
      "_view_name": "StyleView",
      "description_width": ""
     }
    },
    "5ca2615632184ccb908628b62f2e8bbe": {
     "model_module": "@jupyter-widgets/controls",
     "model_module_version": "1.5.0",
     "model_name": "DescriptionStyleModel",
     "state": {
      "_model_module": "@jupyter-widgets/controls",
      "_model_module_version": "1.5.0",
      "_model_name": "DescriptionStyleModel",
      "_view_count": null,
      "_view_module": "@jupyter-widgets/base",
      "_view_module_version": "1.2.0",
      "_view_name": "StyleView",
      "description_width": ""
     }
    },
    "6c178969648d455ea63722df7453ae3e": {
     "model_module": "@jupyter-widgets/base",
     "model_module_version": "1.2.0",
     "model_name": "LayoutModel",
     "state": {
      "_model_module": "@jupyter-widgets/base",
      "_model_module_version": "1.2.0",
      "_model_name": "LayoutModel",
      "_view_count": null,
      "_view_module": "@jupyter-widgets/base",
      "_view_module_version": "1.2.0",
      "_view_name": "LayoutView",
      "align_content": null,
      "align_items": null,
      "align_self": null,
      "border": null,
      "bottom": null,
      "display": null,
      "flex": null,
      "flex_flow": null,
      "grid_area": null,
      "grid_auto_columns": null,
      "grid_auto_flow": null,
      "grid_auto_rows": null,
      "grid_column": null,
      "grid_gap": null,
      "grid_row": null,
      "grid_template_areas": null,
      "grid_template_columns": null,
      "grid_template_rows": null,
      "height": null,
      "justify_content": null,
      "justify_items": null,
      "left": null,
      "margin": null,
      "max_height": null,
      "max_width": null,
      "min_height": null,
      "min_width": null,
      "object_fit": null,
      "object_position": null,
      "order": null,
      "overflow": null,
      "overflow_x": null,
      "overflow_y": null,
      "padding": null,
      "right": null,
      "top": null,
      "visibility": null,
      "width": null
     }
    },
    "6d14f15aa8bb4422af36f3603ec29dab": {
     "model_module": "@jupyter-widgets/controls",
     "model_module_version": "1.5.0",
     "model_name": "HTMLModel",
     "state": {
      "_dom_classes": [],
      "_model_module": "@jupyter-widgets/controls",
      "_model_module_version": "1.5.0",
      "_model_name": "HTMLModel",
      "_view_count": null,
      "_view_module": "@jupyter-widgets/controls",
      "_view_module_version": "1.5.0",
      "_view_name": "HTMLView",
      "description": "",
      "description_tooltip": null,
      "layout": "IPY_MODEL_e21d0fd8e3ca4b96b96d5eb0471efd38",
      "placeholder": "​",
      "style": "IPY_MODEL_5ca2615632184ccb908628b62f2e8bbe",
      "value": "Ranking by BM25...: 100%"
     }
    },
    "8ba060081bca4f62b0e9c71274d91b1a": {
     "model_module": "@jupyter-widgets/controls",
     "model_module_version": "1.5.0",
     "model_name": "DescriptionStyleModel",
     "state": {
      "_model_module": "@jupyter-widgets/controls",
      "_model_module_version": "1.5.0",
      "_model_name": "DescriptionStyleModel",
      "_view_count": null,
      "_view_module": "@jupyter-widgets/base",
      "_view_module_version": "1.2.0",
      "_view_name": "StyleView",
      "description_width": ""
     }
    },
    "8bac2d79ecb94883ba8b5c41bd827f3d": {
     "model_module": "@jupyter-widgets/base",
     "model_module_version": "1.2.0",
     "model_name": "LayoutModel",
     "state": {
      "_model_module": "@jupyter-widgets/base",
      "_model_module_version": "1.2.0",
      "_model_name": "LayoutModel",
      "_view_count": null,
      "_view_module": "@jupyter-widgets/base",
      "_view_module_version": "1.2.0",
      "_view_name": "LayoutView",
      "align_content": null,
      "align_items": null,
      "align_self": null,
      "border": null,
      "bottom": null,
      "display": null,
      "flex": null,
      "flex_flow": null,
      "grid_area": null,
      "grid_auto_columns": null,
      "grid_auto_flow": null,
      "grid_auto_rows": null,
      "grid_column": null,
      "grid_gap": null,
      "grid_row": null,
      "grid_template_areas": null,
      "grid_template_columns": null,
      "grid_template_rows": null,
      "height": null,
      "justify_content": null,
      "justify_items": null,
      "left": null,
      "margin": null,
      "max_height": null,
      "max_width": null,
      "min_height": null,
      "min_width": null,
      "object_fit": null,
      "object_position": null,
      "order": null,
      "overflow": null,
      "overflow_x": null,
      "overflow_y": null,
      "padding": null,
      "right": null,
      "top": null,
      "visibility": null,
      "width": null
     }
    },
    "8e94c1f8262c46a5a46f4eb629188557": {
     "model_module": "@jupyter-widgets/controls",
     "model_module_version": "1.5.0",
     "model_name": "HBoxModel",
     "state": {
      "_dom_classes": [],
      "_model_module": "@jupyter-widgets/controls",
      "_model_module_version": "1.5.0",
      "_model_name": "HBoxModel",
      "_view_count": null,
      "_view_module": "@jupyter-widgets/controls",
      "_view_module_version": "1.5.0",
      "_view_name": "HBoxView",
      "box_style": "",
      "children": [
       "IPY_MODEL_9708a7a3233a4e519e729d7541ca207c",
       "IPY_MODEL_edd419577fd648199e1145ae0c747a8f",
       "IPY_MODEL_99f30cdec3074192a6f57005fbda7ae2"
      ],
      "layout": "IPY_MODEL_6c178969648d455ea63722df7453ae3e"
     }
    },
    "96f13cf06a814cae878244f42aefecbb": {
     "model_module": "@jupyter-widgets/controls",
     "model_module_version": "1.5.0",
     "model_name": "HBoxModel",
     "state": {
      "_dom_classes": [],
      "_model_module": "@jupyter-widgets/controls",
      "_model_module_version": "1.5.0",
      "_model_name": "HBoxModel",
      "_view_count": null,
      "_view_module": "@jupyter-widgets/controls",
      "_view_module_version": "1.5.0",
      "_view_name": "HBoxView",
      "box_style": "",
      "children": [
       "IPY_MODEL_6d14f15aa8bb4422af36f3603ec29dab",
       "IPY_MODEL_455cc132a0de4967ac8064d8a68584b2",
       "IPY_MODEL_cd5c0ba2ab1a453993ceeed76fe71bf8"
      ],
      "layout": "IPY_MODEL_52ef4fd4cc2d49b6803995ee56369816"
     }
    },
    "9708a7a3233a4e519e729d7541ca207c": {
     "model_module": "@jupyter-widgets/controls",
     "model_module_version": "1.5.0",
     "model_name": "HTMLModel",
     "state": {
      "_dom_classes": [],
      "_model_module": "@jupyter-widgets/controls",
      "_model_module_version": "1.5.0",
      "_model_name": "HTMLModel",
      "_view_count": null,
      "_view_module": "@jupyter-widgets/controls",
      "_view_module_version": "1.5.0",
      "_view_name": "HTMLView",
      "description": "",
      "description_tooltip": null,
      "layout": "IPY_MODEL_4985c6a71c00480b803dfc60332c3506",
      "placeholder": "​",
      "style": "IPY_MODEL_8ba060081bca4f62b0e9c71274d91b1a",
      "value": "Ranking by BM25...: 100%"
     }
    },
    "99f30cdec3074192a6f57005fbda7ae2": {
     "model_module": "@jupyter-widgets/controls",
     "model_module_version": "1.5.0",
     "model_name": "HTMLModel",
     "state": {
      "_dom_classes": [],
      "_model_module": "@jupyter-widgets/controls",
      "_model_module_version": "1.5.0",
      "_model_name": "HTMLModel",
      "_view_count": null,
      "_view_module": "@jupyter-widgets/controls",
      "_view_module_version": "1.5.0",
      "_view_name": "HTMLView",
      "description": "",
      "description_tooltip": null,
      "layout": "IPY_MODEL_e8f39ef33c24475387672521c4e0d40c",
      "placeholder": "​",
      "style": "IPY_MODEL_0157d75798fe48e8b7e58538e8d99065",
      "value": " 1565/1565 [00:00&lt;00:00, 27387.90 docs/s]"
     }
    },
    "9fdc592ff60648ffbc9eb533a07c66a7": {
     "model_module": "@jupyter-widgets/base",
     "model_module_version": "1.2.0",
     "model_name": "LayoutModel",
     "state": {
      "_model_module": "@jupyter-widgets/base",
      "_model_module_version": "1.2.0",
      "_model_name": "LayoutModel",
      "_view_count": null,
      "_view_module": "@jupyter-widgets/base",
      "_view_module_version": "1.2.0",
      "_view_name": "LayoutView",
      "align_content": null,
      "align_items": null,
      "align_self": null,
      "border": null,
      "bottom": null,
      "display": null,
      "flex": null,
      "flex_flow": null,
      "grid_area": null,
      "grid_auto_columns": null,
      "grid_auto_flow": null,
      "grid_auto_rows": null,
      "grid_column": null,
      "grid_gap": null,
      "grid_row": null,
      "grid_template_areas": null,
      "grid_template_columns": null,
      "grid_template_rows": null,
      "height": null,
      "justify_content": null,
      "justify_items": null,
      "left": null,
      "margin": null,
      "max_height": null,
      "max_width": null,
      "min_height": null,
      "min_width": null,
      "object_fit": null,
      "object_position": null,
      "order": null,
      "overflow": null,
      "overflow_x": null,
      "overflow_y": null,
      "padding": null,
      "right": null,
      "top": null,
      "visibility": null,
      "width": null
     }
    },
    "b9c0b15ab5a54ef393d32f11f115ffcc": {
     "model_module": "@jupyter-widgets/base",
     "model_module_version": "1.2.0",
     "model_name": "LayoutModel",
     "state": {
      "_model_module": "@jupyter-widgets/base",
      "_model_module_version": "1.2.0",
      "_model_name": "LayoutModel",
      "_view_count": null,
      "_view_module": "@jupyter-widgets/base",
      "_view_module_version": "1.2.0",
      "_view_name": "LayoutView",
      "align_content": null,
      "align_items": null,
      "align_self": null,
      "border": null,
      "bottom": null,
      "display": null,
      "flex": null,
      "flex_flow": null,
      "grid_area": null,
      "grid_auto_columns": null,
      "grid_auto_flow": null,
      "grid_auto_rows": null,
      "grid_column": null,
      "grid_gap": null,
      "grid_row": null,
      "grid_template_areas": null,
      "grid_template_columns": null,
      "grid_template_rows": null,
      "height": null,
      "justify_content": null,
      "justify_items": null,
      "left": null,
      "margin": null,
      "max_height": null,
      "max_width": null,
      "min_height": null,
      "min_width": null,
      "object_fit": null,
      "object_position": null,
      "order": null,
      "overflow": null,
      "overflow_x": null,
      "overflow_y": null,
      "padding": null,
      "right": null,
      "top": null,
      "visibility": null,
      "width": null
     }
    },
    "c148d084abf84b338f42d12c302ba35b": {
     "model_module": "@jupyter-widgets/controls",
     "model_module_version": "1.5.0",
     "model_name": "ProgressStyleModel",
     "state": {
      "_model_module": "@jupyter-widgets/controls",
      "_model_module_version": "1.5.0",
      "_model_name": "ProgressStyleModel",
      "_view_count": null,
      "_view_module": "@jupyter-widgets/base",
      "_view_module_version": "1.2.0",
      "_view_name": "StyleView",
      "bar_color": null,
      "description_width": ""
     }
    },
    "cd5c0ba2ab1a453993ceeed76fe71bf8": {
     "model_module": "@jupyter-widgets/controls",
     "model_module_version": "1.5.0",
     "model_name": "HTMLModel",
     "state": {
      "_dom_classes": [],
      "_model_module": "@jupyter-widgets/controls",
      "_model_module_version": "1.5.0",
      "_model_name": "HTMLModel",
      "_view_count": null,
      "_view_module": "@jupyter-widgets/controls",
      "_view_module_version": "1.5.0",
      "_view_name": "HTMLView",
      "description": "",
      "description_tooltip": null,
      "layout": "IPY_MODEL_b9c0b15ab5a54ef393d32f11f115ffcc",
      "placeholder": "​",
      "style": "IPY_MODEL_5a679669b6ae4a26b4b9408d049529af",
      "value": " 1565/1565 [00:00&lt;00:00, 14446.98 docs/s]"
     }
    },
    "e21d0fd8e3ca4b96b96d5eb0471efd38": {
     "model_module": "@jupyter-widgets/base",
     "model_module_version": "1.2.0",
     "model_name": "LayoutModel",
     "state": {
      "_model_module": "@jupyter-widgets/base",
      "_model_module_version": "1.2.0",
      "_model_name": "LayoutModel",
      "_view_count": null,
      "_view_module": "@jupyter-widgets/base",
      "_view_module_version": "1.2.0",
      "_view_name": "LayoutView",
      "align_content": null,
      "align_items": null,
      "align_self": null,
      "border": null,
      "bottom": null,
      "display": null,
      "flex": null,
      "flex_flow": null,
      "grid_area": null,
      "grid_auto_columns": null,
      "grid_auto_flow": null,
      "grid_auto_rows": null,
      "grid_column": null,
      "grid_gap": null,
      "grid_row": null,
      "grid_template_areas": null,
      "grid_template_columns": null,
      "grid_template_rows": null,
      "height": null,
      "justify_content": null,
      "justify_items": null,
      "left": null,
      "margin": null,
      "max_height": null,
      "max_width": null,
      "min_height": null,
      "min_width": null,
      "object_fit": null,
      "object_position": null,
      "order": null,
      "overflow": null,
      "overflow_x": null,
      "overflow_y": null,
      "padding": null,
      "right": null,
      "top": null,
      "visibility": null,
      "width": null
     }
    },
    "e8f39ef33c24475387672521c4e0d40c": {
     "model_module": "@jupyter-widgets/base",
     "model_module_version": "1.2.0",
     "model_name": "LayoutModel",
     "state": {
      "_model_module": "@jupyter-widgets/base",
      "_model_module_version": "1.2.0",
      "_model_name": "LayoutModel",
      "_view_count": null,
      "_view_module": "@jupyter-widgets/base",
      "_view_module_version": "1.2.0",
      "_view_name": "LayoutView",
      "align_content": null,
      "align_items": null,
      "align_self": null,
      "border": null,
      "bottom": null,
      "display": null,
      "flex": null,
      "flex_flow": null,
      "grid_area": null,
      "grid_auto_columns": null,
      "grid_auto_flow": null,
      "grid_auto_rows": null,
      "grid_column": null,
      "grid_gap": null,
      "grid_row": null,
      "grid_template_areas": null,
      "grid_template_columns": null,
      "grid_template_rows": null,
      "height": null,
      "justify_content": null,
      "justify_items": null,
      "left": null,
      "margin": null,
      "max_height": null,
      "max_width": null,
      "min_height": null,
      "min_width": null,
      "object_fit": null,
      "object_position": null,
      "order": null,
      "overflow": null,
      "overflow_x": null,
      "overflow_y": null,
      "padding": null,
      "right": null,
      "top": null,
      "visibility": null,
      "width": null
     }
    },
    "edd419577fd648199e1145ae0c747a8f": {
     "model_module": "@jupyter-widgets/controls",
     "model_module_version": "1.5.0",
     "model_name": "FloatProgressModel",
     "state": {
      "_dom_classes": [],
      "_model_module": "@jupyter-widgets/controls",
      "_model_module_version": "1.5.0",
      "_model_name": "FloatProgressModel",
      "_view_count": null,
      "_view_module": "@jupyter-widgets/controls",
      "_view_module_version": "1.5.0",
      "_view_name": "ProgressView",
      "bar_style": "success",
      "description": "",
      "description_tooltip": null,
      "layout": "IPY_MODEL_9fdc592ff60648ffbc9eb533a07c66a7",
      "max": 1565,
      "min": 0,
      "orientation": "horizontal",
      "style": "IPY_MODEL_c148d084abf84b338f42d12c302ba35b",
      "value": 1565
     }
    }
   }
  }
 },
 "nbformat": 4,
 "nbformat_minor": 0
}
