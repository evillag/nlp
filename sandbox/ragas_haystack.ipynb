{
 "cells": [
  {
   "cell_type": "code",
   "execution_count": 8,
   "id": "initial_id",
   "metadata": {
    "ExecuteTime": {
     "end_time": "2024-11-06T23:15:29.153544Z",
     "start_time": "2024-11-06T23:15:20.986356Z"
    },
    "collapsed": true
   },
   "outputs": [
    {
     "name": "stdout",
     "output_type": "stream",
     "text": [
      "Found existing installation: haystack-ai 2.6.1Note: you may need to restart the kernel to use updated packages.\n",
      "\n",
      "Uninstalling haystack-ai-2.6.1:\n",
      "  Successfully uninstalled haystack-ai-2.6.1\n",
      "Found existing installation: ragas-haystack 1.0.1\n",
      "Uninstalling ragas-haystack-1.0.1:\n",
      "  Successfully uninstalled ragas-haystack-1.0.1\n"
     ]
    }
   ],
   "source": [
    "%pip uninstall -y haystack-ai  ragas-haystack"
   ]
  },
  {
   "cell_type": "code",
   "execution_count": null,
   "id": "bf5e610552041fa9",
   "metadata": {
    "ExecuteTime": {
     "end_time": "2024-11-06T23:03:08.034288Z",
     "start_time": "2024-11-06T23:03:00.409255Z"
    }
   },
   "outputs": [],
   "source": [
    "# A valid OpenAI API key must be provided as an environment variable \"OPENAI_API_KEY\" to run this example.\n",
    "\n",
    "from haystack import Pipeline\n",
    "\n",
    "from haystack_integrations.components.evaluators.ragas import RagasEvaluator, RagasMetric\n",
    "\n",
    "QUESTIONS = [\n",
    "    \"Which is the most popular global sport?\",\n",
    "    \"Who created the Python language?\",\n",
    "]\n",
    "CONTEXTS = [\n",
    "    [\n",
    "        \"The popularity of sports can be measured in various ways, including TV viewership, social media presence, number of participants, and economic impact. Football is undoubtedly the world's most popular sport with major events like the FIFA World Cup and sports personalities like Ronaldo and Messi, drawing a followership of more than 4 billion people.\"\n",
    "    ],\n",
    "    [\n",
    "        \"Python, created by Guido van Rossum in the late 1980s, is a high-level general-purpose programming language. Its design philosophy emphasizes code readability, and its language constructs aim to help programmers write clear, logical code for both small and large-scale software projects.\"\n",
    "    ],\n",
    "]\n",
    "RESPONSES = [\n",
    "    \"Football is the most popular sport with around 4 billion followers worldwide\",\n",
    "    \"Python language was created by Guido van Rossum.\",\n",
    "]\n",
    "\n",
    "GROUND_TRUTHS = [\n",
    "    \"Football is the most popular sport\",\n",
    "    \"Python language was created by Guido van Rossum.\",\n",
    "]\n",
    "\n",
    "pipeline = Pipeline()\n",
    "evaluator_context = RagasEvaluator(\n",
    "    metric=RagasMetric.CONTEXT_PRECISION,\n",
    ")\n",
    "evaluator_aspect = RagasEvaluator(\n",
    "    metric=RagasMetric.ASPECT_CRITIQUE,\n",
    "    metric_params={\"name\": \"custom\", \"definition\": \"Is this answer problematic for children?\", \"strictness\": 3},\n",
    ")\n",
    "pipeline.add_component(\"evaluator_context\", evaluator_context)\n",
    "pipeline.add_component(\"evaluator_aspect\", evaluator_aspect)\n",
    "\n",
    "# Each metric expects a specific set of parameters as input. Refer to the\n",
    "# Ragas class' documentation for more details.\n",
    "results = pipeline.run(\n",
    "    {\n",
    "        \"evaluator_context\": {\"questions\": QUESTIONS, \"contexts\": CONTEXTS, \"ground_truths\": GROUND_TRUTHS},\n",
    "        \"evaluator_aspect\": {\"questions\": QUESTIONS, \"contexts\": CONTEXTS, \"responses\": RESPONSES},\n",
    "    }\n",
    ")\n",
    "\n",
    "for component in [\"evaluator_context\", \"evaluator_aspect\"]:\n",
    "    for output in results[component][\"results\"]:\n",
    "        print(output)\n"
   ]
  }
 ],
 "metadata": {
  "kernelspec": {
   "display_name": "Python 3",
   "language": "python",
   "name": "python3"
  },
  "language_info": {
   "codemirror_mode": {
    "name": "ipython",
    "version": 2
   },
   "file_extension": ".py",
   "mimetype": "text/x-python",
   "name": "python",
   "nbconvert_exporter": "python",
   "pygments_lexer": "ipython2",
   "version": "2.7.6"
  }
 },
 "nbformat": 4,
 "nbformat_minor": 5
}
