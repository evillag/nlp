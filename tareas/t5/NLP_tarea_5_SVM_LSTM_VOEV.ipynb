{
  "cells": [
    {
      "cell_type": "markdown",
      "metadata": {
        "id": "view-in-github",
        "colab_type": "text"
      },
      "source": [
        "<a href=\"https://colab.research.google.com/github/evillag/nlp/blob/main/tareas/t5/NLP_tarea_5_SVM_LSTM_VOEV.ipynb\" target=\"_parent\"><img src=\"https://colab.research.google.com/assets/colab-badge.svg\" alt=\"Open In Colab\"/></a>"
      ]
    },
    {
      "cell_type": "markdown",
      "metadata": {
        "id": "GItxU96mTk16"
      },
      "source": [
        "# Tarea 5\n",
        "## Curso: Procesamiento de Lenguaje Natural (NLP)\n",
        "## Maestría en Computación\n",
        "## Instituto Tecnológico de Costa Rica (ITCR)\n",
        "\n",
        "Medio de entrega:  TecDigital.\n",
        "\n",
        "Entregables: Un archivo jupyter con los ejercicios resueltos.\n",
        "\n",
        "Modo de trabajo: individual o en grupos de máximo dos personas.\n",
        "\n",
        "**Elaborado por**:\n",
        "\n",
        "\n",
        "*   Victoria Orozco Arias. Carnet $2022438528$\n",
        "*   Esteban Villalobos Gómez. Carnet $9913628$\n",
        "\n",
        "**Fecha de entrega:** 27/09/2024\n",
        "\n",
        "\n",
        "---\n",
        "\n"
      ]
    },
    {
      "cell_type": "markdown",
      "source": [
        "# Descripción\n",
        "\n",
        "Twitter se ha convertido en un canal de comunicación importante en tiempos de emergencia. La ubicuidad de los teléfonos inteligentes permite a las personas anunciar una emergencia que están observando en tiempo real.\n",
        "\n",
        "Debido a esto, cada vez hay más agencias interesadas en monitorear Twitter de manera automática (es decir, organizaciones de ayuda humanitaria y agencias de noticias). Sin embargo, no siempre está claro si las palabras de una persona realmente están anunciando un desastre. Por ejemplo, si alguien escribe:\n",
        "\n",
        "> “Por el lado positivo, MIRA EL CIELO AL ATARDECER, ¡ESTABA EN LLAMAS!”\n",
        "\n",
        "El autor utiliza explícitamente la frase “EN LLAMAS”, pero lo dice metafóricamente. Esto resulta evidente para cualquier persona de inmediato, especialmente si viene acompañado de una imagen.\n",
        "\n",
        "Se deben construir y comparar los resultados obtenidos a partir de dos modelo de aprendizaje automático que predigan qué tweets tratan sobre desastres reales y cuáles no. Para esos modelos se usará Support Vector Machines (SVM) y Redes Recurrentes Long Short-Term Memory (LSTM). Se dispondrá de un conjunto de datos de 10 000 tweets que fueron clasificados manualmente.\n",
        "\n",
        "Cada registro del conjunto de datos tiene las siguientes columnas con la información descrita:\n",
        "\n",
        "- **id**: un identificador único para cada tweet\n",
        "- **text**: el texto del tweet\n",
        "- **location**: la ubicación desde la que se envió el tweet (puede estar en blanco)\n",
        "- **keyword**: una palabra clave particular del tweet (puede estar en blanco)\n",
        "- **target**: indica si un tweet trata sobre un desastre real (1) o no (0)\n"
      ],
      "metadata": {
        "id": "yZSidYBewVhV"
      }
    },
    {
      "metadata": {
        "ExecuteTime": {
          "end_time": "2024-08-09T04:00:08.835748Z",
          "start_time": "2024-08-09T04:00:06.983728Z"
        },
        "id": "qq5l73gnfl0E",
        "colab": {
          "base_uri": "https://localhost:8080/"
        },
        "outputId": "3c2af94c-921d-42c4-9c95-6000d7214fd8"
      },
      "cell_type": "code",
      "source": [
        "import torch\n",
        "import matplotlib.pyplot as plt\n",
        "import torch.nn.functional as F\n",
        "import pandas as pd\n",
        "import numpy as np\n",
        "import requests\n",
        "import nltk\n",
        "import re\n",
        "import time\n",
        "\n",
        "from nltk.corpus import stopwords\n",
        "from sklearn.feature_extraction.text import CountVectorizer\n",
        "from sklearn import metrics\n",
        "from sklearn.metrics import confusion_matrix, classification_report, accuracy_score, precision_score, recall_score, f1_score, roc_auc_score\n",
        "from sklearn.model_selection import train_test_split\n",
        "from sklearn.svm import SVC\n",
        "from urllib.parse import unquote\n",
        "\n",
        "\n",
        "# Use GPU si esta disponible\n",
        "if torch.cuda.is_available():\n",
        "  device = torch.device(\"cuda\")\n",
        "  print(\"Utilizando GPU\")\n",
        "else:\n",
        "  device = torch.device(\"cpu\")\n",
        "  print(\"Utilizando CPU\")"
      ],
      "outputs": [
        {
          "output_type": "stream",
          "name": "stdout",
          "text": [
            "Utilizando GPU\n"
          ]
        }
      ],
      "execution_count": 2
    },
    {
      "cell_type": "markdown",
      "source": [
        "# **A) Support Vector Machines (SVM)**\n",
        "\n",
        "Escribir un cuaderno de Jupyter que realice las siguientes acciones. Puede basarse en el cuaderno sobre SVM visto en clase:\n",
        "> Semana 05 Clasificación de texto – SVM\n",
        "\n",
        "Debe asegurarse de que el cuaderno acceda al archivo de datos usando un path que no dependa de su máquina."
      ],
      "metadata": {
        "id": "E3sRIByruA7I"
      }
    },
    {
      "cell_type": "markdown",
      "source": [
        "\n",
        "**Carga** (10 puntos)\n",
        "### 1. Cargar el archivo 'tweets.csv' que se distribuye con este enunciado.\n"
      ],
      "metadata": {
        "id": "VD4JHcrpyObS"
      }
    },
    {
      "cell_type": "code",
      "source": [
        "%rm tweets.csv\n",
        "\n",
        "url = \"https://raw.githubusercontent.com/evillag/nlp/refs/heads/main/tareas/t5/tweets.csv\"\n",
        "response = requests.get(url)\n",
        "\n",
        "with open(\"tweets.csv\", \"wb\") as f:\n",
        "  f.write(response.content)\n",
        "\n",
        "df = pd.read_csv('tweets.csv')\n",
        "print(df.info())\n",
        "\n",
        "# Limpieza de la columnas de texto\n",
        "\n",
        "features = ['keyword', 'location', 'text']\n",
        "for columna in features:\n",
        "  df[columna] = df[columna].fillna('N/A')\n",
        "  df[columna] = df[columna].apply(lambda x: unquote(x) if isinstance(x, str) else x)\n",
        "\n",
        "df.sample(20)"
      ],
      "metadata": {
        "id": "WS9kGjL7lCIm",
        "colab": {
          "base_uri": "https://localhost:8080/",
          "height": 935
        },
        "outputId": "e5dc9b9e-39a5-4147-e60d-cd34114d5361"
      },
      "execution_count": 3,
      "outputs": [
        {
          "output_type": "stream",
          "name": "stdout",
          "text": [
            "rm: cannot remove 'tweets.csv': No such file or directory\n",
            "<class 'pandas.core.frame.DataFrame'>\n",
            "RangeIndex: 7613 entries, 0 to 7612\n",
            "Data columns (total 5 columns):\n",
            " #   Column    Non-Null Count  Dtype \n",
            "---  ------    --------------  ----- \n",
            " 0   id        7613 non-null   int64 \n",
            " 1   keyword   7552 non-null   object\n",
            " 2   location  5080 non-null   object\n",
            " 3   text      7613 non-null   object\n",
            " 4   target    7613 non-null   int64 \n",
            "dtypes: int64(2), object(3)\n",
            "memory usage: 297.5+ KB\n",
            "None\n"
          ]
        },
        {
          "output_type": "execute_result",
          "data": {
            "text/plain": [
              "         id          keyword                location  \\\n",
              "2141   3073           deaths  Does it really matter!   \n",
              "519     751        avalanche              guaravitas   \n",
              "3730   5301             fear           Bremerton, WA   \n",
              "7528  10766         wreckage                  Mumbai   \n",
              "2146   3080           deaths               Edinburgh   \n",
              "585     845        bioterror                     N/A   \n",
              "2188   3136           debris         Berlin, Germany   \n",
              "2040   2929           danger        Atlanta Georgia    \n",
              "2601   3735        destroyed            Boise, Idaho   \n",
              "6479   9266             sunk          Cardiff, Wales   \n",
              "5301   7571         outbreak      Eagle River Alaska   \n",
              "5361   7650            panic                     N/A   \n",
              "6111   8724          sinking              Queensland   \n",
              "2223   3181           deluge                     N/A   \n",
              "6499   9292          survive                  toledo   \n",
              "6197   8844            smoke           Arlington, TX   \n",
              "7007  10045          twister                     N/A   \n",
              "1167   1683  bridge collapse               Wiltshire   \n",
              "967    1399         body bag                New York   \n",
              "702    1010          blazing                Suitland   \n",
              "\n",
              "                                                   text  target  \n",
              "2141                    Deaths 7 http://t.co/xRJA0XpL40       1  \n",
              "519                  we'll crash down like an avalanche       0  \n",
              "3730  The Walking Dead spin off Fear the Walking Dea...       1  \n",
              "7528  Wreckage 'Conclusively Confirmed' as From MH37...       1  \n",
              "2146  Had lunch with Stewart &amp; Julian only a cou...       0  \n",
              "585   House Energy &amp;amp; Commerce subcommittee t...       1  \n",
              "2188  Experts leave lab as Malaysia confirms debris ...       1  \n",
              "2040  @bluebirddenver #FETTILOOTCH IS #SLANGLUCCI OP...       1  \n",
              "2601  70 years after #ABomb destroyd #HiroshimaÛÓ#B...       1  \n",
              "6479  @BenAffleck  i respected you and liked you for...       0  \n",
              "5301  New York City Outbreak: What Is Legionnaire's ...       1  \n",
              "5361  The cool kids asked me if I wanted to hang out...       0  \n",
              "6111  Sinking the Slipper or Putting the Boot In htt...       0  \n",
              "2223  The #Bible sometimes backs up the truck and un...       0  \n",
              "6499  Hank Williams Jr. - 'Country Boys Can Survive'...       0  \n",
              "6197    I barely smoke with people i solo all my blunts       0  \n",
              "7007  TWISTER DANCE Game  Dance Console Instructions...       0  \n",
              "1167  What the fuck is going on at Trent Bridge?!  R...       1  \n",
              "967   AUTH LOUIS VUITTON BROWN SAUMUR 35 CROSS BODY ...       0  \n",
              "702   @OfficialTJonez Your 'Lost For Words' made me ...       0  "
            ],
            "text/html": [
              "\n",
              "  <div id=\"df-ac89bd32-b7e2-4bc5-ae14-36d6a1be37f4\" class=\"colab-df-container\">\n",
              "    <div>\n",
              "<style scoped>\n",
              "    .dataframe tbody tr th:only-of-type {\n",
              "        vertical-align: middle;\n",
              "    }\n",
              "\n",
              "    .dataframe tbody tr th {\n",
              "        vertical-align: top;\n",
              "    }\n",
              "\n",
              "    .dataframe thead th {\n",
              "        text-align: right;\n",
              "    }\n",
              "</style>\n",
              "<table border=\"1\" class=\"dataframe\">\n",
              "  <thead>\n",
              "    <tr style=\"text-align: right;\">\n",
              "      <th></th>\n",
              "      <th>id</th>\n",
              "      <th>keyword</th>\n",
              "      <th>location</th>\n",
              "      <th>text</th>\n",
              "      <th>target</th>\n",
              "    </tr>\n",
              "  </thead>\n",
              "  <tbody>\n",
              "    <tr>\n",
              "      <th>2141</th>\n",
              "      <td>3073</td>\n",
              "      <td>deaths</td>\n",
              "      <td>Does it really matter!</td>\n",
              "      <td>Deaths 7 http://t.co/xRJA0XpL40</td>\n",
              "      <td>1</td>\n",
              "    </tr>\n",
              "    <tr>\n",
              "      <th>519</th>\n",
              "      <td>751</td>\n",
              "      <td>avalanche</td>\n",
              "      <td>guaravitas</td>\n",
              "      <td>we'll crash down like an avalanche</td>\n",
              "      <td>0</td>\n",
              "    </tr>\n",
              "    <tr>\n",
              "      <th>3730</th>\n",
              "      <td>5301</td>\n",
              "      <td>fear</td>\n",
              "      <td>Bremerton, WA</td>\n",
              "      <td>The Walking Dead spin off Fear the Walking Dea...</td>\n",
              "      <td>1</td>\n",
              "    </tr>\n",
              "    <tr>\n",
              "      <th>7528</th>\n",
              "      <td>10766</td>\n",
              "      <td>wreckage</td>\n",
              "      <td>Mumbai</td>\n",
              "      <td>Wreckage 'Conclusively Confirmed' as From MH37...</td>\n",
              "      <td>1</td>\n",
              "    </tr>\n",
              "    <tr>\n",
              "      <th>2146</th>\n",
              "      <td>3080</td>\n",
              "      <td>deaths</td>\n",
              "      <td>Edinburgh</td>\n",
              "      <td>Had lunch with Stewart &amp;amp; Julian only a cou...</td>\n",
              "      <td>0</td>\n",
              "    </tr>\n",
              "    <tr>\n",
              "      <th>585</th>\n",
              "      <td>845</td>\n",
              "      <td>bioterror</td>\n",
              "      <td>N/A</td>\n",
              "      <td>House Energy &amp;amp;amp; Commerce subcommittee t...</td>\n",
              "      <td>1</td>\n",
              "    </tr>\n",
              "    <tr>\n",
              "      <th>2188</th>\n",
              "      <td>3136</td>\n",
              "      <td>debris</td>\n",
              "      <td>Berlin, Germany</td>\n",
              "      <td>Experts leave lab as Malaysia confirms debris ...</td>\n",
              "      <td>1</td>\n",
              "    </tr>\n",
              "    <tr>\n",
              "      <th>2040</th>\n",
              "      <td>2929</td>\n",
              "      <td>danger</td>\n",
              "      <td>Atlanta Georgia</td>\n",
              "      <td>@bluebirddenver #FETTILOOTCH IS #SLANGLUCCI OP...</td>\n",
              "      <td>1</td>\n",
              "    </tr>\n",
              "    <tr>\n",
              "      <th>2601</th>\n",
              "      <td>3735</td>\n",
              "      <td>destroyed</td>\n",
              "      <td>Boise, Idaho</td>\n",
              "      <td>70 years after #ABomb destroyd #HiroshimaÛÓ#B...</td>\n",
              "      <td>1</td>\n",
              "    </tr>\n",
              "    <tr>\n",
              "      <th>6479</th>\n",
              "      <td>9266</td>\n",
              "      <td>sunk</td>\n",
              "      <td>Cardiff, Wales</td>\n",
              "      <td>@BenAffleck  i respected you and liked you for...</td>\n",
              "      <td>0</td>\n",
              "    </tr>\n",
              "    <tr>\n",
              "      <th>5301</th>\n",
              "      <td>7571</td>\n",
              "      <td>outbreak</td>\n",
              "      <td>Eagle River Alaska</td>\n",
              "      <td>New York City Outbreak: What Is Legionnaire's ...</td>\n",
              "      <td>1</td>\n",
              "    </tr>\n",
              "    <tr>\n",
              "      <th>5361</th>\n",
              "      <td>7650</td>\n",
              "      <td>panic</td>\n",
              "      <td>N/A</td>\n",
              "      <td>The cool kids asked me if I wanted to hang out...</td>\n",
              "      <td>0</td>\n",
              "    </tr>\n",
              "    <tr>\n",
              "      <th>6111</th>\n",
              "      <td>8724</td>\n",
              "      <td>sinking</td>\n",
              "      <td>Queensland</td>\n",
              "      <td>Sinking the Slipper or Putting the Boot In htt...</td>\n",
              "      <td>0</td>\n",
              "    </tr>\n",
              "    <tr>\n",
              "      <th>2223</th>\n",
              "      <td>3181</td>\n",
              "      <td>deluge</td>\n",
              "      <td>N/A</td>\n",
              "      <td>The #Bible sometimes backs up the truck and un...</td>\n",
              "      <td>0</td>\n",
              "    </tr>\n",
              "    <tr>\n",
              "      <th>6499</th>\n",
              "      <td>9292</td>\n",
              "      <td>survive</td>\n",
              "      <td>toledo</td>\n",
              "      <td>Hank Williams Jr. - 'Country Boys Can Survive'...</td>\n",
              "      <td>0</td>\n",
              "    </tr>\n",
              "    <tr>\n",
              "      <th>6197</th>\n",
              "      <td>8844</td>\n",
              "      <td>smoke</td>\n",
              "      <td>Arlington, TX</td>\n",
              "      <td>I barely smoke with people i solo all my blunts</td>\n",
              "      <td>0</td>\n",
              "    </tr>\n",
              "    <tr>\n",
              "      <th>7007</th>\n",
              "      <td>10045</td>\n",
              "      <td>twister</td>\n",
              "      <td>N/A</td>\n",
              "      <td>TWISTER DANCE Game  Dance Console Instructions...</td>\n",
              "      <td>0</td>\n",
              "    </tr>\n",
              "    <tr>\n",
              "      <th>1167</th>\n",
              "      <td>1683</td>\n",
              "      <td>bridge collapse</td>\n",
              "      <td>Wiltshire</td>\n",
              "      <td>What the fuck is going on at Trent Bridge?!  R...</td>\n",
              "      <td>1</td>\n",
              "    </tr>\n",
              "    <tr>\n",
              "      <th>967</th>\n",
              "      <td>1399</td>\n",
              "      <td>body bag</td>\n",
              "      <td>New York</td>\n",
              "      <td>AUTH LOUIS VUITTON BROWN SAUMUR 35 CROSS BODY ...</td>\n",
              "      <td>0</td>\n",
              "    </tr>\n",
              "    <tr>\n",
              "      <th>702</th>\n",
              "      <td>1010</td>\n",
              "      <td>blazing</td>\n",
              "      <td>Suitland</td>\n",
              "      <td>@OfficialTJonez Your 'Lost For Words' made me ...</td>\n",
              "      <td>0</td>\n",
              "    </tr>\n",
              "  </tbody>\n",
              "</table>\n",
              "</div>\n",
              "    <div class=\"colab-df-buttons\">\n",
              "\n",
              "  <div class=\"colab-df-container\">\n",
              "    <button class=\"colab-df-convert\" onclick=\"convertToInteractive('df-ac89bd32-b7e2-4bc5-ae14-36d6a1be37f4')\"\n",
              "            title=\"Convert this dataframe to an interactive table.\"\n",
              "            style=\"display:none;\">\n",
              "\n",
              "  <svg xmlns=\"http://www.w3.org/2000/svg\" height=\"24px\" viewBox=\"0 -960 960 960\">\n",
              "    <path d=\"M120-120v-720h720v720H120Zm60-500h600v-160H180v160Zm220 220h160v-160H400v160Zm0 220h160v-160H400v160ZM180-400h160v-160H180v160Zm440 0h160v-160H620v160ZM180-180h160v-160H180v160Zm440 0h160v-160H620v160Z\"/>\n",
              "  </svg>\n",
              "    </button>\n",
              "\n",
              "  <style>\n",
              "    .colab-df-container {\n",
              "      display:flex;\n",
              "      gap: 12px;\n",
              "    }\n",
              "\n",
              "    .colab-df-convert {\n",
              "      background-color: #E8F0FE;\n",
              "      border: none;\n",
              "      border-radius: 50%;\n",
              "      cursor: pointer;\n",
              "      display: none;\n",
              "      fill: #1967D2;\n",
              "      height: 32px;\n",
              "      padding: 0 0 0 0;\n",
              "      width: 32px;\n",
              "    }\n",
              "\n",
              "    .colab-df-convert:hover {\n",
              "      background-color: #E2EBFA;\n",
              "      box-shadow: 0px 1px 2px rgba(60, 64, 67, 0.3), 0px 1px 3px 1px rgba(60, 64, 67, 0.15);\n",
              "      fill: #174EA6;\n",
              "    }\n",
              "\n",
              "    .colab-df-buttons div {\n",
              "      margin-bottom: 4px;\n",
              "    }\n",
              "\n",
              "    [theme=dark] .colab-df-convert {\n",
              "      background-color: #3B4455;\n",
              "      fill: #D2E3FC;\n",
              "    }\n",
              "\n",
              "    [theme=dark] .colab-df-convert:hover {\n",
              "      background-color: #434B5C;\n",
              "      box-shadow: 0px 1px 3px 1px rgba(0, 0, 0, 0.15);\n",
              "      filter: drop-shadow(0px 1px 2px rgba(0, 0, 0, 0.3));\n",
              "      fill: #FFFFFF;\n",
              "    }\n",
              "  </style>\n",
              "\n",
              "    <script>\n",
              "      const buttonEl =\n",
              "        document.querySelector('#df-ac89bd32-b7e2-4bc5-ae14-36d6a1be37f4 button.colab-df-convert');\n",
              "      buttonEl.style.display =\n",
              "        google.colab.kernel.accessAllowed ? 'block' : 'none';\n",
              "\n",
              "      async function convertToInteractive(key) {\n",
              "        const element = document.querySelector('#df-ac89bd32-b7e2-4bc5-ae14-36d6a1be37f4');\n",
              "        const dataTable =\n",
              "          await google.colab.kernel.invokeFunction('convertToInteractive',\n",
              "                                                    [key], {});\n",
              "        if (!dataTable) return;\n",
              "\n",
              "        const docLinkHtml = 'Like what you see? Visit the ' +\n",
              "          '<a target=\"_blank\" href=https://colab.research.google.com/notebooks/data_table.ipynb>data table notebook</a>'\n",
              "          + ' to learn more about interactive tables.';\n",
              "        element.innerHTML = '';\n",
              "        dataTable['output_type'] = 'display_data';\n",
              "        await google.colab.output.renderOutput(dataTable, element);\n",
              "        const docLink = document.createElement('div');\n",
              "        docLink.innerHTML = docLinkHtml;\n",
              "        element.appendChild(docLink);\n",
              "      }\n",
              "    </script>\n",
              "  </div>\n",
              "\n",
              "\n",
              "<div id=\"df-7d743a66-832c-41ef-98f7-941977743989\">\n",
              "  <button class=\"colab-df-quickchart\" onclick=\"quickchart('df-7d743a66-832c-41ef-98f7-941977743989')\"\n",
              "            title=\"Suggest charts\"\n",
              "            style=\"display:none;\">\n",
              "\n",
              "<svg xmlns=\"http://www.w3.org/2000/svg\" height=\"24px\"viewBox=\"0 0 24 24\"\n",
              "     width=\"24px\">\n",
              "    <g>\n",
              "        <path d=\"M19 3H5c-1.1 0-2 .9-2 2v14c0 1.1.9 2 2 2h14c1.1 0 2-.9 2-2V5c0-1.1-.9-2-2-2zM9 17H7v-7h2v7zm4 0h-2V7h2v10zm4 0h-2v-4h2v4z\"/>\n",
              "    </g>\n",
              "</svg>\n",
              "  </button>\n",
              "\n",
              "<style>\n",
              "  .colab-df-quickchart {\n",
              "      --bg-color: #E8F0FE;\n",
              "      --fill-color: #1967D2;\n",
              "      --hover-bg-color: #E2EBFA;\n",
              "      --hover-fill-color: #174EA6;\n",
              "      --disabled-fill-color: #AAA;\n",
              "      --disabled-bg-color: #DDD;\n",
              "  }\n",
              "\n",
              "  [theme=dark] .colab-df-quickchart {\n",
              "      --bg-color: #3B4455;\n",
              "      --fill-color: #D2E3FC;\n",
              "      --hover-bg-color: #434B5C;\n",
              "      --hover-fill-color: #FFFFFF;\n",
              "      --disabled-bg-color: #3B4455;\n",
              "      --disabled-fill-color: #666;\n",
              "  }\n",
              "\n",
              "  .colab-df-quickchart {\n",
              "    background-color: var(--bg-color);\n",
              "    border: none;\n",
              "    border-radius: 50%;\n",
              "    cursor: pointer;\n",
              "    display: none;\n",
              "    fill: var(--fill-color);\n",
              "    height: 32px;\n",
              "    padding: 0;\n",
              "    width: 32px;\n",
              "  }\n",
              "\n",
              "  .colab-df-quickchart:hover {\n",
              "    background-color: var(--hover-bg-color);\n",
              "    box-shadow: 0 1px 2px rgba(60, 64, 67, 0.3), 0 1px 3px 1px rgba(60, 64, 67, 0.15);\n",
              "    fill: var(--button-hover-fill-color);\n",
              "  }\n",
              "\n",
              "  .colab-df-quickchart-complete:disabled,\n",
              "  .colab-df-quickchart-complete:disabled:hover {\n",
              "    background-color: var(--disabled-bg-color);\n",
              "    fill: var(--disabled-fill-color);\n",
              "    box-shadow: none;\n",
              "  }\n",
              "\n",
              "  .colab-df-spinner {\n",
              "    border: 2px solid var(--fill-color);\n",
              "    border-color: transparent;\n",
              "    border-bottom-color: var(--fill-color);\n",
              "    animation:\n",
              "      spin 1s steps(1) infinite;\n",
              "  }\n",
              "\n",
              "  @keyframes spin {\n",
              "    0% {\n",
              "      border-color: transparent;\n",
              "      border-bottom-color: var(--fill-color);\n",
              "      border-left-color: var(--fill-color);\n",
              "    }\n",
              "    20% {\n",
              "      border-color: transparent;\n",
              "      border-left-color: var(--fill-color);\n",
              "      border-top-color: var(--fill-color);\n",
              "    }\n",
              "    30% {\n",
              "      border-color: transparent;\n",
              "      border-left-color: var(--fill-color);\n",
              "      border-top-color: var(--fill-color);\n",
              "      border-right-color: var(--fill-color);\n",
              "    }\n",
              "    40% {\n",
              "      border-color: transparent;\n",
              "      border-right-color: var(--fill-color);\n",
              "      border-top-color: var(--fill-color);\n",
              "    }\n",
              "    60% {\n",
              "      border-color: transparent;\n",
              "      border-right-color: var(--fill-color);\n",
              "    }\n",
              "    80% {\n",
              "      border-color: transparent;\n",
              "      border-right-color: var(--fill-color);\n",
              "      border-bottom-color: var(--fill-color);\n",
              "    }\n",
              "    90% {\n",
              "      border-color: transparent;\n",
              "      border-bottom-color: var(--fill-color);\n",
              "    }\n",
              "  }\n",
              "</style>\n",
              "\n",
              "  <script>\n",
              "    async function quickchart(key) {\n",
              "      const quickchartButtonEl =\n",
              "        document.querySelector('#' + key + ' button');\n",
              "      quickchartButtonEl.disabled = true;  // To prevent multiple clicks.\n",
              "      quickchartButtonEl.classList.add('colab-df-spinner');\n",
              "      try {\n",
              "        const charts = await google.colab.kernel.invokeFunction(\n",
              "            'suggestCharts', [key], {});\n",
              "      } catch (error) {\n",
              "        console.error('Error during call to suggestCharts:', error);\n",
              "      }\n",
              "      quickchartButtonEl.classList.remove('colab-df-spinner');\n",
              "      quickchartButtonEl.classList.add('colab-df-quickchart-complete');\n",
              "    }\n",
              "    (() => {\n",
              "      let quickchartButtonEl =\n",
              "        document.querySelector('#df-7d743a66-832c-41ef-98f7-941977743989 button');\n",
              "      quickchartButtonEl.style.display =\n",
              "        google.colab.kernel.accessAllowed ? 'block' : 'none';\n",
              "    })();\n",
              "  </script>\n",
              "</div>\n",
              "\n",
              "    </div>\n",
              "  </div>\n"
            ],
            "application/vnd.google.colaboratory.intrinsic+json": {
              "type": "dataframe",
              "summary": "{\n  \"name\": \"df\",\n  \"rows\": 20,\n  \"fields\": [\n    {\n      \"column\": \"id\",\n      \"properties\": {\n        \"dtype\": \"number\",\n        \"std\": 3499,\n        \"min\": 751,\n        \"max\": 10766,\n        \"num_unique_values\": 20,\n        \"samples\": [\n          3073,\n          1683,\n          8844\n        ],\n        \"semantic_type\": \"\",\n        \"description\": \"\"\n      }\n    },\n    {\n      \"column\": \"keyword\",\n      \"properties\": {\n        \"dtype\": \"string\",\n        \"num_unique_values\": 19,\n        \"samples\": [\n          \"deaths\",\n          \"debris\",\n          \"sinking\"\n        ],\n        \"semantic_type\": \"\",\n        \"description\": \"\"\n      }\n    },\n    {\n      \"column\": \"location\",\n      \"properties\": {\n        \"dtype\": \"string\",\n        \"num_unique_values\": 17,\n        \"samples\": [\n          \"Does it really matter!\",\n          \"guaravitas\",\n          \"N/A\"\n        ],\n        \"semantic_type\": \"\",\n        \"description\": \"\"\n      }\n    },\n    {\n      \"column\": \"text\",\n      \"properties\": {\n        \"dtype\": \"string\",\n        \"num_unique_values\": 20,\n        \"samples\": [\n          \"Deaths 7 http://t.co/xRJA0XpL40\",\n          \"What the fuck is going on at Trent Bridge?!  Reminds me of England's collapse out in the Caribbean back in the 90s...\",\n          \"I barely smoke with people i solo all my blunts\"\n        ],\n        \"semantic_type\": \"\",\n        \"description\": \"\"\n      }\n    },\n    {\n      \"column\": \"target\",\n      \"properties\": {\n        \"dtype\": \"number\",\n        \"std\": 0,\n        \"min\": 0,\n        \"max\": 1,\n        \"num_unique_values\": 2,\n        \"samples\": [\n          0,\n          1\n        ],\n        \"semantic_type\": \"\",\n        \"description\": \"\"\n      }\n    }\n  ]\n}"
            }
          },
          "metadata": {},
          "execution_count": 3
        }
      ]
    },
    {
      "cell_type": "markdown",
      "source": [
        "### 2. Contar la frecuencia de las dos clases y calcular el porcentaje de cada clase."
      ],
      "metadata": {
        "id": "UwwegY5TsgXi"
      }
    },
    {
      "cell_type": "code",
      "source": [
        "# Conteo de la frecuencia de las clases en la columna target\n",
        "\n",
        "class_counts = df['target'].value_counts()\n",
        "print(\"Frecuencia de las clases:\")\n",
        "print(class_counts)\n",
        "\n",
        "# Porcentaje de cada clase\n",
        "\n",
        "class_percentages = (class_counts / len(df)) * 100\n",
        "print(\"\\nPorcentaje de las clases:\")\n",
        "print(class_percentages)\n"
      ],
      "metadata": {
        "colab": {
          "base_uri": "https://localhost:8080/"
        },
        "id": "TZVpdtVfomXQ",
        "outputId": "28274177-18c6-4321-945b-6fce139ebba7"
      },
      "execution_count": 4,
      "outputs": [
        {
          "output_type": "stream",
          "name": "stdout",
          "text": [
            "Frecuencia de las clases:\n",
            "target\n",
            "0    4342\n",
            "1    3271\n",
            "Name: count, dtype: int64\n",
            "\n",
            "Porcentaje de las clases:\n",
            "target\n",
            "0    57.034021\n",
            "1    42.965979\n",
            "Name: count, dtype: float64\n"
          ]
        }
      ]
    },
    {
      "cell_type": "code",
      "source": [
        "# Grafico de las clases\n",
        "\n",
        "ax = df['target'].value_counts().plot(kind='bar')\n",
        "plt.title('Distribución de las clases')\n",
        "plt.xlabel('Clase: 1=Desastre real, 0=No es desastre')\n",
        "plt.ylabel('Cantidad')\n",
        "\n",
        "# Obtener los valores de las barras\n",
        "totals = []\n",
        "for i in ax.patches:\n",
        "    totals.append(i.get_height())\n",
        "\n",
        "# Configurar el formato del texto del porcentaje\n",
        "total = sum(totals)\n",
        "for i in ax.patches:\n",
        "    # Obtener la altura de la barra\n",
        "    height = i.get_height()\n",
        "    # Calcular el porcentaje\n",
        "    percentage = '{:.1f}%'.format(100 * height / total)\n",
        "    # Agregar el texto al centro de la barra\n",
        "    ax.text(i.get_x() + i.get_width() / 2., height / 2., percentage, ha='center', va='center', rotation=0)\n",
        "\n",
        "plt.show()"
      ],
      "metadata": {
        "colab": {
          "base_uri": "https://localhost:8080/",
          "height": 467
        },
        "id": "Sg8Ip6zTrliq",
        "outputId": "d748b1a3-117b-40dd-f990-29211af19f0c"
      },
      "execution_count": 5,
      "outputs": [
        {
          "output_type": "display_data",
          "data": {
            "text/plain": [
              "<Figure size 640x480 with 1 Axes>"
            ],
            "image/png": "[encoded data removed]"
          },
          "metadata": {}
        }
      ]
    },
    {
      "cell_type": "markdown",
      "source": [
        "### 3. Obtener la lista de stopwords para inglés.\n"
      ],
      "metadata": {
        "id": "0ayOfxQMskCl"
      }
    },
    {
      "cell_type": "code",
      "source": [
        "nltk.download('stopwords')\n",
        "swords = stopwords.words(\"english\")"
      ],
      "metadata": {
        "colab": {
          "base_uri": "https://localhost:8080/"
        },
        "id": "Ih50TUIVso9S",
        "outputId": "6d12bd71-e81d-4bdd-dfe2-9184f088f94c"
      },
      "execution_count": 6,
      "outputs": [
        {
          "output_type": "stream",
          "name": "stderr",
          "text": [
            "[nltk_data] Downloading package stopwords to /root/nltk_data...\n",
            "[nltk_data]   Unzipping corpora/stopwords.zip.\n"
          ]
        }
      ]
    },
    {
      "cell_type": "markdown",
      "source": [
        "### 4. Calcular y mostrar la distribución de palabras para cada una de las clases. Antes de contar debe eliminar las palabras no útiles (stopwords)"
      ],
      "metadata": {
        "id": "bxu21oXKsmFt"
      }
    },
    {
      "cell_type": "code",
      "source": [
        "for columna in features:\n",
        "  # Elimina valores Nulos\n",
        "  df[columna] = df[columna].apply(lambda x: x.replace('N/A', ''))\n",
        "\n",
        "  # Convierte palabras a minúscula\n",
        "  df[columna] = df[columna].apply(lambda x: x.lower())\n",
        "\n",
        "  # Elimina links\n",
        "  df[columna] = df[columna].apply(lambda x: re.sub(r'http\\S+', '', x))\n",
        "\n",
        "  # Limpia todo excepto caracteres alfanuméricos\n",
        "  df[columna] = df[columna].apply(lambda x: re.sub(\"[^a-zA-Z0-9]\",\" \",x))\n",
        "\n",
        "  # Elimina stopwords\n",
        "  df[columna] = df[columna].apply(lambda x: ' '.join([word for word in x.split() if word not in swords]))\n",
        "df.sample(20)"
      ],
      "metadata": {
        "colab": {
          "base_uri": "https://localhost:8080/",
          "height": 676
        },
        "id": "Es4VuD9_spte",
        "outputId": "7833d786-be14-44c8-92b2-4b89744fb897"
      },
      "execution_count": 7,
      "outputs": [
        {
          "output_type": "execute_result",
          "data": {
            "text/plain": [
              "         id         keyword          location  \\\n",
              "3783   5373      fire truck       plain texas   \n",
              "3955   5622        flooding                     \n",
              "1234   1775  buildings fire     manchester nh   \n",
              "2606   3741       destroyed                     \n",
              "5196   7418     obliterated          wynne ar   \n",
              "1751   2519       collision          maryland   \n",
              "2412   3471        derailed        chicago il   \n",
              "3097   4445     electrocute                     \n",
              "308     451      armageddon                     \n",
              "7153  10250        war zone      nashville tn   \n",
              "6921   9925         trouble            boston   \n",
              "7458  10673          wounds  alex mika leo 18   \n",
              "1643   2373       collapsed                     \n",
              "3664   5218        fatality                ny   \n",
              "6656   9539       terrorist          mad hell   \n",
              "3042   4365      earthquake    california usa   \n",
              "3388   4850      evacuation   tri cities wash   \n",
              "6922   9930         trouble               nyc   \n",
              "6296   8996       stretcher      taylor swift   \n",
              "2658   3819        detonate          colorado   \n",
              "\n",
              "                                                   text  target  \n",
              "3783  brooktekle look like murder scene 1 cops fire ...       1  \n",
              "3955  flooding kills 166 displace one million pakist...       1  \n",
              "1234  fire destroys two buildings 2nd street manchester       1  \n",
              "2606  hot teen nsfw porn milf oiled ass hole destroy...       0  \n",
              "5196  rockbottomradfm kid remember hearing rules 30 ...       0  \n",
              "1751  baltimore city 95 north mp 54 8 fort mchenry t...       1  \n",
              "2412       new illustration l times illustration subway       0  \n",
              "3097  links watch show better work might electrocute...       0  \n",
              "308                     best movie ever seen armageddon       0  \n",
              "7153  sitting still cityofmemphis traffic like sitti...       0  \n",
              "6921  comcastcares hey happing trouble shooting step...       0  \n",
              "7458        ego resolution im glad gay heal 1000 wounds       0  \n",
              "1643           indiepopmom cant breathe lungs collapsed       0  \n",
              "3664  savages leaked thomas brady gangstermail accou...       0  \n",
              "6656  rt abbswinston zionist terrorist kidnapped 15 ...       1  \n",
              "3042  usgs 1 2 23km twentynine palms california time...       1  \n",
              "3388             evacuation order lifted town roosevelt       1  \n",
              "6922  annajhm jcomanse paul staubs rslm72254 blanktg...       0  \n",
              "6296  stretcher invalid grazed rexyy towel see progr...       0  \n",
              "2658  bldrcosheriff says 2nd grenade found younger w...       1  "
            ],
            "text/html": [
              "\n",
              "  <div id=\"df-e2129099-6672-4fab-9c36-a9386e8571b1\" class=\"colab-df-container\">\n",
              "    <div>\n",
              "<style scoped>\n",
              "    .dataframe tbody tr th:only-of-type {\n",
              "        vertical-align: middle;\n",
              "    }\n",
              "\n",
              "    .dataframe tbody tr th {\n",
              "        vertical-align: top;\n",
              "    }\n",
              "\n",
              "    .dataframe thead th {\n",
              "        text-align: right;\n",
              "    }\n",
              "</style>\n",
              "<table border=\"1\" class=\"dataframe\">\n",
              "  <thead>\n",
              "    <tr style=\"text-align: right;\">\n",
              "      <th></th>\n",
              "      <th>id</th>\n",
              "      <th>keyword</th>\n",
              "      <th>location</th>\n",
              "      <th>text</th>\n",
              "      <th>target</th>\n",
              "    </tr>\n",
              "  </thead>\n",
              "  <tbody>\n",
              "    <tr>\n",
              "      <th>3783</th>\n",
              "      <td>5373</td>\n",
              "      <td>fire truck</td>\n",
              "      <td>plain texas</td>\n",
              "      <td>brooktekle look like murder scene 1 cops fire ...</td>\n",
              "      <td>1</td>\n",
              "    </tr>\n",
              "    <tr>\n",
              "      <th>3955</th>\n",
              "      <td>5622</td>\n",
              "      <td>flooding</td>\n",
              "      <td></td>\n",
              "      <td>flooding kills 166 displace one million pakist...</td>\n",
              "      <td>1</td>\n",
              "    </tr>\n",
              "    <tr>\n",
              "      <th>1234</th>\n",
              "      <td>1775</td>\n",
              "      <td>buildings fire</td>\n",
              "      <td>manchester nh</td>\n",
              "      <td>fire destroys two buildings 2nd street manchester</td>\n",
              "      <td>1</td>\n",
              "    </tr>\n",
              "    <tr>\n",
              "      <th>2606</th>\n",
              "      <td>3741</td>\n",
              "      <td>destroyed</td>\n",
              "      <td></td>\n",
              "      <td>hot teen nsfw porn milf oiled ass hole destroy...</td>\n",
              "      <td>0</td>\n",
              "    </tr>\n",
              "    <tr>\n",
              "      <th>5196</th>\n",
              "      <td>7418</td>\n",
              "      <td>obliterated</td>\n",
              "      <td>wynne ar</td>\n",
              "      <td>rockbottomradfm kid remember hearing rules 30 ...</td>\n",
              "      <td>0</td>\n",
              "    </tr>\n",
              "    <tr>\n",
              "      <th>1751</th>\n",
              "      <td>2519</td>\n",
              "      <td>collision</td>\n",
              "      <td>maryland</td>\n",
              "      <td>baltimore city 95 north mp 54 8 fort mchenry t...</td>\n",
              "      <td>1</td>\n",
              "    </tr>\n",
              "    <tr>\n",
              "      <th>2412</th>\n",
              "      <td>3471</td>\n",
              "      <td>derailed</td>\n",
              "      <td>chicago il</td>\n",
              "      <td>new illustration l times illustration subway</td>\n",
              "      <td>0</td>\n",
              "    </tr>\n",
              "    <tr>\n",
              "      <th>3097</th>\n",
              "      <td>4445</td>\n",
              "      <td>electrocute</td>\n",
              "      <td></td>\n",
              "      <td>links watch show better work might electrocute...</td>\n",
              "      <td>0</td>\n",
              "    </tr>\n",
              "    <tr>\n",
              "      <th>308</th>\n",
              "      <td>451</td>\n",
              "      <td>armageddon</td>\n",
              "      <td></td>\n",
              "      <td>best movie ever seen armageddon</td>\n",
              "      <td>0</td>\n",
              "    </tr>\n",
              "    <tr>\n",
              "      <th>7153</th>\n",
              "      <td>10250</td>\n",
              "      <td>war zone</td>\n",
              "      <td>nashville tn</td>\n",
              "      <td>sitting still cityofmemphis traffic like sitti...</td>\n",
              "      <td>0</td>\n",
              "    </tr>\n",
              "    <tr>\n",
              "      <th>6921</th>\n",
              "      <td>9925</td>\n",
              "      <td>trouble</td>\n",
              "      <td>boston</td>\n",
              "      <td>comcastcares hey happing trouble shooting step...</td>\n",
              "      <td>0</td>\n",
              "    </tr>\n",
              "    <tr>\n",
              "      <th>7458</th>\n",
              "      <td>10673</td>\n",
              "      <td>wounds</td>\n",
              "      <td>alex mika leo 18</td>\n",
              "      <td>ego resolution im glad gay heal 1000 wounds</td>\n",
              "      <td>0</td>\n",
              "    </tr>\n",
              "    <tr>\n",
              "      <th>1643</th>\n",
              "      <td>2373</td>\n",
              "      <td>collapsed</td>\n",
              "      <td></td>\n",
              "      <td>indiepopmom cant breathe lungs collapsed</td>\n",
              "      <td>0</td>\n",
              "    </tr>\n",
              "    <tr>\n",
              "      <th>3664</th>\n",
              "      <td>5218</td>\n",
              "      <td>fatality</td>\n",
              "      <td>ny</td>\n",
              "      <td>savages leaked thomas brady gangstermail accou...</td>\n",
              "      <td>0</td>\n",
              "    </tr>\n",
              "    <tr>\n",
              "      <th>6656</th>\n",
              "      <td>9539</td>\n",
              "      <td>terrorist</td>\n",
              "      <td>mad hell</td>\n",
              "      <td>rt abbswinston zionist terrorist kidnapped 15 ...</td>\n",
              "      <td>1</td>\n",
              "    </tr>\n",
              "    <tr>\n",
              "      <th>3042</th>\n",
              "      <td>4365</td>\n",
              "      <td>earthquake</td>\n",
              "      <td>california usa</td>\n",
              "      <td>usgs 1 2 23km twentynine palms california time...</td>\n",
              "      <td>1</td>\n",
              "    </tr>\n",
              "    <tr>\n",
              "      <th>3388</th>\n",
              "      <td>4850</td>\n",
              "      <td>evacuation</td>\n",
              "      <td>tri cities wash</td>\n",
              "      <td>evacuation order lifted town roosevelt</td>\n",
              "      <td>1</td>\n",
              "    </tr>\n",
              "    <tr>\n",
              "      <th>6922</th>\n",
              "      <td>9930</td>\n",
              "      <td>trouble</td>\n",
              "      <td>nyc</td>\n",
              "      <td>annajhm jcomanse paul staubs rslm72254 blanktg...</td>\n",
              "      <td>0</td>\n",
              "    </tr>\n",
              "    <tr>\n",
              "      <th>6296</th>\n",
              "      <td>8996</td>\n",
              "      <td>stretcher</td>\n",
              "      <td>taylor swift</td>\n",
              "      <td>stretcher invalid grazed rexyy towel see progr...</td>\n",
              "      <td>0</td>\n",
              "    </tr>\n",
              "    <tr>\n",
              "      <th>2658</th>\n",
              "      <td>3819</td>\n",
              "      <td>detonate</td>\n",
              "      <td>colorado</td>\n",
              "      <td>bldrcosheriff says 2nd grenade found younger w...</td>\n",
              "      <td>1</td>\n",
              "    </tr>\n",
              "  </tbody>\n",
              "</table>\n",
              "</div>\n",
              "    <div class=\"colab-df-buttons\">\n",
              "\n",
              "  <div class=\"colab-df-container\">\n",
              "    <button class=\"colab-df-convert\" onclick=\"convertToInteractive('df-e2129099-6672-4fab-9c36-a9386e8571b1')\"\n",
              "            title=\"Convert this dataframe to an interactive table.\"\n",
              "            style=\"display:none;\">\n",
              "\n",
              "  <svg xmlns=\"http://www.w3.org/2000/svg\" height=\"24px\" viewBox=\"0 -960 960 960\">\n",
              "    <path d=\"M120-120v-720h720v720H120Zm60-500h600v-160H180v160Zm220 220h160v-160H400v160Zm0 220h160v-160H400v160ZM180-400h160v-160H180v160Zm440 0h160v-160H620v160ZM180-180h160v-160H180v160Zm440 0h160v-160H620v160Z\"/>\n",
              "  </svg>\n",
              "    </button>\n",
              "\n",
              "  <style>\n",
              "    .colab-df-container {\n",
              "      display:flex;\n",
              "      gap: 12px;\n",
              "    }\n",
              "\n",
              "    .colab-df-convert {\n",
              "      background-color: #E8F0FE;\n",
              "      border: none;\n",
              "      border-radius: 50%;\n",
              "      cursor: pointer;\n",
              "      display: none;\n",
              "      fill: #1967D2;\n",
              "      height: 32px;\n",
              "      padding: 0 0 0 0;\n",
              "      width: 32px;\n",
              "    }\n",
              "\n",
              "    .colab-df-convert:hover {\n",
              "      background-color: #E2EBFA;\n",
              "      box-shadow: 0px 1px 2px rgba(60, 64, 67, 0.3), 0px 1px 3px 1px rgba(60, 64, 67, 0.15);\n",
              "      fill: #174EA6;\n",
              "    }\n",
              "\n",
              "    .colab-df-buttons div {\n",
              "      margin-bottom: 4px;\n",
              "    }\n",
              "\n",
              "    [theme=dark] .colab-df-convert {\n",
              "      background-color: #3B4455;\n",
              "      fill: #D2E3FC;\n",
              "    }\n",
              "\n",
              "    [theme=dark] .colab-df-convert:hover {\n",
              "      background-color: #434B5C;\n",
              "      box-shadow: 0px 1px 3px 1px rgba(0, 0, 0, 0.15);\n",
              "      filter: drop-shadow(0px 1px 2px rgba(0, 0, 0, 0.3));\n",
              "      fill: #FFFFFF;\n",
              "    }\n",
              "  </style>\n",
              "\n",
              "    <script>\n",
              "      const buttonEl =\n",
              "        document.querySelector('#df-e2129099-6672-4fab-9c36-a9386e8571b1 button.colab-df-convert');\n",
              "      buttonEl.style.display =\n",
              "        google.colab.kernel.accessAllowed ? 'block' : 'none';\n",
              "\n",
              "      async function convertToInteractive(key) {\n",
              "        const element = document.querySelector('#df-e2129099-6672-4fab-9c36-a9386e8571b1');\n",
              "        const dataTable =\n",
              "          await google.colab.kernel.invokeFunction('convertToInteractive',\n",
              "                                                    [key], {});\n",
              "        if (!dataTable) return;\n",
              "\n",
              "        const docLinkHtml = 'Like what you see? Visit the ' +\n",
              "          '<a target=\"_blank\" href=https://colab.research.google.com/notebooks/data_table.ipynb>data table notebook</a>'\n",
              "          + ' to learn more about interactive tables.';\n",
              "        element.innerHTML = '';\n",
              "        dataTable['output_type'] = 'display_data';\n",
              "        await google.colab.output.renderOutput(dataTable, element);\n",
              "        const docLink = document.createElement('div');\n",
              "        docLink.innerHTML = docLinkHtml;\n",
              "        element.appendChild(docLink);\n",
              "      }\n",
              "    </script>\n",
              "  </div>\n",
              "\n",
              "\n",
              "<div id=\"df-b6002a3d-0c9d-481f-8955-10df23070a3a\">\n",
              "  <button class=\"colab-df-quickchart\" onclick=\"quickchart('df-b6002a3d-0c9d-481f-8955-10df23070a3a')\"\n",
              "            title=\"Suggest charts\"\n",
              "            style=\"display:none;\">\n",
              "\n",
              "<svg xmlns=\"http://www.w3.org/2000/svg\" height=\"24px\"viewBox=\"0 0 24 24\"\n",
              "     width=\"24px\">\n",
              "    <g>\n",
              "        <path d=\"M19 3H5c-1.1 0-2 .9-2 2v14c0 1.1.9 2 2 2h14c1.1 0 2-.9 2-2V5c0-1.1-.9-2-2-2zM9 17H7v-7h2v7zm4 0h-2V7h2v10zm4 0h-2v-4h2v4z\"/>\n",
              "    </g>\n",
              "</svg>\n",
              "  </button>\n",
              "\n",
              "<style>\n",
              "  .colab-df-quickchart {\n",
              "      --bg-color: #E8F0FE;\n",
              "      --fill-color: #1967D2;\n",
              "      --hover-bg-color: #E2EBFA;\n",
              "      --hover-fill-color: #174EA6;\n",
              "      --disabled-fill-color: #AAA;\n",
              "      --disabled-bg-color: #DDD;\n",
              "  }\n",
              "\n",
              "  [theme=dark] .colab-df-quickchart {\n",
              "      --bg-color: #3B4455;\n",
              "      --fill-color: #D2E3FC;\n",
              "      --hover-bg-color: #434B5C;\n",
              "      --hover-fill-color: #FFFFFF;\n",
              "      --disabled-bg-color: #3B4455;\n",
              "      --disabled-fill-color: #666;\n",
              "  }\n",
              "\n",
              "  .colab-df-quickchart {\n",
              "    background-color: var(--bg-color);\n",
              "    border: none;\n",
              "    border-radius: 50%;\n",
              "    cursor: pointer;\n",
              "    display: none;\n",
              "    fill: var(--fill-color);\n",
              "    height: 32px;\n",
              "    padding: 0;\n",
              "    width: 32px;\n",
              "  }\n",
              "\n",
              "  .colab-df-quickchart:hover {\n",
              "    background-color: var(--hover-bg-color);\n",
              "    box-shadow: 0 1px 2px rgba(60, 64, 67, 0.3), 0 1px 3px 1px rgba(60, 64, 67, 0.15);\n",
              "    fill: var(--button-hover-fill-color);\n",
              "  }\n",
              "\n",
              "  .colab-df-quickchart-complete:disabled,\n",
              "  .colab-df-quickchart-complete:disabled:hover {\n",
              "    background-color: var(--disabled-bg-color);\n",
              "    fill: var(--disabled-fill-color);\n",
              "    box-shadow: none;\n",
              "  }\n",
              "\n",
              "  .colab-df-spinner {\n",
              "    border: 2px solid var(--fill-color);\n",
              "    border-color: transparent;\n",
              "    border-bottom-color: var(--fill-color);\n",
              "    animation:\n",
              "      spin 1s steps(1) infinite;\n",
              "  }\n",
              "\n",
              "  @keyframes spin {\n",
              "    0% {\n",
              "      border-color: transparent;\n",
              "      border-bottom-color: var(--fill-color);\n",
              "      border-left-color: var(--fill-color);\n",
              "    }\n",
              "    20% {\n",
              "      border-color: transparent;\n",
              "      border-left-color: var(--fill-color);\n",
              "      border-top-color: var(--fill-color);\n",
              "    }\n",
              "    30% {\n",
              "      border-color: transparent;\n",
              "      border-left-color: var(--fill-color);\n",
              "      border-top-color: var(--fill-color);\n",
              "      border-right-color: var(--fill-color);\n",
              "    }\n",
              "    40% {\n",
              "      border-color: transparent;\n",
              "      border-right-color: var(--fill-color);\n",
              "      border-top-color: var(--fill-color);\n",
              "    }\n",
              "    60% {\n",
              "      border-color: transparent;\n",
              "      border-right-color: var(--fill-color);\n",
              "    }\n",
              "    80% {\n",
              "      border-color: transparent;\n",
              "      border-right-color: var(--fill-color);\n",
              "      border-bottom-color: var(--fill-color);\n",
              "    }\n",
              "    90% {\n",
              "      border-color: transparent;\n",
              "      border-bottom-color: var(--fill-color);\n",
              "    }\n",
              "  }\n",
              "</style>\n",
              "\n",
              "  <script>\n",
              "    async function quickchart(key) {\n",
              "      const quickchartButtonEl =\n",
              "        document.querySelector('#' + key + ' button');\n",
              "      quickchartButtonEl.disabled = true;  // To prevent multiple clicks.\n",
              "      quickchartButtonEl.classList.add('colab-df-spinner');\n",
              "      try {\n",
              "        const charts = await google.colab.kernel.invokeFunction(\n",
              "            'suggestCharts', [key], {});\n",
              "      } catch (error) {\n",
              "        console.error('Error during call to suggestCharts:', error);\n",
              "      }\n",
              "      quickchartButtonEl.classList.remove('colab-df-spinner');\n",
              "      quickchartButtonEl.classList.add('colab-df-quickchart-complete');\n",
              "    }\n",
              "    (() => {\n",
              "      let quickchartButtonEl =\n",
              "        document.querySelector('#df-b6002a3d-0c9d-481f-8955-10df23070a3a button');\n",
              "      quickchartButtonEl.style.display =\n",
              "        google.colab.kernel.accessAllowed ? 'block' : 'none';\n",
              "    })();\n",
              "  </script>\n",
              "</div>\n",
              "\n",
              "    </div>\n",
              "  </div>\n"
            ],
            "application/vnd.google.colaboratory.intrinsic+json": {
              "type": "dataframe",
              "summary": "{\n  \"name\": \"df\",\n  \"rows\": 20,\n  \"fields\": [\n    {\n      \"column\": \"id\",\n      \"properties\": {\n        \"dtype\": \"number\",\n        \"std\": 3167,\n        \"min\": 451,\n        \"max\": 10673,\n        \"num_unique_values\": 20,\n        \"samples\": [\n          5373,\n          9930,\n          4365\n        ],\n        \"semantic_type\": \"\",\n        \"description\": \"\"\n      }\n    },\n    {\n      \"column\": \"keyword\",\n      \"properties\": {\n        \"dtype\": \"string\",\n        \"num_unique_values\": 19,\n        \"samples\": [\n          \"fire truck\",\n          \"collision\",\n          \"wounds\"\n        ],\n        \"semantic_type\": \"\",\n        \"description\": \"\"\n      }\n    },\n    {\n      \"column\": \"location\",\n      \"properties\": {\n        \"dtype\": \"string\",\n        \"num_unique_values\": 16,\n        \"samples\": [\n          \"plain texas\",\n          \"\",\n          \"chicago il\"\n        ],\n        \"semantic_type\": \"\",\n        \"description\": \"\"\n      }\n    },\n    {\n      \"column\": \"text\",\n      \"properties\": {\n        \"dtype\": \"string\",\n        \"num_unique_values\": 20,\n        \"samples\": [\n          \"brooktekle look like murder scene 1 cops fire truck 2 fire assistance cars along helicopter\",\n          \"annajhm jcomanse paul staubs rslm72254 blanktgt must got trouble fartanxiety\",\n          \"usgs 1 2 23km twentynine palms california time2015 08 05 23 54 09 utc2015 08 05 16 54 09 07 0 sm\"\n        ],\n        \"semantic_type\": \"\",\n        \"description\": \"\"\n      }\n    },\n    {\n      \"column\": \"target\",\n      \"properties\": {\n        \"dtype\": \"number\",\n        \"std\": 0,\n        \"min\": 0,\n        \"max\": 1,\n        \"num_unique_values\": 2,\n        \"samples\": [\n          0,\n          1\n        ],\n        \"semantic_type\": \"\",\n        \"description\": \"\"\n      }\n    }\n  ]\n}"
            }
          },
          "metadata": {},
          "execution_count": 7
        }
      ]
    },
    {
      "cell_type": "markdown",
      "source": [
        "## **Pre-procesamiento** (5 puntos)\n"
      ],
      "metadata": {
        "id": "qtf-Fh9plC8w"
      }
    },
    {
      "cell_type": "markdown",
      "source": [
        "### 5. Separar la colección en un conjunto de entrenamiento y uno de prueba. Dar un 80% de los registros al conjunto de entrenamiento.\n"
      ],
      "metadata": {
        "id": "hZQ2Qs3ruUdv"
      }
    },
    {
      "cell_type": "code",
      "source": [
        "X = df[features]\n",
        "y = df['target']\n",
        "\n",
        "X_train, X_test, y_train, y_test = train_test_split(X, y, test_size=0.2, random_state=42)\n",
        "\n",
        "print(\"Tamaño del conjunto de entrenamiento:\\t\", X_train.shape)\n",
        "print(\"Tamaño del conjunto de prueba:\\t\\t\", X_test.shape)\n",
        "print(\"Tamaño del conjunto de etiquetas de entrenamiento:\\t\", y_train.shape)\n",
        "print(\"Tamaño del conjunto de etiquetas de prueba:\\t\\t\", y_test.shape)\n"
      ],
      "metadata": {
        "colab": {
          "base_uri": "https://localhost:8080/"
        },
        "id": "SnHRwzq8svTV",
        "outputId": "04366829-9a55-4ff0-d8db-3c617dbb7bac"
      },
      "execution_count": 8,
      "outputs": [
        {
          "output_type": "stream",
          "name": "stdout",
          "text": [
            "Tamaño del conjunto de entrenamiento:\t (6090, 3)\n",
            "Tamaño del conjunto de prueba:\t\t (1523, 3)\n",
            "Tamaño del conjunto de etiquetas de entrenamiento:\t (6090,)\n",
            "Tamaño del conjunto de etiquetas de prueba:\t\t (1523,)\n"
          ]
        }
      ]
    },
    {
      "cell_type": "markdown",
      "source": [
        "### 6. Convertir el conjunto de entrenamiento y el conjunto de pruebas a la representación requerida por el modelo SVM."
      ],
      "metadata": {
        "id": "v1-KTQRIsrM7"
      }
    },
    {
      "cell_type": "code",
      "source": [
        "# prompt: Cual es el formato de los conjuntos de entrenamiento y pruebas que se requieren para entrenar un modelo sklearn.svm.SVC?\n",
        "\n",
        "# Los conjuntos de entrenamiento y prueba para sklearn.svm.SVC deben tener la siguiente estructura:\n",
        "\n",
        "# X_train: Una matriz NumPy o una lista de listas, donde cada fila representa un ejemplo de entrenamiento y cada columna representa una característica.\n",
        "# y_train: Una matriz NumPy o una lista de etiquetas correspondientes a cada ejemplo de entrenamiento en X_train.\n",
        "# X_test: Una matriz NumPy o una lista de listas, donde cada fila representa un ejemplo de prueba y cada columna representa una característica.\n",
        "# y_test: Una matriz NumPy o una lista de etiquetas correspondientes a cada ejemplo de prueba en X_test.\n",
        "\n",
        "# En resumen, X_train y X_test deben ser matrices de características, e y_train y y_test deben ser vectores de etiquetas.\n",
        "\n",
        "# Ejemplo:\n",
        "\n",
        "# X_train = [[1, 2, 3], [4, 5, 6], [7, 8, 9]]\n",
        "# y_train = [0, 1, 0]\n",
        "# X_test = [[10, 11, 12], [13, 14, 15]]\n",
        "# y_test = [1, 0]\n",
        "\n",
        "# En este caso, cada ejemplo tiene 3 características y las etiquetas son 0 o 1.\n",
        "\n",
        "\n",
        "# Para el caso de su proyecto, primero necesita convertir los datos de texto (tweets) a una representación numérica que pueda ser utilizada por el modelo SVM.\n",
        "# Podría usar TF-IDF o Word2Vec para realizar esta conversión.\n",
        "\n",
        "# Una vez que tenga la representación numérica de los tweets, puede crear las matrices X_train, X_test, y_train y y_test y luego entrenar su modelo SVM utilizando sklearn.svm.SVC.\n"
      ],
      "metadata": {
        "id": "OMANyA3rlI0u"
      },
      "execution_count": null,
      "outputs": []
    },
    {
      "cell_type": "code",
      "source": [
        "# Combina las columnas de texto en una sola columna\n",
        "X_train['combined_text'] = X_train['keyword'] + ' ' + X_train['location'] + ' ' + X_train['text']\n",
        "X_test['combined_text'] = X_test['keyword'] + ' ' + X_test['location'] + ' ' + X_test['text']"
      ],
      "metadata": {
        "id": "WjWwNOR3CUR_"
      },
      "execution_count": 9,
      "outputs": []
    },
    {
      "cell_type": "code",
      "source": [
        "\"\"\"Se debe convertir cada columna textual a una representacion numérica (vectorizacion) para poder entrenar un\n",
        "clasificador SVM.\n",
        "\n",
        "En el jupyter de la clase 5 usan Bag of Words, tambien se podria usar TF-IDF o Word2Vec para realizar esta conversión.\n",
        "\"\"\"\n",
        "\n",
        "# Vectorizacion con Bag of Words\n",
        "vectorizer = CountVectorizer(max_features=50000)\n",
        "\n",
        "X_train_bow = vectorizer.fit_transform(X_train['combined_text']).toarray()\n",
        "X_test_bow = vectorizer.transform(X_test['combined_text']).toarray()\n",
        "\n",
        "print(X_train_bow.shape)\n",
        "print(X_test_bow.shape)\n",
        "print(vectorizer.get_feature_names_out())\n"
      ],
      "metadata": {
        "colab": {
          "base_uri": "https://localhost:8080/"
        },
        "id": "voP6hM3H9pM9",
        "outputId": "fda86144-7bcf-4a31-dc32-3625aa4fbddb"
      },
      "execution_count": 10,
      "outputs": [
        {
          "output_type": "stream",
          "name": "stdout",
          "text": [
            "(6090, 16230)\n",
            "(1523, 16230)\n",
            "['00' '000' '0000' ... 'zumiez' 'zwe' 'zzzz']\n"
          ]
        }
      ]
    },
    {
      "cell_type": "markdown",
      "source": [
        "## **Experimentos** (10 puntos)"
      ],
      "metadata": {
        "id": "SMPQXEq1lKAk"
      }
    },
    {
      "cell_type": "markdown",
      "source": [
        "### 7. Implementar y entrenar un clasificador usando SVM."
      ],
      "metadata": {
        "id": "hlVWy4cM4rAB"
      }
    },
    {
      "cell_type": "code",
      "source": [
        "# Crea un clasificador SVC\n",
        "svm_classifier = SVC(kernel='linear')\n",
        "\n",
        "# Registra el tiempo de inicio\n",
        "start_time = time.time()\n",
        "\n",
        "# Entrena el clasificador\n",
        "svm_classifier.fit(X_train_bow, y_train)\n",
        "\n",
        "# Registra el tiempo de finalización\n",
        "end_time = time.time()\n",
        "\n",
        "# Calcula la duración del entrenamiento\n",
        "training_time = end_time - start_time\n",
        "\n",
        "print(f\"El entrenamiento tomó {training_time:.2f} segundos.\")\n"
      ],
      "metadata": {
        "id": "z58BVCmXlPYf"
      },
      "execution_count": null,
      "outputs": []
    },
    {
      "cell_type": "markdown",
      "source": [
        "\n",
        "### 8. Obtener predicciones del modelo SVM usando el conjunto de prueba."
      ],
      "metadata": {
        "id": "S9Ygj9QJ4owf"
      }
    },
    {
      "cell_type": "code",
      "source": [
        "y_pred = svm_classifier.predict(X_test_bow)"
      ],
      "metadata": {
        "id": "CQTgVxCF4pLs"
      },
      "execution_count": null,
      "outputs": []
    },
    {
      "cell_type": "markdown",
      "source": [
        "## **Evaluación** (5 puntos)\n"
      ],
      "metadata": {
        "id": "wev_qIdFlQBK"
      }
    },
    {
      "cell_type": "markdown",
      "source": [
        "### 9. Obtener los valores de precisión, recall, f1-score y acierto para el modelo. Tanto globales como por clase."
      ],
      "metadata": {
        "id": "yrSov7Bn43f6"
      }
    },
    {
      "cell_type": "code",
      "source": [
        "# Precisión, recall, f1-score y acierto globales\n",
        "accuracy = accuracy_score(y_test, y_pred)\n",
        "precision = precision_score(y_test, y_pred)\n",
        "recall = recall_score(y_test, y_pred)\n",
        "f1 = f1_score(y_test, y_pred)\n",
        "\n",
        "print(\"Métricas globales:\")\n",
        "print(\"Precisión:\", accuracy)\n",
        "print(\"Recall:\", recall)\n",
        "print(\"F1-score:\", f1)\n",
        "print(\"Acierto:\", accuracy)\n",
        "\n",
        "\n",
        "# Precisión, recall, f1-score y acierto por clase\n",
        "print(\"\\nMétricas por clase:\")\n",
        "print(classification_report(y_test, y_pred))\n",
        "\n",
        "# Matriz de confusión\n",
        "cm = confusion_matrix(y_test, y_pred)\n",
        "print(\"\\nMatriz de confusión:\")\n",
        "print(cm)\n"
      ],
      "metadata": {
        "id": "hmmLtY3E4-Dr"
      },
      "execution_count": null,
      "outputs": []
    },
    {
      "cell_type": "markdown",
      "source": [
        "### 10. Comentar los resultados obtenidos."
      ],
      "metadata": {
        "id": "ciBMK64T43MT"
      }
    },
    {
      "cell_type": "markdown",
      "source": [
        "# **B) Long Short-Term Memory (LSTM)**\n",
        "\n"
      ],
      "metadata": {
        "id": "RRfb4UG8lVsE"
      }
    },
    {
      "cell_type": "markdown",
      "source": [
        "## **Pre-procesamiento** (5 puntos)\n"
      ],
      "metadata": {
        "id": "oNd9fnwn5Bok"
      }
    },
    {
      "cell_type": "markdown",
      "source": [
        "### 11. Utilice las mismas particiones de entrenamiento y pruebas obtenidas en el ejercicio A)\n"
      ],
      "metadata": {
        "id": "7prvbfFe5D_j"
      }
    },
    {
      "cell_type": "code",
      "source": [],
      "metadata": {
        "id": "bejzLXJw5JYZ"
      },
      "execution_count": null,
      "outputs": []
    },
    {
      "cell_type": "markdown",
      "source": [
        "### 12. Convertir el conjunto de entrenamiento y el conjunto de pruebas a la representación requerida por el modelo LSTM."
      ],
      "metadata": {
        "id": "hd0_nIEw5GuA"
      }
    },
    {
      "cell_type": "code",
      "source": [],
      "metadata": {
        "id": "wSEQSOtzlzG-"
      },
      "execution_count": null,
      "outputs": []
    },
    {
      "cell_type": "markdown",
      "source": [
        "## **Experimentos** (10 puntos)"
      ],
      "metadata": {
        "id": "80Ajk-R-lznj"
      }
    },
    {
      "cell_type": "markdown",
      "source": [
        "### 13. Utilice la biblioteca Pytorch para implementar y entrenar un clasificador usando una red recurrente LSTM.\n"
      ],
      "metadata": {
        "id": "hKVtq4g85NCC"
      }
    },
    {
      "cell_type": "code",
      "source": [],
      "metadata": {
        "id": "dEQ8l71e5Tyy"
      },
      "execution_count": null,
      "outputs": []
    },
    {
      "cell_type": "markdown",
      "source": [
        "### 14. Durante el entrenamiento grafique la curva de error, explique los resultados obtenidos en gráfica y ajuste el modelo o el proceso de entrenamiento apropiadamente (por ejemplo, verifique que el modelo no esté sobre-ajustado).\n"
      ],
      "metadata": {
        "id": "A4Hr3jQW5M2G"
      }
    },
    {
      "cell_type": "code",
      "source": [],
      "metadata": {
        "id": "ad7mvIe75URY"
      },
      "execution_count": null,
      "outputs": []
    },
    {
      "cell_type": "markdown",
      "source": [
        "### 15. Obtener predicciones del modelo LSTM usando el conjunto de prueba."
      ],
      "metadata": {
        "id": "-xFOjSVB5MdE"
      }
    },
    {
      "cell_type": "code",
      "source": [],
      "metadata": {
        "id": "gj9vAPzgl4kr"
      },
      "execution_count": null,
      "outputs": []
    },
    {
      "cell_type": "markdown",
      "source": [
        "## **Evaluación** (5 puntos)\n"
      ],
      "metadata": {
        "id": "GcDzJGEcl6I1"
      }
    },
    {
      "cell_type": "markdown",
      "source": [
        "### 16. Obtener los valores de precisión, recall, f1-score y acierto para el modelo. Tanto globales como por clase.\n"
      ],
      "metadata": {
        "id": "uUCaj_DS5YAV"
      }
    },
    {
      "cell_type": "code",
      "source": [],
      "metadata": {
        "id": "k_WSSQBC5ab1"
      },
      "execution_count": null,
      "outputs": []
    },
    {
      "cell_type": "markdown",
      "source": [
        "## 17. Comente y compare los resultados obtenidos con SVM y LSTM."
      ],
      "metadata": {
        "id": "ilCW2uW25XwU"
      }
    }
  ],
  "metadata": {
    "colab": {
      "provenance": [],
      "toc_visible": true,
      "gpuType": "T4",
      "include_colab_link": true
    },
    "kernelspec": {
      "display_name": "Python 3",
      "name": "python3"
    },
    "language_info": {
      "codemirror_mode": {
        "name": "ipython",
        "version": 3
      },
      "file_extension": ".py",
      "mimetype": "text/x-python",
      "name": "python",
      "nbconvert_exporter": "python",
      "pygments_lexer": "ipython3",
      "version": "3.9.15"
    },
    "accelerator": "GPU"
  },
  "nbformat": 4,
  "nbformat_minor": 0
}