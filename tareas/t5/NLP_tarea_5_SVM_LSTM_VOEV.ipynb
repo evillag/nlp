{
  "cells": [
    {
      "cell_type": "markdown",
      "metadata": {
        "id": "GItxU96mTk16"
      },
      "source": [
        "# Tarea 5\n",
        "## Curso: Procesamiento de Lenguaje Natural (NLP)\n",
        "## Maestría en Computación\n",
        "## Instituto Tecnológico de Costa Rica (ITCR)\n",
        "\n",
        "Medio de entrega:  TecDigital.\n",
        "\n",
        "Entregables: Un archivo jupyter con los ejercicios resueltos.\n",
        "\n",
        "Modo de trabajo: individual o en grupos de máximo dos personas.\n",
        "\n",
        "**Elaborado por**:\n",
        "\n",
        "\n",
        "*   Victoria Orozco Arias. Carnet $2022438528$\n",
        "*   Esteban Villalobos Gómez. Carnet $9913628$\n",
        "\n",
        "**Fecha de entrega:** 27/09/2024\n",
        "\n",
        "\n",
        "---\n",
        "\n"
      ]
    },
    {
      "cell_type": "markdown",
      "source": [
        "# Descripción\n",
        "\n",
        "Twitter se ha convertido en un canal de comunicación importante en tiempos de emergencia. La ubicuidad de los teléfonos inteligentes permite a las personas anunciar una emergencia que están observando en tiempo real.\n",
        "\n",
        "Debido a esto, cada vez hay más agencias interesadas en monitorear Twitter de manera automática (es decir, organizaciones de ayuda humanitaria y agencias de noticias). Sin embargo, no siempre está claro si las palabras de una persona realmente están anunciando un desastre. Por ejemplo, si alguien escribe:\n",
        "\n",
        "> “Por el lado positivo, MIRA EL CIELO AL ATARDECER, ¡ESTABA EN LLAMAS!”\n",
        "\n",
        "El autor utiliza explícitamente la frase “EN LLAMAS”, pero lo dice metafóricamente. Esto resulta evidente para cualquier persona de inmediato, especialmente si viene acompañado de una imagen.\n",
        "\n",
        "Se deben construir y comparar los resultados obtenidos a partir de dos modelo de aprendizaje automático que predigan qué tweets tratan sobre desastres reales y cuáles no. Para esos modelos se usará Support Vector Machines (SVM) y Redes Recurrentes Long Short-Term Memory (LSTM). Se dispondrá de un conjunto de datos de 10 000 tweets que fueron clasificados manualmente.\n",
        "\n",
        "Cada registro del conjunto de datos tiene las siguientes columnas con la información descrita:\n",
        "\n",
        "- **id**: un identificador único para cada tweet\n",
        "- **text**: el texto del tweet\n",
        "- **location**: la ubicación desde la que se envió el tweet (puede estar en blanco)\n",
        "- **keyword**: una palabra clave particular del tweet (puede estar en blanco)\n",
        "- **target**: indica si un tweet trata sobre un desastre real (1) o no (0)\n"
      ],
      "metadata": {
        "id": "yZSidYBewVhV"
      }
    },
    {
      "metadata": {
        "ExecuteTime": {
          "end_time": "2024-08-09T04:00:08.835748Z",
          "start_time": "2024-08-09T04:00:06.983728Z"
        },
        "id": "qq5l73gnfl0E",
        "colab": {
          "base_uri": "https://localhost:8080/"
        },
        "outputId": "04575583-690d-4f97-bd58-294884ab5bb0",
        "executionInfo": {
          "status": "ok",
          "timestamp": 1727641396131,
          "user_tz": 360,
          "elapsed": 13163,
          "user": {
            "displayName": "",
            "userId": ""
          }
        }
      },
      "cell_type": "code",
      "source": [
        "import torch\n",
        "import matplotlib.pyplot as plt\n",
        "import torch.nn.functional as F\n",
        "import pandas as pd\n",
        "import numpy as np\n",
        "import requests\n",
        "import nltk\n",
        "import re\n",
        "import time\n",
        "\n",
        "from nltk.corpus import stopwords\n",
        "from sklearn.feature_extraction.text import CountVectorizer\n",
        "from sklearn import metrics\n",
        "from sklearn.metrics import confusion_matrix, classification_report, accuracy_score, precision_score, recall_score, f1_score, roc_auc_score\n",
        "from sklearn.model_selection import train_test_split\n",
        "from sklearn.svm import SVC\n",
        "from urllib.parse import unquote\n",
        "from tensorflow.keras.preprocessing.text import Tokenizer\n",
        "from tensorflow.keras.preprocessing.sequence import pad_sequences\n",
        "import torch.nn as nn\n",
        "import torch.optim as optim\n",
        "from torch.utils.data import DataLoader, TensorDataset\n",
        "\n",
        "\n",
        "# Use GPU si esta disponible\n",
        "if torch.cuda.is_available():\n",
        "  device = torch.device(\"cuda\")\n",
        "  print(\"Utilizando GPU\")\n",
        "else:\n",
        "  device = torch.device(\"cpu\")\n",
        "  print(\"Utilizando CPU\")"
      ],
      "outputs": [
        {
          "output_type": "stream",
          "name": "stdout",
          "text": [
            "Utilizando GPU\n"
          ]
        }
      ],
      "execution_count": 1
    },
    {
      "cell_type": "markdown",
      "source": [
        "# **A) Support Vector Machines (SVM)**\n",
        "\n",
        "Escribir un cuaderno de Jupyter que realice las siguientes acciones. Puede basarse en el cuaderno sobre SVM visto en clase:\n",
        "> Semana 05 Clasificación de texto – SVM\n",
        "\n",
        "Debe asegurarse de que el cuaderno acceda al archivo de datos usando un path que no dependa de su máquina."
      ],
      "metadata": {
        "id": "E3sRIByruA7I"
      }
    },
    {
      "cell_type": "markdown",
      "source": [
        "\n",
        "**Carga** (10 puntos)\n",
        "### 1. Cargar el archivo 'tweets.csv' que se distribuye con este enunciado.\n"
      ],
      "metadata": {
        "id": "VD4JHcrpyObS"
      }
    },
    {
      "cell_type": "code",
      "source": [
        "%rm tweets.csv\n",
        "\n",
        "url = \"https://raw.githubusercontent.com/evillag/nlp/refs/heads/main/tareas/t5/tweets.csv\"\n",
        "response = requests.get(url)\n",
        "\n",
        "with open(\"tweets.csv\", \"wb\") as f:\n",
        "  f.write(response.content)\n",
        "\n",
        "df = pd.read_csv('tweets.csv')\n",
        "print(df.info())\n",
        "\n",
        "# Limpieza de la columnas de texto\n",
        "\n",
        "features = ['keyword', 'location', 'text']\n",
        "for columna in features:\n",
        "  df[columna] = df[columna].fillna('N/A')\n",
        "  df[columna] = df[columna].apply(lambda x: unquote(x) if isinstance(x, str) else x)\n",
        "\n",
        "df.sample(20)"
      ],
      "metadata": {
        "id": "WS9kGjL7lCIm",
        "colab": {
          "base_uri": "https://localhost:8080/",
          "height": 920
        },
        "outputId": "cbea2885-d6a3-4349-8df8-378e50038a48",
        "executionInfo": {
          "status": "ok",
          "timestamp": 1727641732723,
          "user_tz": 360,
          "elapsed": 517,
          "user": {
            "displayName": "",
            "userId": ""
          }
        }
      },
      "execution_count": 2,
      "outputs": [
        {
          "output_type": "stream",
          "name": "stdout",
          "text": [
            "rm: cannot remove 'tweets.csv': No such file or directory\n",
            "<class 'pandas.core.frame.DataFrame'>\n",
            "RangeIndex: 7613 entries, 0 to 7612\n",
            "Data columns (total 5 columns):\n",
            " #   Column    Non-Null Count  Dtype \n",
            "---  ------    --------------  ----- \n",
            " 0   id        7613 non-null   int64 \n",
            " 1   keyword   7552 non-null   object\n",
            " 2   location  5080 non-null   object\n",
            " 3   text      7613 non-null   object\n",
            " 4   target    7613 non-null   int64 \n",
            "dtypes: int64(2), object(3)\n",
            "memory usage: 297.5+ KB\n",
            "None\n"
          ]
        },
        {
          "output_type": "execute_result",
          "data": {
            "text/plain": [
              "         id           keyword                      location  \\\n",
              "5112   7291  nuclear disaster                           N/A   \n",
              "5004   7137          military                           N/A   \n",
              "7558  10805           wrecked             probably not home   \n",
              "5618   8016          refugees                      paradise   \n",
              "6796   9736           tragedy                Silicon Valley   \n",
              "2154   3091            deaths           Tennessee/Gallifrey   \n",
              "5137   7326   nuclear reactor                           N/A   \n",
              "7296  10441        wild fires                           N/A   \n",
              "5055   7204  natural disaster                           N/A   \n",
              "6692   9589           thunder                           N/A   \n",
              "6676   9567           thunder                           N/A   \n",
              "3575   5107            famine                   Chatham, IL   \n",
              "6116   8732           sinking   Not where I want to be, yet   \n",
              "6168   8797            sirens                   Canada Eh!    \n",
              "820    1191          blizzard                           N/A   \n",
              "2131   3059            deaths  AsunciÌ_n-PY / TÌ_bingen-GER   \n",
              "4494   6391         hurricane           Haiku, Maui, Hawaii   \n",
              "7603  10862               N/A                           N/A   \n",
              "6278   8969             storm                    New Delhi    \n",
              "6218   8872             smoke                           N/A   \n",
              "\n",
              "                                                   text  target  \n",
              "5112  #Nuclear policy of #Japan without responsibili...       1  \n",
              "5004  @CochiseCollege For the people who died in Hum...       1  \n",
              "7558           coleslaw #wrecked http://t.co/sijNBmCZIJ       0  \n",
              "5618  #retweet Cameroon repatriating about 12000 Nig...       1  \n",
              "6796  @sriramk @DLin71 @pmarca Tragedy of commons pe...       0  \n",
              "2154  @mathew_is_angry @Z3KE_SK1 @saladinahmed they ...       1  \n",
              "5137  Navy sidelines 3 newest subs http://t.co/gpVZV...       0  \n",
              "7296  My brother-n-law riooooos got the call to head...       1  \n",
              "5055  What Natural Disaster Are You When You Get Ang...       0  \n",
              "6692                  I hear lightening and see thunder       1  \n",
              "6676             @DevinJoslyn thunder and lighting ????       0  \n",
              "3575  Images of Famine ÛÒ Hope In Christ - A blog o...       1  \n",
              "6116  This is Lara she likes sinking her teeth into ...       0  \n",
              "6168  @RAYCHIELOVESU On the block we hear sirens&amp...       0  \n",
              "820                        Stats http://t.co/U7vavyrGv9       0  \n",
              "2131  Breast milk is the original #superfood but rat...       0  \n",
              "4494  HURRICANE GUILLERMO LIVE NOAA TRACKING / LOOPI...       1  \n",
              "7603  Officials say a quarantine is in place at an A...       1  \n",
              "6278       @johngreen storm and silence by @RobThier_EN       0  \n",
              "6218  @BillMcCabe  sky looks clear.... No smoke from...       1  "
            ],
            "text/html": [
              "\n",
              "  <div id=\"df-ae4cebf3-5349-488d-92bc-43ba2c459b52\" class=\"colab-df-container\">\n",
              "    <div>\n",
              "<style scoped>\n",
              "    .dataframe tbody tr th:only-of-type {\n",
              "        vertical-align: middle;\n",
              "    }\n",
              "\n",
              "    .dataframe tbody tr th {\n",
              "        vertical-align: top;\n",
              "    }\n",
              "\n",
              "    .dataframe thead th {\n",
              "        text-align: right;\n",
              "    }\n",
              "</style>\n",
              "<table border=\"1\" class=\"dataframe\">\n",
              "  <thead>\n",
              "    <tr style=\"text-align: right;\">\n",
              "      <th></th>\n",
              "      <th>id</th>\n",
              "      <th>keyword</th>\n",
              "      <th>location</th>\n",
              "      <th>text</th>\n",
              "      <th>target</th>\n",
              "    </tr>\n",
              "  </thead>\n",
              "  <tbody>\n",
              "    <tr>\n",
              "      <th>5112</th>\n",
              "      <td>7291</td>\n",
              "      <td>nuclear disaster</td>\n",
              "      <td>N/A</td>\n",
              "      <td>#Nuclear policy of #Japan without responsibili...</td>\n",
              "      <td>1</td>\n",
              "    </tr>\n",
              "    <tr>\n",
              "      <th>5004</th>\n",
              "      <td>7137</td>\n",
              "      <td>military</td>\n",
              "      <td>N/A</td>\n",
              "      <td>@CochiseCollege For the people who died in Hum...</td>\n",
              "      <td>1</td>\n",
              "    </tr>\n",
              "    <tr>\n",
              "      <th>7558</th>\n",
              "      <td>10805</td>\n",
              "      <td>wrecked</td>\n",
              "      <td>probably not home</td>\n",
              "      <td>coleslaw #wrecked http://t.co/sijNBmCZIJ</td>\n",
              "      <td>0</td>\n",
              "    </tr>\n",
              "    <tr>\n",
              "      <th>5618</th>\n",
              "      <td>8016</td>\n",
              "      <td>refugees</td>\n",
              "      <td>paradise</td>\n",
              "      <td>#retweet Cameroon repatriating about 12000 Nig...</td>\n",
              "      <td>1</td>\n",
              "    </tr>\n",
              "    <tr>\n",
              "      <th>6796</th>\n",
              "      <td>9736</td>\n",
              "      <td>tragedy</td>\n",
              "      <td>Silicon Valley</td>\n",
              "      <td>@sriramk @DLin71 @pmarca Tragedy of commons pe...</td>\n",
              "      <td>0</td>\n",
              "    </tr>\n",
              "    <tr>\n",
              "      <th>2154</th>\n",
              "      <td>3091</td>\n",
              "      <td>deaths</td>\n",
              "      <td>Tennessee/Gallifrey</td>\n",
              "      <td>@mathew_is_angry @Z3KE_SK1 @saladinahmed they ...</td>\n",
              "      <td>1</td>\n",
              "    </tr>\n",
              "    <tr>\n",
              "      <th>5137</th>\n",
              "      <td>7326</td>\n",
              "      <td>nuclear reactor</td>\n",
              "      <td>N/A</td>\n",
              "      <td>Navy sidelines 3 newest subs http://t.co/gpVZV...</td>\n",
              "      <td>0</td>\n",
              "    </tr>\n",
              "    <tr>\n",
              "      <th>7296</th>\n",
              "      <td>10441</td>\n",
              "      <td>wild fires</td>\n",
              "      <td>N/A</td>\n",
              "      <td>My brother-n-law riooooos got the call to head...</td>\n",
              "      <td>1</td>\n",
              "    </tr>\n",
              "    <tr>\n",
              "      <th>5055</th>\n",
              "      <td>7204</td>\n",
              "      <td>natural disaster</td>\n",
              "      <td>N/A</td>\n",
              "      <td>What Natural Disaster Are You When You Get Ang...</td>\n",
              "      <td>0</td>\n",
              "    </tr>\n",
              "    <tr>\n",
              "      <th>6692</th>\n",
              "      <td>9589</td>\n",
              "      <td>thunder</td>\n",
              "      <td>N/A</td>\n",
              "      <td>I hear lightening and see thunder</td>\n",
              "      <td>1</td>\n",
              "    </tr>\n",
              "    <tr>\n",
              "      <th>6676</th>\n",
              "      <td>9567</td>\n",
              "      <td>thunder</td>\n",
              "      <td>N/A</td>\n",
              "      <td>@DevinJoslyn thunder and lighting ????</td>\n",
              "      <td>0</td>\n",
              "    </tr>\n",
              "    <tr>\n",
              "      <th>3575</th>\n",
              "      <td>5107</td>\n",
              "      <td>famine</td>\n",
              "      <td>Chatham, IL</td>\n",
              "      <td>Images of Famine ÛÒ Hope In Christ - A blog o...</td>\n",
              "      <td>1</td>\n",
              "    </tr>\n",
              "    <tr>\n",
              "      <th>6116</th>\n",
              "      <td>8732</td>\n",
              "      <td>sinking</td>\n",
              "      <td>Not where I want to be, yet</td>\n",
              "      <td>This is Lara she likes sinking her teeth into ...</td>\n",
              "      <td>0</td>\n",
              "    </tr>\n",
              "    <tr>\n",
              "      <th>6168</th>\n",
              "      <td>8797</td>\n",
              "      <td>sirens</td>\n",
              "      <td>Canada Eh!</td>\n",
              "      <td>@RAYCHIELOVESU On the block we hear sirens&amp;amp...</td>\n",
              "      <td>0</td>\n",
              "    </tr>\n",
              "    <tr>\n",
              "      <th>820</th>\n",
              "      <td>1191</td>\n",
              "      <td>blizzard</td>\n",
              "      <td>N/A</td>\n",
              "      <td>Stats http://t.co/U7vavyrGv9</td>\n",
              "      <td>0</td>\n",
              "    </tr>\n",
              "    <tr>\n",
              "      <th>2131</th>\n",
              "      <td>3059</td>\n",
              "      <td>deaths</td>\n",
              "      <td>AsunciÌ_n-PY / TÌ_bingen-GER</td>\n",
              "      <td>Breast milk is the original #superfood but rat...</td>\n",
              "      <td>0</td>\n",
              "    </tr>\n",
              "    <tr>\n",
              "      <th>4494</th>\n",
              "      <td>6391</td>\n",
              "      <td>hurricane</td>\n",
              "      <td>Haiku, Maui, Hawaii</td>\n",
              "      <td>HURRICANE GUILLERMO LIVE NOAA TRACKING / LOOPI...</td>\n",
              "      <td>1</td>\n",
              "    </tr>\n",
              "    <tr>\n",
              "      <th>7603</th>\n",
              "      <td>10862</td>\n",
              "      <td>N/A</td>\n",
              "      <td>N/A</td>\n",
              "      <td>Officials say a quarantine is in place at an A...</td>\n",
              "      <td>1</td>\n",
              "    </tr>\n",
              "    <tr>\n",
              "      <th>6278</th>\n",
              "      <td>8969</td>\n",
              "      <td>storm</td>\n",
              "      <td>New Delhi</td>\n",
              "      <td>@johngreen storm and silence by @RobThier_EN</td>\n",
              "      <td>0</td>\n",
              "    </tr>\n",
              "    <tr>\n",
              "      <th>6218</th>\n",
              "      <td>8872</td>\n",
              "      <td>smoke</td>\n",
              "      <td>N/A</td>\n",
              "      <td>@BillMcCabe  sky looks clear.... No smoke from...</td>\n",
              "      <td>1</td>\n",
              "    </tr>\n",
              "  </tbody>\n",
              "</table>\n",
              "</div>\n",
              "    <div class=\"colab-df-buttons\">\n",
              "\n",
              "  <div class=\"colab-df-container\">\n",
              "    <button class=\"colab-df-convert\" onclick=\"convertToInteractive('df-ae4cebf3-5349-488d-92bc-43ba2c459b52')\"\n",
              "            title=\"Convert this dataframe to an interactive table.\"\n",
              "            style=\"display:none;\">\n",
              "\n",
              "  <svg xmlns=\"http://www.w3.org/2000/svg\" height=\"24px\" viewBox=\"0 -960 960 960\">\n",
              "    <path d=\"M120-120v-720h720v720H120Zm60-500h600v-160H180v160Zm220 220h160v-160H400v160Zm0 220h160v-160H400v160ZM180-400h160v-160H180v160Zm440 0h160v-160H620v160ZM180-180h160v-160H180v160Zm440 0h160v-160H620v160Z\"/>\n",
              "  </svg>\n",
              "    </button>\n",
              "\n",
              "  <style>\n",
              "    .colab-df-container {\n",
              "      display:flex;\n",
              "      gap: 12px;\n",
              "    }\n",
              "\n",
              "    .colab-df-convert {\n",
              "      background-color: #E8F0FE;\n",
              "      border: none;\n",
              "      border-radius: 50%;\n",
              "      cursor: pointer;\n",
              "      display: none;\n",
              "      fill: #1967D2;\n",
              "      height: 32px;\n",
              "      padding: 0 0 0 0;\n",
              "      width: 32px;\n",
              "    }\n",
              "\n",
              "    .colab-df-convert:hover {\n",
              "      background-color: #E2EBFA;\n",
              "      box-shadow: 0px 1px 2px rgba(60, 64, 67, 0.3), 0px 1px 3px 1px rgba(60, 64, 67, 0.15);\n",
              "      fill: #174EA6;\n",
              "    }\n",
              "\n",
              "    .colab-df-buttons div {\n",
              "      margin-bottom: 4px;\n",
              "    }\n",
              "\n",
              "    [theme=dark] .colab-df-convert {\n",
              "      background-color: #3B4455;\n",
              "      fill: #D2E3FC;\n",
              "    }\n",
              "\n",
              "    [theme=dark] .colab-df-convert:hover {\n",
              "      background-color: #434B5C;\n",
              "      box-shadow: 0px 1px 3px 1px rgba(0, 0, 0, 0.15);\n",
              "      filter: drop-shadow(0px 1px 2px rgba(0, 0, 0, 0.3));\n",
              "      fill: #FFFFFF;\n",
              "    }\n",
              "  </style>\n",
              "\n",
              "    <script>\n",
              "      const buttonEl =\n",
              "        document.querySelector('#df-ae4cebf3-5349-488d-92bc-43ba2c459b52 button.colab-df-convert');\n",
              "      buttonEl.style.display =\n",
              "        google.colab.kernel.accessAllowed ? 'block' : 'none';\n",
              "\n",
              "      async function convertToInteractive(key) {\n",
              "        const element = document.querySelector('#df-ae4cebf3-5349-488d-92bc-43ba2c459b52');\n",
              "        const dataTable =\n",
              "          await google.colab.kernel.invokeFunction('convertToInteractive',\n",
              "                                                    [key], {});\n",
              "        if (!dataTable) return;\n",
              "\n",
              "        const docLinkHtml = 'Like what you see? Visit the ' +\n",
              "          '<a target=\"_blank\" href=https://colab.research.google.com/notebooks/data_table.ipynb>data table notebook</a>'\n",
              "          + ' to learn more about interactive tables.';\n",
              "        element.innerHTML = '';\n",
              "        dataTable['output_type'] = 'display_data';\n",
              "        await google.colab.output.renderOutput(dataTable, element);\n",
              "        const docLink = document.createElement('div');\n",
              "        docLink.innerHTML = docLinkHtml;\n",
              "        element.appendChild(docLink);\n",
              "      }\n",
              "    </script>\n",
              "  </div>\n",
              "\n",
              "\n",
              "<div id=\"df-82ef44b8-9ca2-4e8f-aa3b-f5f230b3fda7\">\n",
              "  <button class=\"colab-df-quickchart\" onclick=\"quickchart('df-82ef44b8-9ca2-4e8f-aa3b-f5f230b3fda7')\"\n",
              "            title=\"Suggest charts\"\n",
              "            style=\"display:none;\">\n",
              "\n",
              "<svg xmlns=\"http://www.w3.org/2000/svg\" height=\"24px\"viewBox=\"0 0 24 24\"\n",
              "     width=\"24px\">\n",
              "    <g>\n",
              "        <path d=\"M19 3H5c-1.1 0-2 .9-2 2v14c0 1.1.9 2 2 2h14c1.1 0 2-.9 2-2V5c0-1.1-.9-2-2-2zM9 17H7v-7h2v7zm4 0h-2V7h2v10zm4 0h-2v-4h2v4z\"/>\n",
              "    </g>\n",
              "</svg>\n",
              "  </button>\n",
              "\n",
              "<style>\n",
              "  .colab-df-quickchart {\n",
              "      --bg-color: #E8F0FE;\n",
              "      --fill-color: #1967D2;\n",
              "      --hover-bg-color: #E2EBFA;\n",
              "      --hover-fill-color: #174EA6;\n",
              "      --disabled-fill-color: #AAA;\n",
              "      --disabled-bg-color: #DDD;\n",
              "  }\n",
              "\n",
              "  [theme=dark] .colab-df-quickchart {\n",
              "      --bg-color: #3B4455;\n",
              "      --fill-color: #D2E3FC;\n",
              "      --hover-bg-color: #434B5C;\n",
              "      --hover-fill-color: #FFFFFF;\n",
              "      --disabled-bg-color: #3B4455;\n",
              "      --disabled-fill-color: #666;\n",
              "  }\n",
              "\n",
              "  .colab-df-quickchart {\n",
              "    background-color: var(--bg-color);\n",
              "    border: none;\n",
              "    border-radius: 50%;\n",
              "    cursor: pointer;\n",
              "    display: none;\n",
              "    fill: var(--fill-color);\n",
              "    height: 32px;\n",
              "    padding: 0;\n",
              "    width: 32px;\n",
              "  }\n",
              "\n",
              "  .colab-df-quickchart:hover {\n",
              "    background-color: var(--hover-bg-color);\n",
              "    box-shadow: 0 1px 2px rgba(60, 64, 67, 0.3), 0 1px 3px 1px rgba(60, 64, 67, 0.15);\n",
              "    fill: var(--button-hover-fill-color);\n",
              "  }\n",
              "\n",
              "  .colab-df-quickchart-complete:disabled,\n",
              "  .colab-df-quickchart-complete:disabled:hover {\n",
              "    background-color: var(--disabled-bg-color);\n",
              "    fill: var(--disabled-fill-color);\n",
              "    box-shadow: none;\n",
              "  }\n",
              "\n",
              "  .colab-df-spinner {\n",
              "    border: 2px solid var(--fill-color);\n",
              "    border-color: transparent;\n",
              "    border-bottom-color: var(--fill-color);\n",
              "    animation:\n",
              "      spin 1s steps(1) infinite;\n",
              "  }\n",
              "\n",
              "  @keyframes spin {\n",
              "    0% {\n",
              "      border-color: transparent;\n",
              "      border-bottom-color: var(--fill-color);\n",
              "      border-left-color: var(--fill-color);\n",
              "    }\n",
              "    20% {\n",
              "      border-color: transparent;\n",
              "      border-left-color: var(--fill-color);\n",
              "      border-top-color: var(--fill-color);\n",
              "    }\n",
              "    30% {\n",
              "      border-color: transparent;\n",
              "      border-left-color: var(--fill-color);\n",
              "      border-top-color: var(--fill-color);\n",
              "      border-right-color: var(--fill-color);\n",
              "    }\n",
              "    40% {\n",
              "      border-color: transparent;\n",
              "      border-right-color: var(--fill-color);\n",
              "      border-top-color: var(--fill-color);\n",
              "    }\n",
              "    60% {\n",
              "      border-color: transparent;\n",
              "      border-right-color: var(--fill-color);\n",
              "    }\n",
              "    80% {\n",
              "      border-color: transparent;\n",
              "      border-right-color: var(--fill-color);\n",
              "      border-bottom-color: var(--fill-color);\n",
              "    }\n",
              "    90% {\n",
              "      border-color: transparent;\n",
              "      border-bottom-color: var(--fill-color);\n",
              "    }\n",
              "  }\n",
              "</style>\n",
              "\n",
              "  <script>\n",
              "    async function quickchart(key) {\n",
              "      const quickchartButtonEl =\n",
              "        document.querySelector('#' + key + ' button');\n",
              "      quickchartButtonEl.disabled = true;  // To prevent multiple clicks.\n",
              "      quickchartButtonEl.classList.add('colab-df-spinner');\n",
              "      try {\n",
              "        const charts = await google.colab.kernel.invokeFunction(\n",
              "            'suggestCharts', [key], {});\n",
              "      } catch (error) {\n",
              "        console.error('Error during call to suggestCharts:', error);\n",
              "      }\n",
              "      quickchartButtonEl.classList.remove('colab-df-spinner');\n",
              "      quickchartButtonEl.classList.add('colab-df-quickchart-complete');\n",
              "    }\n",
              "    (() => {\n",
              "      let quickchartButtonEl =\n",
              "        document.querySelector('#df-82ef44b8-9ca2-4e8f-aa3b-f5f230b3fda7 button');\n",
              "      quickchartButtonEl.style.display =\n",
              "        google.colab.kernel.accessAllowed ? 'block' : 'none';\n",
              "    })();\n",
              "  </script>\n",
              "</div>\n",
              "    </div>\n",
              "  </div>\n"
            ]
          },
          "metadata": {},
          "execution_count": 2
        }
      ]
    },
    {
      "cell_type": "markdown",
      "source": [
        "### 2. Contar la frecuencia de las dos clases y calcular el porcentaje de cada clase."
      ],
      "metadata": {
        "id": "UwwegY5TsgXi"
      }
    },
    {
      "cell_type": "code",
      "source": [
        "# Conteo de la frecuencia de las clases en la columna target\n",
        "\n",
        "class_counts = df['target'].value_counts()\n",
        "print(\"Frecuencia de las clases:\")\n",
        "print(class_counts)\n",
        "\n",
        "# Porcentaje de cada clase\n",
        "\n",
        "class_percentages = (class_counts / len(df)) * 100\n",
        "print(\"\\nPorcentaje de las clases:\")\n",
        "print(class_percentages)\n"
      ],
      "metadata": {
        "colab": {
          "base_uri": "https://localhost:8080/"
        },
        "id": "TZVpdtVfomXQ",
        "outputId": "bdfc32f4-9d2b-495a-8935-cd7f1e4d44a7",
        "executionInfo": {
          "status": "ok",
          "timestamp": 1727641736217,
          "user_tz": 360,
          "elapsed": 301,
          "user": {
            "displayName": "",
            "userId": ""
          }
        }
      },
      "execution_count": 3,
      "outputs": [
        {
          "output_type": "stream",
          "name": "stdout",
          "text": [
            "Frecuencia de las clases:\n",
            "target\n",
            "0    4342\n",
            "1    3271\n",
            "Name: count, dtype: int64\n",
            "\n",
            "Porcentaje de las clases:\n",
            "target\n",
            "0    57.034021\n",
            "1    42.965979\n",
            "Name: count, dtype: float64\n"
          ]
        }
      ]
    },
    {
      "cell_type": "code",
      "source": [
        "# Grafico de las clases\n",
        "\n",
        "ax = df['target'].value_counts().plot(kind='bar')\n",
        "plt.title('Distribución de las clases')\n",
        "plt.xlabel('Clase: 1=Desastre real, 0=No es desastre')\n",
        "plt.ylabel('Cantidad')\n",
        "\n",
        "# Obtener los valores de las barras\n",
        "totals = []\n",
        "for i in ax.patches:\n",
        "    totals.append(i.get_height())\n",
        "\n",
        "# Configurar el formato del texto del porcentaje\n",
        "total = sum(totals)\n",
        "for i in ax.patches:\n",
        "    # Obtener la altura de la barra\n",
        "    height = i.get_height()\n",
        "    # Calcular el porcentaje\n",
        "    percentage = '{:.1f}%'.format(100 * height / total)\n",
        "    # Agregar el texto al centro de la barra\n",
        "    ax.text(i.get_x() + i.get_width() / 2., height / 2., percentage, ha='center', va='center', rotation=0)\n",
        "\n",
        "plt.show()"
      ],
      "metadata": {
        "colab": {
          "base_uri": "https://localhost:8080/",
          "height": 467
        },
        "id": "Sg8Ip6zTrliq",
        "outputId": "c02d16af-7aa1-41a0-8993-926617529abf",
        "executionInfo": {
          "status": "ok",
          "timestamp": 1727638134759,
          "user_tz": 360,
          "elapsed": 467,
          "user": {
            "displayName": "",
            "userId": ""
          }
        }
      },
      "execution_count": null,
      "outputs": [
        {
          "output_type": "display_data",
          "data": {
            "text/plain": [
              "<Figure size 640x480 with 1 Axes>"
            ],
            "image/png": "[encoded data removed]"
          },
          "metadata": {}
        }
      ]
    },
    {
      "cell_type": "markdown",
      "source": [
        "### 3. Obtener la lista de stopwords para inglés.\n"
      ],
      "metadata": {
        "id": "0ayOfxQMskCl"
      }
    },
    {
      "cell_type": "code",
      "source": [
        "nltk.download('stopwords')\n",
        "swords = stopwords.words(\"english\")"
      ],
      "metadata": {
        "colab": {
          "base_uri": "https://localhost:8080/"
        },
        "id": "Ih50TUIVso9S",
        "outputId": "675b57f3-151e-45a2-cf74-570b137923db",
        "executionInfo": {
          "status": "ok",
          "timestamp": 1727641740026,
          "user_tz": 360,
          "elapsed": 252,
          "user": {
            "displayName": "",
            "userId": ""
          }
        }
      },
      "execution_count": 4,
      "outputs": [
        {
          "output_type": "stream",
          "name": "stderr",
          "text": [
            "[nltk_data] Downloading package stopwords to /root/nltk_data...\n",
            "[nltk_data]   Unzipping corpora/stopwords.zip.\n"
          ]
        }
      ]
    },
    {
      "cell_type": "markdown",
      "source": [
        "### 4. Calcular y mostrar la distribución de palabras para cada una de las clases. Antes de contar debe eliminar las palabras no útiles (stopwords)"
      ],
      "metadata": {
        "id": "bxu21oXKsmFt"
      }
    },
    {
      "cell_type": "code",
      "source": [
        "for columna in features:\n",
        "  # Elimina valores Nulos\n",
        "  df[columna] = df[columna].apply(lambda x: x.replace('N/A', ''))\n",
        "\n",
        "  # Convierte palabras a minúscula\n",
        "  df[columna] = df[columna].apply(lambda x: x.lower())\n",
        "\n",
        "  # Elimina links\n",
        "  df[columna] = df[columna].apply(lambda x: re.sub(r'http\\S+', '', x))\n",
        "\n",
        "  # Limpia todo excepto caracteres alfanuméricos\n",
        "  df[columna] = df[columna].apply(lambda x: re.sub(\"[^a-zA-Z0-9]\",\" \",x))\n",
        "\n",
        "  # Elimina stopwords\n",
        "  df[columna] = df[columna].apply(lambda x: ' '.join([word for word in x.split() if word not in swords]))\n",
        "df.sample(20)"
      ],
      "metadata": {
        "colab": {
          "base_uri": "https://localhost:8080/",
          "height": 677
        },
        "id": "Es4VuD9_spte",
        "outputId": "a55e5c65-0425-43bb-f46a-c18de1a9078f",
        "executionInfo": {
          "status": "ok",
          "timestamp": 1727641742577,
          "user_tz": 360,
          "elapsed": 561,
          "user": {
            "displayName": "",
            "userId": ""
          }
        }
      },
      "execution_count": 5,
      "outputs": [
        {
          "output_type": "execute_result",
          "data": {
            "text/plain": [
              "         id             keyword                  location  \\\n",
              "4356   6188            hijacker    san francisco bay area   \n",
              "3413   4884             explode               bloomington   \n",
              "4586   6520            injuries  corpus las vegas houston   \n",
              "4433   6306             hostage                             \n",
              "4300   6106            hellfire        right next compton   \n",
              "5865   8378                ruin                    boston   \n",
              "1575   2275          cliff fall                             \n",
              "3355   4802           evacuated                             \n",
              "3144   4518           emergency               wildomar ca   \n",
              "3046   4373          earthquake                hawaii usa   \n",
              "269     390        annihilation           subconscious la   \n",
              "1531   2213  chemical emergency           ukraine ireland   \n",
              "4940   7039              mayhem              jersey shore   \n",
              "2247   3217             deluged                      hill   \n",
              "1518   2192        catastrophic      inexpressible island   \n",
              "5263   7525           oil spill     england great britain   \n",
              "799    1157              blight                             \n",
              "4284   6087            hellfire                             \n",
              "7515  10748            wreckage                    africa   \n",
              "3061   4392          earthquake            global edition   \n",
              "\n",
              "                                                   text  target  \n",
              "4356  gov brown allows parole 1976 chowchilla school...       0  \n",
              "3413  two cans explode wanted drink rest kaldi coffe...       0  \n",
              "4586  injuries starting please dallascowboys stay he...       0  \n",
              "4433                         shadow holdin hostage days       0  \n",
              "4300  ian hellfire got mistake boss got worse cause ...       0  \n",
              "5865      lol real issue way nfl trying ruin guy legacy       0  \n",
              "1575                                  fall cliff please       1  \n",
              "3355  good thing actually legit fire mall nobody eva...       1  \n",
              "3144  child needs emergency care seen emergency depa...       0  \n",
              "3046  usgs reports m1 94 earthquake 5km volcano hawa...       1  \n",
              "269   world annihilation vs self transformation alie...       1  \n",
              "1531  russian nuclear biological chemical nbc brigad...       1  \n",
              "4940            breaking authorities respond ocean fire       1  \n",
              "2247  also matter weeks amazon going deluged poorly ...       0  \n",
              "1518  catastrophic effects hiroshima nagasaki atomic...       1  \n",
              "5263  national briefing west california spring oil s...       1  \n",
              "799              apperception bridgework blight xxhjesc       0  \n",
              "4284  prophet peace upon said save hellfire even giv...       0  \n",
              "7515        malaysia pm confirms wreckage belongs mh370       1  \n",
              "3061  earthquake emsc md 2 9 coast northern californ...       1  "
            ],
            "text/html": [
              "\n",
              "  <div id=\"df-f348d93e-4343-432d-9076-29113f42029a\" class=\"colab-df-container\">\n",
              "    <div>\n",
              "<style scoped>\n",
              "    .dataframe tbody tr th:only-of-type {\n",
              "        vertical-align: middle;\n",
              "    }\n",
              "\n",
              "    .dataframe tbody tr th {\n",
              "        vertical-align: top;\n",
              "    }\n",
              "\n",
              "    .dataframe thead th {\n",
              "        text-align: right;\n",
              "    }\n",
              "</style>\n",
              "<table border=\"1\" class=\"dataframe\">\n",
              "  <thead>\n",
              "    <tr style=\"text-align: right;\">\n",
              "      <th></th>\n",
              "      <th>id</th>\n",
              "      <th>keyword</th>\n",
              "      <th>location</th>\n",
              "      <th>text</th>\n",
              "      <th>target</th>\n",
              "    </tr>\n",
              "  </thead>\n",
              "  <tbody>\n",
              "    <tr>\n",
              "      <th>4356</th>\n",
              "      <td>6188</td>\n",
              "      <td>hijacker</td>\n",
              "      <td>san francisco bay area</td>\n",
              "      <td>gov brown allows parole 1976 chowchilla school...</td>\n",
              "      <td>0</td>\n",
              "    </tr>\n",
              "    <tr>\n",
              "      <th>3413</th>\n",
              "      <td>4884</td>\n",
              "      <td>explode</td>\n",
              "      <td>bloomington</td>\n",
              "      <td>two cans explode wanted drink rest kaldi coffe...</td>\n",
              "      <td>0</td>\n",
              "    </tr>\n",
              "    <tr>\n",
              "      <th>4586</th>\n",
              "      <td>6520</td>\n",
              "      <td>injuries</td>\n",
              "      <td>corpus las vegas houston</td>\n",
              "      <td>injuries starting please dallascowboys stay he...</td>\n",
              "      <td>0</td>\n",
              "    </tr>\n",
              "    <tr>\n",
              "      <th>4433</th>\n",
              "      <td>6306</td>\n",
              "      <td>hostage</td>\n",
              "      <td></td>\n",
              "      <td>shadow holdin hostage days</td>\n",
              "      <td>0</td>\n",
              "    </tr>\n",
              "    <tr>\n",
              "      <th>4300</th>\n",
              "      <td>6106</td>\n",
              "      <td>hellfire</td>\n",
              "      <td>right next compton</td>\n",
              "      <td>ian hellfire got mistake boss got worse cause ...</td>\n",
              "      <td>0</td>\n",
              "    </tr>\n",
              "    <tr>\n",
              "      <th>5865</th>\n",
              "      <td>8378</td>\n",
              "      <td>ruin</td>\n",
              "      <td>boston</td>\n",
              "      <td>lol real issue way nfl trying ruin guy legacy</td>\n",
              "      <td>0</td>\n",
              "    </tr>\n",
              "    <tr>\n",
              "      <th>1575</th>\n",
              "      <td>2275</td>\n",
              "      <td>cliff fall</td>\n",
              "      <td></td>\n",
              "      <td>fall cliff please</td>\n",
              "      <td>1</td>\n",
              "    </tr>\n",
              "    <tr>\n",
              "      <th>3355</th>\n",
              "      <td>4802</td>\n",
              "      <td>evacuated</td>\n",
              "      <td></td>\n",
              "      <td>good thing actually legit fire mall nobody eva...</td>\n",
              "      <td>1</td>\n",
              "    </tr>\n",
              "    <tr>\n",
              "      <th>3144</th>\n",
              "      <td>4518</td>\n",
              "      <td>emergency</td>\n",
              "      <td>wildomar ca</td>\n",
              "      <td>child needs emergency care seen emergency depa...</td>\n",
              "      <td>0</td>\n",
              "    </tr>\n",
              "    <tr>\n",
              "      <th>3046</th>\n",
              "      <td>4373</td>\n",
              "      <td>earthquake</td>\n",
              "      <td>hawaii usa</td>\n",
              "      <td>usgs reports m1 94 earthquake 5km volcano hawa...</td>\n",
              "      <td>1</td>\n",
              "    </tr>\n",
              "    <tr>\n",
              "      <th>269</th>\n",
              "      <td>390</td>\n",
              "      <td>annihilation</td>\n",
              "      <td>subconscious la</td>\n",
              "      <td>world annihilation vs self transformation alie...</td>\n",
              "      <td>1</td>\n",
              "    </tr>\n",
              "    <tr>\n",
              "      <th>1531</th>\n",
              "      <td>2213</td>\n",
              "      <td>chemical emergency</td>\n",
              "      <td>ukraine ireland</td>\n",
              "      <td>russian nuclear biological chemical nbc brigad...</td>\n",
              "      <td>1</td>\n",
              "    </tr>\n",
              "    <tr>\n",
              "      <th>4940</th>\n",
              "      <td>7039</td>\n",
              "      <td>mayhem</td>\n",
              "      <td>jersey shore</td>\n",
              "      <td>breaking authorities respond ocean fire</td>\n",
              "      <td>1</td>\n",
              "    </tr>\n",
              "    <tr>\n",
              "      <th>2247</th>\n",
              "      <td>3217</td>\n",
              "      <td>deluged</td>\n",
              "      <td>hill</td>\n",
              "      <td>also matter weeks amazon going deluged poorly ...</td>\n",
              "      <td>0</td>\n",
              "    </tr>\n",
              "    <tr>\n",
              "      <th>1518</th>\n",
              "      <td>2192</td>\n",
              "      <td>catastrophic</td>\n",
              "      <td>inexpressible island</td>\n",
              "      <td>catastrophic effects hiroshima nagasaki atomic...</td>\n",
              "      <td>1</td>\n",
              "    </tr>\n",
              "    <tr>\n",
              "      <th>5263</th>\n",
              "      <td>7525</td>\n",
              "      <td>oil spill</td>\n",
              "      <td>england great britain</td>\n",
              "      <td>national briefing west california spring oil s...</td>\n",
              "      <td>1</td>\n",
              "    </tr>\n",
              "    <tr>\n",
              "      <th>799</th>\n",
              "      <td>1157</td>\n",
              "      <td>blight</td>\n",
              "      <td></td>\n",
              "      <td>apperception bridgework blight xxhjesc</td>\n",
              "      <td>0</td>\n",
              "    </tr>\n",
              "    <tr>\n",
              "      <th>4284</th>\n",
              "      <td>6087</td>\n",
              "      <td>hellfire</td>\n",
              "      <td></td>\n",
              "      <td>prophet peace upon said save hellfire even giv...</td>\n",
              "      <td>0</td>\n",
              "    </tr>\n",
              "    <tr>\n",
              "      <th>7515</th>\n",
              "      <td>10748</td>\n",
              "      <td>wreckage</td>\n",
              "      <td>africa</td>\n",
              "      <td>malaysia pm confirms wreckage belongs mh370</td>\n",
              "      <td>1</td>\n",
              "    </tr>\n",
              "    <tr>\n",
              "      <th>3061</th>\n",
              "      <td>4392</td>\n",
              "      <td>earthquake</td>\n",
              "      <td>global edition</td>\n",
              "      <td>earthquake emsc md 2 9 coast northern californ...</td>\n",
              "      <td>1</td>\n",
              "    </tr>\n",
              "  </tbody>\n",
              "</table>\n",
              "</div>\n",
              "    <div class=\"colab-df-buttons\">\n",
              "\n",
              "  <div class=\"colab-df-container\">\n",
              "    <button class=\"colab-df-convert\" onclick=\"convertToInteractive('df-f348d93e-4343-432d-9076-29113f42029a')\"\n",
              "            title=\"Convert this dataframe to an interactive table.\"\n",
              "            style=\"display:none;\">\n",
              "\n",
              "  <svg xmlns=\"http://www.w3.org/2000/svg\" height=\"24px\" viewBox=\"0 -960 960 960\">\n",
              "    <path d=\"M120-120v-720h720v720H120Zm60-500h600v-160H180v160Zm220 220h160v-160H400v160Zm0 220h160v-160H400v160ZM180-400h160v-160H180v160Zm440 0h160v-160H620v160ZM180-180h160v-160H180v160Zm440 0h160v-160H620v160Z\"/>\n",
              "  </svg>\n",
              "    </button>\n",
              "\n",
              "  <style>\n",
              "    .colab-df-container {\n",
              "      display:flex;\n",
              "      gap: 12px;\n",
              "    }\n",
              "\n",
              "    .colab-df-convert {\n",
              "      background-color: #E8F0FE;\n",
              "      border: none;\n",
              "      border-radius: 50%;\n",
              "      cursor: pointer;\n",
              "      display: none;\n",
              "      fill: #1967D2;\n",
              "      height: 32px;\n",
              "      padding: 0 0 0 0;\n",
              "      width: 32px;\n",
              "    }\n",
              "\n",
              "    .colab-df-convert:hover {\n",
              "      background-color: #E2EBFA;\n",
              "      box-shadow: 0px 1px 2px rgba(60, 64, 67, 0.3), 0px 1px 3px 1px rgba(60, 64, 67, 0.15);\n",
              "      fill: #174EA6;\n",
              "    }\n",
              "\n",
              "    .colab-df-buttons div {\n",
              "      margin-bottom: 4px;\n",
              "    }\n",
              "\n",
              "    [theme=dark] .colab-df-convert {\n",
              "      background-color: #3B4455;\n",
              "      fill: #D2E3FC;\n",
              "    }\n",
              "\n",
              "    [theme=dark] .colab-df-convert:hover {\n",
              "      background-color: #434B5C;\n",
              "      box-shadow: 0px 1px 3px 1px rgba(0, 0, 0, 0.15);\n",
              "      filter: drop-shadow(0px 1px 2px rgba(0, 0, 0, 0.3));\n",
              "      fill: #FFFFFF;\n",
              "    }\n",
              "  </style>\n",
              "\n",
              "    <script>\n",
              "      const buttonEl =\n",
              "        document.querySelector('#df-f348d93e-4343-432d-9076-29113f42029a button.colab-df-convert');\n",
              "      buttonEl.style.display =\n",
              "        google.colab.kernel.accessAllowed ? 'block' : 'none';\n",
              "\n",
              "      async function convertToInteractive(key) {\n",
              "        const element = document.querySelector('#df-f348d93e-4343-432d-9076-29113f42029a');\n",
              "        const dataTable =\n",
              "          await google.colab.kernel.invokeFunction('convertToInteractive',\n",
              "                                                    [key], {});\n",
              "        if (!dataTable) return;\n",
              "\n",
              "        const docLinkHtml = 'Like what you see? Visit the ' +\n",
              "          '<a target=\"_blank\" href=https://colab.research.google.com/notebooks/data_table.ipynb>data table notebook</a>'\n",
              "          + ' to learn more about interactive tables.';\n",
              "        element.innerHTML = '';\n",
              "        dataTable['output_type'] = 'display_data';\n",
              "        await google.colab.output.renderOutput(dataTable, element);\n",
              "        const docLink = document.createElement('div');\n",
              "        docLink.innerHTML = docLinkHtml;\n",
              "        element.appendChild(docLink);\n",
              "      }\n",
              "    </script>\n",
              "  </div>\n",
              "\n",
              "\n",
              "<div id=\"df-25ba3a5e-3e40-4244-bf66-512c0c35a65a\">\n",
              "  <button class=\"colab-df-quickchart\" onclick=\"quickchart('df-25ba3a5e-3e40-4244-bf66-512c0c35a65a')\"\n",
              "            title=\"Suggest charts\"\n",
              "            style=\"display:none;\">\n",
              "\n",
              "<svg xmlns=\"http://www.w3.org/2000/svg\" height=\"24px\"viewBox=\"0 0 24 24\"\n",
              "     width=\"24px\">\n",
              "    <g>\n",
              "        <path d=\"M19 3H5c-1.1 0-2 .9-2 2v14c0 1.1.9 2 2 2h14c1.1 0 2-.9 2-2V5c0-1.1-.9-2-2-2zM9 17H7v-7h2v7zm4 0h-2V7h2v10zm4 0h-2v-4h2v4z\"/>\n",
              "    </g>\n",
              "</svg>\n",
              "  </button>\n",
              "\n",
              "<style>\n",
              "  .colab-df-quickchart {\n",
              "      --bg-color: #E8F0FE;\n",
              "      --fill-color: #1967D2;\n",
              "      --hover-bg-color: #E2EBFA;\n",
              "      --hover-fill-color: #174EA6;\n",
              "      --disabled-fill-color: #AAA;\n",
              "      --disabled-bg-color: #DDD;\n",
              "  }\n",
              "\n",
              "  [theme=dark] .colab-df-quickchart {\n",
              "      --bg-color: #3B4455;\n",
              "      --fill-color: #D2E3FC;\n",
              "      --hover-bg-color: #434B5C;\n",
              "      --hover-fill-color: #FFFFFF;\n",
              "      --disabled-bg-color: #3B4455;\n",
              "      --disabled-fill-color: #666;\n",
              "  }\n",
              "\n",
              "  .colab-df-quickchart {\n",
              "    background-color: var(--bg-color);\n",
              "    border: none;\n",
              "    border-radius: 50%;\n",
              "    cursor: pointer;\n",
              "    display: none;\n",
              "    fill: var(--fill-color);\n",
              "    height: 32px;\n",
              "    padding: 0;\n",
              "    width: 32px;\n",
              "  }\n",
              "\n",
              "  .colab-df-quickchart:hover {\n",
              "    background-color: var(--hover-bg-color);\n",
              "    box-shadow: 0 1px 2px rgba(60, 64, 67, 0.3), 0 1px 3px 1px rgba(60, 64, 67, 0.15);\n",
              "    fill: var(--button-hover-fill-color);\n",
              "  }\n",
              "\n",
              "  .colab-df-quickchart-complete:disabled,\n",
              "  .colab-df-quickchart-complete:disabled:hover {\n",
              "    background-color: var(--disabled-bg-color);\n",
              "    fill: var(--disabled-fill-color);\n",
              "    box-shadow: none;\n",
              "  }\n",
              "\n",
              "  .colab-df-spinner {\n",
              "    border: 2px solid var(--fill-color);\n",
              "    border-color: transparent;\n",
              "    border-bottom-color: var(--fill-color);\n",
              "    animation:\n",
              "      spin 1s steps(1) infinite;\n",
              "  }\n",
              "\n",
              "  @keyframes spin {\n",
              "    0% {\n",
              "      border-color: transparent;\n",
              "      border-bottom-color: var(--fill-color);\n",
              "      border-left-color: var(--fill-color);\n",
              "    }\n",
              "    20% {\n",
              "      border-color: transparent;\n",
              "      border-left-color: var(--fill-color);\n",
              "      border-top-color: var(--fill-color);\n",
              "    }\n",
              "    30% {\n",
              "      border-color: transparent;\n",
              "      border-left-color: var(--fill-color);\n",
              "      border-top-color: var(--fill-color);\n",
              "      border-right-color: var(--fill-color);\n",
              "    }\n",
              "    40% {\n",
              "      border-color: transparent;\n",
              "      border-right-color: var(--fill-color);\n",
              "      border-top-color: var(--fill-color);\n",
              "    }\n",
              "    60% {\n",
              "      border-color: transparent;\n",
              "      border-right-color: var(--fill-color);\n",
              "    }\n",
              "    80% {\n",
              "      border-color: transparent;\n",
              "      border-right-color: var(--fill-color);\n",
              "      border-bottom-color: var(--fill-color);\n",
              "    }\n",
              "    90% {\n",
              "      border-color: transparent;\n",
              "      border-bottom-color: var(--fill-color);\n",
              "    }\n",
              "  }\n",
              "</style>\n",
              "\n",
              "  <script>\n",
              "    async function quickchart(key) {\n",
              "      const quickchartButtonEl =\n",
              "        document.querySelector('#' + key + ' button');\n",
              "      quickchartButtonEl.disabled = true;  // To prevent multiple clicks.\n",
              "      quickchartButtonEl.classList.add('colab-df-spinner');\n",
              "      try {\n",
              "        const charts = await google.colab.kernel.invokeFunction(\n",
              "            'suggestCharts', [key], {});\n",
              "      } catch (error) {\n",
              "        console.error('Error during call to suggestCharts:', error);\n",
              "      }\n",
              "      quickchartButtonEl.classList.remove('colab-df-spinner');\n",
              "      quickchartButtonEl.classList.add('colab-df-quickchart-complete');\n",
              "    }\n",
              "    (() => {\n",
              "      let quickchartButtonEl =\n",
              "        document.querySelector('#df-25ba3a5e-3e40-4244-bf66-512c0c35a65a button');\n",
              "      quickchartButtonEl.style.display =\n",
              "        google.colab.kernel.accessAllowed ? 'block' : 'none';\n",
              "    })();\n",
              "  </script>\n",
              "</div>\n",
              "    </div>\n",
              "  </div>\n"
            ]
          },
          "metadata": {},
          "execution_count": 5
        }
      ]
    },
    {
      "cell_type": "markdown",
      "source": [
        "## **Pre-procesamiento** (5 puntos)\n"
      ],
      "metadata": {
        "id": "qtf-Fh9plC8w"
      }
    },
    {
      "cell_type": "markdown",
      "source": [
        "### 5. Separar la colección en un conjunto de entrenamiento y uno de prueba. Dar un 80% de los registros al conjunto de entrenamiento.\n"
      ],
      "metadata": {
        "id": "hZQ2Qs3ruUdv"
      }
    },
    {
      "cell_type": "code",
      "source": [
        "X = df[features]\n",
        "y = df['target']\n",
        "\n",
        "X_train, X_test, y_train, y_test = train_test_split(X, y, test_size=0.2, random_state=42)\n",
        "\n",
        "print(\"Tamaño del conjunto de entrenamiento:\\t\", X_train.shape)\n",
        "print(\"Tamaño del conjunto de prueba:\\t\\t\", X_test.shape)\n",
        "print(\"Tamaño del conjunto de etiquetas de entrenamiento:\\t\", y_train.shape)\n",
        "print(\"Tamaño del conjunto de etiquetas de prueba:\\t\\t\", y_test.shape)\n"
      ],
      "metadata": {
        "colab": {
          "base_uri": "https://localhost:8080/"
        },
        "id": "SnHRwzq8svTV",
        "outputId": "cdd94bd8-e34e-4f96-e4ce-23817521dfdd",
        "executionInfo": {
          "status": "ok",
          "timestamp": 1727641747047,
          "user_tz": 360,
          "elapsed": 329,
          "user": {
            "displayName": "",
            "userId": ""
          }
        }
      },
      "execution_count": 6,
      "outputs": [
        {
          "output_type": "stream",
          "name": "stdout",
          "text": [
            "Tamaño del conjunto de entrenamiento:\t (6090, 3)\n",
            "Tamaño del conjunto de prueba:\t\t (1523, 3)\n",
            "Tamaño del conjunto de etiquetas de entrenamiento:\t (6090,)\n",
            "Tamaño del conjunto de etiquetas de prueba:\t\t (1523,)\n"
          ]
        }
      ]
    },
    {
      "cell_type": "markdown",
      "source": [
        "### 6. Convertir el conjunto de entrenamiento y el conjunto de pruebas a la representación requerida por el modelo SVM."
      ],
      "metadata": {
        "id": "v1-KTQRIsrM7"
      }
    },
    {
      "cell_type": "code",
      "source": [
        "# Combina las columnas de texto en una sola columna\n",
        "X_train['combined_text'] = X_train['keyword'] + ' ' + X_train['location'] + ' ' + X_train['text']\n",
        "X_test['combined_text'] = X_test['keyword'] + ' ' + X_test['location'] + ' ' + X_test['text']"
      ],
      "metadata": {
        "id": "WjWwNOR3CUR_",
        "executionInfo": {
          "status": "ok",
          "timestamp": 1727641750968,
          "user_tz": 360,
          "elapsed": 377,
          "user": {
            "displayName": "",
            "userId": ""
          }
        }
      },
      "execution_count": 7,
      "outputs": []
    },
    {
      "cell_type": "code",
      "source": [
        "\"\"\"Se debe convertir cada columna textual a una representacion numérica (vectorizacion) para poder entrenar un\n",
        "clasificador SVM.\n",
        "\n",
        "En el jupyter de la clase 5 usan Bag of Words, tambien se podria usar TF-IDF o Word2Vec para realizar esta conversión.\n",
        "\"\"\"\n",
        "\n",
        "# Vectorizacion con Bag of Words\n",
        "vectorizer = CountVectorizer(max_features=50000)\n",
        "\n",
        "X_train_bow = vectorizer.fit_transform(X_train['combined_text']).toarray()\n",
        "X_test_bow = vectorizer.transform(X_test['combined_text']).toarray()\n",
        "\n",
        "print(X_train_bow.shape)\n",
        "print(X_test_bow.shape)\n",
        "print(vectorizer.get_feature_names_out())\n"
      ],
      "metadata": {
        "colab": {
          "base_uri": "https://localhost:8080/"
        },
        "id": "voP6hM3H9pM9",
        "outputId": "9783444c-d098-4df4-b3f6-8ae65ba61025",
        "executionInfo": {
          "status": "ok",
          "timestamp": 1727641752837,
          "user_tz": 360,
          "elapsed": 483,
          "user": {
            "displayName": "",
            "userId": ""
          }
        }
      },
      "execution_count": 8,
      "outputs": [
        {
          "output_type": "stream",
          "name": "stdout",
          "text": [
            "(6090, 16230)\n",
            "(1523, 16230)\n",
            "['00' '000' '0000' ... 'zumiez' 'zwe' 'zzzz']\n"
          ]
        }
      ]
    },
    {
      "cell_type": "markdown",
      "source": [
        "## **Experimentos** (10 puntos)"
      ],
      "metadata": {
        "id": "SMPQXEq1lKAk"
      }
    },
    {
      "cell_type": "markdown",
      "source": [
        "### 7. Implementar y entrenar un clasificador usando SVM."
      ],
      "metadata": {
        "id": "hlVWy4cM4rAB"
      }
    },
    {
      "cell_type": "code",
      "source": [
        "# Crea un clasificador SVC\n",
        "svm_classifier = SVC(kernel='linear')\n",
        "\n",
        "# Registra el tiempo de inicio\n",
        "start_time = time.time()\n",
        "\n",
        "# Entrena el clasificador\n",
        "svm_classifier.fit(X_train_bow, y_train)\n",
        "\n",
        "# Registra el tiempo de finalización\n",
        "end_time = time.time()\n",
        "\n",
        "# Calcula la duración del entrenamiento\n",
        "training_time = end_time - start_time\n",
        "\n",
        "print(f\"El entrenamiento tomó {training_time:.2f} segundos.\")\n"
      ],
      "metadata": {
        "id": "z58BVCmXlPYf",
        "colab": {
          "base_uri": "https://localhost:8080/"
        },
        "outputId": "66a8afee-e29e-4f9e-dda2-005e96832c69",
        "executionInfo": {
          "status": "ok",
          "timestamp": 1727638374159,
          "user_tz": 360,
          "elapsed": 172168,
          "user": {
            "displayName": "",
            "userId": ""
          }
        }
      },
      "execution_count": null,
      "outputs": [
        {
          "output_type": "stream",
          "name": "stdout",
          "text": [
            "El entrenamiento tomó 171.95 segundos.\n"
          ]
        }
      ]
    },
    {
      "cell_type": "markdown",
      "source": [
        "\n",
        "### 8. Obtener predicciones del modelo SVM usando el conjunto de prueba."
      ],
      "metadata": {
        "id": "S9Ygj9QJ4owf"
      }
    },
    {
      "cell_type": "code",
      "source": [
        "# Registra el tiempo de inicio\n",
        "start_time = time.time()\n",
        "y_pred = svm_classifier.predict(X_test_bow)\n",
        "# Registra el tiempo de finalización\n",
        "end_time = time.time()\n",
        "# Calcula la duración del entrenamiento\n",
        "inference_time = end_time - start_time\n",
        "print(f\"La inferencia tomó {inference_time:.2f} segundos.\")\n",
        "print(y_pred)"
      ],
      "metadata": {
        "colab": {
          "base_uri": "https://localhost:8080/"
        },
        "id": "CQTgVxCF4pLs",
        "outputId": "0a2b9d2a-dbf3-4051-ad90-afbe1e3f78b4",
        "executionInfo": {
          "status": "ok",
          "timestamp": 1727638397440,
          "user_tz": 360,
          "elapsed": 23285,
          "user": {
            "displayName": "",
            "userId": ""
          }
        }
      },
      "execution_count": null,
      "outputs": [
        {
          "output_type": "stream",
          "name": "stdout",
          "text": [
            "La inferencia tomó 23.23 segundos.\n",
            "[0 0 0 ... 1 1 1]\n"
          ]
        }
      ]
    },
    {
      "cell_type": "markdown",
      "source": [
        "## **Evaluación** (5 puntos)\n"
      ],
      "metadata": {
        "id": "wev_qIdFlQBK"
      }
    },
    {
      "cell_type": "markdown",
      "source": [
        "### 9. Obtener los valores de precisión, recall, f1-score y acierto para el modelo. Tanto globales como por clase."
      ],
      "metadata": {
        "id": "yrSov7Bn43f6"
      }
    },
    {
      "cell_type": "code",
      "source": [
        "# Precisión, recall, f1-score y acierto globales\n",
        "accuracy = accuracy_score(y_test, y_pred)\n",
        "precision = precision_score(y_test, y_pred)\n",
        "recall = recall_score(y_test, y_pred)\n",
        "f1 = f1_score(y_test, y_pred)\n",
        "\n",
        "print(\"Métricas globales:\")\n",
        "print(\"Precisión:\\t\", accuracy)\n",
        "print(\"Recall:\\t\\t\", recall)\n",
        "print(\"F1-score:\\t\", f1)\n",
        "print(\"Acierto:\\t\", accuracy)\n",
        "\n",
        "\n",
        "# Precisión, recall, f1-score y acierto por clase\n",
        "print(\"\\nMétricas por clase:\")\n",
        "print(classification_report(y_test, y_pred))\n",
        "\n",
        "# Matriz de confusión\n",
        "cm = confusion_matrix(y_test, y_pred)\n",
        "print(\"\\nMatriz de confusión:\")\n",
        "print(cm)\n"
      ],
      "metadata": {
        "colab": {
          "base_uri": "https://localhost:8080/"
        },
        "id": "hmmLtY3E4-Dr",
        "outputId": "dd7f836f-e5ef-4793-fc9d-6816c0fa52f7",
        "executionInfo": {
          "status": "ok",
          "timestamp": 1727638397440,
          "user_tz": 360,
          "elapsed": 7,
          "user": {
            "displayName": "",
            "userId": ""
          }
        }
      },
      "execution_count": null,
      "outputs": [
        {
          "output_type": "stream",
          "name": "stdout",
          "text": [
            "Métricas globales:\n",
            "Precisión:\t 0.7511490479317138\n",
            "Recall:\t\t 0.6810477657935285\n",
            "F1-score:\t 0.6999208234362629\n",
            "Acierto:\t 0.7511490479317138\n",
            "\n",
            "Métricas por clase:\n",
            "              precision    recall  f1-score   support\n",
            "\n",
            "           0       0.77      0.80      0.79       874\n",
            "           1       0.72      0.68      0.70       649\n",
            "\n",
            "    accuracy                           0.75      1523\n",
            "   macro avg       0.75      0.74      0.74      1523\n",
            "weighted avg       0.75      0.75      0.75      1523\n",
            "\n",
            "\n",
            "Matriz de confusión:\n",
            "[[702 172]\n",
            " [207 442]]\n"
          ]
        }
      ]
    },
    {
      "cell_type": "markdown",
      "source": [
        "### 10. Comentar los resultados obtenidos.\n",
        "\n",
        "\n",
        "**Evaluación del modelo SVM con BoW**\n",
        "\n",
        "El modelo SVM obtuvo una precisión relativamente alta ($>.77$), lo que indica que clasifica correctamente una gran  parte de los tweets, sin embargo, el modelo tiene un recall moderado ($~.68$), con una tendencia a clasificar mejor los resultados donde no hubo desastre (clase 0).\n",
        "\n",
        "El balance entre precisión y recall es moderado (f1-score $= .70$), mostrando un rendimiento aceptable.\n",
        "\n",
        "La matriz de confusión muestra que el modelo tiene una mayor facilidad para identificar los tweets que no son desastres (clase 0).\n",
        "\n",
        "Sin embargo, se puede mejorar en identificar correctamente los tweets que son desastres (clase 1). Una mejora podría ser probar con otras técnicas de vectorización, como TF-IDF o Word2Vec.\n"
      ],
      "metadata": {
        "id": "ciBMK64T43MT"
      }
    },
    {
      "cell_type": "markdown",
      "source": [
        "# **B) Long Short-Term Memory (LSTM)**\n",
        "\n"
      ],
      "metadata": {
        "id": "RRfb4UG8lVsE"
      }
    },
    {
      "cell_type": "markdown",
      "source": [
        "## **Pre-procesamiento** (5 puntos)\n"
      ],
      "metadata": {
        "id": "oNd9fnwn5Bok"
      }
    },
    {
      "cell_type": "markdown",
      "source": [
        "### 11. Utilice las mismas particiones de entrenamiento y pruebas obtenidas en el ejercicio A)\n"
      ],
      "metadata": {
        "id": "7prvbfFe5D_j"
      }
    },
    {
      "cell_type": "markdown",
      "source": [
        "### 12. Convertir el conjunto de entrenamiento y el conjunto de pruebas a la representación requerida por el modelo LSTM."
      ],
      "metadata": {
        "id": "hd0_nIEw5GuA"
      }
    },
    {
      "cell_type": "code",
      "source": [
        "import string\n",
        "from nltk.tokenize import word_tokenize\n",
        "# Cargar el tokenizer de NLTK\n",
        "nltk.download('punkt')\n",
        "\n",
        "def tokenize(text):\n",
        "    # Eliminar caracteres no ASCII\n",
        "    text = re.sub(r\"[^\\x00-\\x7F]+\", \" \", text)\n",
        "\n",
        "    # Crear un regex para eliminar puntuación, números y saltos de línea/tabulación\n",
        "    regex = re.compile('[' + re.escape(string.punctuation) + '0-9\\\\r\\\\t\\\\n]')\n",
        "\n",
        "    # Eliminar puntuación y números, y convertir el texto a minúsculas\n",
        "    nopunct = regex.sub(\" \", text.lower())\n",
        "\n",
        "    # Tokenizar usando NLTK\n",
        "    return word_tokenize(nopunct)\n",
        "\n",
        "# Diccionario\n",
        "def process_word_to_ix(sentences_df, df_column):\n",
        "    \"\"\"\n",
        "    Creates a dictionary of words from sentences in a DataFrame.\n",
        "    Parameters:\n",
        "      sentences_df: DataFrame Table with the column of texts to be processed.\n",
        "      df_column: Column name.\n",
        "    Returns:\n",
        "      word_to_ix: a dictionary of words\n",
        "    \"\"\"\n",
        "    word_to_ix = {\"\":0, \"UNK\":1}\n",
        "    for sentence in sentences_df[df_column]:\n",
        "      for word in tokenize(sentence):\n",
        "        if word not in word_to_ix:\n",
        "            word_to_ix[word] = len(word_to_ix)\n",
        "    return(word_to_ix)\n",
        "\n",
        "vocab2index = process_word_to_ix(X_train, 'combined_text')\n",
        "print(f'Tamaño del diccionario: {len(vocab2index)}\\n{vocab2index}')"
      ],
      "metadata": {
        "colab": {
          "base_uri": "https://localhost:8080/"
        },
        "id": "ChiQUQI9jTrA",
        "outputId": "2130ef85-b820-4952-d09b-7e5b9b1d14a3",
        "executionInfo": {
          "status": "ok",
          "timestamp": 1727641774307,
          "user_tz": 360,
          "elapsed": 1821,
          "user": {
            "displayName": "",
            "userId": ""
          }
        }
      },
      "execution_count": 9,
      "outputs": [
        {
          "output_type": "stream",
          "name": "stderr",
          "text": [
            "[nltk_data] Downloading package punkt to /root/nltk_data...\n",
            "[nltk_data]   Unzipping tokenizers/punkt.zip.\n"
          ]
        },
        {
          "output_type": "stream",
          "name": "stdout",
          "text": [
            "Tamaño del diccionario: 15509\n",
            "{'': 0, 'UNK': 1, 'military': 2, 'texas': 3, 'courageous': 4, 'honest': 5, 'analysis': 6, 'need': 7, 'use': 8, 'atomic': 9, 'bomb': 10, 'hiroshima': 11, 'japanese': 12, 'refused': 13, 'surrender': 14, 'engulfed': 15, 'zachzaidman': 16, 'thescore': 17, 'wld': 18, 'b': 19, 'shame': 20, 'golf': 21, 'cart': 22, 'became': 23, 'flames': 24, 'boycottbears': 25, 'massacre': 26, 'cottonwood': 27, 'arizona': 28, 'tell': 29, 'barackobama': 30, 'rescind': 31, 'medals': 32, 'honor': 33, 'given': 34, 'us': 35, 'soldiers': 36, 'wounded': 37, 'knee': 38, 'sign': 39, 'amp': 40, 'rt': 41, 'drought': 42, 'spokane': 43, 'wa': 44, 'worried': 45, 'ca': 46, 'might': 47, 'affect': 48, 'extreme': 49, 'weather': 50, 'dampen': 51, 'economy': 52, 'lava': 53, 'medan': 54, 'indonesia': 55, 'youngheroesid': 56, 'blast': 57, 'power': 58, 'red': 59, 'pantherattack': 60, 'jamilazzaini': 61, 'alifaditha': 62, 'wreckage': 63, 'conclusively': 64, 'confirmed': 65, 'mh': 66, 'malaysia': 67, 'pm': 68, 'investigators': 69, 'families': 70, 'emergency': 71, 'plan': 72, 'ireland': 73, 'builder': 74, 'dental': 75, 'ruined': 76, 'emotionally': 77, 'blackmail': 78, 'afternoon': 79, 'bump': 80, 'flood': 81, 'bmx': 82, 'issues': 83, 'areal': 84, 'advisory': 85, 'shelby': 86, 'al': 87, 'till': 88, 'aug': 89, 'cdt': 90, 'rubble': 91, 'made': 92, 'detroit': 93, 'wisenews': 94, 'china': 95, 'stock': 96, 'market': 97, 'crash': 98, 'gems': 99, 'war': 100, 'zone': 101, 'robertoneill': 102, 'getting': 103, 'hit': 104, 'foul': 105, 'ball': 106, 'sitting': 107, 'hardly': 108, 'freak': 109, 'accident': 110, 'army': 111, 'one': 112, 'direction': 113, 'pick': 114, 'fan': 115, 'directioners': 116, 'x': 117, 'thunderstorm': 118, 'asheville': 119, 'nc': 120, 'inws': 121, 'alert': 122, 'spsgsp': 123, 'edt': 124, 'pickens': 125, 'county': 126, 'strong': 127, 'impact': 128, 'armageddon': 129, 'orwellion': 130, 'police': 131, 'state': 132, 'sadly': 133, 'windows': 134, 'reveals': 135, 'microsoft': 136, 'ethics': 137, 'mass': 138, 'murder': 139, 'nashville': 140, 'tn': 141, 'billy': 142, 'hodge': 143, 'aurora': 144, 'theater': 145, 'shooting': 146, 'trial': 147, 'gunman': 148, 'expected': 149, 'notoriety': 150, 'nothing': 151, 'else': 152, 'quarantined': 153, 'karolinska': 154, 'v': 155, 'gen': 156, 'solna': 157, 'officials': 158, 'say': 159, 'quarantine': 160, 'place': 161, 'birmingham': 162, 'home': 163, 'possible': 164, 'ebola': 165, 'case': 166, 'edward': 167, 'khan': 168, 'collision': 169, 'soooota': 170, 'zojadelin': 171, 'literally': 172, 'almost': 173, 'head': 174, 'today': 175, 'pilot': 176, 'knob': 177, 'sirens': 178, 'az': 179, 'connor': 180, 'franta': 181, 'damn': 182, 'hope': 183, 'everyone': 184, 'okay': 185, 'dan': 186, 'howell': 187, 'please': 188, 'get': 189, 'murdered': 190, 'another': 191, 'street': 192, 'threat': 193, 'end': 194, 'australia': 195, 'best': 196, 'burger': 197, 'via': 198, 'newscomauhq': 199, 'ruin': 200, 'boston': 201, 'lol': 202, 'real': 203, 'issue': 204, 'way': 205, 'nfl': 206, 'trying': 207, 'guy': 208, 'legacy': 209, 'volcano': 210, 'maailiss': 211, 'diaporama': 212, 'sixpenceee': 213, 'karymsky': 214, 'lake': 215, 'crater': 216, 'located': 217, 'russia': 218, 'fear': 219, 'biggest': 220, 'disappointing': 221, 'people': 222, 'believe': 223, 'demolish': 224, 'earth': 225, 'first': 226, 'counter': 227, 'league': 228, 'game': 229, 'orianna': 230, 'happened': 231, 'xd': 232, 'totally': 233, 'appreciate': 234, 'play': 235, 'bleeding': 236, 'alicante': 237, 'valencia': 238, 'bad': 239, 'things': 240, 'happen': 241, 'reason': 242, 'wise': 243, 'words': 244, 'gon': 245, 'na': 246, 'stop': 247, 'te': 248, 'screamed': 249, 'nirvana': 250, 'cortezera': 251, 'dead': 252, 'ass': 253, 'signed': 254, 'fucking': 255, 'wrecked': 256, 'glasgow': 257, 'caitsroberts': 258, 'see': 259, 'u': 260, 'night': 261, 'wee': 262, 'barra': 263, 'absolutely': 264, 'smoke': 265, 'winnipeg': 266, 'mb': 267, 'canada': 268, 'mental': 269, 'twitter': 270, 'note': 271, 'make': 272, 'sure': 273, 'alarm': 274, 'battery': 275, 'snuff': 276, 'times': 277, 'face': 278, 'many': 279, 'reminders': 280, 'changing': 281, 'forest': 282, 'fire': 283, 'hornybigbadwolf': 284, 'sets': 285, 'harm': 286, 'jul': 287, 'wowsavannah': 288, 'collectibles': 289, 'crashed': 290, 'love': 291, 'smurfs': 292, 'honestly': 293, 'nightmarish': 294, 'god': 295, 'driving': 296, 'new': 297, 'places': 298, 'always': 299, 'stressful': 300, 'shit': 301, 'hate': 302, 'much': 303, 'ugh': 304, 'flattened': 305, 'zouma': 306, 'responders': 307, 'york': 308, 'city': 309, 'added': 310, 'sandy': 311, 'lost': 312, 'homes': 313, 'vip': 314, 'page': 315, 'group': 316, 'vimeo': 317, 'heat': 318, 'wave': 319, 'usa': 320, 'effect': 321, 'thursday': 322, 'building': 323, 'increasing': 324, 'humidity': 325, 'lawx': 326, 'macon': 327, 'georgia': 328, 'moderate': 329, 'spreading': 330, 'rapidly': 331, 'across': 332, 'central': 333, 'ga': 334, 'warnerrobins': 335, 'dublin': 336, 'milledgeville': 337, 'gawx': 338, 'fatal': 339, 'ryan': 340, 'attraction': 341, 'destruction': 342, 'hassanrouhani': 343, 'wars': 344, 'doomed': 345, 'loss': 346, 'money': 347, 'must': 348, 'invest': 349, 'iran': 350, 'inside': 351, 'go': 352, 'outside': 353, 'annihilation': 354, 'coolidge': 355, 'national': 356, 'park': 357, 'services': 358, 'tonto': 359, 'salt': 360, 'river': 361, 'wild': 362, 'horse': 363, 'change': 364, 'whirlwind': 365, 'orlando': 366, 'fl': 367, 'mantra': 368, 'morning': 369, 'heading': 370, 'trip': 371, 'south': 372, 'hail': 373, 'np': 374, 'avenged': 375, 'sevenfold': 376, 'king': 377, 'arson': 378, 'two': 379, 'jewish': 380, 'terrorists': 381, 'charged': 382, 'historic': 383, 'church': 384, 'ugly': 385, 'truth': 386, 'eyewitness': 387, 'dk': 388, 'travel': 389, 'guide': 390, 'denmark': 391, 'ebay': 392, 'auctions': 393, 'keep': 394, 'eye': 395, 'kill': 396, 'hatchet': 397, 'wielding': 398, 'opened': 399, 'movie': 400, 'middle': 401, 'aged': 402, 'man': 403, 'armed': 404, 'wi': 405, 'inundated': 406, 'manchester': 407, 'england': 408, 'teahivetweets': 409, 'would': 410, 'bioterror': 411, 'arkansas': 412, 'jonesboro': 413, 'usatoday': 414, 'frontpage': 415, 'lab': 416, 'faced': 417, 'secret': 418, 'sanctions': 419, 'rickperry': 420, 'cut': 421, 'foxnew': 422, 'ablaze': 423, 'gained': 424, 'followers': 425, 'last': 426, 'week': 427, 'know': 428, 'stats': 429, 'grow': 430, 'united': 431, 'states': 432, 'jkl': 433, 'cancels': 434, 'flash': 435, 'warning': 436, 'bell': 437, 'harlan': 438, 'knox': 439, 'ky': 440, 'wx': 441, 'norway': 442, 'creepiest': 443, 'youth': 444, 'camp': 445, 'ever': 446, 'rescuers': 447, 'paris': 448, 'france': 449, 'recover': 450, 'body': 451, 'year': 452, 'old': 453, 'calgary': 454, 'near': 455, 'vulcan': 456, 'dust': 457, 'storm': 458, 'severe': 459, 'weakening': 460, 'moves': 461, 'se': 462, 'towards': 463, 'lubbock': 464, 'area': 465, 'outflow': 466, 'boundary': 467, 'may': 468, 'create': 469, 'mph': 470, 'gusts': 471, 'hazard': 472, 'pay': 473, 'vilelunar': 474, 'trickshot': 475, 'regular': 476, 'controller': 477, 'infinite': 478, 'fading': 479, 'gt': 480, 'florida': 481, 'set': 482, 'record': 483, 'days': 484, 'even': 485, 'wake': 486, 'anymore': 487, 'loving': 488, 'every': 489, 'minute': 490, 'though': 491, 'refugees': 492, 'hmm': 493, 'nigerian': 494, 'repatriated': 495, 'cameroon': 496, 'hellfire': 497, 'prophet': 498, 'peace': 499, 'upon': 500, 'said': 501, 'save': 502, 'giving': 503, 'half': 504, 'date': 505, 'charity': 506, 'stay': 507, 'fly': 508, 'lone': 509, 'survivor': 510, 'account': 511, 'operation': 512, 'redwing': 513, 'heroes': 514, 'seal': 515, 'team': 516, 'landslide': 517, 'martinmj': 518, 'yougov': 519, 'seat': 520, 'majority': 521, 'vote': 522, 'become': 523, 'inundation': 524, 'punjab': 525, 'government': 526, 'relief': 527, 'platform': 528, 'realtime': 529, 'information': 530, 'damages': 531, 'rescue': 532, 'efforts': 533, 'alerts': 534, 'windstorm': 535, 'seeks': 536, 'comment': 537, 'rules': 538, 'changes': 539, 'insurer': 540, 'insurance': 541, 'panic': 542, 'school': 543, 'already': 544, 'attack': 545, 'thank': 546, 'high': 547, 'sucking': 548, 'earthquake': 549, 'sicily': 550, 'italy': 551, 'iphone': 552, 'users': 553, 'download': 554, 'app': 555, 'exploded': 556, 'chicago': 557, 'il': 558, 'final': 559, 'medinah': 560, 'update': 561, 'shot': 562, 'front': 563, 'back': 564, 'imkeepingmydayjob': 565, 'pic': 566, 'famous': 567, 'evacuate': 568, 'brisbane': 569, 'crews': 570, 'passengers': 571, 'gold': 572, 'coast': 573, 'tram': 574, 'trapped': 575, 'powerlines': 576, 'fell': 577, 'carriage': 578, 'tennews': 579, 'debris': 580, 'found': 581, 'reunion': 582, 'island': 583, 'comes': 584, 'malaysian': 585, 'burning': 586, 'blogland': 587, 'raining': 588, 'favorite': 589, 'candle': 590, 'hot': 591, 'cocoa': 592, 'sip': 593, 'nap': 594, 'time': 595, 'awesomesauce': 596, 'arsonist': 597, 'ss': 598, 'hif': 599, 'trick': 600, 'think': 601, 'nasty': 602, 'famine': 603, 'hunger': 604, 'hits': 605, 'function': 606, 'probably': 607, 'long': 608, 'zones': 609, 'blight': 610, 'cleveland': 611, 'oh': 612, 'look': 613, 'policy': 614, 'matters': 615, 'ohio': 616, 'report': 617, 'cle': 618, 'cuyahoga': 619, 'greening': 620, 'vacant': 621, 'lands': 622, 'soon': 623, 'screaming': 624, 'rio': 625, 'de': 626, 'janeiro': 627, 'brazil': 628, 'mariahcarey': 629, 'arianagrande': 630, 'suspect': 631, 'linked': 632, 'fires': 633, 'caught': 634, 'northern': 635, 'california': 636, 'los': 637, 'angeles': 638, 'suicide': 639, 'nigeria': 640, 'bestnaijamade': 641, 'yr': 642, 'pkk': 643, 'bomber': 644, 'detonated': 645, 'blaze': 646, 'durham': 647, 'n': 648, 'c': 649, 'guiltygearxxacp': 650, 'yeah': 651, 'blue': 652, 'dont': 653, 'drew': 654, 'weeks': 655, 'ago': 656, 'liked': 657, 'youtube': 658, 'video': 659, 'slimebeast': 660, 'town': 661, 'salem': 662, 'win': 663, 'di': 664, 'langit': 665, 'bidadari': 666, 'mirmanda': 667, 'evaaasr': 668, 'destroyed': 669, 'queens': 670, 'zaire': 671, 'specialguest': 672, 'crapgamer': 673, 'recap': 674, 'sony': 675, 'gamescom': 676, 'alleged': 677, 'east': 678, 'bay': 679, 'serial': 680, 'arrested': 681, 'sanfrancisco': 682, 'outbreak': 683, 'dammam': 684, 'ksa': 685, 'sue': 686, 'legionnaires': 687, 'affected': 688, 'disea': 689, 'blew': 690, 'indiana': 691, 'instagram': 692, 'apparently': 693, 'featured': 694, 'jazz': 695, 'tonight': 696, 'cool': 697, 'loud': 698, 'bang': 699, 'kenya': 700, 'nikoniko': 701, 'breaking': 702, 'news': 703, 'unconfirmed': 704, 'heard': 705, 'nearby': 706, 'appears': 707, 'wind': 708, 'neighbour': 709, 'natural': 710, 'disaster': 711, 'greenwich': 712, 'meridian': 713, 'really': 714, 'lightning': 715, 'icaseit': 716, 'mfi': 717, 'certified': 718, 'cable': 719, 'm': 720, 'watch': 721, 'videos': 722, 'darkndtatted': 723, 'pull': 724, 'holmes': 725, 'family': 726, 'nigga': 727, 'boy': 728, 'ah': 729, 'thru': 730, 'obliterate': 731, 'cavite': 732, 'philippines': 733, 'republic': 734, 'proc': 735, 'abandon': 736, 'west': 737, 'philippine': 738, 'sea': 739, 'changepilipinas': 740, 'wreck': 741, 'baltimore': 742, 'girlthatsrio': 743, 'uncles': 744, 'bags': 745, 'southwest': 746, 'tx': 747, 'shoot': 748, 'bioterrorism': 749, 'timeline': 750, 'kamu': 751, 'experts': 752, 'concerned': 753, 'using': 754, 'gm': 755, 'organisms': 756, 'scientists': 757, 'devastation': 758, 'kalmikya': 759, 'astrakhan': 760, 'volgagrad': 761, 'dagestan': 762, 'food': 763, 'left': 764, 'locusts': 765, 'timeworld': 766, 'buildings': 767, 'kingdom': 768, 'loses': 769, 'annihilated': 770, 'horsemind': 771, 'mi': 772, 'shall': 773, 'petebests': 774, 'dessicated': 775, 'laid': 776, 'bare': 777, 'kneel': 778, 'displaced': 779, 'oakland': 780, 'flooding': 781, 'asia': 782, 'leaves': 783, 'hundreds': 784, 'millions': 785, 'sunk': 786, 'nyc': 787, 'lt': 788, 'lip': 789, 'bed': 790, 'arms': 791, 'crossed': 792, 'behind': 793, 'watched': 794, 'captain': 795, 'number': 796, 'resoluteshield': 797, 'aftershock': 798, 'growingupspoiled': 799, 'going': 800, 'clay': 801, 'pigeon': 802, 'crying': 803, 'india': 804, 'wife': 805, 'six': 806, 'years': 807, 'jail': 808, 'setting': 809, 'niece': 810, 'catastrophic': 811, 'piedmont': 812, 'north': 813, 'carolina': 814, 'following': 815, 'injury': 816, 'acute': 817, 'medical': 818, 'care': 819, 'takes': 820, 'precedent': 821, 'ptsd': 822, 'often': 823, 'follows': 824, 'undetected': 825, 'bombed': 826, 'brodyfrieling': 827, 'hanna': 828, 'brooksie': 829, 'photo': 830, 'big': 831, 'baby': 832, 'climbed': 833, 'thing': 834, 'wheels': 835, 'io': 836, 'hawk': 837, 'belt': 838, 'mr': 839, 'srk': 840, 'cook': 841, 'ur': 842, 'beautiful': 843, 'punishment': 844, 'collapsed': 845, 'gary': 846, 'entrances': 847, 'closed': 848, 'due': 849, 'bridge': 850, 'let': 851, 'tomorrow': 852, 'curfew': 853, 'im': 854, 'around': 855, 'jersey': 856, 'helps': 857, 'bc': 858, 'london': 859, 'essex': 860, 'uk': 861, 'went': 862, 'downstairs': 863, 'telly': 864, 'accidentally': 865, 'dad': 866, 'broken': 867, 'leg': 868, 'walked': 869, 'terrorism': 870, 'bbc': 871, 'cnn': 872, 'islam': 873, 'isis': 874, 'quran': 875, 'lies': 876, 'survive': 877, 'autoinsurance': 878, 'industry': 879, 'clueless': 880, 'driverless': 881, 'cars': 882, 'healthinsurance': 883, 'injured': 884, 'paterson': 885, 'yelp': 886, 'bolsters': 887, 'health': 888, 'reviews': 889, 'investigative': 890, 'journalism': 891, 'sick': 892, 'patients': 893, 'local': 894, 'er': 895, 'house': 896, 'still': 897, 'never': 898, 'nan': 899, 'months': 900, 'deaths': 901, 'asunci': 902, 'py': 903, 'bingen': 904, 'ger': 905, 'breast': 906, 'milk': 907, 'original': 908, 'superfood': 909, 'rates': 910, 'worldwide': 911, 'stalled': 912, 'contributing': 913, 'child': 914, 'seattle': 915, 'latestnews': 916, 'cnbc': 917, 'anniversary': 918, 'wrought': 919, 'weapon': 920, 'sinking': 921, 'memphis': 922, 'car': 923, 'snapping': 924, 'fox': 925, 'priorities': 926, 'top': 927, 'link': 928, 'reddit': 929, 'content': 930, 'goes': 931, 'horrible': 932, 'subreddits': 933, 'banned': 934, 'ny': 935, 'bronx': 936, 'citing': 937, 'casing': 938, 'victim': 939, 'location': 940, 'toronto': 941, 'climate': 942, 'could': 943, 'benefits': 944, 'weathernetwork': 945, 'detonate': 946, 'optic': 947, 'scumper': 948, 'yo': 949, 'sexy': 950, 'unless': 951, 'ckosova': 952, 'read': 953, 'subject': 954, 'amongst': 955, 'others': 956, 'saved': 957, 'lives': 958, 'yes': 959, 'true': 960, 'sandstorm': 961, 'sanctuary': 962, 'network': 963, 'rome': 964, 'villicanaalicia': 965, 'darude': 966, 'kills': 967, 'saudi': 968, 'security': 969, 'site': 970, 'mosque': 971, 'cuttack': 972, 'orissa': 973, 'harbhajan': 974, 'singh': 975, 'stuartbroad': 976, 'cant': 977, 'stuart': 978, 'broad': 979, 'yuvi': 980, 'thornton': 981, 'colorado': 982, 'nations': 983, 'plantations': 984, 'forests': 985, 'rainforestresq': 986, 'nakhon': 987, 'si': 988, 'thammarat': 989, 'shift': 990, 'focus': 991, 'cause': 992, 'waimate': 993, 'explode': 994, 'vine': 995, 'suburban': 996, 'michigan': 997, 'overrun': 998, 'survival': 999, 'server': 1000, 'blazing': 1001, 'swag': 1002, 'francisco': 1003, 'asukager': 1004, 'magical': 1005, 'bag': 1006, 'wildfire': 1007, 'media': 1008, 'release': 1009, 'firefighters': 1010, 'ask': 1011, 'hikers': 1012, 'trailheads': 1013, 'parker': 1014, 'ridge': 1015, 'idfire': 1016, 'hurricane': 1017, 'ashley': 1018, 'harbor': 1019, 'friday': 1020, 'madison': 1021, 'oliver': 1022, 'swim': 1023, 'class': 1024, 'cries': 1025, 'entire': 1026, 'like': 1027, 'parents': 1028, 'waterboarding': 1029, 'dipping': 1030, 'sao': 1031, 'paulo': 1032, 'hearts': 1033, 'gift': 1034, 'skyline': 1035, 'kiss': 1036, 'lips': 1037, 'floods': 1038, 'typhoon': 1039, 'soudelor': 1040, 'approaches': 1041, 'killed': 1042, 'missing': 1043, 'drowning': 1044, 'r': 1045, 'jeesss': 1046, 'ethereal': 1047, 'hello': 1048, 'someone': 1049, 'send': 1050, 'medic': 1051, 'feeling': 1052, 'phone': 1053, 'realise': 1054, 'g': 1055, 'whole': 1056, 'nflexpertpicks': 1057, 'michael': 1058, 'floyd': 1059, 'hand': 1060, 'devalue': 1061, 'fantasy': 1062, 'damaged': 1063, 'digits': 1064, 'avalanche': 1065, 'score': 1066, 'goals': 1067, 'buying': 1068, 'tix': 1069, 'vs': 1070, 'col': 1071, 'preseason': 1072, 'scotiabank': 1073, 'saddledome': 1074, 'danger': 1075, 'carsonrex': 1076, 'spaceangelseven': 1077, 'check': 1078, 'rockin': 1079, 'preview': 1080, 'claytonbryant': 1081, 'coming': 1082, 'artistsunited': 1083, 'oil': 1084, 'spill': 1085, 'la': 1086, 'refugio': 1087, 'costlier': 1088, 'bigger': 1089, 'projected': 1090, 'battle': 1091, 'utah': 1092, 'utahcanary': 1093, 'sigh': 1094, 'daily': 1095, 'crushed': 1096, 'wow': 1097, 'edwing': 1098, 'bluejays': 1099, 'death': 1100, 'novi': 1101, 'adult': 1102, 'dies': 1103, 'plague': 1104, 'american': 1105, 'planners': 1106, 'singled': 1107, 'kaotix': 1108, 'craving': 1109, 'tulalip': 1110, 'washington': 1111, 'mcnabbychic': 1112, 'adriennetomah': 1113, 'lemongang': 1114, 'shirt': 1115, 'company': 1116, 'animal': 1117, 'better': 1118, 'start': 1119, 'seeing': 1120, 'wildlife': 1121, 'uptown': 1122, 'jorge': 1123, 'nose': 1124, 'tinixw': 1125, 'hoopa': 1126, 'berkeley': 1127, 'elem': 1128, 'pomo': 1129, 'helping': 1130, 'rocky': 1131, 'consider': 1132, 'evacuation': 1133, 'center': 1134, 'gofundme': 1135, 'windsor': 1136, 'playing': 1137, 'smashing': 1138, 'pumpkins': 1139, 'crush': 1140, 'miami': 1141, 'starflame': 1142, 'girl': 1143, 'electrocuted': 1144, 'hampshire': 1145, 'bbcnews': 1146, 'mwlippert': 1147, 'southkorea': 1148, 'dogs': 1149, 'prepared': 1150, 'electrocutedboiling': 1151, 'waterfur': 1152, 'machine': 1153, 'alive': 1154, 'destroy': 1155, 'pum': 1156, 'childhood': 1157, 'vladimir': 1158, 'putin': 1159, 'major': 1160, 'late': 1161, 'escape': 1162, 'hijacking': 1163, 'funtenna': 1164, 'computers': 1165, 'data': 1166, 'sound': 1167, 'waves': 1168, 'black': 1169, 'hat': 1170, 'prebreak': 1171, 'planet': 1172, 'apocalypse': 1173, 'san': 1174, 'antonio': 1175, 'ish': 1176, 'bought': 1177, 'dvd': 1178, 'looks': 1179, 'science': 1180, 'doc': 1181, 'actually': 1182, 'impending': 1183, 'biblical': 1184, 'weapons': 1185, 'oregon': 1186, 'peru': 1187, 'dorismatsui': 1188, 'supporting': 1189, 'president': 1190, 'irandeal': 1191, 'nuclear': 1192, 'hands': 1193, 'keeps': 1194, 'safer': 1195, 'desolate': 1196, 'lahti': 1197, 'finland': 1198, 'do': 1199, 'soundcloud': 1200, 'paulton': 1201, 'msmigot': 1202, 'convincing': 1203, 'compelling': 1204, 'evidence': 1205, 'view': 1206, 'deniers': 1207, 'tend': 1208, 'potteratthedisc': 1209, 'stm': 1210, 'quem': 1211, 'lembra': 1212, 'mudslide': 1213, 'fjords': 1214, 'iceland': 1215, 'review': 1216, 'icelandreview': 1217, 'officer': 1218, 'exchanging': 1219, 'shots': 1220, 'abc': 1221, 'an': 1222, 'buffalo': 1223, 'safety': 1224, 'improvements': 1225, 'route': 1226, 'good': 1227, 'hawaii': 1228, 'usgs': 1229, 'eq': 1230, 'km': 1231, 'utc': 1232, 'demolished': 1233, 'got': 1234, 'gamer': 1235, 'troll': 1236, 'kid': 1237, 'philly': 1238, 'mlb': 1239, 'upset': 1240, 'backtoback': 1241, 'chargedup': 1242, 'takers': 1243, 'pusssssssssy': 1244, 'shoook': 1245, 'hazardous': 1246, 'taiwan': 1247, 'grace': 1248, 'expect': 1249, 'large': 1250, 'rocks': 1251, 'trees': 1252, 'mud': 1253, 'unstable': 1254, 'saturated': 1255, 'land': 1256, 'slide': 1257, 'hilly': 1258, 'mountain': 1259, 'areas': 1260, 'blood': 1261, 'bug': 1262, 'guys': 1263, 'imouto': 1264, 'related': 1265, 'edinburgh': 1266, 'fat': 1267, 'elephant': 1268, 'tied': 1269, 'metal': 1270, 'cables': 1271, 'violent': 1272, 'yuuko': 1273, 'shop': 1274, 'rather': 1275, 'possibility': 1276, 'stream': 1277, 'collided': 1278, 'stars': 1279, 'coach': 1280, 'hughes': 1281, 'carted': 1282, 'locker': 1283, 'room': 1284, 'guards': 1285, 'wounds': 1286, 'dianneg': 1287, 'gunshot': 1288, 'wound': 1289, 'bicep': 1290, 'chest': 1291, 'torso': 1292, 'kerricktrial': 1293, 'jonathanferrell': 1294, 'bahrain': 1295, 'came': 1296, 'tribal': 1297, 'turned': 1298, 'e': 1299, 'madinah': 1300, 'prophetmuhammad': 1301, 'hostages': 1302, 'mountains': 1303, 'sinjar': 1304, 'yazidis': 1305, 'lack': 1306, 'action': 1307, 'portland': 1308, 'phoenix': 1309, 'newyork': 1310, 'atlanta': 1311, 'casper': 1312, 'iraq': 1313, 'beyonce': 1314, 'beyhive': 1315, 'derailed': 1316, 'dc': 1317, 'tip': 1318, 'updates': 1319, 'wmata': 1320, 'train': 1321, 'quickly': 1322, 'laois': 1323, 'advertised': 1324, 'friend': 1325, 'replace': 1326, 'loved': 1327, 'bff': 1328, 'truck': 1329, 'village': 1330, 'pugwash': 1331, 'population': 1332, 'district': 1333, 'orange': 1334, 'sigalert': 1335, 'fwy': 1336, 'ufn': 1337, 'trash': 1338, 'screams': 1339, 'sheffield': 1340, 'leeds': 1341, 'agree': 1342, 'certain': 1343, 'cultural': 1344, 'appropriation': 1345, 'looked': 1346, 'buddhas': 1347, 'stuff': 1348, 'dallas': 1349, 'chrisroth': 1350, 'chaselabsports': 1351, 'situation': 1352, 'shoujo': 1353, 'hell': 1354, 'onihimedesu': 1355, 'leave': 1356, 'supposed': 1357, 'normal': 1358, 'sports': 1359, 'manga': 1360, 'wit': 1361, 'triangle': 1362, 'topeka': 1363, 'ks': 1364, 'royals': 1365, 'newbie': 1366, 'playoffs': 1367, 'chemical': 1368, 'ames': 1369, 'iowa': 1370, 'cleanup': 1371, 'prepare': 1372, 'yumiko': 1373, 'jumped': 1374, 'surprise': 1375, 'upwards': 1376, 'air': 1377, 'guard': 1378, 'woah': 1379, 'lenkaiswaifu': 1380, 'bombing': 1381, 'european': 1382, 'union': 1383, 'least': 1384, 'three': 1385, 'kabul': 1386, 'fujo': 1387, 'garbage': 1388, 'heaven': 1389, 'awful': 1390, 'work': 1391, 'artist': 1392, 'seismic': 1393, 'art': 1394, 'world': 1395, 'oddball': 1396, 'observer': 1397, 'obliteration': 1398, 'illinois': 1399, 'extent': 1400, 'white': 1401, 'privilege': 1402, 'reduce': 1403, 'unfair': 1404, 'favoritism': 1405, 'schools': 1406, 'western': 1407, 'uganda': 1408, 'strikes': 1409, 'lit': 1410, 'bloody': 1411, 'meet': 1412, 'rs': 1413, 'traumatised': 1414, 'sad': 1415, 'kids': 1416, 'talk': 1417, 'thousands': 1418, 'young': 1419, 'suffer': 1420, 'strike': 1421, 'distance': 1422, 'pics': 1423, 'abe': 1424, 'clear': 1425, 'grenades': 1426, 'moment': 1427, 'replacing': 1428, 'unknown': 1429, 'curiosity': 1430, 'open': 1431, 'nataliealund': 1432, 'copycat': 1433, 'antioch': 1434, 'tsunami': 1435, 'occurred': 1436, 'japan': 1437, 'free': 1438, 'speech': 1439, 'also': 1440, 'swallowed': 1441, 'tractor': 1442, 'aka': 1443, 'bristol': 1444, 'listen': 1445, 'without': 1446, 'expecting': 1447, 'airhorns': 1448, 'responsibility': 1449, 'repeat': 1450, 'failure': 1451, 'annonymous': 1452, 'guardian': 1453, 'nytimes': 1454, 'reuters': 1455, 'casualties': 1456, 'williamsbridge': 1457, 'yor': 1458, 'warfighting': 1459, 'robots': 1460, 'civilian': 1461, 'calling': 1462, 'ban': 1463, 'premature': 1464, 'ftsn': 1465, 'ftsnnewsdesk': 1466, 'scary': 1467, 'roller': 1468, 'coaster': 1469, 'silverwood': 1470, 'titan': 1471, 'ps': 1472, 'vita': 1473, 'yay': 1474, 'wait': 1475, 'writing': 1476, 'ahead': 1477, 'mumbai': 1478, 'maharashtra': 1479, 'skanndtyagi': 1480, 'wired': 1481, 'offensive': 1482, 'harlingen': 1483, 'asked': 1484, 'scared': 1485, 'rapid': 1486, 'hills': 1487, 'sd': 1488, 'nws': 1489, 'says': 1490, 'thunderstorms': 1491, 'deadly': 1492, 'move': 1493, 'evening': 1494, 'assumes': 1495, 'safe': 1496, 'type': 1497, 'drown': 1498, 'cortneymo': 1499, 'put': 1500, 'niggas': 1501, 'gone': 1502, 'acting': 1503, 'tryna': 1504, 'fuck': 1505, 'mfs': 1506, 'loose': 1507, 'buffs': 1508, 'water': 1509, 'tulsa': 1510, 'oklahoma': 1511, 'radar': 1512, 'okwx': 1513, 'blown': 1514, 'making': 1515, 'vanessa': 1516, 'officially': 1517, 'ladies': 1518, 'gentlemen': 1519, 'show': 1520, 'begin': 1521, 'bb': 1522, 'hailstorm': 1523, 'far': 1524, 'away': 1525, 'traffic': 1526, 'august': 1527, 'rainstorm': 1528, 'nearly': 1529, 'enough': 1530, 'rmg': 1531, 'bestcomedyvine': 1532, 'whats': 1533, 'cracking': 1534, 'cuz': 1535, 'bush': 1536, 'canberra': 1537, 'australian': 1538, 'capital': 1539, 'territory': 1540, 'californian': 1541, 'blizzard': 1542, 'ideally': 1543, 'tree': 1544, 'dryer': 1545, 'snowy': 1546, 'piece': 1547, 'paper': 1548, 'jeans': 1549, 'pocket': 1550, 'survived': 1551, 'well': 1552, 'hostage': 1553, 'global': 1554, 'horrific': 1555, 'story': 1556, 'british': 1557, 'riot': 1558, 'sligo': 1559, 'galway': 1560, 'davidjordan': 1561, 'stephanenny': 1562, 'except': 1563, 'started': 1564, 'makes': 1565, 'sense': 1566, 'credit': 1567, 'particular': 1568, 'individuals': 1569, 'casualty': 1570, 'virginia': 1571, 'avbronstein': 1572, 'popehat': 1573, 'instapundit': 1574, 'kurtschlichter': 1575, 'aware': 1576, 'estimates': 1577, 'invasion': 1578, 'islands': 1579, 'tamworth': 1580, 'cwheate': 1581, 'hahaha': 1582, 'hoping': 1583, 'labour': 1584, 'easy': 1585, 'desolation': 1586, 'kindle': 1587, 'book': 1588, 'thriller': 1589, 'run': 1590, 'jamessnyder': 1591, 'catastrophe': 1592, 'america': 1593, 'zealand': 1594, 'taylor': 1595, 'cara': 1596, 'mother': 1597, 'chucker': 1598, 'scenes': 1599, 'vmas': 1600, 'collapse': 1601, 'giant': 1602, 'cranes': 1603, 'holding': 1604, 'thunder': 1605, 'snipe': 1606, 'lego': 1607, 'miners': 1608, 'driller': 1609, 'boxed': 1610, 'share': 1611, 'wonderland': 1612, 'swear': 1613, 'blakeshelton': 1614, 'fart': 1615, 'follow': 1616, 'jeez': 1617, 'fur': 1618, 'leather': 1619, 'coats': 1620, 'sprite': 1621, 'choice': 1622, 'lifestyle': 1623, 'chosen': 1624, 'jet': 1625, 'life': 1626, 'rising': 1627, 'follower': 1628, 'graph': 1629, 'past': 1630, 'right': 1631, 'pakistan': 1632, 'supreme': 1633, 'court': 1634, 'oks': 1635, 'courts': 1636, 'try': 1637, 'civilians': 1638, 'ruling': 1639, 'empower': 1640, 'milita': 1641, 'contemplating': 1642, 'chilis': 1643, 'molten': 1644, 'cake': 1645, 'troyslaby': 1646, 'slicker': 1647, 'kinda': 1648, 'played': 1649, 'radio': 1650, 'next': 1651, 'disease': 1652, 'careful': 1653, 'giddy': 1654, 'greenland': 1655, 'maria': 1656, 'dear': 1657, 'mufc': 1658, 'argument': 1659, 'idc': 1660, 'segment': 1661, 'h': 1662, 'anthology': 1663, 'series': 1664, 'feature': 1665, 'film': 1666, 'treatment': 1667, 'everything': 1668, 'fact': 1669, 'moving': 1670, 'dreaming': 1671, 'since': 1672, 'tragedy': 1673, 'staggering': 1674, 'tenement': 1675, 'roofs': 1676, 'tanehisicoates': 1677, 'second': 1678, 'great': 1679, 'greek': 1680, 'laced': 1681, 'monologue': 1682, 'charlize': 1683, 'coulda': 1684, 'michaelgbaron': 1685, 'come': 1686, 'scott': 1687, 'rice': 1688, 'lefties': 1689, 'average': 1690, 'survivors': 1691, 'philadelphia': 1692, 'pennsylvania': 1693, 'molecularly': 1694, 'targeted': 1695, 'cancer': 1696, 'therapy': 1697, 'lungcancer': 1698, 'gave': 1699, 'perth': 1700, 'call': 1701, 'base': 1702, 'conservative': 1703, 'duck': 1704, 'service': 1705, 'contribute': 1706, 'hillaryclinton': 1707, 'evacuated': 1708, 'denver': 1709, 'fight': 1710, 'rockyfire': 1711, 'ground': 1712, 'main': 1713, 'dramatically': 1714, 'plummeted': 1715, 'houston': 1716, 'nepd': 1717, 'loyko': 1718, 'texans': 1719, 'wrong': 1720, 'starter': 1721, 'foster': 1722, 'collide': 1723, 'austin': 1724, 'slip': 1725, 'souls': 1726, 'coincide': 1727, 'finer': 1728, 'subatomic': 1729, 'spells': 1730, 'gujranwala': 1731, 'maj': 1732, 'muzzamil': 1733, 'offr': 1734, 'mansehra': 1735, 'almighty': 1736, 'give': 1737, 'strength': 1738, 'bear': 1739, 'detonation': 1740, 'ignition': 1741, 'knock': 1742, 'sensor': 1743, 'senso': 1744, 'standard': 1745, 'lucypalladino': 1746, 'classes': 1747, 'together': 1748, 'able': 1749, 'roanoke': 1750, 'va': 1751, 'cyclist': 1752, 'runner': 1753, 'greenway': 1754, 'wins': 1755, 'civil': 1756, 'verdict': 1757, 'roanoketimes': 1758, 'jyheffect': 1759, 'blanksocietyx': 1760, 'emmerdale': 1761, 'hes': 1762, 'favourite': 1763, 'structural': 1764, 'slums': 1765, 'manifestation': 1766, 'provide': 1767, 'housing': 1768, 'citizens': 1769, 'illegality': 1770, 'discourse': 1771, 'confounds': 1772, 'problems': 1773, 'stopevictions': 1774, 'jacksonville': 1775, 'busines': 1776, 'fedex': 1777, 'stops': 1778, 'shipping': 1779, 'potential': 1780, 'pathogens': 1781, 'edmonton': 1782, 'alberta': 1783, 'treaty': 1784, 'burned': 1785, 'wildfires': 1786, 'alone': 1787, 'energy': 1788, 'hijacker': 1789, 'el': 1790, 'paso': 1791, 'remove': 1792, 'linkury': 1793, 'browser': 1794, 'ijmuiden': 1795, 'netherlands': 1796, 'post': 1797, 'prysmian': 1798, 'secures': 1799, 'contract': 1800, 'bank': 1801, 'farm': 1802, 'kirkmin': 1803, 'listening': 1804, 'barthubbuch': 1805, 'weei': 1806, 'bait': 1807, 'patriot': 1808, 'hater': 1809, 'co': 1810, 'workers': 1811, 'brady': 1812, 'discussion': 1813, 'beg': 1814, 'vines': 1815, 'sorry': 1816, 'unrealtouch': 1817, 'sake': 1818, 'john': 1819, 'jesus': 1820, 'heart': 1821, 'continent': 1822, 'korea': 1823, 'megalpolis': 1824, 'petting': 1825, 'party': 1826, 'shiver': 1827, 'instant': 1828, 'overflow': 1829, 'commencement': 1830, 'write': 1831, 'murderer': 1832, 'haysville': 1833, 'carlachamorros': 1834, 'hillary': 1835, 'lady': 1836, 'cheryl': 1837, 'reasons': 1838, 'obsessed': 1839, 'cole': 1840, 'somewhere': 1841, 'powerbraking': 1842, 'chevy': 1843, 'freegeezy': 1844, 'angry': 1845, 'allow': 1846, 'trials': 1847, 'suspects': 1848, 'cases': 1849, 'episode': 1850, 'hurts': 1851, 'orleans': 1852, 'louisiana': 1853, 'outrage': 1854, 'reactor': 1855, 'norwalk': 1856, 'ct': 1857, 'ancient': 1858, 'discovered': 1859, 'africa': 1860, 'damage': 1861, 'connecticut': 1862, 'joedawg': 1863, 'tor': 1864, 'enhanced': 1865, 'wording': 1866, 'key': 1867, 'imo': 1868, 'followlasg': 1869, 'urgentthere': 1870, 'currently': 1871, 'storey': 1872, 'oworoshoki': 1873, 'third': 1874, 'mainland': 1875, 'likely': 1876, 'louisville': 1877, 'vampiro': 1878, 'table': 1879, 'ultimalucha': 1880, 'luchaunderground': 1881, 'elreynetwork': 1882, 'twister': 1883, 'fun': 1884, 'dorado': 1885, 'issued': 1886, 'ok': 1887, 'safely': 1888, 'green': 1889, 'line': 1890, 'derails': 1891, 'aftershocks': 1892, 'initial': 1893, 'critters': 1894, 'peeped': 1895, 'frontin': 1896, 'jeep': 1897, 'tinted': 1898, 'beats': 1899, 'bumpin': 1900, 'ambulance': 1901, 'swindon': 1902, 'tanslash': 1903, 'waiting': 1904, 'mod': 1905, 'residential': 1906, 'deluge': 1907, 'wrinkled': 1908, 'decayed': 1909, 'mooresville': 1910, 'i': 1911, 'huge': 1912, 'airlift': 1913, 'maybe': 1914, 'interstate': 1915, 'completely': 1916, 'blocked': 1917, 'eastbourne': 1918, 'doone': 1919, 'silver': 1920, 'architects': 1921, 'permission': 1922, 'natwest': 1923, 'tower': 1924, 'tallest': 1925, 'bloor': 1926, 'ossington': 1927, 'mattress': 1928, 'northumberland': 1929, 'st': 1930, 'cbcto': 1931, 'kano': 1932, 'baaaack': 1933, 'petersen': 1934, 'bowhunting': 1935, 'bows': 1936, 'cast': 1937, 'rly': 1938, 'mp': 1939, 'live': 1940, 'recount': 1941, 'horror': 1942, 'saw': 1943, 'coaches': 1944, 'plunging': 1945, 'called': 1946, 'aircraft': 1947, 'airlines': 1948, 'saku': 1949, 'uchiha': 1950, 'ya': 1951, 'boi': 1952, 'luke': 1953, 'gets': 1954, 'full': 1955, 'genitals': 1956, 'saturn': 1957, 'exist': 1958, 'starting': 1959, 'estimate': 1960, 'worth': 1961, 'bid': 1962, 'shaolin': 1963, 'shen': 1964, 'chan': 1965, 'chiang': 1966, 'five': 1967, 'venoms': 1968, 'kung': 1969, 'fu': 1970, 'favori': 1971, 'brief': 1972, 'swept': 1973, 'sunday': 1974, 'leading': 1975, 'lollapalooza': 1976, 'owner': 1977, 'gay': 1978, 'bar': 1979, 'admits': 1980, 'scheme': 1981, 'frank': 1982, 'elliott': 1983, 'pleaded': 1984, 'guilty': 1985, 'hiring': 1986, 'senators': 1987, 'boxer': 1988, 'feinstein': 1989, 'homeless': 1990, 'vets': 1991, 'campus': 1992, 'meltdown': 1993, 'ksu': 1994, 'dmoneydemi': 1995, 'yesterday': 1996, 'miss': 1997, 'forsure': 1998, 'dtb': 1999, 'watchout': 2000, 'erbil': 2001, 'vagersedolla': 2002, 'visits': 2003, 'villages': 2004, 'recently': 2005, 'turkey': 2006, 'finds': 2007, 'fed': 2008, 'unnamed': 2009, 'redcoatjackpot': 2010, 'typical': 2011, 'bullets': 2012, 'none': 2013, 'managed': 2014, 'reach': 2015, 'targets': 2016, 'curse': 2017, 'lickin': 2018, 'public': 2019, 'donuts': 2020, 'four': 2021, 'hundred': 2022, 'costing': 2023, 'apiece': 2024, 'purchased': 2025, 'lima': 2026, 'racing': 2027, 'temperature': 2028, 'roof': 2029, 'videoveranomtv': 2030, 'fifth': 2031, 'harmony': 2032, 'foxnewsvideo': 2033, 'aiiamericangiri': 2034, 'anhqdc': 2035, 'rioters': 2036, 'looters': 2037, 'matter': 2038, 'richarkkirkarch': 2039, 'ausinstarchitect': 2040, 'queenswharf': 2041, 'financialreview': 2042, 'uploading': 2043, 'smoochy': 2044, 'awakenings': 2045, 'clips': 2046, 'bicentennial': 2047, 'pain': 2048, 'lucky': 2049, 'justsaying': 2050, 'randomthought': 2051, 'shed': 2052, 'innocent': 2053, 'sons': 2054, 'daughters': 2055, 'polluted': 2056, 'psalms': 2057, 'help': 2058, 'sin': 2059, 'abortion': 2060, 'colombo': 2061, 'sri': 2062, 'lanka': 2063, 'releases': 2064, 'planing': 2065, 'level': 2066, 'constellation': 2067, 'gaia': 2068, 'iclown': 2069, 'drumstep': 2070, 'remix': 2071, 'infinity': 2072, 'savage': 2073, 'map': 2074, 'predicted': 2075, 'path': 2076, 'landfall': 2077, 'southern': 2078, 'root': 2079, 'beer': 2080, 'float': 2081, 'day': 2082, 'w': 2083, 'close': 2084, 'support': 2085, 'warrior': 2086, 'project': 2087, 'donations': 2088, 'k': 2089, 'exotic': 2090, 'uyo': 2091, 'akwa': 2092, 'ibom': 2093, 'uruan': 2094, 'ex': 2095, 'assembly': 2096, 'member': 2097, 'warns': 2098, 'udom': 2099, 'emmanuel': 2100, 'demolition': 2101, 'general': 2102, 'houses': 2103, 'waterways': 2104, 'begins': 2105, 'achimota': 2106, 'mile': 2107, 'liveonline': 2108, 'alabama': 2109, 'glad': 2110, 'mom': 2111, 'lot': 2112, 'worse': 2113, 'happy': 2114, 'lord': 2115, 'psd': 2116, 'special': 2117, 'olap': 2118, 'pres': 2119, 'recognize': 2120, 'waste': 2121, 'multidimensi': 2122, 'rock': 2123, 'springs': 2124, 'wy': 2125, 'residents': 2126, 'living': 2127, 'elk': 2128, 'continue': 2129, 'monday': 2130, 'rain': 2131, 'wales': 2132, 'punk': 2133, 'bands': 2134, 'music': 2135, 'em': 2136, 'ghostoftheav': 2137, 'montroseband': 2138, 'airport': 2139, 'burn': 2140, 'upstairs': 2141, 'part': 2142, 'focuses': 2143, 'difficult': 2144, 'powerful': 2145, 'hijack': 2146, 'maryland': 2147, 'cherokee': 2148, 'owners': 2149, 'file': 2150, 'lawsuit': 2151, 'fiat': 2152, 'chrysler': 2153, 'harman': 2154, 'hackers': 2155, 'consumerist': 2156, 'mcgsecure': 2157, 'fountain': 2158, 'valley': 2159, 'lying': 2160, 'clinton': 2161, 'donald': 2162, 'trump': 2163, 'singing': 2164, 'edwelchmusic': 2165, 'single': 2166, 'unpacked': 2167, 'popeyes': 2168, 'bout': 2169, 'sidelinesavage': 2170, 'pipe': 2171, 'peanut': 2172, 'butter': 2173, 'animations': 2174, 'detonates': 2175, 'arabia': 2176, 'reportedly': 2177, 'woundedpigeon': 2178, 'apollobrown': 2179, 'ft': 2180, 'p': 2181, 'omfg': 2182, 'tiny': 2183, 'freaking': 2184, 'warm': 2185, 'sabcnewsroom': 2186, 'sabotage': 2187, 'rule': 2188, 'explosion': 2189, 'f': 2190, 'osha': 2191, 'officers': 2192, 'siteinvestigating': 2193, 'noranda': 2194, 'kfvs': 2195, 'cape': 2196, 'girardeau': 2197, 'carbondale': 2198, 'poplar': 2199, 'bluff': 2200, 'mad': 2201, 'packing': 2202, 'singapore': 2203, 'eh': 2204, 'cover': 2205, 'thighs': 2206, 'cleav': 2207, 'expose': 2208, 'cleavage': 2209, 'noahcrothman': 2210, 'bore': 2211, 'minutiae': 2212, 'serve': 2213, 'champagne': 2214, 'ocean': 2215, 'gray': 2216, 'whale': 2217, 'pacific': 2218, 'listed': 2219, 'critically': 2220, 'endangered': 2221, 'drone': 2222, 'stretcher': 2223, 'invalid': 2224, 'grazed': 2225, 'towel': 2226, 'pllolz': 2227, 'witter': 2228, 'absence': 2229, 'sexual': 2230, 'interactions': 2231, 'davis': 2232, 'drug': 2233, 'nurses': 2234, 'judith': 2235, 'hopfer': 2236, 'deglin': 2237, 'april': 2238, 'vallerand': 2239, 'governor': 2240, 'allows': 2241, 'parole': 2242, 'bus': 2243, 'lunch': 2244, 'crew': 2245, 'createdunique': 2246, 'keren': 2247, 'serpa': 2248, 'arianareed': 2249, 'order': 2250, 'lifted': 2251, 'roosevelt': 2252, 'da': 2253, 'bathing': 2254, 'apes': 2255, 'ta': 2256, 'th': 2257, 'dimension': 2258, 'supposedly': 2259, 'representing': 2260, 'values': 2261, 'cgi': 2262, 'lmfaoooo': 2263, 'james': 2264, 'kunstler': 2265, 'architecture': 2266, 'cities': 2267, 'residualincome': 2268, 'mlm': 2269, 'magnolia': 2270, 'cost': 2271, 'asking': 2272, 'fatalities': 2273, 'among': 2274, 'factors': 2275, 'pedestrian': 2276, 'failing': 2277, 'yield': 2278, 'hackney': 2279, 'country': 2280, 'different': 2281, 'ways': 2282, 'course': 2283, 'messed': 2284, 'coral': 2285, 'leaders': 2286, 'take': 2287, 'mock': 2288, 'training': 2289, 'coat': 2290, 'worn': 2291, 'certainty': 2292, 'bears': 2293, 'occasion': 2294, 'personnel': 2295, 'panicking': 2296, 'melbourne': 2297, 'victoria': 2298, 'tindering': 2299, 'toilet': 2300, 'mins': 2301, 'ameenshaikh': 2302, 'logic': 2303, 'didnt': 2304, 'engine': 2305, 'cross': 2306, 'sanjaynirupam': 2307, 'sureshprabhu': 2308, 'usaov': 2309, 'lmao': 2310, 'fuckboy': 2311, 'changed': 2312, 'control': 2313, 'pseudojuuzo': 2314, 'battlefield': 2315, 'forgotten': 2316, 'papiichampoo': 2317, 'enjoy': 2318, 'obama': 2319, 'era': 2320, 'civility': 2321, 'prez': 2322, 'gop': 2323, 'supports': 2324, 'iranian': 2325, 'sinkhole': 2326, 'af': 2327, 'sunset': 2328, 'mercy': 2329, 'understood': 2330, 'wanted': 2331, 'chase': 2332, 'murderers': 2333, 'kelly': 2334, 'dreams': 2335, 'grows': 2336, 'brooklyn': 2337, 'meter': 2338, 'swallows': 2339, 'phuket': 2340, 'thailand': 2341, 'foxnews': 2342, 'instead': 2343, 'declares': 2344, 'cnmi': 2345, 'federal': 2346, 'slow': 2347, 'slammed': 2348, 'ahahahga': 2349, 'virgin': 2350, 'galactic': 2351, 'brakes': 2352, 'blamed': 2353, 'spaceship': 2354, 'caused': 2355, 'sismo': 2356, 'ep': 2357, 'csismica': 2358, 'kyrikoni': 2359, 'expressandstar': 2360, 'veg': 2361, 'fruit': 2362, 'injuries': 2363, 'raw': 2364, 'rolls': 2365, 'derailment': 2366, 'greateranglia': 2367, 'cow': 2368, 'incident': 2369, 'fault': 2370, 'anchorage': 2371, 'alaska': 2372, 'sheet': 2373, 'email': 2374, 'pa': 2375, 'lindenhurst': 2376, 'thief': 2377, 'broke': 2378, 'window': 2379, 'hicksville': 2380, 'store': 2381, 'stole': 2382, 'cell': 2383, 'phones': 2384, 'fled': 2385, 'picking': 2386, 'bodies': 2387, 'searching': 2388, 'migrants': 2389, 'mediterran': 2390, 'ready': 2391, 'want': 2392, 'sun': 2393, 'enjoying': 2394, 'break': 2395, 'cooler': 2396, 'temps': 2397, 'acts': 2398, 'alexandrian': 2399, 'library': 2400, 'whao': 2401, 'everywhere': 2402, 'master': 2403, 'fsloths': 2404, 'labuan': 2405, 'nation': 2406, 'star': 2407, 'online': 2408, 'wtf': 2409, 'biological': 2410, 'father': 2411, 'adoptive': 2412, 'criminal': 2413, 'minds': 2414, 'fucked': 2415, 'tried': 2416, 'mido': 2417, 'macia': 2418, 'accused': 2419, 'testified': 2420, 'trouble': 2421, 'niallhariss': 2422, 'simply': 2423, 'vain': 2424, 'freeport': 2425, 'saturday': 2426, 'rick': 2427, 'wonder': 2428, 'spinning': 2429, 'guest': 2430, 'along': 2431, 'chachi': 2432, 'riverview': 2433, 'common': 2434, 'running': 2435, 'avoid': 2436, 'naked': 2437, 'cigarette': 2438, 'radneck': 2439, 'holymileyray': 2440, 'mooniighthunty': 2441, 'careers': 2442, 'tea': 2443, 'obliterated': 2444, 'leyland': 2445, 'men': 2446, 'fully': 2447, 'deserved': 2448, 'kevinbacon': 2449, 'soz': 2450, 'jerusalem': 2451, 'mourning': 2452, 'notices': 2453, 'stabbing': 2454, 'victims': 2455, 'stir': 2456, 'politics': 2457, 'grief': 2458, 'israel': 2459, 'che': 2460, 'guevara': 2461, 'greeting': 2462, 'woman': 2463, 'womens': 2464, 'flower': 2465, 'printed': 2466, 'shoulder': 2467, 'handbags': 2468, 'chain': 2469, 'satchel': 2470, 'abcnews': 2471, 'terrible': 2472, 'dover': 2473, 'dicehateme': 2474, 'puppyshogun': 2475, 'wood': 2476, 'catoinstitute': 2477, 'causes': 2478, 'deeply': 2479, 'easily': 2480, 'solved': 2481, 'elmwood': 2482, 'nj': 2483, 'chaning': 2484, 'ipad': 2485, 'screen': 2486, 'glass': 2487, 'job': 2488, 'host': 2489, 'mindmoverspodcast': 2490, 'drugs': 2491, 'devastated': 2492, 'saipan': 2493, 'memesphere': 2494, 'according': 2495, 'prophecy': 2496, 'mac': 2497, 'tablet': 2498, 'gadgets': 2499, 'combining': 2500, 'bagging': 2501, 'bagged': 2502, 'lac': 2503, 'drake': 2504, 'meek': 2505, 'connorfranta': 2506, 'askconnor': 2507, 'soapscoop': 2508, 'confirm': 2509, 'ross': 2510, 'trust': 2511, 'anyone': 2512, 'yh': 2513, 'paul': 2514, 'mn': 2515, 'libraryeliza': 2516, 'taylorswift': 2517, 'approval': 2518, 'musicadvisory': 2519, 'prone': 2520, 'westchester': 2521, 'eligible': 2522, 'aid': 2523, 'shouout': 2524, 'kasad': 2525, 'lla': 2526, 'vocals': 2527, 'shes': 2528, 'tank': 2529, 'aptly': 2530, 'engineerd': 2531, 'terrorist': 2532, 'israeli': 2533, 'worldnews': 2534, 'space': 2535, 'o': 2536, 'involving': 2537, 'fleets': 2538, 'totaling': 2539, 'ships': 2540, 'sosfamupdater': 2541, 'social': 2542, 'hair': 2543, 'poverty': 2544, 'fade': 2545, 'weekend': 2546, 'africanbaze': 2547, 'flag': 2548, 'aba': 2549, 'deluged': 2550, 'businesses': 2551, 'invokces': 2552, 'stand': 2553, 'colour': 2554, 'shape': 2555, 'rise': 2556, 'pile': 2557, 'atlantic': 2558, 'highlands': 2559, 'sb': 2560, 'cr': 2561, 'leonardville': 2562, 'rd': 2563, 'preaching': 2564, 'hotel': 2565, 'kualar': 2566, 'lumpur': 2567, 'monsoon': 2568, 'dozens': 2569, 'myanmar': 2570, 'prompting': 2571, 'calls': 2572, 'hiphop': 2573, 'indie': 2574, 'apollo': 2575, 'brown': 2576, 'href': 2577, 'tote': 2578, 'handbag': 2579, 'faux': 2580, 'hobo': 2581, 'purse': 2582, 'en': 2583, 'cold': 2584, 'feet': 2585, 'cheat': 2586, 'anything': 2587, 'feels': 2588, 'vent': 2589, 'txt': 2590, 'siren': 2591, 'michel': 2592, 'delving': 2593, 'ww': 2594, 'announce': 2595, 'something': 2596, 'dull': 2597, 'monotonous': 2598, 'cali': 2599, 'bobbyxfisher': 2600, 'displace': 2601, 'million': 2602, 'watching': 2603, 'erupting': 2604, 'thought': 2605, 'pixar': 2606, 'short': 2607, 'jeddah': 2608, 'khartoum': 2609, 'beware': 2610, 'temper': 2611, 'tongue': 2612, 'dangerous': 2613, 'combined': 2614, 'lead': 2615, 'person': 2616, 'captivity': 2617, 'legislation': 2618, 'introduced': 2619, 'congress': 2620, 'compensate': 2621, 'forever': 2622, 'witches': 2623, 'castle': 2624, 'supernatural': 2625, 'sibling': 2626, 'rivalry': 2627, 'magic': 2628, 'wogc': 2629, 'rescued': 2630, 'britons': 2631, 'amid': 2632, 'himalaya': 2633, 'connector': 2634, 'connecto': 2635, 'motorcraft': 2636, 'wpt': 2637, 'asheboro': 2638, 'crazy': 2639, 'slowly': 2640, 'wasting': 2641, 'edsheeran': 2642, 'concord': 2643, 'navista': 2644, 'steve': 2645, 'tinderbox': 2646, 'clown': 2647, 'hood': 2648, 'bitches': 2649, 'takin': 2650, 'worked': 2651, 'factory': 2652, 'pressing': 2653, 'designs': 2654, 'onto': 2655, 'shirts': 2656, 'faulty': 2657, 'boss': 2658, 'docked': 2659, 'worstsummerjob': 2660, 'fatality': 2661, 'deathmule': 2662, 'mk': 2663, 'tremors': 2664, 'stalag': 2665, 'ermac': 2666, 'tournament': 2667, 'pharaoh': 2668, 'malik': 2669, 'saadthe': 2670, 'produced': 2671, 'kpdied': 2672, 'jan': 2673, 'he': 2674, 'brother': 2675, 'kppolice': 2676, 'itunes': 2677, 'glory': 2678, 'luiz': 2679, 'santos': 2680, 'skinchan': 2681, 'reriellechan': 2682, 'lich': 2683, 'block': 2684, 's': 2685, 'oryx': 2686, 'symbol': 2687, 'arabian': 2688, 'peninsula': 2689, 'hunters': 2690, 'kla': 2691, 'obligations': 2692, 'pandemonium': 2693, 'delivers': 2694, 'photos': 2695, 'ntsb': 2696, 'triggered': 2697, 'unlocked': 2698, 'early': 2699, 'frome': 2700, 'somerset': 2701, 'blink': 2702, 'personal': 2703, 'anyway': 2704, 'mateo': 2705, 'doesnt': 2706, 'mirage': 2707, 'pointless': 2708, 'addition': 2709, 'generation': 2710, 'human': 2711, 'kurvez': 2712, 'gearheadcentral': 2713, 'net': 2714, 'greatest': 2715, 'female': 2716, 'beat': 2717, 'babies': 2718, 'outta': 2719, 'whatevs': 2720, 'alvin': 2721, 'shantae': 2722, 'smash': 2723, 'wii': 2724, 'shantaeforsmash': 2725, 'shantaehalfgeniehero': 2726, 'nintendo': 2727, 'paignton': 2728, 'lancaster': 2729, 'respond': 2730, 'find': 2731, 'suspected': 2732, 'heroin': 2733, 'mike': 2734, 'magner': 2735, 'discusses': 2736, 'betrayed': 2737, 'veterans': 2738, 'environment': 2739, 'surulere': 2740, 'lagos': 2741, 'swagg': 2742, 'kaduna': 2743, 'ut': 2744, 'onlin': 2745, 'whenever': 2746, 'becca': 2747, 'caitlyn': 2748, 'leaving': 2749, 'blessed': 2750, 'yugvani': 2751, 'hollywood': 2752, 'released': 2753, 'chile': 2754, 'nh': 2755, 'colts': 2756, 'patriots': 2757, 'whine': 2758, 'integrity': 2759, 'cantmakeitup': 2760, 'patriotsnation': 2761, 'bombs': 2762, 'struggles': 2763, 'madhya': 2764, 'pradesh': 2765, 'elsewhere': 2766, 'nz': 2767, 'lose': 2768, 'card': 2769, 'kind': 2770, 'driver': 2771, 'headdesk': 2772, 'lil': 2773, 'mariah': 2774, 'madrid': 2775, 'granada': 2776, 'floor': 2777, 'shootas': 2778, 'hungry': 2779, 'burner': 2780, 'louis': 2781, 'missouri': 2782, 'lender': 2783, 'fees': 2784, 'present': 2785, 'linkedin': 2786, 'belfast': 2787, 'minions': 2788, 'snowstorm': 2789, 'mpela': 2790, 'zwe': 2791, 'lrt': 2792, 'refer': 2793, 'lyrics': 2794, 'hear': 2795, 'explain': 2796, 'sippin': 2797, 'milkshake': 2798, 'lame': 2799, 'bars': 2800, 'effective': 2801, 'yeezy': 2802, 'taught': 2803, 'nv': 2804, 'kimkardashian': 2805, 'petition': 2806, 'horses': 2807, 'lisbon': 2808, 'portugal': 2809, 'draw': 2810, 'football': 2811, 'selection': 2812, 'consistently': 2813, 'lay': 2814, 'mayhem': 2815, 'nosurrender': 2816, 'results': 2817, 'title': 2818, 'match': 2819, 'bully': 2820, 'ray': 2821, 'taken': 2822, 'career': 2823, 'cliff': 2824, 'fall': 2825, 'abuja': 2826, 'deep': 2827, 'sleep': 2828, 'dream': 2829, 'struggling': 2830, 'balance': 2831, 'financial': 2832, 'wall': 2833, 'warned': 2834, 'ashburn': 2835, 'mlk': 2836, 'yet': 2837, 'brian': 2838, 'shaw': 2839, 'j': 2840, 'hickson': 2841, 'kenneth': 2842, 'faried': 2843, 'defend': 2844, 'lamarcus': 2845, 'aldridge': 2846, 'ap': 2847, 'organizers': 2848, 'reopening': 2849, 'festival': 2850, 'prompted': 2851, 'gun': 2852, 'cyclone': 2853, 'hartford': 2854, 'manager': 2855, 'asks': 2856, 'tom': 2857, 'interview': 2858, 'loan': 2859, 'purchase': 2860, 'bicycle': 2861, 'chikislizeth': 2862, 'sunny': 2863, 'wrapup': 2864, 'tv': 2865, 'companies': 2866, 'shares': 2867, 'disney': 2868, 'disappoints': 2869, 'aperture': 2870, 'test': 2871, 'facility': 2872, 'light': 2873, 'pretty': 2874, 'italian': 2875, 'alps': 2876, 'surely': 2877, 'flight': 2878, 'razed': 2879, 'latest': 2880, 'irish': 2881, 'roads': 2882, 'pedestrians': 2883, 'cyclists': 2884, 'risk': 2885, 'workshop': 2886, 'selfie': 2887, 'booth': 2888, 'kappa': 2889, 'eight': 2890, 'sided': 2891, 'polygon': 2892, 'pantalonesfuego': 2893, 'grew': 2894, 'canyon': 2895, 'l': 2896, 'pool': 2897, 'raisinfingers': 2898, 'month': 2899, 'coastguard': 2900, 'floated': 2901, 'socialnews': 2902, 'enzasbargains': 2903, 'a': 2904, 'donated': 2905, 'snacks': 2906, 'handi': 2907, 'wipes': 2908, 'fighters': 2909, 'battling': 2910, 'profittothepeople': 2911, 'marquei': 2912, 'como': 2913, 'visto': 2914, 'dragon': 2915, 'super': 2916, 'bancodeseries': 2917, 'tension': 2918, 'bayelsa': 2919, 'patience': 2920, 'jonathan': 2921, 'plans': 2922, 'apc': 2923, 'pdp': 2924, 'bible': 2925, 'sometimes': 2926, 'backs': 2927, 'unloads': 2928, 'descriptive': 2929, 'indecency': 2930, 'chuckswindoll': 2931, 'explains': 2932, 'iflcanada': 2933, 'sleepjunkies': 2934, 'sleeping': 2935, 'pills': 2936, 'double': 2937, 'geek': 2938, 'gmt': 2939, 'hesse': 2940, 'plays': 2941, 'dark': 2942, 'etcpb': 2943, 'minecraft': 2944, 'bob': 2945, 'wither': 2946, 'showcase': 2947, 'keegan': 2948, 'felt': 2949, 'low': 2950, 'nunya': 2951, 'mileena': 2952, 'disasters': 2953, 'label': 2954, 'legal': 2955, 'status': 2956, 'remain': 2957, 'cramer': 2958, 'iger': 2959, 'tornado': 2960, 'marley': 2961, 'brinx': 2962, 'gives': 2963, 'striptease': 2964, 'spreads': 2965, 'legs': 2966, 'pussy': 2967, 'pounding': 2968, 'ducked': 2969, 'hating': 2970, 'ii': 2971, 'joe': 2972, 'autobiography': 2973, 'lawton': 2974, 'collins': 2975, 'liable': 2976, 'sex': 2977, 'frankfort': 2978, 'transwomen': 2979, 'drag': 2980, 'color': 2981, 'known': 2982, 'butch': 2983, 'lesbian': 2984, 'usually': 2985, 'credited': 2986, 'inciting': 2987, 'lethbridge': 2988, 'ab': 2989, 'wed': 2990, 'mainly': 2991, 'cloudy': 2992, 'percent': 2993, 'chance': 2994, 'showers': 2995, 'winston': 2996, 'gusty': 2997, 'winds': 2998, 'heavy': 2999, 'downpours': 3000, 'northeast': 3001, 'toward': 3002, 'thatdes': 3003, 'forthright': 3004, 'coma': 3005, 'kebab': 3006, 'tahini': 3007, 'pickles': 3008, 'fries': 3009, 'kynespeace': 3010, 'botanical': 3011, 'garden': 3012, 'storen': 3013, 'curing': 3014, 'saving': 3015, 'puppies': 3016, 'deserve': 3017, 'disrespect': 3018, 'jengriffinfnc': 3019, 'activity': 3020, 'arrival': 3021, 'columbia': 3022, 'pam': 3023, 'palmater': 3024, 'perrybellegarde': 3025, 'pmharper': 3026, 'firstnations': 3027, 'idlenomore': 3028, 'cndpoli': 3029, 'yyj': 3030, 'article': 3031, 'jackman': 3032, 'metro': 3033, 'later': 3034, 'downgraded': 3035, 'square': 3036, 'miles': 3037, 'internet': 3038, 'firms': 3039, 'cybersecurity': 3040, 'eu': 3041, 'derby': 3042, 'quite': 3043, 'johnny': 3044, 'marr': 3045, 'primal': 3046, 'scream': 3047, 'hours': 3048, 'willienelson': 3049, 'die': 3050, 'voice': 3051, 'gilbert': 3052, 'swan': 3053, 'geoffrickly': 3054, 'option': 3055, 'buy': 3056, 'vinyl': 3057, 'tee': 3058, 'bundle': 3059, 'smh': 3060, 'history': 3061, 'worst': 3062, 'examples': 3063, 'atombomb': 3064, 'sacramento': 3065, 'sac': 3066, 'florin': 3067, 'franklin': 3068, 'blvd': 3069, 'trfc': 3070, 'enrt': 3071, 'ppl': 3072, 'bruise': 3073, 'bullet': 3074, 'illumination': 3075, 'tastemycupcakee': 3076, 'lmfaooo': 3077, 'nawh': 3078, 'watertown': 3079, 'bummerville': 3080, 'otw': 3081, 'wan': 3082, 'exhaustion': 3083, 'cain': 3084, 'character': 3085, 'for': 3086, 'lapdances': 3087, 'died': 3088, 'experiments': 3089, 'unit': 3090, 'bigbrother': 3091, 'ch': 3092, 'revealed': 3093, 'boeing': 3094, 'design': 3095, 'mail': 3096, 'charleston': 3097, 'sc': 3098, 'reported': 3099, 'johns': 3100, 'thee': 3101, 'striker': 3102, 'nelspruit': 3103, 'strikers': 3104, 'phalaborwa': 3105, 'striking': 3106, 'chinese': 3107, 'taking': 3108, 'jobs': 3109, 'attacking': 3110, 'shipwreck': 3111, 'thenewshype': 3112, 'matako': 3113, 'thoutaylorbrown': 3114, 'feel': 3115, 'accidents': 3116, 'drawn': 3117, 'bowl': 3118, 'xgn': 3119, 'ronin': 3120, 'carbon': 3121, 'hahah': 3122, 'mutual': 3123, 'preset': 3124, 'bal': 3125, 'nades': 3126, 'hill': 3127, 'drops': 3128, 'falling': 3129, 'anderson': 3130, 'road': 3131, 'scwx': 3132, 'fav': 3133, 'cd': 3134, 'oldercandybloom': 3135, 'fine': 3136, 'impulsive': 3137, 'remember': 3138, 'filled': 3139, 'redesigned': 3140, 'drowned': 3141, 'austinpearcy': 3142, 'funny': 3143, 'cry': 3144, 'kisses': 3145, 'pulling': 3146, 'fighting': 3147, 'hoes': 3148, 'zayn': 3149, 'pasta': 3150, 'robot': 3151, 'vacancies': 3152, 'join': 3153, 'montgomery': 3154, 'deepwater': 3155, 'horizon': 3156, 'distribution': 3157, 'funds': 3158, 'bp': 3159, 'settlement': 3160, 'projects': 3161, 'des': 3162, 'moines': 3163, 'ia': 3164, 'hutch': 3165, 'protect': 3166, 'profit': 3167, 'esquireattire': 3168, 'coventry': 3169, 'rhode': 3170, 'beach': 3171, 'jim': 3172, 'alves': 3173, 'means': 3174, 'guaranteed': 3175, 'signs': 3176, 'declaration': 3177, 'marians': 3178, 'dance': 3179, 'console': 3180, 'instructions': 3181, 'pre': 3182, 'loaded': 3183, 'songs': 3184, 'units': 3185, 'simulate': 3186, 'nu': 3187, 'evanston': 3188, 'gettysburg': 3189, 'nowplaying': 3190, 'seven': 3191, 'bells': 3192, 'wzbt': 3193, 'jax': 3194, 'biz': 3195, 'journal': 3196, 'passed': 3197, 'thankfully': 3198, 'command': 3199, 'pray': 3200, 'laylovetournay': 3201, 'ryrotheunaware': 3202, 'groaning': 3203, 'nice': 3204, 'transit': 3205, 'vehicle': 3206, 'vosloorus': 3207, 'gauteng': 3208, 'toyota': 3209, 'conquest': 3210, 'bkb': 3211, 'gp': 3212, 'perspectives': 3213, 'understanding': 3214, 'jihadi': 3215, 'proto': 3216, 'pnw': 3217, 'josebasedgod': 3218, 'shadow': 3219, 'realm': 3220, 'noel': 3221, 'risks': 3222, 'palestinian': 3223, 'refugee': 3224, 'humanity': 3225, 'led': 3226, 'motion': 3227, 'outdoor': 3228, 'pir': 3229, 'lamp': 3230, 'auc': 3231, 'vuitton': 3232, 'monogram': 3233, 'sophie': 3234, 'limited': 3235, 'edition': 3236, 'clutch': 3237, 'tampa': 3238, 'dinosaurdracula': 3239, 'remorse': 3240, 'jason': 3241, 'vi': 3242, 'outfit': 3243, 'itsdanie': 3244, 'noooo': 3245, 'tho': 3246, 'locksmithing': 3247, 'respecting': 3248, 'elaboration': 3249, 'locks': 3250, 'lpdkl': 3251, 'ix': 3252, 'asf': 3253, 'bi': 3254, 'pov': 3255, 'captures': 3256, 'landing': 3257, 'amsterdam': 3258, 'schiphol': 3259, 'multiple': 3260, 'downtown': 3261, 'hinton': 3262, 'soaking': 3263, 'tonne': 3264, 'alcohol': 3265, 'mat': 3266, 'gbbo': 3267, 'storybrooke': 3268, 'moors': 3269, 'commercial': 3270, 'sister': 3271, 'beltway': 3272, 'cue': 3273, 'massive': 3274, 'outage': 3275, 'wxii': 3276, 'davidson': 3277, 'gov': 3278, 'links': 3279, 'britishbakeoff': 3280, 'baked': 3281, 'alaskan': 3282, 'shaped': 3283, 'neverforget': 3284, 'rioting': 3285, 'evacide': 3286, 'ferguson': 3287, 'riots': 3288, 'fixed': 3289, 'allyinwondrland': 3290, 'sounds': 3291, 'perfect': 3292, 'bread': 3293, 'trader': 3294, 'joes': 3295, 'wknd': 3296, 'dry': 3297, 'pinpoint': 3298, 'forecast': 3299, 'rss': 3300, 'classic': 3301, 'www': 3302, 'nagasaki': 3303, 'hidden': 3304, 'decades': 3305, 'foreverwithbap': 3306, 'wish': 3307, 'moderately': 3308, 'gloucester': 3309, 'bonhomme': 3310, 'sub': 3311, 'isil': 3312, 'claims': 3313, 'cyprus': 3314, 'mullah': 3315, 'omar': 3316, 'split': 3317, 'taliban': 3318, 'ranks': 3319, 'demise': 3320, 'certainly': 3321, 'sit': 3322, 'savannah': 3323, 'objects': 3324, 'reminds': 3325, 'utter': 3326, 'shock': 3327, 'epicentre': 3328, 'clt': 3329, 'spot': 3330, 'drink': 3331, 'specials': 3332, 'tired': 3333, 'olathe': 3334, 'morris': 3335, 'ev': 3336, 'idiot': 3337, 'heyimginog': 3338, 'delo': 3339, 'scuf': 3340, 'cya': 3341, 'habbo': 3342, 'bring': 3343, 'games': 3344, 'tic': 3345, 'tac': 3346, 'toe': 3347, 'battleships': 3348, 'fast': 3349, 'matchwood': 3350, 'spain': 3351, 'phelimkine': 3352, 'rohingya': 3353, 'sittwe': 3354, 'point': 3355, 'return': 3356, 'colchester': 3357, 'justinejayyy': 3358, 'ohgod': 3359, 'mean': 3360, 'statute': 3361, 'limitations': 3362, 'repulsive': 3363, 'victimiser': 3364, 'dutton': 3365, 'evangelical': 3366, 'liar': 3367, 'abbott': 3368, 'lnp': 3369, 'dupe': 3370, 'press': 3371, 'overdrive': 3372, 'choppergate': 3373, 'bronwynbishop': 3374, 'auspol': 3375, 'hybrid': 3376, 'slayer': 3377, 'hmu': 3378, 'cod': 3379, 'sandscrims': 3380, 'empirikgaming': 3381, 'codawscrims': 3382, 'tp': 3383, 'kotc': 3384, 'tpfa': 3385, 'org': 3386, 'tucson': 3387, 'fingerrockfire': 3388, 'azwx': 3389, 'ian': 3390, 'rude': 3391, 'based': 3392, 'experience': 3393, 'tweet': 3394, 'either': 3395, 'caracas': 3396, 'venezuela': 3397, 'neon': 3398, 'lights': 3399, 'trauma': 3400, 'notifications': 3401, 'agdq': 3402, 'opinion': 3403, 'kororinpa': 3404, 'marble': 3405, 'mania': 3406, 'tloz': 3407, 'oracle': 3408, 'ages': 3409, 'metroid': 3410, 'westcoast': 3411, 'bros': 3412, 'ima': 3413, 'mariankeyes': 3414, 'rubber': 3415, 'laughing': 3416, 'wants': 3417, 'joys': 3418, 'working': 3419, 'kidnapped': 3420, 'children': 3421, 'daviskawalya': 3422, 'mauryn': 3423, 'saying': 3424, 'goodbyes': 3425, 'grandpa': 3426, 'seen': 3427, 'rip': 3428, 'ideas': 3429, 'delaying': 3430, 'fundamentals': 3431, 'valuations': 3432, 'ttes': 3433, 'charge': 3434, 'helpline': 3435, 'calm': 3436, 'anxious': 3437, 'relatives': 3438, 'indian': 3439, 'exp': 3440, 'mumbaitimes': 3441, 'mini': 3442, 'sp': 3443, 'earnings': 3444, 'letdown': 3445, 'equals': 3446, 'amazon': 3447, 'kama': 3448, 'anellatulip': 3449, 'theory': 3450, 'dwarves': 3451, 'actual': 3452, 'origin': 3453, 'remainontop': 3454, 'fettilootch': 3455, 'slanglucci': 3456, 'oppressions': 3457, 'album': 3458, 'quick': 3459, 'gaza': 3460, 'strip': 3461, 'forces': 3462, 'raid': 3463, 'palestine': 3464, 'xhnews': 3465, 'plants': 3466, 'seasons': 3467, 'govt': 3468, 'refuses': 3469, 'americans': 3470, 'yemen': 3471, 'abandoned': 3472, 'apperception': 3473, 'bridgework': 3474, 'xxhjesc': 3475, 'sassy': 3476, 'hunk': 3477, 'stranded': 3478, 'smoky': 3479, 'aoms': 3480, 'ibooklove': 3481, 'bookboost': 3482, 'smallforestelf': 3483, 'umm': 3484, 'stopped': 3485, 'carrying': 3486, 'airplane': 3487, 'eagle': 3488, 'pass': 3489, 'cessna': 3490, 'ocampo': 3491, 'coahuila': 3492, 'mexico': 3493, 'july': 3494, 'including': 3495, 'official': 3496, 'forestservice': 3497, 'dhsscitech': 3498, 'tech': 3499, 'richmond': 3500, 'heights': 3501, 'question': 3502, 'bitch': 3503, 'wet': 3504, 'tune': 3505, 'sumn': 3506, 'rep': 3507, 'jets': 3508, 'reflects': 3509, 'attendance': 3510, 'diamond': 3511, 'jeff': 3512, 'hanneman': 3513, 'passing': 3514, 'eerie': 3515, 'revealing': 3516, 'fate': 3517, 'cadrought': 3518, 'lakeisabella': 3519, 'jpanzar': 3520, 'construction': 3521, 'kick': 3522, 'seriously': 3523, 'simple': 3524, 'websites': 3525, 'looking': 3526, 'program': 3527, 'pawnee': 3528, 'adumbbb': 3529, 'haha': 3530, 'slopelousas': 3531, 'gates': 3532, 'nobody': 3533, 'br': 3534, 'stories': 3535, 'google': 3536, 'leveled': 3537, 'summer': 3538, 'bedford': 3539, 'films': 3540, 'incredibly': 3541, 'creative': 3542, 'artists': 3543, 'interviewed': 3544, 'depth': 3545, 'anatomy': 3546, 'jose': 3547, 'kelby': 3548, 'tomlinson': 3549, 'mild': 3550, 'mannered': 3551, 'nd': 3552, 'baseman': 3553, 'metropolitan': 3554, 'fights': 3555, 'ending': 3556, 'rbi': 3557, 'sfgiants': 3558, 'abu': 3559, 'baraa': 3560, 'ridiculous': 3561, 'azeroth': 3562, 'chances': 3563, 'digging': 3564, 'needs': 3565, 'evolve': 3566, 'vanilla': 3567, 'belleville': 3568, 'calories': 3569, 'eating': 3570, 'cheese': 3571, 'earned': 3572, 'calorie': 3573, 'klondike': 3574, 'sharp': 3575, 'women': 3576, 'afghan': 3577, 'un': 3578, 'dvbbs': 3579, 'borgeous': 3580, 'arceen': 3581, 'trap': 3582, 'stylist': 3583, 'silent': 3584, 'prime': 3585, 'homs': 3586, 'syria': 3587, 'zaman': 3588, 'alwsl': 3589, 'ealing': 3590, 'belter': 3591, 'season': 3592, 'pisgah': 3593, 'acres': 3594, 'wsoc': 3595, 'charlotte': 3596, 'ewa': 3597, 'hi': 3598, 'opening': 3599, 'registered': 3600, 'nurse': 3601, 'nursing': 3602, 'trinidad': 3603, 'tobago': 3604, 'policyholders': 3605, 'object': 3606, 'clico': 3607, 'diver': 3608, 'neil': 3609, 'anthony': 3610, 'fears': 3611, 'steamship': 3612, 'kalimantan': 3613, 'timur': 3614, 'letters': 3615, 'row': 3616, 'sydney': 3617, 'plane': 3618, 'nxgerxa': 3619, 'popcorn': 3620, 'lynbrook': 3621, 'thanks': 3622, 'count': 3623, 'dante': 3624, 'raleigh': 3625, 'cary': 3626, 'condo': 3627, 'robert': 3628, 'gagnon': 3629, 'imposing': 3630, 'marriage': 3631, 'christians': 3632, 'pretoria': 3633, 'catch': 3634, 'minutes': 3635, 'finally': 3636, 'monwabisi': 3637, 'hlongwane': 3638, 'ryt': 3639, 'twins': 3640, 'ashestoashes': 3641, 'ohhmyjoshh': 3642, 'stevenrulles': 3643, 'thinking': 3644, 'brasil': 3645, 'alisonannyoung': 3646, 'exclusive': 3647, 'longer': 3648, 'transport': 3649, 'research': 3650, 'specimens': 3651, 'anthrax': 3652, 'mishaps': 3653, 'anybody': 3654, 'trench': 3655, 'gfrost': 3656, 'jeffpalmer': 3657, 'salty': 3658, 'mo': 3659, 'hobbit': 3660, 'smaug': 3661, 'uv': 3662, 'digital': 3663, 'code': 3664, 'gin': 3665, 'listia': 3666, 'kansas': 3667, 'hvzlaradio': 3668, 'picked': 3669, 'ink': 3670, 'mysore': 3671, 'karnataka': 3672, 'foodscare': 3673, 'offers': 3674, 'nestleindia': 3675, 'slips': 3676, 'magginoodle': 3677, 'unsafe': 3678, 'humanconsumption': 3679, 'las': 3680, 'vegas': 3681, 'surviving': 3682, 'cum': 3683, 'begforcum': 3684, 'allday': 3685, 'cumshots': 3686, 'cumcovered': 3687, 'sexycumshots': 3688, 'cumtown': 3689, 'bj': 3690, 'nutt': 3691, 'cumslut': 3692, 'girlslovecum': 3693, 'wahpeton': 3694, 'hay': 3695, 'masonite': 3696, 'sir': 3697, 'cousin': 3698, 'pow': 3699, 'brutally': 3700, 'treated': 3701, 'talked': 3702, 'justified': 3703, 'channelstv': 3704, 'intel': 3705, 'agents': 3706, 'impressions': 3707, 'lieu': 3708, 'interesting': 3709, 'triumphs': 3710, 'contac': 3711, 'artisteoftheweekfact': 3712, 'conversations': 3713, 'coastdjs': 3714, 'crystal': 3715, 'blaz': 3716, 'jiwonle': 3717, 'clubbanger': 3718, 'diego': 3719, 'twit': 3720, 'disrupts': 3721, 'trolley': 3722, 'depression': 3723, 'portion': 3724, 'asphalt': 3725, 'sa': 3726, 'fukushima': 3727, 'little': 3728, 'dropped': 3729, 'outright': 3730, 'jam': 3731, 'done': 3732, 'legio': 3733, 'losangeles': 3734, 'ctd': 3735, 'arrest': 3736, 'vital': 3737, 'criminals': 3738, 'orangi': 3739, 'karachi': 3740, 'department': 3741, 'sindh': 3742, 'monster': 3743, 'racer': 3744, 'catches': 3745, 'fair': 3746, 'latin': 3747, 'forbes': 3748, 'gaelite': 3749, 'greg': 3750, 'balls': 3751, 'morgan': 3752, 'orchard': 3753, 'sneak': 3754, 'hospital': 3755, 'stab': 3756, 'needle': 3757, 'inject': 3758, 'veins': 3759, 'lowell': 3760, 'ebrointheam': 3761, 'jay': 3762, 'pun': 3763, 'biggie': 3764, 'wrap': 3765, 'zero': 3766, 'flawless': 3767, 'victory': 3768, 'overtaking': 3769, 'bathandnortheastsomerset': 3770, 'eminem': 3771, 'feat': 3772, 'nate': 3773, 'dogg': 3774, 'slsp': 3775, 'happening': 3776, 'encore': 3777, 'drsarwatzaib': 3778, 'ik': 3779, 'mcourt': 3780, 'parliment': 3781, 'station': 3782, 'barbados': 3783, 'dramatic': 3784, 'shows': 3785, 'feelings': 3786, 'bamenda': 3787, 'animals': 3788, 'birds': 3789, 'turkish': 3790, 'troops': 3791, 'kurdish': 3792, 'militant': 3793, 'extraterrestrial': 3794, 'highway': 3795, 'germs': 3796, 'wxia': 3797, 'scoopit': 3798, 'internally': 3799, 'persons': 3800, 'expert': 3801, 'crematoria': 3802, 'provoke': 3803, 'crisis': 3804, 'memories': 3805, 'twist': 3806, 'ultimate': 3807, 'preparedness': 3808, 'ov': 3809, 'erie': 3810, 'dualcom': 3811, 'enjoyed': 3812, 'yesterdays': 3813, 'todays': 3814, 'easter': 3815, 'carb': 3816, 'consultative': 3817, 'subconscious': 3818, 'self': 3819, 'straight': 3820, 'xkdrx': 3821, 'alarms': 3822, 'accidently': 3823, 'exams': 3824, 'kidding': 3825, 'sandiego': 3826, 'spring': 3827, 'grove': 3828, 'schwarber': 3829, 'ran': 3830, 'pieces': 3831, 'amman': 3832, 'jordan': 3833, 'fco': 3834, 'minister': 3835, 'tobias': 3836, 'ellwood': 3837, 'condemns': 3838, 'resulted': 3839, 'coalition': 3840, 'fondness': 3841, 'backing': 3842, 'style': 3843, 'totalitarianism': 3844, 'copied': 3845, 'phila': 3846, 'girlfriend': 3847, 'sochi': 3848, 'kda': 3849, 'ru': 3850, 'hlportal': 3851, 'ice': 3852, 'species': 3853, 'mosquitoes': 3854, 'hey': 3855, 'ghe': 3856, 'interested': 3857, 'organizations': 3858, 'fluctuations': 3859, 'disturbances': 3860, 'imbalances': 3861, 'primary': 3862, 'sources': 3863, 'creativity': 3864, 'margaret': 3865, 'wheatley': 3866, 'wilmington': 3867, 'repped': 3868, 'fantastic': 3869, 'laura': 3870, 'milne': 3871, 'thejonesesvoice': 3872, 'liguistic': 3873, 'tweets': 3874, 'lfc': 3875, 'gsw': 3876, 'kopiteluke': 3877, 'igmpj': 3878, 'dangling': 3879, 'piercing': 3880, 'crystals': 3881, 'potentially': 3882, 'eyes': 3883, 'argentina': 3884, 'losing': 3885, 'touch': 3886, 'build': 3887, 'ship': 3888, 'expand': 3889, 'search': 3890, 'pregnant': 3891, 'beloeil': 3892, 'richelieu': 3893, 'saint': 3894, 'laurent': 3895, 'expanding': 3896, 'fo': 3897, 'nairobi': 3898, 'enter': 3899, 'diving': 3900, 'volga': 3901, 'wearing': 3902, 'chains': 3903, 'insult': 3904, 'katrina': 3905, 'ln': 3906, 'nordrhein': 3907, 'westfalen': 3908, 'freaks': 3909, 'mix': 3910, 'listenlive': 3911, 'realized': 3912, 'glasses': 3913, 'flightcity': 3914, 'vid': 3915, 'thereal': 3916, 'trubgme': 3917, 'comin': 3918, 'nuke': 3919, 'target': 3920, 'hilversum': 3921, 'meters': 3922, 'surface': 3923, 'anywhere': 3924, 'etc': 3925, 'learn': 3926, 'parent': 3927, 'der': 3928, 'abbruchsimulator': 3929, 'ted': 3930, 'qz': 3931, 'inc': 3932, 'europe': 3933, 'songhey': 3934, 'girls': 3935, 'predict': 3936, 'earthquakes': 3937, 'christian': 3938, 'billmccabe': 3939, 'sky': 3940, 'tahoe': 3941, 'leesburg': 3942, 'dantwitty': 3943, 'shuts': 3944, 'door': 3945, 'boom': 3946, 'bottom': 3947, 'eighth': 3948, 'auntiedote': 3949, 'rioslade': 3950, 'locke': 3951, 'wiggins': 3952, 'akarb': 3953, 'side': 3954, 'fixing': 3955, 'windy': 3956, 'queen': 3957, 'knows': 3958, 'bluehand': 3959, 'pjnet': 3960, 'menpa': 3961, 'replies': 3962, 'omg': 3963, 'nominates': 3964, 'ohhsehuns': 3965, 'yosemite': 3966, 'challenging': 3967, 'estate': 3968, 'sedan': 3969, 'smoking': 3970, 'eric': 3971, 'clapton': 3972, 'sheriff': 3973, 'guess': 3974, 'mtsalert': 3975, 'riders': 3976, 'delays': 3977, 'developed': 3978, 'vicinity': 3979, 'woodlawn': 3980, 'teen': 3981, 'grimsby': 3982, 'dog': 3983, 'kennel': 3984, 'yorkshire': 3985, 'chose': 3986, 'joy': 3987, 'smiles': 3988, 'bod': 3989, 'portgassdk': 3990, 'weed': 3991, 'marijuana': 3992, 'monitor': 3993, 'southbound': 3994, 'btwn': 3995, 'irvine': 3996, 'chp': 3997, 'detouring': 3998, 'summervibes': 3999, 'puppy': 4000, 'pitmix': 4001, 'brixton': 4002, 'banksy': 4003, 'mybabies': 4004, 'hame': 4005, 'weird': 4006, 'hunterston': 4007, 'process': 4008, 'blowing': 4009, 'smithereens': 4010, 'reddevil': 4011, 'manutd': 4012, 'boys': 4013, 'gimp': 4014, 'newave': 4015, 'tickets': 4016, 'shania': 4017, 'click': 4018, 'ryans': 4019, 'tropical': 4020, 'wakeupflorida': 4021, 'floridians': 4022, 'trophyhunt': 4023, 'killer': 4024, 'lia': 4025, 'dani': 4026, 'bat': 4027, 'vinnie': 4028, 'jones': 4029, 'northumbria': 4030, 'minhazmerchant': 4031, 'bills': 4032, 'upa': 4033, 'used': 4034, 'nda': 4035, 'system': 4036, 'meat': 4037, 'feminists': 4038, 'grill': 4039, 'arrived': 4040, 'oliviamiles': 4041, 'pink': 4042, 'flat': 4043, 'linerless': 4044, 'bottle': 4045, 'caps': 4046, 'choose': 4047, 'vanderbilt': 4048, 'cocktail': 4049, 'list': 4050, 'diablo': 4051, 'mas': 4052, 'verde': 4053, 'mezcal': 4054, 'yellow': 4055, 'chartreuse': 4056, 'honey': 4057, 'cucumber': 4058, 'bitters': 4059, 'bend': 4060, 'office': 4061, 'roofers': 4062, 'gas': 4063, 'prompt': 4064, 'rains': 4065, 'hard': 4066, 'trains': 4067, 'lexi': 4068, 'belle': 4069, 'ashes': 4070, 'trent': 4071, 'bundled': 4072, 'carol': 4073, 'technique': 4074, 'bmurph': 4075, 'youtsey': 4076, 'termn': 4077, 'goblue': 4078, 'wrestleon': 4079, 'tennessee': 4080, 'couple': 4081, 'crack': 4082, 'wiped': 4083, 'elbow': 4084, 'examining': 4085, 'french': 4086, 'isolated': 4087, 'indians': 4088, 'smirking': 4089, 'remorseless': 4090, 'pakistani': 4091, 'boasting': 4092, 'johnsontionne': 4093, 'idk': 4094, 'maracay': 4095, 'nirgua': 4096, 'friggin': 4097, 'destiel': 4098, 'sucks': 4099, 'description': 4100, 'malibu': 4101, 'santafe': 4102, 'winning': 4103, 'sterling': 4104, 'carpet': 4105, 'fundraiser': 4106, 'oso': 4107, 'canadian': 4108, 'libertarianluke': 4109, 'rampage': 4110, 'twelve': 4111, 'feared': 4112, 'helicopter': 4113, 'older': 4114, 'native': 4115, 'australians': 4116, 'oceans': 4117, 'created': 4118, 'urine': 4119, 'architect': 4120, 'kanye': 4121, 'shud': 4122, 'pak': 4123, 'oth': 4124, 'contries': 4125, 'auth': 4126, 'saumur': 4127, 'higher': 4128, 'trunks': 4129, 'freiza': 4130, 'cleanest': 4131, 'showed': 4132, 'hyderabad': 4133, 'roughdeal': 4134, 'ante': 4135, 'hudhud': 4136, 'chandrababu': 4137, 'valle': 4138, 'ne': 4139, 'zhenghxn': 4140, 'akame': 4141, 'tokyo': 4142, 'ghoul': 4143, 'dare': 4144, 'principality': 4145, 'zeron': 4146, 'rayquazaerk': 4147, 'employed': 4148, 'islamic': 4149, 'groups': 4150, 'jackmulholland': 4151, 'marquis': 4152, 'carlos': 4153, 'charlie': 4154, 'surf': 4155, 'waimea': 4156, 'surfers': 4157, 'motorcyclist': 4158, 'bicyclist': 4159, 'broadway': 4160, 'mansion': 4161, 'plug': 4162, 'christmas': 4163, 'nyhc': 4164, 'ghostwriting': 4165, 'rihanna': 4166, 'acd': 4167, 'd': 4168, 'looting': 4169, 'nicola': 4170, 'dying': 4171, 'salmon': 4172, 'act': 4173, 'deny': 4174, 'nightmares': 4175, 'bcpoli': 4176, 'canpoli': 4177, 'vanpoli': 4178, 'shoes': 4179, 'asics': 4180, 'ronnie': 4181, 'fieg': 4182, 'kith': 4183, 'gel': 4184, 'grey': 4185, 'tweetlikeitsseptember': 4186, 'larger': 4187, 'cartoon': 4188, 'qave': 4189, 'knowlddge': 4190, 'gaabyx': 4191, 'purple': 4192, 'activist': 4193, 'buffoonmike': 4194, 'knew': 4195, 'bite': 4196, 'influenced': 4197, 'shitty': 4198, 'staff': 4199, 'acquisitions': 4200, 'toddstarnes': 4201, 'todd': 4202, 'hehe': 4203, 'grizzly': 4204, 'peak': 4205, 'beginning': 4206, 'dystopian': 4207, 'dart': 4208, 'members': 4209, 'participating': 4210, 'intensive': 4211, 'technical': 4212, 'clancy': 4213, 'mystery': 4214, 'novels': 4215, 'paperback': 4216, 'tomclancy': 4217, 'image': 4218, 'quiz': 4219, 'hailing': 4220, 'dayton': 4221, 'combo': 4222, 'inch': 4223, 'curved': 4224, 'cree': 4225, 'offroad': 4226, 'fog': 4227, 'bulletin': 4228, 'hannaph': 4229, 'fits': 4230, 'bmw': 4231, 'ci': 4232, 'germany': 4233, 'soul': 4234, 'stone': 4235, 'carry': 4236, 'mylittlepwnies': 4237, 'anathemazhiv': 4238, 'tonysandos': 4239, 'lebanon': 4240, 'libya': 4241, 'pan': 4242, 'pulls': 4243, 'apparent': 4244, 'provocation': 4245, 'dailykos': 4246, 'minneapolis': 4247, 'patna': 4248, 'express': 4249, 'linden': 4250, 'method': 4251, 'lite': 4252, 'version': 4253, 'anxiety': 4254, 'cure': 4255, 'lind': 4256, 'jammu': 4257, 'kashmir': 4258, 'delhi': 4259, 'bovines': 4260, 'smugglers': 4261, 'nabbed': 4262, 'fredericksburg': 4263, 'wwp': 4264, 'serving': 4265, 'oif': 4266, 'oef': 4267, 'physical': 4268, 'invisible': 4269, 'ones': 4270, 'client': 4271, 'learned': 4272, 'economics': 4273, 'dakota': 4274, 'college': 4275, 'hubert': 4276, 'humphrey': 4277, 'til': 4278, 'tring': 4279, 'marc': 4280, 'holl': 4281, 'nennicook': 4282, 'aitchkaycee': 4283, 'vixstuart': 4284, 'benjbeckwith': 4285, 'arcade': 4286, 'shooter': 4287, 'fix': 4288, 'cte': 4289, 'empty': 4290, 'overpriced': 4291, 'steam': 4292, 'firepower': 4293, 'electronic': 4294, 'resource': 4295, 'automation': 4296, 'infectious': 4297, 'diseases': 4298, 'graysondolan': 4299, 'kendall': 4300, 'jenner': 4301, 'nick': 4302, 'jonas': 4303, 'dating': 4304, 'hold': 4305, 'cat': 4306, 'fort': 4307, 'startelegram': 4308, 'vulnerable': 4309, 'solar': 4310, 'fuel': 4311, 'arvada': 4312, 'esteemed': 4313, 'journalist': 4314, 'recalls': 4315, 'tragic': 4316, 'effects': 4317, 'unaddressed': 4318, 'keithboykin': 4319, 'randallpinkston': 4320, 'pozarmy': 4321, 'alarmingly': 4322, 'foothill': 4323, 'township': 4324, 'apartment': 4325, 'tuned': 4326, 'freddiedeboer': 4327, 'thucydiplease': 4328, 'coates': 4329, 'walter': 4330, 'broadly': 4331, 'gallifrey': 4332, 'mathew': 4333, 'z': 4334, 'ke': 4335, 'sk': 4336, 'saladinahmed': 4337, 'whiterun': 4338, 'skyrim': 4339, 'palm': 4340, 'reality': 4341, 'falls': 4342, 'elevated': 4343, 'tracks': 4344, 'paramedic': 4345, 'ems': 4346, 'med': 4347, 'boat': 4348, 'benchmark': 4349, 'paths': 4350, 'leaks': 4351, 'resque': 4352, 'fashion': 4353, 'raishimi': 4354, 'applaud': 4355, 'buxton': 4356, 'venice': 4357, 'nottingham': 4358, 'invading': 4359, 'mistake': 4360, 'diplomacy': 4361, 'constant': 4362, 'threatens': 4363, 'livingston': 4364, 'mt': 4365, 'marynmck': 4366, 'beyond': 4367, 'adorable': 4368, 'noticed': 4369, 'mount': 4370, 'vernon': 4371, 'starbucks': 4372, 'momneedscoffee': 4373, 'asap': 4374, 'iwontmakeit': 4375, 'screwston': 4376, 'redskins': 4377, 'wr': 4378, 'roberts': 4379, 'belly': 4380, 'teamstream': 4381, 'allah': 4382, 'describes': 4383, 'piling': 4384, 'wealth': 4385, 'surah': 4386, 'humaza': 4387, 'reflect': 4388, 'written': 4389, 'include': 4390, 'vantage': 4391, 'points': 4392, 'detkenlang': 4393, 'heartdisease': 4394, 'spending': 4395, 'budget': 4396, 'sandrabland': 4397, 'forget': 4398, 'itsjustinstuart': 4399, 'range': 4400, 'hungerarticles': 4401, 'nepal': 4402, 'rebuilding': 4403, 'livelihoods': 4404, 'quake': 4405, 'calif': 4406, 'vineyard': 4407, 'chubbysquirrel': 4408, 'surge': 4409, 'marvel': 4410, 'avengers': 4411, 'rockbottomradfm': 4412, 'challenges': 4413, 'tough': 4414, 'rescuing': 4415, 'jaipur': 4416, 'wisconsin': 4417, 'coffees': 4418, 'rockstar': 4419, 'coffee': 4420, 'butt': 4421, 'extraordinaire': 4422, 'wth': 4423, 'rotating': 4424, 'swb': 4425, 'ability': 4426, 'offer': 4427, 'future': 4428, 'prolly': 4429, 'sureshpprabhu': 4430, 'intersection': 4431, 'memorial': 4432, 'planned': 4433, 'coal': 4434, 'creek': 4435, 'pkwy': 4436, 'blocking': 4437, 'lane': 4438, 'attacked': 4439, 'waco': 4440, 'namekians': 4441, 'acc': 4442, 'study': 4443, 'conducted': 4444, 'skims': 4445, 'morethan': 4446, 'psychiatric': 4447, 'disorders': 4448, 'kashmirconflict': 4449, 'bow': 4450, 'takis': 4451, 'rubbing': 4452, 'tears': 4453, 'ig': 4454, 'abstorm': 4455, 'yyc': 4456, 'haildamage': 4457, 'yycweather': 4458, 'captureyyc': 4459, 'sto': 4460, 'per': 4461, 'britney': 4462, 'spears': 4463, 'missed': 4464, 'pieceofme': 4465, 'elena': 4466, 'info': 4467, 'disco': 4468, 'song': 4469, 'gospel': 4470, 'acoustic': 4471, 'theatershooting': 4472, 'defendant': 4473, 'testify': 4474, 'phase': 4475, 'therefore': 4476, 'exam': 4477, 'jury': 4478, 'questions': 4479, 'brooke': 4480, 'timed': 4481, 'concert': 4482, 'gaborone': 4483, 'botswana': 4484, 'yup': 4485, 'eversafe': 4486, 'auto': 4487, 'kit': 4488, 'rush': 4489, 'hour': 4490, 'gridlock': 4491, 'jumper': 4492, 'demoness': 4493, 'angel': 4494, 'beckoning': 4495, 'void': 4496, 'speaking': 4497, 'xb': 4498, 'irving': 4499, 'anti': 4500, 'rear': 4501, 'technology': 4502, 'techesback': 4503, 'proud': 4504, 'joegoodmanjr': 4505, 'copalibertadores': 4506, 'argentinean': 4507, 'several': 4508, 'causing': 4509, 'evacuations': 4510, 'collective': 4511, 'memory': 4512, 'diverse': 4513, 'outlook': 4514, 'hwo': 4515, 'chowtaxis': 4516, 'newport': 4517, 'jackie': 4518, 'temple': 4519, 'messages': 4520, 'appreciated': 4521, 'majesty': 4522, 'emperor': 4523, 'salman': 4524, 'unstoppable': 4525, 'entertainment': 4526, 'bajrangi': 4527, 'bhaijaan': 4528, 'creating': 4529, 'crosed': 4530, 'kilbride': 4531, 'fitba': 4532, 'lisavanderpump': 4533, 'ava': 4534, 'dmv': 4535, 'foot': 4536, 'iphooey': 4537, 'ironically': 4538, 'michele': 4539, 'bachmann': 4540, 'brought': 4541, 'ron': 4542, 'hoax': 4543, 'errrr': 4544, 'nope': 4545, 'notgoingoutinthat': 4546, 'hellonwheelsamc': 4547, 'fans': 4548, 'talkinghell': 4549, 'freestyle': 4550, 'amalie': 4551, 'arena': 4552, 'sep': 4553, 'ticket': 4554, 'longest': 4555, 'streak': 4556, 'triple': 4557, 'digit': 4558, 'ouvindo': 4559, 'twice': 4560, 'flame': 4561, 'robertmeyer': 4562, 'example': 4563, 'prices': 4564, 'farmers': 4565, 'capitalism': 4566, 'failed': 4567, 'feed': 4568, 'step': 4569, 'britain': 4570, 'cascada': 4571, 'dancefloor': 4572, 'ciaramckendry': 4573, 'mine': 4574, 'renewed': 4575, 'pikin': 4576, 'pomfret': 4577, 'providence': 4578, 'fallacy': 4579, 'whether': 4580, 'robertcalifornia': 4581, 'thereisonlysex': 4582, 'suva': 4583, 'fiji': 4584, 'audience': 4585, 'zenit': 4586, 'critical': 4587, 'pundit': 4588, 'grave': 4589, 'rails': 4590, 'photographs': 4591, 'mandate': 4592, 'trace': 4593, 'palestinians': 4594, 'luis': 4595, 'slipping': 4596, 'fingers': 4597, 'stlouis': 4598, 'caraccidentlawyer': 4599, 'speeding': 4600, 'travellers': 4601, 'del': 4602, 'sol': 4603, 'danhrothschild': 4604, 'greed': 4605, 'takecare': 4606, 'duncan': 4607, 'braves': 4608, 'angels': 4609, 'dumping': 4610, 'wide': 4611, 'poland': 4612, 'prisoners': 4613, 'nazi': 4614, 'treblinka': 4615, 'rebelled': 4616, 'seizing': 4617, 'small': 4618, 'ripple': 4619, 'tide': 4620, 'lesleychappelle': 4621, 'bangalore': 4622, 'googlemaps': 4623, 'mashup': 4624, 'calculates': 4625, 'fresh': 4626, 'encounter': 4627, 'pulwama': 4628, 'holed': 4629, 'sliding': 4630, 'writers': 4631, 'tony': 4632, 'nester': 4633, 'sonoranrattler': 4634, 'writingtips': 4635, 'burns': 4636, 'economic': 4637, 'kernow': 4638, 'slightly': 4639, 'suh': 4640, 'practice': 4641, 'finsup': 4642, 'devia': 4643, 'ler': 4644, 'wattys': 4645, 'wattpad': 4646, 'teenfiction': 4647, 'sweetiebirks': 4648, 'mirrorlady': 4649, 'slatukip': 4650, 'name': 4651, 'countries': 4652, 'invaded': 4653, 'aside': 4654, 'atl': 4655, 'events': 4656, 'thehighfessions': 4657, 'blasted': 4658, 'pancakes': 4659, 'westeros': 4660, 'swords': 4661, 'tape': 4662, 'finishing': 4663, 'thrones': 4664, 'starks': 4665, 'greyjoys': 4666, 'kenny': 4667, 'holland': 4668, 'vida': 4669, 'mary': 4670, 'thou': 4671, 'thy': 4672, 'problem': 4673, 'ignore': 4674, 'timestack': 4675, 'sunsets': 4676, 'mesmerizing': 4677, 'images': 4678, 'vintage': 4679, 'camera': 4680, 'bids': 4681, 'rajasthan': 4682, 'success': 4683, 'permanent': 4684, 'mood': 4685, 'istg': 4686, 'lonewolffur': 4687, 'bruh': 4688, 'buscemi': 4689, 'firefightr': 4690, 'fame': 4691, 'workd': 4692, 'hr': 4693, 'shifts': 4694, 'diggin': 4695, 'wtc': 4696, 'lookg': 4697, 'enugu': 4698, 'illegal': 4699, 'structures': 4700, 'international': 4701, 'conference': 4702, 'centre': 4703, 'derail': 4704, 'killing': 4705, 'exploration': 4706, 'gabon': 4707, 'somalia': 4708, 'bin': 4709, 'laden': 4710, 'avoiding': 4711, 'microlight': 4712, 'runway': 4713, 'varanasi': 4714, 'manslaughter': 4715, 'toddler': 4716, 'sh': 4717, 'tracklist': 4718, 'streets': 4719, 'kentwood': 4720, 'selmoooooo': 4721, 'edvinnn': 4722, 'imtariik': 4723, 'dzafic': 4724, 'haris': 4725, 'selmo': 4726, 'catching': 4727, 'witnessing': 4728, 'slaughter': 4729, 'monsters': 4730, 'tunbridge': 4731, 'wells': 4732, 'perkpearl': 4733, 'relax': 4734, 'vigilent': 4735, 'liberties': 4736, 'nativehuman': 4737, 'myreligion': 4738, 'invoices': 4739, 'ris': 4740, 'togthe': 4741, 'motor': 4742, 'fremont': 4743, 'av': 4744, 'sean': 4745, 'sg': 4746, 'knockout': 4747, 'pony': 4748, 'packs': 4749, 'punch': 4750, 'cbs': 4751, 'massachusetts': 4752, 'tareksocal': 4753, 'celebrities': 4754, 'treat': 4755, 'resumed': 4756, 'earlier': 4757, 'garfield': 4758, 'residual': 4759, 'bright': 4760, 'fireman': 4761, 'birthday': 4762, 'weddings': 4763, 'electrocute': 4764, 'otrakansascity': 4765, 'niall': 4766, 'thx': 4767, 'jinx': 4768, 'aria': 4769, 'ahrary': 4770, 'thetawniest': 4771, 'troubling': 4772, 'dirt': 4773, 'bike': 4774, 'wasteland': 4775, 'mv': 4776, 'fevwarrior': 4777, 'vault': 4778, 'zarry': 4779, 'mechanical': 4780, 'blows': 4781, 'mention': 4782, 'leads': 4783, 'unions': 4784, 'retard': 4785, 'justice': 4786, 'drain': 4787, 'cops': 4788, 'teachers': 4789, 'dccc': 4790, 'vj': 4791, 'lawrence': 4792, 'jbouie': 4793, 'mmfa': 4794, 'curls': 4795, 'finished': 4796, 'cheetosarabia': 4797, 'crudes': 4798, 'grab': 4799, 'cheetos': 4800, 'ye': 4801, 'pulse': 4802, 'rifles': 4803, 'tuning': 4804, 'eac': 4805, 'au': 4806, 'fiendnikki': 4807, 'awesome': 4808, 'word': 4809, 'idea': 4810, 'theres': 4811, 'chrissie': 4812, 'adam': 4813, 'val': 4814, 'finn': 4815, 'dudetown': 4816, 'gargron': 4817, 'forced': 4818, 'founder': 4819, 'ceo': 4820, 'huffman': 4821, 'unveiled': 4822, 'specif': 4823, 'threw': 4824, 'daughter': 4825, 'nude': 4826, 'protests': 4827, 'crap': 4828, 'harleychick': 4829, 'pjnt': 4830, 'runbenrun': 4831, 'posts': 4832, 'animalrescue': 4833, 'wedneday': 4834, 'taykreidler': 4835, 'loveyouuuu': 4836, 'aintsheperty': 4837, 'quezon': 4838, 'furiosoxv': 4839, 'stuns': 4840, 'aw': 4841, 'udhampur': 4842, 'terror': 4843, 'militants': 4844, 'spos': 4845, 'happens': 4846, 'messeymetoo': 4847, 'newcastle': 4848, 'tyne': 4849, 'themed': 4850, 'tops': 4851, 'timing': 4852, 'avon': 4853, 'ten': 4854, 'ee': 4855, 'chargers': 4856, 'register': 4857, 'queensland': 4858, 'slipper': 4859, 'putting': 4860, 'boot': 4861, 'tejas': 4862, 'postapocalypticflimflam': 4863, 'prodding': 4864, 'everyday': 4865, 'cristianinspire': 4866, 'rap': 4867, 'chat': 4868, 'ptsdchat': 4869, 'sharkatraz': 4870, 'bindle': 4871, 'cleft': 4872, 'autoames': 4873, 'hoped': 4874, 'ventilated': 4875, 'marines': 4876, 'bandolier': 4877, 'dix': 4878, 'potus': 4879, 'strategicpatience': 4880, 'strategy': 4881, 'genocide': 4882, 'idp': 4883, 'hype': 4884, 'cumming': 4885, 'mets': 4886, 'cocky': 4887, 'uribe': 4888, 'strutted': 4889, 'batters': 4890, 'box': 4891, 'eastlake': 4892, 'erinmariefishy': 4893, 'onu': 4894, 'rockefeller': 4895, 'chi': 4896, 'rockefelleruniv': 4897, 'heiress': 4898, 'evade': 4899, 'lgl': 4900, 'prosecute': 4901, 'blks': 4902, 'harvardu': 4903, 'kidnap': 4904, 'afp': 4905, 'noah': 4906, 'anyname': 4907, 'utopian': 4908, 'impulse': 4909, 'inevitably': 4910, 'ends': 4911, 'gulags': 4912, 'peacefully': 4913, 'scare': 4914, 'sunrise': 4915, 'manor': 4916, 'swellyjetevo': 4917, 'disneyland': 4918, 'tacos': 4919, 'pressure': 4920, 'extra': 4921, 'ctea': 4922, 'ronda': 4923, 'rousey': 4924, 'mayweather': 4925, 'boxing': 4926, 'camilla': 4927, 'craykain': 4928, 'shatter': 4929, 'delusions': 4930, 'justifying': 4931, 'lethal': 4932, 'force': 4933, 'gunsense': 4934, 'harder': 4935, 'conflict': 4936, 'glorious': 4937, 'triumph': 4938, 'thomas': 4939, 'paine': 4940, 'wbcshirl': 4941, 'doessnt': 4942, 'rejoice': 4943, 'calamities': 4944, 'ect': 4945, 'punished': 4946, 'crayford': 4947, 'hollywarnexx': 4948, 'apaz': 4949, 'halfrica': 4950, 'swam': 4951, 'bounced': 4952, 'suffice': 4953, 'rodarmer': 4954, 'dolla': 4955, 'wicked': 4956, 'lizhphoto': 4957, 'outburst': 4958, 'aggression': 4959, 'sux': 4960, 'tuesday': 4961, 'knocked': 4962, 'yday': 4963, 'cos': 4964, 'text': 4965, 'log': 4966, 'kutztown': 4967, 'kayla': 4968, 'logistics': 4969, 'enca': 4970, 'migrant': 4971, 'capsizes': 4972, 'onboard': 4973, 'capsized': 4974, 'cycling': 4975, 'athletics': 4976, 'doping': 4977, 'exacerbated': 4978, 'monetary': 4979, 'reward': 4980, 'required': 4981, 'pol': 4982, 'kanto': 4983, 'marek': 4984, 'zar': 4985, 'cringes': 4986, 'uses': 4987, 'toss': 4988, 'lorries': 4989, 'buses': 4990, 'wo': 4991, 'kyiv': 4992, 'ukraine': 4993, 'soaring': 4994, 'soviet': 4995, 'capoeira': 4996, 'bearer': 4997, 'stankyboy': 4998, 'vont': 4999, 'beauty': 5000, 'within': 5001, 'pipeliners': 5002, 'innerhalb': 5003, 'cke': 5004, 'gamergate': 5005, 'attempt': 5006, 'community': 5007, 'scam': 5008, 'sight': 5009, 'sarcastic': 5010, 'drop': 5011, 'inner': 5012, 'loop': 5013, 'exit': 5014, 'md': 5015, 'ave': 5016, 'ellensburg': 5017, 'backups': 5018, 'eastbound': 5019, 'visibility': 5020, 'aphyr': 5021, 'somethin': 5022, 'chloe': 5023, 'bellx': 5024, 'mortified': 5025, 'rose': 5026, 'heels': 5027, 'planted': 5028, 'greenlacey': 5029, 'godslove': 5030, 'thanku': 5031, 'apocalyptic': 5032, 'property': 5033, 'sat': 5034, 'saddlebrooke': 5035, 'freeing': 5036, 'newidea': 5037, 'chester': 5038, 'hobby': 5039, 'lobby': 5040, 'ama': 5041, 'bettyfreedoms': 5042, 'abninfvet': 5043, 'drdrewhln': 5044, 'areva': 5045, 'mind': 5046, 'business': 5047, 'jenniferarri': 5048, 'comeeeee': 5049, 'pin': 5050, 'charger': 5051, 'apple': 5052, 'ip': 5053, 'charging': 5054, 'lightening': 5055, 'struck': 5056, 'backyard': 5057, 'happily': 5058, 'married': 5059, 'sprinter': 5060, 'automatic': 5061, 'frontline': 5062, 'lez': 5063, 'compliant': 5064, 'okanagan': 5065, 'makewaterwork': 5066, 'rating': 5067, 'maxed': 5068, 'westerncanadadrought': 5069, 'charles': 5070, 'mentally': 5071, 'preparing': 5072, 'joshsternberg': 5073, 'seems': 5074, 'passamaquoddy': 5075, 'ictyosaur': 5076, 'degree': 5077, 'houstn': 5078, 'hatteras': 5079, 'agency': 5080, 'comments': 5081, 'permits': 5082, 'contactsimplenews': 5083, 'gmail': 5084, 'com': 5085, 'topnews': 5086, 'parley': 5087, 'investigating': 5088, 'solano': 5089, 'sr': 5090, 'skaggs': 5091, 'daborsch': 5092, 'shocking': 5093, 'lured': 5094, 'fanbase': 5095, 'wod': 5096, 'disappointed': 5097, 'hardcore': 5098, 'everyones': 5099, 'holly': 5100, 'urufusanragu': 5101, 'treasures': 5102, 'drains': 5103, 'lakes': 5104, 'fran': 5105, 'hhs': 5106, 'selects': 5107, 'regional': 5108, 'pathogen': 5109, 'centers': 5110, 'torrential': 5111, 'wisdc': 5112, 'troylercraft': 5113, 'spammers': 5114, 'popularmmos': 5115, 'messenger': 5116, 'designer': 5117, 'qualit': 5118, 'spanish': 5119, 'sweet': 5120, 'ritual': 5121, 'westwestwestwestwestwestwest': 5122, 'stood': 5123, 'superiority': 5124, 'unconditional': 5125, 'atx': 5126, 'winkie': 5127, 'whoever': 5128, 'directing': 5129, 'nicki': 5130, 'minaj': 5131, 'recognition': 5132, 'gaping': 5133, 'opens': 5134, 'seller': 5135, 'propagandist': 5136, 'adjust': 5137, 'shoe': 5138, 'shaper': 5139, 'width': 5140, 'extender': 5141, 'adjustable': 5142, 'tampabay': 5143, 'glosblue': 5144, 'crime': 5145, 'rate': 5146, 'guns': 5147, 'georgie': 5148, 'forreal': 5149, 'incase': 5150, 'becomes': 5151, 'whipe': 5152, 'clip': 5153, 'coercion': 5154, 'weakness': 5155, 'ensuring': 5156, 'li': 5157, 'ge': 5158, 'rubi': 5159, 'stacks': 5160, 'apply': 5161, 'purgatory': 5162, 'weloverobdyrdek': 5163, 'adrian': 5164, 'peel': 5165, 'clue': 5166, 'clicks': 5167, 'nout': 5168, 'rubbin': 5169, 'islip': 5170, 'slone': 5171, 'truly': 5172, 'ripples': 5173, 'compound': 5174, 'behead': 5175, 'croatian': 5176, 'tlvfaces': 5177, 'misses': 5178, 'komo': 5179, 'japon': 5180, 'gigawatts': 5181, 'installed': 5182, 'capacity': 5183, 'gwatt': 5184, 'equal': 5185, 'losses': 5186, 'rages': 5187, 'fnaf': 5188, 'talkmc': 5189, 'stands': 5190, 'smiling': 5191, 'hah': 5192, 'omega': 5193, 'writer': 5194, 'explores': 5195, 'religion': 5196, 'epic': 5197, 'kyle': 5198, 'rayner': 5199, 'newsarama': 5200, 'haji': 5201, 'hunter': 5202, 'middleeasteye': 5203, 'muzzies': 5204, 'spontaneously': 5205, 'combust': 5206, 'payback': 5207, 'yogya': 5208, 'berhati': 5209, 'nyaman': 5210, 'wocowae': 5211, 'ushed': 5212, 'waterloo': 5213, 'ont': 5214, 'zehrs': 5215, 'decide': 5216, 'brizzle': 5217, 'tomarse': 5218, 'intending': 5219, 'signal': 5220, 'allowed': 5221, 'servicin': 5222, 'section': 5223, 'lurkin': 5224, 'radiation': 5225, 'documents': 5226, 'procedures': 5227, 'mattmosley': 5228, 'cockerelshoes': 5229, 'manly': 5230, 'sms': 5231, 'calum': 5232, 'sos': 5233, 'basking': 5234, 'int': 5235, 'bridgeportspeed': 5236, 'details': 5237, 'diamondville': 5238, 'ayhoka': 5239, 'bn': 5240, 'foxy': 5241, 'jennifer': 5242, 'aniston': 5243, 'insubcontinent': 5244, 'adriasimon': 5245, 'round': 5246, 'yycstorm': 5247, 'ontario': 5248, 'hwy': 5249, 'eb': 5250, 'cambridge': 5251, 'opp': 5252, 'enroute': 5253, 'ag': 5254, 'port': 5255, 'matilda': 5256, 'wardens': 5257, 'gwersyllt': 5258, 'emotional': 5259, 'summerfate': 5260, 'mikeparractor': 5261, 'misscharleywebb': 5262, 'buenos': 5263, 'aires': 5264, 'candylit': 5265, 'imagine': 5266, 'sarumi': 5267, 'zombie': 5268, 'pvris': 5269, 'elchilicitanierraversal': 5270, 'snow': 5271, 'patrol': 5272, 'suns': 5273, 'russellville': 5274, 'ar': 5275, 'clarksville': 5276, 'dardanelle': 5277, 'amazing': 5278, 'fond': 5279, 'arrive': 5280, 'fwd': 5281, 'clothes': 5282, 'usagov': 5283, 'koreans': 5284, 'performing': 5285, 'olympic': 5286, 'esp': 5287, 'rito': 5288, 'santo': 5289, 'align': 5290, 'worlds': 5291, 'oldenburg': 5292, 'dfr': 5293, 'monthly': 5294, 'dnbheaven': 5295, 'drum': 5296, 'bass': 5297, 'walking': 5298, 'rp': 5299, 'ot': 5300, 'mort': 5301, 'mer': 5302, 'transportation': 5303, 'panel': 5304, 'showing': 5305, 'pileup': 5306, 'wheelers': 5307, 'amssummer': 5308, 'intensifies': 5309, 'toll': 5310, 'surges': 5311, 'oup': 5312, 'palma': 5313, 'islas': 5314, 'baleares': 5315, 'asimtanvir': 5316, 'nemesisk': 5317, 'pes': 5318, 'kevr': 5319, 'kiranahmedd': 5320, 'nato': 5321, 'talibans': 5322, 'trailed': 5323, 'colin': 5324, 'goodness': 5325, 'haunting': 5326, 'decent': 5327, 'billers': 5328, 'promoted': 5329, 'billings': 5330, 'humble': 5331, 'columbus': 5332, 'refuse': 5333, 'reduced': 5334, 'shovel': 5335, 'expirehc': 5336, 'upheaval': 5337, 'actions': 5338, 'moncton': 5339, 'brunswick': 5340, 'leak': 5341, 'nb': 5342, 'billboard': 5343, 'chart': 5344, 'driven': 5345, 'charts': 5346, 'dubai': 5347, 'arab': 5348, 'emirates': 5349, 'irony': 5350, 'proof': 5351, 'tempered': 5352, 'protector': 5353, 'blackberry': 5354, 'intermountain': 5355, 'greenbuildermag': 5356, 'nfpa': 5357, 'webinar': 5358, 'mitigation': 5359, 'et': 5360, 'firewise': 5361, 'charred': 5362, 'remains': 5363, 'rips': 5364, 'damaging': 5365, 'neighboring': 5366, 'wellington': 5367, 'thesewphist': 5368, 'holds': 5369, 'address': 5370, 'fuckface': 5371, 'wineisdumb': 5372, 'spam': 5373, 'meant': 5374, 'annual': 5375, 'hoops': 5376, 'recruiting': 5377, 'nuggets': 5378, 'mayan': 5379, 'hieroglyphics': 5380, 'honors': 5381, 'lowly': 5382, 'belgium': 5383, 'aquarium': 5384, 'ornament': 5385, 'sailing': 5386, 'destroyer': 5387, 'fish': 5388, 'cave': 5389, 'decor': 5390, 'photoset': 5391, 'littlebitofbass': 5392, 'silinski': 5393, 'ed': 5394, 'sheeran': 5395, 'german': 5396, 'premiere': 5397, 'teafrystlik': 5398, 'darken': 5399, 'ungodly': 5400, 'bolt': 5401, 'vancouver': 5402, 'uber': 5403, 'reduces': 5404, 'drunk': 5405, 'independent': 5406, 'honduras': 5407, 'ops': 5408, 'gameplay': 5409, 'hunted': 5410, 'snd': 5411, 'competitive': 5412, 'multiplayer': 5413, 'lvl': 5414, 'total': 5415, 'satoshis': 5416, 'robotcoingame': 5417, 'bitcoin': 5418, 'freebitcoin': 5419, 'southafrica': 5420, 'cambodia': 5421, 'cafe': 5422, 'acid': 5423, 'chrisman': 5424, 'trooper': 5425, 'pop': 5426, 'bobble': 5427, 'figure': 5428, 'funko': 5429, 'hibernating': 5430, 'pbx': 5431, 'irrespective': 5432, 'pitch': 5433, 'careerism': 5434, 'crbzfz': 5435, 'bringing': 5436, 'tornadoes': 5437, 'plaguing': 5438, 'farrakhan': 5439, 'quote': 5440, 'gideonstrumpet': 5441, 'held': 5442, 'sundays': 5443, 'seasonfrom': 5444, 'onshit': 5445, 'complete': 5446, 'jakarta': 5447, 'dieanpink': 5448, 'yu': 5449, 'nita': 5450, 'mistaken': 5451, 'smart': 5452, 'cataclysmic': 5453, 'event': 5454, 'reator': 5455, 'melts': 5456, 'dozen': 5457, 'experiencing': 5458, 'silesia': 5459, 'dave': 5460, 'specs': 5461, 'lore': 5462, 'sworn': 5463, 'proven': 5464, 'friends': 5465, 'tuebingen': 5466, 'innsbruck': 5467, 'raniakhalek': 5468, 'uncle': 5469, 'hopefully': 5470, 'afghanistan': 5471, 'linton': 5472, 'hall': 5473, 'zombies': 5474, 'drvox': 5475, 'drill': 5476, 'agw': 5477, 'denial': 5478, 'perenjori': 5479, 'panoramic': 5480, 'resources': 5481, 'cuts': 5482, 'daretotaha': 5483, 'nah': 5484, 'foreskin': 5485, 'dismantling': 5486, 'worldwi': 5487, 'toooooo': 5488, 'bck': 5489, 'hearths': 5490, 'bees': 5491, 'knees': 5492, 'posted': 5493, 'blog': 5494, 'bucs': 5495, 'norf': 5496, 'books': 5497, 'published': 5498, 'dancers': 5499, 'caribbean': 5500, 'pirate': 5501, 'margarita': 5502, 'engle': 5503, 'henry': 5504, 'holt': 5505, 'byr': 5506, 'views': 5507, 'plains': 5508, 'pipeline': 5509, 'university': 5510, 'seem': 5511, 'burnt': 5512, 'mpls': 5513, 'loyalty': 5514, 'mission': 5515, 'involves': 5516, 'kicking': 5517, 'nobleman': 5518, 'elven': 5519, 'weirdo': 5520, 'proudly': 5521, 'african': 5522, 'swiftycommissh': 5523, 'taoistinsight': 5524, 'immortaltech': 5525, 'tht': 5526, 'killin': 5527, 'founding': 5528, 'fathers': 5529, 'unavoidable': 5530, 'consequence': 5531, 'socialism': 5532, 'fakefams': 5533, 'correction': 5534, 'tent': 5535, 'espoo': 5536, 'pyrbliss': 5537, 'dundas': 5538, 'jays': 5539, 'rocking': 5540, 'joeybats': 5541, 'rogers': 5542, 'offs': 5543, 'moseby': 5544, 'barfield': 5545, 'pedophile': 5546, 'hunting': 5547, 'republican': 5548, 'styled': 5549, 'undergroundbestsellers': 5550, 'stronger': 5551, 'thomassmonson': 5552, 'lds': 5553, 'mormon': 5554, 'memenaar': 5555, 'decision': 5556, 'wonderful': 5557, 'kindof': 5558, 'odd': 5559, 'restrospect': 5560, 'crimes': 5561, 'uswarcrimes': 5562, 'kamayani': 5563, 'janata': 5564, 'gratia': 5565, 'announced': 5566, 'mediterranean': 5567, 'carryi': 5568, 'weighs': 5569, 'tora': 5570, 'udest': 5571, 'freeway': 5572, 'audi': 5573, 'associated': 5574, 'installation': 5575, 'non': 5576, 'external': 5577, 'cladding': 5578, 'cbplawyers': 5579, 'doco': 5580, 'setanta': 5581, 'freeview': 5582, 'largest': 5583, 'presence': 5584, 'soccer': 5585, 'prevent': 5586, 'commodity': 5587, 'escaped': 5588, 'sodak': 5589, 'reshapes': 5590, 'scichat': 5591, 'ts': 5592, 'nri': 5593, 'trs': 5594, 'tdp': 5595, 'bjp': 5596, 'dorset': 5597, 'actor': 5598, 'rossbarton': 5599, 'loves': 5600, 'beirut': 5601, 'poor': 5602, 'sods': 5603, 'arriving': 5604, 'diverted': 5605, 'ben': 5606, 'gurion': 5607, 'yulee': 5608, 'chrisdyson': 5609, 'mta': 5610, 'sorrybutitstrue': 5611, 'halifax': 5612, 'denying': 5613, 'polar': 5614, 'coconut': 5615, 'porcupine': 5616, 'domestic': 5617, 'usami': 5618, 'openly': 5619, 'accuses': 5620, 'nema': 5621, 'stealing': 5622, 'materials': 5623, 'idps': 5624, 'wom': 5625, 'wanderlust': 5626, 'troy': 5627, 'iamrrsb': 5628, 'skywars': 5629, 'que': 5630, 'hack': 5631, 'flechadas': 5632, 'sinistras': 5633, 'baton': 5634, 'rouge': 5635, 'carl': 5636, 'everest': 5637, 'rob': 5638, 'cobes': 5639, 'whitt': 5640, 'frost': 5641, 'leo': 5642, 'godly': 5643, 'someday': 5644, 'sport': 5645, 'arsenal': 5646, 'warcraft': 5647, 'inspired': 5648, 'mode': 5649, 'trackside': 5650, 'crackdown': 5651, 'servers': 5652, 'copped': 5653, 'telangana': 5654, 'maratha': 5655, 'raiders': 5656, 'scorched': 5657, 'bengalis': 5658, 'copenhagen': 5659, 'region': 5660, 'rendered': 5661, 'kitten': 5662, 'dude': 5663, 'czallstarwes': 5664, 'souda': 5665, 'sonia': 5666, 'kneelbot': 5667, 'merica': 5668, 'sorrowful': 5669, 'stage': 5670, 'redemption': 5671, 'david': 5672, 'platt': 5673, 'ij': 5674, 'blitzes': 5675, 'traverse': 5676, 'management': 5677, 'briefing': 5678, 'seminars': 5679, 'blitzed': 5680, 'tra': 5681, 'haaretz': 5682, 'hilton': 5683, 'sensanders': 5684, 'gd': 5685, 'wrked': 5686, 'reed': 5687, 'sapphirescallop': 5688, 'oppa': 5689, 'oops': 5690, 'haaaaaa': 5691, 'accra': 5692, 'ghana': 5693, 'smelling': 5694, 'bon': 5695, 'mores': 5696, 'ahh': 5697, 'forgot': 5698, 'headphones': 5699, 'ayhhhhhdjjfjrjjrdjjeks': 5700, 'motogp': 5701, 'indianapolis': 5702, 'espargaro': 5703, 'layout': 5704, 'worries': 5705, 'horoscope': 5706, 'relationship': 5707, 'disruptive': 5708, 'willhillbet': 5709, 'result': 5710, 'cairo': 5711, 'egypt': 5712, 'tattoo': 5713, 'donate': 5714, 'receive': 5715, 'hamilton': 5716, 'woo': 5717, 'hoo': 5718, 'kaylen': 5719, 'clears': 5720, 'walk': 5721, 'narnia': 5722, 'playlist': 5723, 'joked': 5724, 'innings': 5725, 'cubstalk': 5726, 'atlbizchron': 5727, 'homebuyer': 5728, 'miscalculation': 5729, 'mwjcdk': 5730, 'soooo': 5731, 'pumped': 5732, 'southridgelife': 5733, 'destroys': 5734, 'ph': 5735, 'charcoal': 5736, 'handled': 5737, 'stress': 5738, 'exceptionally': 5739, 'pressed': 5740, 'cor': 5741, 'cowboys': 5742, 'george': 5743, 'woes': 5744, 'took': 5745, 'claiborne': 5746, 'stick': 5747, 'asterpuppet': 5748, 'carried': 5749, 'brothers': 5750, 'sisters': 5751, 'entered': 5752, 'academia': 5753, 'liveleakfun': 5754, 'swift': 5755, 'rexyy': 5756, 'programme': 5757, 'chicagorobotz': 5758, 'jen': 5759, 'vero': 5760, 'jaydennotjared': 5761, 'sending': 5762, 'hugs': 5763, 'fluffy': 5764, 'schedule': 5765, 'quito': 5766, 'ecuador': 5767, 'learning': 5768, 'eruption': 5769, 'newyorker': 5770, 'christycroley': 5771, 'works': 5772, 'vela': 5773, 'notexplained': 5774, 'infamous': 5775, 'cooper': 5776, 'judson': 5777, 'xtra': 5778, 'rest': 5779, 'roster': 5780, 'stout': 5781, 'barring': 5782, 'fantosex': 5783, 'suck': 5784, 'amends': 5785, 'stacedemon': 5786, 'morioh': 5787, 'tinyjecht': 5788, 'user': 5789, 'rochester': 5790, 'students': 5791, 'throw': 5792, 'dungeon': 5793, 'stupid': 5794, 'fema': 5795, 'weeklong': 5796, 'radioactive': 5797, 'response': 5798, 'welshninja': 5799, 'tag': 5800, 'lots': 5801, 'hashtag': 5802, 'haddonfield': 5803, 'closes': 5804, 'pond': 5805, 'oxford': 5806, 'empire': 5807, 'ariabrisard': 5808, 'leiaorganasolo': 5809, 'ageekyfangirl': 5810, 'significant': 5811, 'humor': 5812, 'farts': 5813, 'creates': 5814, 'emiiliexirwin': 5815, 'birth': 5816, 'blaming': 5817, 'solve': 5818, 'division': 5819, 'broadview': 5820, 'concept': 5821, 'wander': 5822, 'richard': 5823, 'returns': 5824, 'performance': 5825, 'chip': 5826, 'saver': 5827, 'blazer': 5828, 'bail': 5829, 'fife': 5830, 'lauren': 5831, 'miller': 5832, 'bedroom': 5833, 'wftv': 5834, 'psychologist': 5835, 'porn': 5836, 'charges': 5837, 'belbroughton': 5838, 'aerospace': 5839, 'exec': 5840, 'wing': 5841, 'silence': 5842, 'violence': 5843, 'aggressive': 5844, 'cannoli': 5845, 'eater': 5846, 'witnessed': 5847, 'psa': 5848, 'excitement': 5849, 'precious': 5850, 'olive': 5851, 'hough': 5852, 'marketing': 5853, 'dougkessler': 5854, 'bagency': 5855, 'slideshare': 5856, 'contentmarketing': 5857, 'reaching': 5858, 'loading': 5859, 'shoulders': 5860, 'neither': 5861, 'hitting': 5862, 'load': 5863, 'eat': 5864, 'articles': 5865, 'samanthaturne': 5866, 'nagaski': 5867, 'sanctioned': 5868, 'forgiven': 5869, 'allies': 5870, 'bloomington': 5871, 'cans': 5872, 'kaldi': 5873, 'twitch': 5874, 'pksparkxx': 5875, 'slosher': 5876, 'goat': 5877, 'splatdown': 5878, 'switching': 5879, 'splatling': 5880, 'acdelco': 5881, 'equipment': 5882, 'wsls': 5883, 'tips': 5884, 'childcare': 5885, 'less': 5886, 'expensive': 5887, 'jennasjems': 5888, 'patrickwsls': 5889, 'kensington': 5890, 'seemeth': 5891, 'unto': 5892, 'thereof': 5893, 'unr': 5894, 'continues': 5895, 'weston': 5896, 'custer': 5897, 'pennington': 5898, 'midwest': 5899, 'arwx': 5900, 'lynnfield': 5901, 'weekends': 5902, 'dtn': 5903, 'oi': 5904, 'studio': 5905, 'nowhere': 5906, 'becoming': 5907, 'communication': 5908, 'rider': 5909, 'suffered': 5910, 'serious': 5911, 'threatening': 5912, 'lowestoft': 5913, 'vienna': 5914, 'butcher': 5915, 'falmer': 5916, 'drive': 5917, 'bethlehem': 5918, 'stratford': 5919, 'september': 5920, 'bridgeport': 5921, 'burglar': 5922, 'sikh': 5923, 'prevention': 5924, 'dviyer': 5925, 'colorlines': 5926, 'debatequestionswewanttohear': 5927, 'willing': 5928, 'motivated': 5929, 'regret': 5930, 'matthew': 5931, 'donnelly': 5932, 'greece': 5933, 'tax': 5934, 'revenues': 5935, 'debt': 5936, 'bailout': 5937, 'chill': 5938, 'thibodaux': 5939, 'keighley': 5940, 'kurt': 5941, 'pg': 5942, 'chillin': 5943, 'currensy': 5944, 'talkin': 5945, 'ghostwriter': 5946, 'waved': 5947, 'wont': 5948, 'misled': 5949, 'quantico': 5950, 'marine': 5951, 'furtrix': 5952, 'cougars': 5953, 'uniform': 5954, 'iamdigitalent': 5955, 'aim': 5956, 'howling': 5957, 'everydaynigerian': 5958, 'everydaynaija': 5959, 'deliver': 5960, 'value': 5961, 'cash': 5962, 'source': 5963, 'scrambledeggs': 5964, 'kia': 5965, 'claimin': 5966, 'sent': 5967, 'secrets': 5968, 'catechize': 5969, 'confidential': 5970, 'respects': 5971, 'len': 5972, 'rig': 5973, 'especially': 5974, 'clients': 5975, 'wart': 5976, 'notice': 5977, 'background': 5978, 'floatin': 5979, 'student': 5980, 'electric': 5981, 'brewing': 5982, 'wanting': 5983, 'whistleblower': 5984, 'supervisor': 5985, 'pbban': 5986, 'temporary': 5987, 'avysss': 5988, 'flags': 5989, 'xp': 5990, 'glenstannard': 5991, 'essexweather': 5992, 'abouts': 5993, 'fool': 5994, 'coverage': 5995, 'dat': 5996, 'pro': 5997, 'squad': 5998, 'material': 5999, 'personalinjury': 6000, 'advice': 6001, 'solicitor': 6002, 'otleyhour': 6003, 'bluedio': 6004, 'turbine': 6005, 'bluetooth': 6006, 'wireless': 6007, 'stereo': 6008, 'headset': 6009, 'blk': 6010, 'kolkata': 6011, 'cautious': 6012, 'dorman': 6013, 'gns': 6014, 'sees': 6015, 'unnecessary': 6016, 'resulting': 6017, 'strengthening': 6018, 'lizard': 6019, 'wizard': 6020, 'lwb': 6021, 'hunt': 6022, 'willinghearted': 6023, 'rpn': 6024, 'former': 6025, 'executives': 6026, 'prosecuted': 6027, 'vcu': 6028, 'cop': 6029, 'seconds': 6030, 'viralspell': 6031, 'willis': 6032, 'foreman': 6033, 'actively': 6034, 'embraced': 6035, 'audiences': 6036, 'emhub': 6037, 'ugc': 6038, 'newyorkcity': 6039, 'medicine': 6040, 'lennox': 6041, 'drjustinmazur': 6042, 'kamkasteiiano': 6043, 'bluntedjayt': 6044, 'colnharun': 6045, 'ollymursaus': 6046, 'mmchale': 6047, 'tries': 6048, 'cord': 6049, 'rocketing': 6050, 'galaxy': 6051, 'satanaofhell': 6052, 'dreamy': 6053, 'ears': 6054, 'law': 6055, 'riooooos': 6056, 'dudes': 6057, 'beast': 6058, 'rail': 6059, 'revitup': 6060, 'pizzarev': 6061, 'mirrors': 6062, 'reflected': 6063, 'private': 6064, 'desires': 6065, 'cameron': 6066, 'upsetting': 6067, 'bee': 6068, 'savebees': 6069, 'passenger': 6070, 'shah': 6071, 'alam': 6072, 'nightmare': 6073, 'jump': 6074, 'remembered': 6075, 'alas': 6076, 'tube': 6077, 'chaos': 6078, 'accepte': 6079, 'prayers': 6080, 'cncpts': 6081, 'solelinks': 6082, 'surprised': 6083, 'precipitation': 6084, 'measurement': 6085, 'satellite': 6086, 'nasahurricane': 6087, 'steven': 6088, 'yeun': 6089, 'amc': 6090, 'dauntedpsyche': 6091, 'gently': 6092, 'dabbed': 6093, 'cotton': 6094, 'rag': 6095, 'glenn': 6096, 'sam': 6097, 'drumpf': 6098, 'ill': 6099, 'rabbit': 6100, 'skin': 6101, 'huh': 6102, 'aprylpooley': 6103, 'communicate': 6104, 'gravitychat': 6105, 'helene': 6106, 'yancey': 6107, 'aelinrhee': 6108, 'mascara': 6109, 'smeared': 6110, 'extension': 6111, 'extends': 6112, 'bath': 6113, 'tub': 6114, 'lets': 6115, 'howardu': 6116, 'whts': 6117, 'colluded': 6118, 'wht': 6119, 'idis': 6120, 'id': 6121, 'peshawar': 6122, 'rivals': 6123, 'abused': 6124, 'abuse': 6125, 'loosers': 6126, 'twin': 6127, 'covers': 6128, 'agreements': 6129, 'zonewolf': 6130, 'southampton': 6131, 'universe': 6132, 'began': 6133, 'footage': 6134, 'vol': 6135, 'deejayempiresound': 6136, 'angelriveralib': 6137, 'snowden': 6138, 'laws': 6139, 'aesop': 6140, 'orchardalley': 6141, 'les': 6142, 'manufactured': 6143, 'repression': 6144, 'abcnorio': 6145, 'gardens': 6146, 'yokohama': 6147, 'kakeru': 6148, 'teduka': 6149, 'bfore': 6150, 'bomd': 6151, 'cranboonitz': 6152, 'threats': 6153, 'hereticofethics': 6154, 'pon': 6155, 'gully': 6156, 'rite': 6157, 'tlk': 6158, 'widout': 6159, 'nuh': 6160, 'fi': 6161, 'steal': 6162, 'itz': 6163, 'rubbery': 6164, 'dem': 6165, 'knw': 6166, 'kingston': 6167, 'jamaica': 6168, 'entity': 6169, 'montego': 6170, 'sewer': 6171, 'tvjnews': 6172, 'lulgzimbestpicts': 6173, 'beck': 6174, 'arnley': 6175, 'lennonparham': 6176, 'jessica': 6177, 'stclair': 6178, 'gilmoreguysshow': 6179, 'podcast': 6180, 'ihave': 6181, 'episodesofgg': 6182, 'nojoke': 6183, 'gander': 6184, 'tna': 6185, 'appease': 6186, 'morbid': 6187, 'destinationimpact': 6188, 'hahahah': 6189, 'worrying': 6190, 'uplifting': 6191, 'spirit': 6192, 'anchor': 6193, 'paradise': 6194, 'lordbrathwaite': 6195, 'growingupincolorado': 6196, 'fleet': 6197, 'induced': 6198, 'tidal': 6199, 'movies': 6200, 'tin': 6201, 'tesco': 6202, 'complaint': 6203, 'chelsea': 6204, 'pets': 6205, 'wheeler': 6206, 'degrees': 6207, 'roll': 6208, 'hanover': 6209, 'fyi': 6210, 'cad': 6211, 'nhs': 6212, 'piner': 6213, 'horndale': 6214, 'dr': 6215, 'scotland': 6216, 'angusmacneilsnp': 6217, 'utterly': 6218, 'embarrassed': 6219, 'indy': 6220, 'sf': 6221, 'asian': 6222, 'shelter': 6223, 'english': 6224, 'montr': 6225, 'qu': 6226, 'bec': 6227, 'grenade': 6228, 'impossible': 6229, 'patched': 6230, 'os': 6231, 'active': 6232, 'exploit': 6233, 'macs': 6234, 'fairfax': 6235, 'firefighter': 6236, 'placed': 6237, 'admin': 6238, 'probe': 6239, 'facebook': 6240, 'dept': 6241, 'rogersville': 6242, 'savagenation': 6243, 'peasants': 6244, 'stalin': 6245, 'redistribute': 6246, 'nine': 6247, 'pioneer': 6248, 'cards': 6249, 'dispatchers': 6250, 'boone': 6251, 'constitute': 6252, 'epidemic': 6253, 'publichealth': 6254, 'laredo': 6255, 'remaster': 6256, 'frame': 6257, 'windwaker': 6258, 'kou': 6259, 'ayr': 6260, 'drrichardbesser': 6261, 'dispersed': 6262, 'boyd': 6263, 'detroitnews': 6264, 'sexydragonmagic': 6265, 'realization': 6266, 'attention': 6267, 'span': 6268, 'painting': 6269, 'heebsterrr': 6270, 'ac': 6271, 'faster': 6272, 'overtook': 6273, 'tru': 6274, 'luv': 6275, 'ixwin': 6276, 'incredible': 6277, 'dancing': 6278, 'cia': 6279, 'permanently': 6280, 'vermont': 6281, 'retirement': 6282, 'instruction': 6283, 'bookmobile': 6284, 'libraries': 6285, 'reading': 6286, 'tunisia': 6287, 'march': 6288, 'museum': 6289, 'nolocation': 6290, 'bengal': 6291, 'cm': 6292, 'mamata': 6293, 'banerjee': 6294, 'blames': 6295, 'dvc': 6296, 'hip': 6297, 'hop': 6298, 'tidalhifi': 6299, 'rave': 6300, 'wedding': 6301, 'patrick': 6302, 'frederick': 6303, 'meals': 6304, 'teams': 6305, 'studying': 6306, 'warnings': 6307, 'hong': 6308, 'kong': 6309, 'marks': 6310, 'drinking': 6311, 'cup': 6312, 'dunking': 6313, 'greater': 6314, 'stu': 6315, 'beetroot': 6316, 'uncover': 6317, 'gods': 6318, 'slumber': 6319, 'connections': 6320, 'indiegogo': 6321, 'campaign': 6322, 'launch': 6323, 'ffa': 6324, 'foodstand': 6325, 'fairgrounds': 6326, 'am': 6327, 'uae': 6328, 'splatoon': 6329, 'default': 6330, 'splattershot': 6331, 'jr': 6332, 'raynbowaffair': 6333, 'editor': 6334, 'chief': 6335, 'diamondkesawn': 6336, 'ramag': 6337, 'models': 6338, 'attractive': 6339, 'named': 6340, 'hearing': 6341, 'suny': 6342, 'thurs': 6343, 'ctr': 6344, 'goshen': 6345, 'beforeitsnews': 6346, 'bro': 6347, 'priority': 6348, 'ended': 6349, 'updated': 6350, 'mdt': 6351, 'roimentor': 6352, 'yycwalks': 6353, 'goa': 6354, 'wednesday': 6355, 'disclosed': 6356, 'osi': 6357, 'reaches': 6358, 'oshawa': 6359, 'wisdomwed': 6360, 'bonus': 6361, 'habits': 6362, 'improve': 6363, 'lifehacks': 6364, 'celestial': 6365, 'separate': 6366, 'trajectories': 6367, 'intertwine': 6368, 'caitlin': 6369, 'kiernan': 6370, 'centipede': 6371, 'numbered': 6372, 'jt': 6373, 'ruff': 6374, 'cameronhacker': 6375, 'duval': 6376, 'wv': 6377, 'unhappiness': 6378, 'bigamist': 6379, 'poll': 6380, 'irons': 6381, 'xii': 6382, 'nightmarishly': 6383, 'brutal': 6384, 'ritualistic': 6385, 'club': 6386, 'oyster': 6387, 'shell': 6388, 'andrew': 6389, 'carnegie': 6390, 'asleep': 6391, 'plate': 6392, 'stadium': 6393, 'vivaargentina': 6394, 'hertfordshire': 6395, 'eventually': 6396, 'protestors': 6397, 'skyscrapers': 6398, 'plant': 6399, 'covered': 6400, 'engineers': 6401, 'options': 6402, 'ocnj': 6403, 'potters': 6404, 'citadel': 6405, 'oldtown': 6406, 'petchary': 6407, 'displeased': 6408, 'spots': 6409, 'congrats': 6410, 'reggaeboyz': 6411, 'lockout': 6412, 'progress': 6413, 'rene': 6414, 'jacinta': 6415, 'fallen': 6416, 'skies': 6417, 'edit': 6418, 'mar': 6419, 'kitchen': 6420, 'def': 6421, 'plus': 6422, 'conclusions': 6423, 'antoine': 6424, 'fisher': 6425, 'zel': 6426, 'kno': 6427, 'pcs': 6428, 'mining': 6429, 'wd': 6430, 'beam': 6431, 'rea': 6432, 'vibez': 6433, 'creationsbykole': 6434, 'cork': 6435, 'pack': 6436, 'coloiccarnality': 6437, 'instincts': 6438, 'kicked': 6439, 'scratches': 6440, 'matrix': 6441, 'belgrade': 6442, 'prefer': 6443, 'fem': 6444, 'wackos': 6445, 'michelebachman': 6446, 'firey': 6447, 'inferno': 6448, 'accept': 6449, 'globalwarming': 6450, 'ra': 6451, 'sends': 6452, 'message': 6453, 'condolence': 6454, 'vietnam': 6455, 'behalf': 6456, 'cuban': 6457, 'lwilliams': 6458, 'richland': 6459, 'detroitpls': 6460, 'sevenfigz': 6461, 'cc': 6462, 'leadership': 6463, 'bathroom': 6464, 'asb': 6465, 'semasirtalks': 6466, 'hadnt': 6467, 'butgod': 6468, 'told': 6469, 'paint': 6470, 'eighty': 6471, 'pennlive': 6472, 'mechanicsburg': 6473, 'triumphant': 6474, 'eggs': 6475, 'yolk': 6476, 'bake': 6477, 'hilarious': 6478, 'moments': 6479, 'confirms': 6480, 'touched': 6481, 'mauritius': 6482, 'helicopters': 6483, 'completed': 6484, 'exercises': 6485, 'pt': 6486, 'responsible': 6487, 'targeting': 6488, 'muslim': 6489, 'scholars': 6490, 'imprisoning': 6491, 'pattyds': 6492, 'gwfrazee': 6493, 'joshuaassaraf': 6494, 'alloy': 6495, 'trucking': 6496, 'avenue': 6497, 'markwschaefer': 6498, 'screeching': 6499, 'accompanying': 6500, 'scissor': 6501, 'alexhammerstone': 6502, 'kttape': 6503, 'ktfounder': 6504, 'remymarcel': 6505, 'frofrofro': 6506, 'adopt': 6507, 'overlooked': 6508, 'whyor': 6509, 'santa': 6510, 'ana': 6511, 'blocks': 6512, 'holistic': 6513, 'pot': 6514, 'dispensary': 6515, 'smartnews': 6516, 'durant': 6517, 'nba': 6518, 'adidas': 6519, 'swingman': 6520, 'retail': 6521, 'cbc': 6522, 'rare': 6523, 'throwing': 6524, 'accustomed': 6525, 'billionaires': 6526, 'shantaeskyy': 6527, 'enemy': 6528, 'destiny': 6529, 'heavenly': 6530, 'blessings': 6531, 'reacted': 6532, 'jocelyn': 6533, 'gargoyle': 6534, 'hoof': 6535, 'coil': 6536, 'softenza': 6537, 'anthelmintic': 6538, 'nature': 6539, 'drawing': 6540, 'spying': 6541, 'thoughts': 6542, 'kshllcenterpri': 6543, 'churches': 6544, 'allen': 6545, 'enbot': 6546, 'mess': 6547, 'syringetoanger': 6548, 'disagreements': 6549, 'occurrence': 6550, 'cartoony': 6551, 'whoa': 6552, 'papa': 6553, 'plano': 6554, 'takeaways': 6555, 'magnificent': 6556, 'wcw': 6557, 'catsandsyrup': 6558, 'tha': 6559, 'asshole': 6560, 'activities': 6561, 'breakfast': 6562, 'millennium': 6563, 'plaza': 6564, 'santiago': 6565, 'bernabeau': 6566, 'runs': 6567, 'shut': 6568, 'mthe': 6569, 'premises': 6570, 'oc': 6571, 'princessduck': 6572, 'rhiannon': 6573, 'hungover': 6574, 'uhmmmm': 6575, 'airdrie': 6576, 'reddeer': 6577, 'tremblayeh': 6578, 'can': 6579, 'not': 6580, 'lie': 6581, 'sirmixalot': 6582, 'bluebell': 6583, 'delmont': 6584, 'onion': 6585, 'nashvilletraffic': 6586, 'slower': 6587, 'usual': 6588, 'gearing': 6589, 'deadgrassandflowers': 6590, 'warrington': 6591, 'bartlett': 6592, 'hs': 6593, 'astroturfers': 6594, 'crumbling': 6595, 'lovelylikelaura': 6596, 'blow': 6597, 'halloikbenwill': 6598, 'hottest': 6599, 'youngins': 6600, 'boko': 6601, 'haram': 6602, 'sentinel': 6603, 'florid': 6604, 'ashland': 6605, 'ember': 6606, 'bombings': 6607, 'mickinyman': 6608, 'theatlantic': 6609, 'dappar': 6610, 'mohali': 6611, 'gurmeetramrahim': 6612, 'msgdoing': 6613, 'welfareworks': 6614, 'welfare': 6615, 'appx': 6616, 'har': 6617, 'ki': 6618, 'liye': 6619, 'tyar': 6620, 'hai': 6621, 'sharjah': 6622, 'abudhabi': 6623, 'healing': 6624, 'reviving': 6625, 'characters': 6626, 'atchisonsean': 6627, 'princeoffencing': 6628, 'frickin': 6629, 'invzices': 6630, 'sllikely': 6631, 'nevada': 6632, 'caesars': 6633, 'knocking': 6634, 'footed': 6635, 'pajamas': 6636, 'greedy': 6637, 'bastards': 6638, 'fullscreen': 6639, 'censorship': 6640, 'flew': 6641, 'telling': 6642, 'setzorah': 6643, 'claim': 6644, 'xbox': 6645, 'triskelion': 6646, 'partially': 6647, 'experienced': 6648, 'waist': 6649, 'exercised': 6650, 'demon': 6651, 'att': 6652, 'price': 6653, 'kept': 6654, 'goodbye': 6655, 'campinas': 6656, 'mtvsummerstar': 6657, 'mtvhottest': 6658, 'lana': 6659, 'rey': 6660, 'sanity': 6661, 'brings': 6662, 'sfa': 6663, 'rhett': 6664, 'vzwsupport': 6665, 'texts': 6666, 'teens': 6667, 'hamayun': 6668, 'shaheed': 6669, 'heli': 6670, 'conveniently': 6671, 'zionists': 6672, 'revere': 6673, 'honour': 6674, 'baruch': 6675, 'goldstein': 6676, 'brownie': 6677, 'batter': 6678, 'fashionable': 6679, 'mountaineering': 6680, 'resistant': 6681, 'couples': 6682, 'leisure': 6683, 'tab': 6684, 'restoring': 6685, 'dutch': 6686, 'alphen': 6687, 'aan': 6688, 'den': 6689, 'rijn': 6690, 'welcomes': 6691, 'vail': 6692, 'matt': 6693, 'kroschel': 6694, 'agencies': 6695, 'gears': 6696, 'welcome': 6697, 'superbug': 6698, 'biolabs': 6699, 'epidemics': 6700, 'biosurveillance': 6701, 'outbreaks': 6702, 'homeland': 6703, 'wire': 6704, 'prov': 6705, 'mesa': 6706, 'arizonadot': 6707, 'bound': 6708, 'salado': 6709, 'crackin': 6710, 'pissed': 6711, 'donnie': 6712, 'stevenontwatter': 6713, 'pussyxdestroyer': 6714, 'nuts': 6715, 'flavored': 6716, 'cream': 6717, 'buckle': 6718, 'casual': 6719, 'stylish': 6720, 'pockets': 6721, 'cawx': 6722, 'nwsbayarea': 6723, 'bukittinggi': 6724, 'sumatera': 6725, 'barat': 6726, 'pontefract': 6727, 'ledofficial': 6728, 'requests': 6729, 'samples': 6730, 'sweets': 6731, 'nw': 6732, 'worry': 6733, 'plenty': 6734, 'ipa': 6735, 'squeeze': 6736, 'radler': 6737, 'pueblo': 6738, 'ferrell': 6739, 'zach': 6740, 'galifianakis': 6741, 'commit': 6742, 'comic': 6743, 'political': 6744, 'farce': 6745, 'cuernavaca': 6746, 'morelos': 6747, 'xico': 6748, 'landi': 6749, 'peritoengrafoscopia': 6750, 'lining': 6751, 'barn': 6752, 'moon': 6753, 'mizuta': 6754, 'stormchase': 6755, 'ef': 6756, 'reno': 6757, 'kings': 6758, 'esh': 6759, 'denali': 6760, 'wolf': 6761, 'declined': 6762, 'reinstate': 6763, 'buffer': 6764, 'protectdenaliwolves': 6765, 'adndotcom': 6766, 'sand': 6767, 'sarah': 6768, 'palin': 6769, 'parenthood': 6770, 'minority': 6771, 'canal': 6772, 'tookitlikeaman': 6773, 'lovemydentist': 6774, 'sore': 6775, 'sectarian': 6776, 'protest': 6777, 'shia': 6778, 'cleric': 6779, 'militias': 6780, 'withdraw': 6781, 'fightin': 6782, 'uve': 6783, 'temptation': 6784, 'kirsten': 6785, 'gillibrand': 6786, 'extend': 6787, 'palo': 6788, 'alto': 6789, 'nkulw': 6790, 'terre': 6791, 'haute': 6792, 'oz': 6793, 'jar': 6794, 'solution': 6795, 'rid': 6796, 'removal': 6797, 'bras': 6798, 'echoes': 6799, 'benjm': 6800, 'tourofutah': 6801, 'grego': 6802, 'evergreen': 6803, 'spies': 6804, 'infowars': 6805, 'grabbers': 6806, 'demand': 6807, 'nwo': 6808, 'border': 6809, 'handed': 6810, 'argus': 6811, 'industries': 6812, 'wondering': 6813, 'drove': 6814, 'bill': 6815, 'lcc': 6816, 'benzema': 6817, 'increasingly': 6818, 'benitez': 6819, 'frequently': 6820, 'smithsonian': 6821, 'buried': 6822, 'eldoret': 6823, 'kisii': 6824, 'plot': 6825, 'countynews': 6826, 'discovery': 6827, 'gotham': 6828, 'hopefulbatgirl': 6829, 'beaten': 6830, 'ghul': 6831, 'charleyisqueen': 6832, 'barber': 6833, 'egg': 6834, 'atmosphere': 6835, 'lmfao': 6836, 'hhahaha': 6837, 'thebuffshow': 6838, 'thetwisterokc': 6839, 'boyfriend': 6840, 'shaniatwain': 6841, 'twisterlovesshania': 6842, 'penn': 6843, 'beginnings': 6844, 'hq': 6845, 'komen': 6846, 'devastates': 6847, 'ori': 6848, 'bind': 6849, 'friendswood': 6850, 'twia': 6851, 'board': 6852, 'approves': 6853, 'hike': 6854, 'association': 6855, 'directors': 6856, 'brackley': 6857, 'pe': 6858, 'trois': 6859, 'rivieres': 6860, 'legionstrackandfield': 6861, 'megadeth': 6862, 'symphony': 6863, 'wherever': 6864, 'flickershowell': 6865, 'faan': 6866, 'ultimatum': 6867, 'dailytimesngr': 6868, 'ottawa': 6869, 'itsqueenbaby': 6870, 'bunch': 6871, 'adanne': 6872, 'kindly': 6873, 'robbiewilliams': 6874, 'fkn': 6875, 'asswipe': 6876, 'killers': 6877, 'karma': 6878, 'moral': 6879, 'systems': 6880, 'rejects': 6881, 'innocents': 6882, 'explicitly': 6883, 'endorses': 6884, 'behavior': 6885, 'follownflnews': 6886, 'wolves': 6887, 'savedenaliwolves': 6888, 'tweetstorm': 6889, 'ak': 6890, 'practitioner': 6891, 'healthcare': 6892, 'recruitment': 6893, 'counselors': 6894, 'wasilla': 6895, 'pensacola': 6896, 'senator': 6897, 'voices': 6898, 'concerns': 6899, 'concluded': 6900, 'harcourt': 6901, 'goodluck': 6902, 'dame': 6903, 'welovela': 6904, 'nhlducks': 6905, 'defense': 6906, 'blues': 6907, 'sportsroadhouse': 6908, 'coleslaw': 6909, 'huntsville': 6910, 'widespread': 6911, 'storms': 6912, 'minor': 6913, 'hunwx': 6914, 'reply': 6915, 'gpm': 6916, 'bullseye': 6917, 'countermoonbat': 6918, 'voodoo': 6919, 'goats': 6920, 'sharing': 6921, 'bbcwomanshour': 6922, 'setsuko': 6923, 'thurlow': 6924, 'demi': 6925, 'langley': 6926, 'filipino': 6927, 'uh': 6928, 'dick': 6929, 'outlet': 6930, 'happenings': 6931, 'eventspalmbeach': 6932, 'waterford': 6933, 'morty': 6934, 'meaning': 6935, 'fit': 6936, 'clean': 6937, 'laundry': 6938, 'hamburg': 6939, 'midfield': 6940, 'edm': 6941, 'soni': 6942, 'soner': 6943, 'sonisoner': 6944, 'spent': 6945, 'feeding': 6946, 'syrian': 6947, 'marrie': 6948, 'abs': 6949, 'drones': 6950, 'deadliest': 6951, 'trafford': 6952, 'odeon': 6953, 'cinema': 6954, 'false': 6955, 'tennis': 6956, 'defending': 6957, 'champ': 6958, 'svetlana': 6959, 'kuznetsova': 6960, 'withdraws': 6961, 'citi': 6962, 'cites': 6963, 'lower': 6964, 'espn': 6965, 'rage': 6966, 'sharply': 6967, 'costs': 6968, 'bless': 6969, 'susinesses': 6970, 'stlnd': 6971, 'naruto': 6972, 'madara': 6973, 'strawberry': 6974, 'shitsickles': 6975, 'mockingpanems': 6976, 'cuddlesforjen': 6977, 'retainers': 6978, 'wear': 6979, 'daddy': 6980, 'kink': 6981, 'scalpium': 6982, 'sammy': 6983, 'kfc': 6984, 'fam': 6985, 'ivano': 6986, 'frankivsk': 6987, 'butterlondon': 6988, 'crayons': 6989, 'ram': 6990, 'bbloggers': 6991, 'laughs': 6992, 'sticking': 6993, 'talisman': 6994, 'eden': 6995, 'keen': 6996, 'cristiano': 6997, 'ronaldo': 6998, 'lionel': 6999, 'messi': 7000, 'mipasho': 7001, 'lowkey': 7002, 'kirkwall': 7003, 'hahahaha': 7004, 'lolol': 7005, 'oslo': 7006, 'muslims': 7007, 'waving': 7008, 'pamela': 7009, 'geller': 7010, 'odai': 7011, 'bucharest': 7012, 'romania': 7013, 'gotten': 7014, 'tracking': 7015, 'wedn': 7016, 'powder': 7017, 'discussed': 7018, 'introduction': 7019, 'theological': 7020, 'aesthetic': 7021, 'arabic': 7022, 'vietnamese': 7023, 'fortaleza': 7024, 'ce': 7025, 'fahlo': 7026, 'justin': 7027, 'bieber': 7028, 'terrifying': 7029, 'disclaimer': 7030, 'cochrane': 7031, 'cityofcalgary': 7032, 'enacted': 7033, 'municipal': 7034, 'flg': 7035, 'rocket': 7036, 'freebesieged': 7037, 'tory': 7038, 'possibly': 7039, 'wafer': 7040, 'thin': 7041, 'chronicle': 7042, 'sunrays': 7043, 'hairy': 7044, 'dried': 7045, 'spiderweb': 7046, 'selena': 7047, 'hilary': 7048, 'stans': 7049, 'sold': 7050, 'copies': 7051, 'dal': 7052, 'rb': 7053, 'lance': 7054, 'dunbar': 7055, 'injures': 7056, 'ankle': 7057, 'specially': 7058, 'modified': 7059, 'ophiuchus': 7060, 'truelove': 7061, 'romance': 7062, 'lith': 7063, 'seduction': 7064, 'astrology': 7065, 'rtrrt': 7066, 'lotz': 7067, 'pla': 7068, 'petersburgfl': 7069, 'aisle': 7070, 'dedicated': 7071, 'serbian': 7072, 'director': 7073, 'foods': 7074, 'clothing': 7075, 'accionempresa': 7076, 'sparked': 7077, 'interest': 7078, 'bargain': 7079, 'gerenciatodos': 7080, 'electrical': 7081, 'circuit': 7082, 'pump': 7083, 'scares': 7084, 'versions': 7085, 'knowing': 7086, 'governments': 7087, 'answer': 7088, 'chicora': 7089, 'davidolszak': 7090, 'tardis': 7091, 'pc': 7092, 'hacked': 7093, 'bucks': 7094, 'nsf': 7095, 'lauradeholanda': 7096, 'forrest': 7097, 'xxx': 7098, 'corp': 7099, 'breaches': 7100, 'dems': 7101, 'detained': 7102, 'interrogation': 7103, 'inexpressible': 7104, 'rises': 7105, 'adults': 7106, 'effected': 7107, 'yugoslav': 7108, 'macedonia': 7109, 'editaxohaze': 7110, 'cuffed': 7111, 'milwaukee': 7112, 'lgbt': 7113, 'unrecognized': 7114, 'morganville': 7115, 'pisces': 7116, 'tightrope': 7117, 'forward': 7118, 'downright': 7119, 'lavenderpoetrycafe': 7120, 'encoded': 7121, 'sensory': 7122, 'cognitive': 7123, 'hysteria': 7124, 'affliction': 7125, 'primarily': 7126, 'smokes': 7127, 'noahj': 7128, 'gta': 7129, 'sticky': 7130, 'nashsnewvideo': 7131, 'exofficio': 7132, 'max': 7133, 'tf': 7134, 'fired': 7135, 'catfishmtv': 7136, 'bekah': 7137, 'sweat': 7138, 'beating': 7139, 'vet': 7140, 'jihad': 7141, 'mall': 7142, 'islamaphobe': 7143, 'chicken': 7144, 'microwave': 7145, 'intead': 7146, 'rachelrofe': 7147, 'woke': 7148, 'raquel': 7149, 'attitude': 7150, 'markets': 7151, 'investing': 7152, 'trading': 7153, 'forex': 7154, 'pretend': 7155, 'ayekoradio': 7156, 'brasswork': 7157, 'shaken': 7158, 'netlabel': 7159, 'electronicmusic': 7160, 'ccmusic': 7161, 'kylewappler': 7162, 'thisishavehope': 7163, 'carefully': 7164, 'harlem': 7165, 'stony': 7166, 'jackson': 7167, 'felons': 7168, 'thus': 7169, 'satan': 7170, 'niggr': 7171, 'walton': 7172, 'headed': 7173, 'urgent': 7174, 'wildhorses': 7175, 'sbnation': 7176, 'penalty': 7177, 'careless': 7178, 'campfire': 7179, 'primum': 7180, 'nocere': 7181, 'georgefoster': 7182, 'edmund': 7183, 'fitzgerald': 7184, 'applies': 7185, 'horrendous': 7186, 'tomdean': 7187, 'alright': 7188, 'willian': 7189, 'shifted': 7190, 'drivers': 7191, 'reap': 7192, 'targe': 7193, 'kurd': 7194, 'petersburg': 7195, 'sponge': 7196, 'docks': 7197, 'washed': 7198, 'beit': 7199, 'scottsdale': 7200, 'stamp': 7201, 'assistance': 7202, 'retooled': 7203, 'retirees': 7204, 'handicapped': 7205, 'nomorehandouts': 7206, 'spoiled': 7207, 'deconstruct': 7208, 'kerri': 7209, 'sackville': 7210, 'tms': 7211, 'wb': 7212, 'compensations': 7213, 'palinfoen': 7214, 'sonofbobbob': 7215, 'shimmyfab': 7216, 'trickxie': 7217, 'chopping': 7218, 'heads': 7219, 'gays': 7220, 'rooftops': 7221, 'scranton': 7222, 'tmid': 7223, 'nikistitz': 7224, 'nikki': 7225, 'falcon': 7226, 'construct': 7227, 'fukuoka': 7228, 'effort': 7229, 'painful': 7230, 'roger': 7231, 'bannister': 7232, 'kenosha': 7233, 'leader': 7234, 'sympathy': 7235, 'cleared': 7236, 'trailer': 7237, 'blighty': 7238, 'nicklee': 7239, 'loo': 7240, 'pollster': 7241, 'realdonaldtrump': 7242, 'colombie': 7243, 'britannique': 7244, 'dilawri': 7245, 'oneself': 7246, 'foreclosed': 7247, 'tejc': 7248, 'trad': 7249, 'authors': 7250, 'plummeting': 7251, 'renfrew': 7252, 'batfanuk': 7253, 'utica': 7254, 'pleasant': 7255, 'paws': 7256, 'size': 7257, 'grass': 7258, 'layang': 7259, 'perak': 7260, 'utp': 7261, 'pete': 7262, 'gemmasterful': 7263, 'hipster': 7264, 'unfortunately': 7265, 'supportph': 7266, 'unbelievably': 7267, 'insane': 7268, 'aeroplane': 7269, 'freaky': 7270, 'lo': 7271, 'mid': 7272, 'republicans': 7273, 'darwinism': 7274, 'onthisday': 7275, 'mayflower': 7276, 'sail': 7277, 'laphamsquart': 7278, 'photographer': 7279, 'ruebs': 7280, 'endures': 7281, 'climb': 7282, 'capture': 7283, 'bride': 7284, 'groom': 7285, 'wilbraham': 7286, 'anthonys': 7287, 'considering': 7288, 'everytime': 7289, 'gallup': 7290, 'ari': 7291, 'tiles': 7292, 'zacb': 7293, 'dell': 7294, 'abbswinston': 7295, 'zionist': 7296, 'overnight': 7297, 'yahoo': 7298, 'recycling': 7299, 'chemicals': 7300, 'continually': 7301, 'strives': 7302, 'maintain': 7303, 'eco': 7304, 'friendly': 7305, 'existence': 7306, 'ns': 7307, 'timkaine': 7308, 'deserves': 7309, 'bridges': 7310, 'ipod': 7311, 'weloveyoulouis': 7312, 'disneyirh': 7313, 'oneonta': 7314, 'staten': 7315, 'colder': 7316, 'earbuds': 7317, 'realize': 7318, 'politely': 7319, 'jared': 7320, 'revolution': 7321, 'boksburg': 7322, 'marksmaponyane': 7323, 'sundowns': 7324, 'previous': 7325, 'meeting': 7326, 'celtic': 7327, 'indeed': 7328, 'improvement': 7329, 'mccain': 7330, 'whoops': 7331, 'photographed': 7332, 'chilling': 7333, 'acmilan': 7334, 'screw': 7335, 'cupcake': 7336, 'cramp': 7337, 'reblogged': 7338, 'picture': 7339, 'scars': 7340, 'visit': 7341, 'raheelsharif': 7342, 'manifesting': 7343, 'helm': 7344, 'stormy': 7345, 'lesotho': 7346, 'thomashcrown': 7347, 'grandfather': 7348, 'predictions': 7349, 'visited': 7350, 'humbled': 7351, 'november': 7352, 'alanhahn': 7353, 'hdumpty': 7354, 'daughtery': 7355, 'rants': 7356, 'factual': 7357, 'basis': 7358, 'wasington': 7359, 'russaky': 7360, 'eastatlanta': 7361, 'westgeorgia': 7362, 'wce': 7363, 'explicitpretty': 7364, 'reject': 7365, 'russian': 7366, 'initiative': 7367, 'alliance': 7368, 'assad': 7369, 'regime': 7370, 'complaining': 7371, 'emblem': 7372, 'turns': 7373, 'gigant': 7374, 'difficulty': 7375, 'naperville': 7376, 'slipped': 7377, 'silvermoon': 7378, 'ironforge': 7379, 'fel': 7380, 'zakuun': 7381, 'armory': 7382, 'announcement': 7383, 'chem': 7384, 'worker': 7385, 'pays': 7386, 'activision': 7387, 'cognizant': 7388, 'fitness': 7389, 'canaanites': 7390, 'worldnetdaily': 7391, 'homosexuality': 7392, 'downfall': 7393, 'society': 7394, 'barbara': 7395, 'suv': 7396, 'add': 7397, 'familia': 7398, 'beaumont': 7399, 'benews': 7400, 'baseball': 7401, 'tri': 7402, 'wash': 7403, 'homra': 7404, 'turn': 7405, 'retract': 7406, 'wordpressdotcom': 7407, 'elvy': 7408, 'ohyayyyyay': 7409, 'portage': 7410, 'curb': 7411, 'responder': 7412, 'sale': 7413, 'aqua': 7414, 'chases': 7415, 'weak': 7416, 'eic': 7417, 'jun': 7418, 'yemenis': 7419, 'pig': 7420, 'stds': 7421, 'rejected': 7422, 'slogan': 7423, 'skyhawkmm': 7424, 'traplord': 7425, 'fredosantana': 7426, 'lilreese': 7427, 'hella': 7428, 'mosh': 7429, 'pits': 7430, 'wwii': 7431, 'lessons': 7432, 'rapidcity': 7433, 'cheyenne': 7434, 'toiindianews': 7435, 'ofcourse': 7436, 'caued': 7437, 'washing': 7438, 'republica': 7439, 'dominicana': 7440, 'losdelsonido': 7441, 'ivanberroa': 7442, 'mcilroy': 7443, 'fuels': 7444, 'pga': 7445, 'speculation': 7446, 'rory': 7447, 'fueled': 7448, 'speculatio': 7449, 'honeybunzgem': 7450, 'primalkitchen': 7451, 'stages': 7452, 'tuicruises': 7453, 'aida': 7454, 'cruise': 7455, 'whales': 7456, 'faroe': 7457, 'cont': 7458, 'catharines': 7459, 'wider': 7460, 'variety': 7461, 'therapies': 7462, 'militarydotcom': 7463, 'danielkemp': 7464, 'likened': 7465, 'steps': 7466, 'shepherd': 7467, 'producer': 7468, 'bandar': 7469, 'lampung': 7470, 'cunayyh': 7471, 'taufikcj': 7472, 'lyrically': 7473, 'doctors': 7474, 'pediatric': 7475, 'specialized': 7476, 'lauderdale': 7477, 'frustrated': 7478, 'quantit': 7479, 'scourgue': 7480, 'tunein': 7481, 'player': 7482, 'paranaque': 7483, 'aztec': 7484, 'nm': 7485, 'mln': 7486, 'sputnik': 7487, 'cracker': 7488, 'cllrraymogford': 7489, 'comprehensive': 7490, 'porto': 7491, 'alegre': 7492, 'grande': 7493, 'sul': 7494, 'waking': 7495, 'kooks': 7496, 'insides': 7497, 'customized': 7498, 'dcubecrafts': 7499, 'greetingcards': 7500, 'bre': 7501, 'morrow': 7502, 'eaten': 7503, 'fill': 7504, 'danbury': 7505, 'seemed': 7506, 'transformed': 7507, 'unconscious': 7508, 'tc': 7509, 'henderson': 7510, 'dignity': 7511, 'rn': 7512, 'siena': 7513, 'norge': 7514, 'exchange': 7515, 'gunfire': 7516, 'soufside': 7517, 'selling': 7518, 'yall': 7519, 'fionagilbert': 7520, 'delay': 7521, 'applications': 7522, 'arlington': 7523, 'truckcrash': 7524, 'overturns': 7525, 'fortworth': 7526, 'gypsy': 7527, 'nova': 7528, 'scotia': 7529, 'browardcounty': 7530, 'alot': 7531, 'kidneys': 7532, 'bellevue': 7533, 'darkreading': 7534, 'smb': 7535, 'relay': 7536, 'steals': 7537, 'credentials': 7538, 'legit': 7539, 'kus': 7540, 'moferadio': 7541, 'heavybag': 7542, 'dom': 7543, 'qotring': 7544, 'battlerapchris': 7545, 'helder': 7546, 'rijkswerf': 7547, 'navy': 7548, 'sidelines': 7549, 'newest': 7550, 'subs': 7551, 'krasnodar': 7552, 'washingtonpost': 7553, 'domingo': 7554, 'alma': 7555, 'rosa': 7556, 'soloquiero': 7557, 'firefighte': 7558, 'colo': 7559, 'lzkely': 7560, 'mama': 7561, 'thuggin': 7562, 'homies': 7563, 'inmate': 7564, 'fiore': 7565, 'coldmpress': 7566, 'commiting': 7567, 'villagers': 7568, 'hashd': 7569, 'shaabi': 7570, 'theft': 7571, 'stewart': 7572, 'julian': 7573, 'highly': 7574, 'fanboys': 7575, 'accounts': 7576, 'cancelled': 7577, 'penny': 7578, 'sized': 7579, 'bellalinn': 7580, 'alrighty': 7581, 'scegnews': 7582, 'neighborhood': 7583, 'etisalat': 7584, 'tecno': 7585, 'q': 7586, 'ime': 7587, 'racist': 7588, 'elitist': 7589, 'knoxville': 7590, 'urban': 7591, 'megaquake': 7592, 'annajhm': 7593, 'jcomanse': 7594, 'staubs': 7595, 'rslm': 7596, 'blanktgt': 7597, 'fartanxiety': 7598, 'doctor': 7599, 'immediately': 7600, 'core': 7601, 'kentucky': 7602, 'irishspy': 7603, 'sucked': 7604, 'selma': 7605, 'disgusting': 7606, 'tsutomi': 7607, 'yamaguchi': 7608, 'blasts': 7609, 'otd': 7610, 'adelaide': 7611, 'wnd': 7612, 'cld': 7613, 'sct': 7614, 'bkn': 7615, 'inst': 7616, 'apch': 7617, 'rwy': 7618, 'oper': 7619, 'taxiways': 7620, 'foxtrot': 7621, 'navbl': 7622, 'tmp': 7623, 'switzerland': 7624, 'ir': 7625, 'icemoon': 7626, 'djicemoon': 7627, 'dubstep': 7628, 'trapmusic': 7629, 'dnb': 7630, 'ices': 7631, 'editorial': 7632, 'longs': 7633, 'cas': 7634, 'enews': 7635, 'affleck': 7636, 'eonlinechat': 7637, 'complex': 7638, 'contained': 7639, 'trinity': 7640, 'freddy': 7641, 'fazbears': 7642, 'pizzeria': 7643, 'nking': 7644, 'animatronics': 7645, 'shower': 7646, 'fresno': 7647, 'breachgamingorg': 7648, 'riyadh': 7649, 'organic': 7650, 'horn': 7651, 'expander': 7652, 'earrings': 7653, 'jewelry': 7654, 'njenga': 7655, 'hero': 7656, 'razing': 7657, 'sink': 7658, 'holes': 7659, 'slides': 7660, 'avalanches': 7661, 'emsc': 7662, 'tradcatknights': 7663, 'slam': 7664, 'knocks': 7665, 'customers': 7666, 'ecsu': 7667, 'newlyweds': 7668, 'hosting': 7669, 'banquet': 7670, 'dinner': 7671, 'nada': 7672, 'otrametlife': 7673, 'mentor': 7674, 'dislike': 7675, 'femnism': 7676, 'movement': 7677, 'indiatv': 7678, 'maid': 7679, 'dh': 7680, 'sponsor': 7681, 'mythgriy': 7682, 'campo': 7683, 'ms': 7684, 'detailed': 7685, 'toxicsavior': 7686, 'froze': 7687, 'hated': 7688, 'frostburg': 7689, 'nostalgia': 7690, 'numenor': 7691, 'haley': 7692, 'lu': 7693, 'richardson': 7694, 'konoha': 7695, 'meetkakarotto': 7696, 'bother': 7697, 'offline': 7698, 'hinata': 7699, 'lzk': 7700, 'tim': 7701, 'nana': 7702, 'restlessness': 7703, 'damnnnn': 7704, 'gmcr': 7705, 'whomever': 7706, 'accordingly': 7707, 'buzzfeed': 7708, 'smith': 7709, 'fri': 7710, 'nlccollide': 7711, 'redding': 7712, 'column': 7713, 'blake': 7714, 'routecomplex': 7715, 'sosfam': 7716, 'drift': 7717, 'storming': 7718, 'bebacksoon': 7719, 'whippany': 7720, 'ssw': 7721, 'anza': 7722, 'jakegint': 7723, 'bothered': 7724, 'traditionalist': 7725, 'jkt': 7726, 'muse': 7727, 'roh': 7728, 'jfb': 7729, 'tfb': 7730, 'alrasyid': 7731, 'iturasya': 7732, 'smantibatam': 7733, 'lenn': 7734, 'bishops': 7735, 'stortford': 7736, 'lindasocvat': 7737, 'tflbusalerts': 7738, 'htx': 7739, 'hastle': 7740, 'tested': 7741, 'tb': 7742, 'document': 7743, 'filling': 7744, 'tt': 7745, 'kettlebell': 7746, 'blueprint': 7747, 'chris': 7748, 'lopez': 7749, 'hindsight': 7750, 'jhmnye': 7751, 'dynastic': 7752, 'legendary': 7753, 'period': 7754, 'dumuzid': 7755, 'owen': 7756, 'twcnewsclt': 7757, 'theghostparty': 7758, 'disrupted': 7759, 'cta': 7760, 'southeast': 7761, 'aveiro': 7762, 'lonely': 7763, 'marilyn': 7764, 'monroe': 7765, 'ripriprip': 7766, 'basics': 7767, 'defective': 7768, 'intertissue': 7769, 'mate': 7770, 'guabxfv': 7771, 'csaresu': 7772, 'median': 7773, 'motorcycle': 7774, 'traveling': 7775, 'nbcnews': 7776, 'chills': 7777, 'honeymoon': 7778, 'jaureguiswisdom': 7779, 'ive': 7780, 'sooo': 7781, 'hollyorange': 7782, 'emotions': 7783, 'mash': 7784, 'bonn': 7785, 'egreer': 7786, 'propelled': 7787, 'piles': 7788, 'tides': 7789, 'ashxjonespr': 7790, 'ashj': 7791, 'newark': 7792, 'son': 7793, 'savior': 7794, 'telnet': 7795, 'streamyx': 7796, 'conversation': 7797, 'tunisian': 7798, 'bardo': 7799, 'nikostar': 7800, 'abject': 7801, 'subway': 7802, 'restaurants': 7803, 'lara': 7804, 'likes': 7805, 'teeth': 7806, 'flesh': 7807, 'clawing': 7808, 'midlands': 7809, 'bbcengland': 7810, 'burst': 7811, 'northerncalifornia': 7812, 'zippednews': 7813, 'flushes': 7814, 'gtfo': 7815, 'hunchback': 7816, 'notre': 7817, 'notoriousd': 7818, 'choke': 7819, 'rida': 7820, 'yucat': 7821, 'babe': 7822, 'nepa': 7823, 'scourge': 7824, 'whedonesque': 7825, 'fanged': 7826, 'creation': 7827, 'ai': 7828, 'workforce': 7829, 'contact': 7830, 'inequality': 7831, 'yea': 7832, 'teamsurvivors': 7833, 'zombiefunrun': 7834, 'tagged': 7835, 'attackonstiles': 7836, 'hang': 7837, 'alpha': 7838, 'doll': 7839, 'chennai': 7840, 'disowned': 7841, 'kasab': 7842, 'disowns': 7843, 'naved': 7844, 'captured': 7845, 'tipster': 7846, 'previews': 7847, 'swansea': 7848, 'kerry': 7849, 'camilacabello': 7850, 'suryaray': 7851, 'alcoholandmetal': 7852, 'trusted': 7853, 'xeni': 7854, 'bet': 7855, 'marysville': 7856, 'fence': 7857, 'homeowners': 7858, 'multiverse': 7859, 'awaits': 7860, 'shii': 7861, 'intended': 7862, 'pr': 7863, 'treyarch': 7864, 'davidvonderhaar': 7865, 'quarters': 7866, 'pontevedra': 7867, 'galicia': 7868, 'metallica': 7869, 'bangtan': 7870, 'bts': 7871, 'antiochhickoryhollow': 7872, 'lyallpur': 7873, 'lion': 7874, 'unfolded': 7875, 'cricket': 7876, 'vista': 7877, 'cindy': 7878, 'noonan': 7879, 'cindynoonan': 7880, 'heartbreak': 7881, 'yahistorical': 7882, 'undergroundrailraod': 7883, 'brenas': 7884, 'puerto': 7885, 'rico': 7886, 'busty': 7887, 'blonde': 7888, 'natalia': 7889, 'starr': 7890, 'fucks': 7891, 'wxky': 7892, 'jrowah': 7893, 'mango': 7894, 'juice': 7895, 'aphl': 7896, 'responds': 7897, 'age': 7898, 'arrestpastornganga': 7899, 'collaborating': 7900, 'carregado': 7901, 'hurt': 7902, 'midnight': 7903, 'pageparkescorp': 7904, 'chloeunguyen': 7905, 'laurensicle': 7906, 'charstevens': 7907, 'tiara': 7908, 'marei': 7909, 'gemma': 7910, 'bowe': 7911, 'chambered': 7912, 'speakingfromexperience': 7913, 'klavierstuk': 7914, 'lvg': 7915, 'spurs': 7916, 'smaller': 7917, 'blind': 7918, 'lcb': 7919, 'cl': 7920, 'awadgolf': 7921, 'capitalist': 7922, 'voted': 7923, 'elect': 7924, 'thejenmorillo': 7925, 'gentrification': 7926, 'alllivesmatter': 7927, 'necessary': 7928, 'muhamadjabal': 7929, 'cancel': 7930, 'elevator': 7931, 'decided': 7932, 'noses': 7933, 'button': 7934, 'warship': 7935, 'bannukes': 7936, 'ignored': 7937, 'fadc': 7938, 'bleed': 7939, 'masterpiece': 7940, 'unites': 7941, 'ljp': 7942, 'chonce': 7943, 'cryibg': 7944, 'portsmouth': 7945, 'blame': 7946, 'race': 7947, 'bounce': 7948, 'churchill': 7949, 'leaking': 7950, 'sewage': 7951, 'commodities': 7952, 'crashing': 7953, 'alex': 7954, 'mika': 7955, 'ego': 7956, 'resolution': 7957, 'heal': 7958, 'eureka': 7959, 'humboldt': 7960, 'cty': 7961, 'residence': 7962, 'lassics': 7963, 'roose': 7964, 'depressing': 7965, 'intragenerational': 7966, 'sandra': 7967, 'bland': 7968, 'kasiakosek': 7969, 'desk': 7970, 'skye': 7971, 'horny': 7972, 'juicy': 7973, 'pounded': 7974, 'tales': 7975, 'ri': 7976, 'lisnaskea': 7977, 'woken': 7978, 'blockage': 7979, 'woodward': 7980, 'northbound': 7981, 'davison': 7982, 'shoalstraffic': 7983, 'conscience': 7984, 'affects': 7985, 'tr': 7986, 'dissuaded': 7987, 'reckon': 7988, 'brain': 7989, 'dmt': 7990, 'relive': 7991, 'simulation': 7992, 'foo': 7993, 'surry': 7994, 'lengths': 7995, 'prepper': 7996, 'grid': 7997, 'bernardino': 7998, 'spider': 7999, 'someones': 8000, 'wrist': 8001, 'smth': 8002, 'gadget': 8003, 'ahhtheenikki': 8004, 'responded': 8005, 'legna': 8006, 'correct': 8007, 'sides': 8008, 'fb': 8009, 'quilmes': 8010, 'arg': 8011, 'desperation': 8012, 'dislocation': 8013, 'separation': 8014, 'condemnation': 8015, 'revelation': 8016, 'isolation': 8017, 'bounty': 8018, 'surrounded': 8019, 'dlh': 8020, 'yoenis': 8021, 'production': 8022, 'identification': 8023, 'ariana': 8024, 'favs': 8025, 'cargo': 8026, 'onesie': 8027, 'recalled': 8028, 'choking': 8029, 'akron': 8030, 'canadasuicide': 8031, 'hua': 8032, 'gainesville': 8033, 'sensitive': 8034, 'talking': 8035, 'muscle': 8036, 'fluid': 8037, 'strains': 8038, 'sprains': 8039, 'abomination': 8040, 'maketh': 8041, 'antichrist': 8042, 'desecrates': 8043, 'onnnn': 8044, 'sounders': 8045, 'finish': 8046, 'swea': 8047, 'jerseyville': 8048, 'flatliners': 8049, 'longevity': 8050, 'lucifer': 8051, 'pbs': 8052, 'torro': 8053, 'loco': 8054, 'homers': 8055, 'tulowitzki': 8056, 'insanity': 8057, 'grimrail': 8058, 'depot': 8059, 'yahoonews': 8060, 'rts': 8061, 'endorsements': 8062, 'christopherszen': 8063, 'hunterlove': 8064, 'tblack': 8065, 'brits': 8066, 'moscow': 8067, 'liquidation': 8068, 'usar': 8069, 'ruor': 8070, 'stray': 8071, 'strangers': 8072, 'reshareworthy': 8073, 'bacon': 8074, 'admit': 8075, 'ensure': 8076, 'veteran': 8077, 'access': 8078, 'highest': 8079, 'proper': 8080, 'treatmen': 8081, 'followme': 8082, 'annealiz': 8083, 'simon': 8084, 'genuine': 8085, 'jp': 8086, 'spinningbot': 8087, 'jorrynja': 8088, 'bf': 8089, 'gf': 8090, 'ter': 8091, 'ell': 8092, 'nprfreshair': 8093, 'skipping': 8094, 'debate': 8095, 'cymru': 8096, 'araul': 8097, 'mccainenl': 8098, 'spectacular': 8099, 'stonewall': 8100, 'damsels': 8101, 'distress': 8102, 'peers': 8103, 'ikeja': 8104, 'mrw': 8105, 'beneath': 8106, 'gif': 8107, 'comedy': 8108, 'ifunny': 8109, 'hayden': 8110, 'poses': 8111, 'strips': 8112, 'birdland': 8113, 'fd': 8114, 'wn': 8115, 'therein': 8116, 'elisagxrcia': 8117, 'ely': 8118, 'cambridgeshire': 8119, 'incredulous': 8120, 'continued': 8121, 'outcry': 8122, 'taxpayers': 8123, 'similar': 8124, 'objection': 8125, 'skynews': 8126, 'scum': 8127, 'garza': 8128, 'atlas': 8129, 'leones': 8130, 'negros': 8131, 'copa': 8132, 'mx': 8133, 'usmnt': 8134, 'loveland': 8135, 'kiwi': 8136, 'karyn': 8137, 'parking': 8138, 'darrellissa': 8139, 'deal': 8140, 'amazin': 8141, 'dey': 8142, 'dedication': 8143, 'motivation': 8144, 'mkayla': 8145, 'cee': 8146, 'petty': 8147, 'childish': 8148, 'earths': 8149, 'tigers': 8150, 'appalling': 8151, 'businessmen': 8152, 'saveti': 8153, 'heared': 8154, 'priceless': 8155, 'chatham': 8156, 'christ': 8157, 'hopeinchrist': 8158, 'lifelettercafe': 8159, 'newyear': 8160, 'deployed': 8161, 'cacheadvance': 8162, 'besides': 8163, 'remembering': 8164, 'rebecca': 8165, 'roga': 8166, 'hamas': 8167, 'egged': 8168, 'preppers': 8169, 'doomsday': 8170, 'collection': 8171, 'shtf': 8172, 'preppertalk': 8173, 'towboat': 8174, 'trek': 8175, 'vtc': 8176, 'stfxuniversity': 8177, 'crato': 8178, 'gostei': 8179, 'um': 8180, 'deo': 8181, 'christinartnd': 8182, 'postcards': 8183, 'polaroids': 8184, 'bikini': 8185, 'mwnhappy': 8186, 'pls': 8187, 'alllll': 8188, 'nittys': 8189, 'stockwell': 8190, 'shakjn': 8191, 'magnums': 8192, 'shaking': 8193, 'gunfight': 8194, 'nantes': 8195, 'starbs': 8196, 'promise': 8197, 'spread': 8198, 'palmoil': 8199, 'increase': 8200, 'destroying': 8201, 'throughout': 8202, 'joel': 8203, 'peach': 8204, 'suvs': 8205, 'dickheads': 8206, 'iron': 8207, 'fist': 8208, 'swing': 8209, 'fouseytube': 8210, 'zaynmalik': 8211, 'brbrs': 8212, 'fousey': 8213, 'springer': 8214, 'spaniel': 8215, 'dolphin': 8216, 'est': 8217, 'tripsburg': 8218, 'babysweet': 8219, 'attached': 8220, 'cereal': 8221, 'doctordryadma': 8222, 'dreamz': 8223, 'angelina': 8224, 'jolie': 8225, 'sef': 8226, 'espa': 8227, 'espagne': 8228, 'eastern': 8229, 'formation': 8230, 'hilda': 8231, 'liverpool': 8232, 'homealone': 8233, 'pair': 8234, 'atv': 8235, 'utv': 8236, 'mum': 8237, 'sort': 8238, 'muppet': 8239, 'descriptions': 8240, 'cats': 8241, 'exciting': 8242, 'lanjut': 8243, 'dirumah': 8244, 'yagitudeh': 8245, 'jake': 8246, 'rumah': 8247, 'cipinang': 8248, 'catalinas': 8249, 'growing': 8250, 'homecoming': 8251, 'prom': 8252, 'waters': 8253, 'lately': 8254, 'stressing': 8255, 'pokemoncards': 8256, 'icequeenfroslas': 8257, 'attacks': 8258, 'zac': 8259, 'newsome': 8260, 'suncorp': 8261, 'billion': 8262, 'swedish': 8263, 'etoffe': 8264, 'charmeuse': 8265, 'clothesless': 8266, 'precisionistic': 8267, 'vestment': 8268, 'psfda': 8269, 'demons': 8270, 'ducks': 8271, 'elephants': 8272, 'flaming': 8273, 'countless': 8274, 'globe': 8275, 'orchestrated': 8276, 'corners': 8277, 'levels': 8278, 'aep': 8279, 'pilots': 8280, 'airports': 8281, 'funkflex': 8282, 'flex': 8283, 'pittsburgh': 8284, 'vocal': 8285, 'chords': 8286, 'workout': 8287, 'field': 8288, 'funnydadcoach': 8289, 'brecksville': 8290, 'items': 8291, 'croydon': 8292, 'sophieingle': 8293, 'angharadjames': 8294, 'gifts': 8295, 'banana': 8296, 'malt': 8297, 'loaf': 8298, 'worm': 8299, 'kuala': 8300, 'spoke': 8301, 'kennedy': 8302, 'avert': 8303, 'bolster': 8304, 'socal': 8305, 'ybtheprophet': 8306, 'realhiphop': 8307, 'desert': 8308, 'bedrooms': 8309, 'baths': 8310, 'palms': 8311, 'olympia': 8312, 'fte': 8313, 'posters': 8314, 'shira': 8315, 'banki': 8316, 'reports': 8317, 'caution': 8318, 'wendell': 8319, 'berry': 8320, 'gulf': 8321, 'eastwood': 8322, 'knobhead': 8323, 'khanna': 8324, 'camberwell': 8325, 'gloria': 8326, 'gaynor': 8327, 'oktaviana': 8328, 'devi': 8329, 'concur': 8330, 'spend': 8331, 'mmk': 8332, 'milton': 8333, 'keynes': 8334, 'slating': 8335, 'gpaulista': 8336, 'jackwilshere': 8337, 'disgrace': 8338, 'afc': 8339, 'cunts': 8340, 'jeromekem': 8341, 'dj': 8342, 'nalathekoala': 8343, 'professional': 8344, 'deals': 8345, 'sequalae': 8346, 'suicides': 8347, 'homicides': 8348, 'deai': 8349, 'cousins': 8350, 'osaka': 8351, 'hara': 8352, 'kiri': 8353, 'recovered': 8354, 'airasia': 8355, 'semarang': 8356, 'parental': 8357, 'offspring': 8358, 'preconditioning': 8359, 'corals': 8360, 'increased': 8361, 'dependency': 8362, 'counselor': 8363, 'intern': 8364, 'ventura': 8365, 'doubt': 8366, 'implicit': 8367, 'statement': 8368, 'fifa': 8369, 'tournaments': 8370, 'whocares': 8371, 'rvacchianonydn': 8372, 'fanarmyfaceoff': 8373, 'robdelaney': 8374, 'unable': 8375, 'ejaculating': 8376, 'blinker': 8377, 'kaiseiw': 8378, 'lily': 8379, 'xo': 8380, 'cowgirl': 8381, 'sticks': 8382, 'removing': 8383, 'karen': 8384, 'robinson': 8385, 'enviromental': 8386, 'positive': 8387, 'sis': 8388, 'cam': 8389, 'geometric': 8390, 'pattern': 8391, 'totes': 8392, 'gasparc': 8393, 'bbsnews': 8394, 'hebron': 8395, 'victoriagittins': 8396, 'sweater': 8397, 'mchenry': 8398, 'tunnel': 8399, 'nort': 8400, 'montana': 8401, 'spends': 8402, 'qew': 8403, 'approaching': 8404, 'niagara': 8405, 'vehicles': 8406, 'removed': 8407, 'gemini': 8408, 'fitz': 8409, 'tantrums': 8410, 'livingsafely': 8411, 'parts': 8412, 'jsunnews': 8413, 'trillion': 8414, 'crosses': 8415, 'travelelixir': 8416, 'helo': 8417, 'flying': 8418, 'apt': 8419, 'payday': 8420, 'loans': 8421, 'promote': 8422, 'finance': 8423, 'desire': 8424, 'liqd': 8425, 'fredonia': 8426, 'goof': 8427, 'guild': 8428, 'saunders': 8429, 'djryanwolf': 8430, 'djcoreygrand': 8431, 'djknyce': 8432, 'djoneplustwo': 8433, 'officialcoredjs': 8434, 'standup': 8435, 'iamtonyneal': 8436, 'spookyfob': 8437, 'feelslikefob': 8438, 'kindness': 8439, 'stump': 8440, 'asylum': 8441, 'seeker': 8442, 'austell': 8443, 'cornwall': 8444, 'portaloos': 8445, 'sentient': 8446, 'benedict': 8447, 'cumberbatch': 8448, 'thick': 8449, 'manila': 8450, 'partnerships': 8451, 'afterhaiyan': 8452, 'haiyan': 8453, 'yolandaph': 8454, 'livelihood': 8455, 'disasterrecovery': 8456, 'render': 8457, 'gain': 8458, 'proxy': 8459, 'fortune': 8460, 'ssu': 8461, 'rsn': 8462, 'mauds': 8463, 'jagexsupport': 8464, 'password': 8465, 'iso': 8466, 'psp': 8467, 'braking': 8468, 'theatre': 8469, 'cmon': 8470, 'kontrolled': 8471, 'bs': 8472, 'dice': 8473, 'demonization': 8474, 'yorker': 8475, 'dhaka': 8476, 'bangladsh': 8477, 'peaceful': 8478, 'civilization': 8479, 'guildford': 8480, 'holiday': 8481, 'sunbathe': 8482, 'roar': 8483, 'rolling': 8484, 'westside': 8485, 'trunk': 8486, 'illusions': 8487, 'fn': 8488, 'webcam': 8489, 'kessily': 8490, 'mishacollins': 8491, 'allthekidneybeansandsorbet': 8492, 'misha': 8493, 'bangkok': 8494, 'ajabrown': 8495, 'derbyshire': 8496, 'mbiwa': 8497, 'rat': 8498, 'zzzz': 8499, 'cedar': 8500, 'rapids': 8501, 'warships': 8502, 'satisfying': 8503, 'battleship': 8504, 'silang': 8505, 'para': 8506, 'aque': 8507, 'untill': 8508, 'fe': 8509, 'studebaker': 8510, 'inj': 8511, 'screenshots': 8512, 'lovely': 8513, 'combat': 8514, 'magnum': 8515, 'opus': 8516, 'musician': 8517, 'kalle': 8518, 'mattson': 8519, 'recreates': 8520, 'clever': 8521, 'stepkans': 8522, 'travelling': 8523, 'chiswick': 8524, 'recipes': 8525, 'stew': 8526, 'arsonists': 8527, 'plastics': 8528, 'pcaldicott': 8529, 'newsadl': 8530, 'barrington': 8531, 'hoffman': 8532, 'estates': 8533, 'afte': 8534, 'scumbernauld': 8535, 'ballew': 8536, 'statements': 8537, 'lansing': 8538, 'bigburgerboi': 8539, 'footballs': 8540, 'spartans': 8541, 'crushing': 8542, 'sammysosita': 8543, 'blunt': 8544, 'ciggs': 8545, 'finale': 8546, 'thegame': 8547, 'tomcatarts': 8548, 'explaining': 8549, 'evolved': 8550, 'godlike': 8551, 'coffeeshop': 8552, 'dodge': 8553, 'wayne': 8554, 'bodied': 8555, 'libby': 8556, 'resemblance': 8557, 'campbell': 8558, 'perhaps': 8559, 'applied': 8560, 'exposed': 8561, 'childsexabuse': 8562, 'scale': 8563, 'tonymcguinness': 8564, 'creamfields': 8565, 'mainstage': 8566, 'laguna': 8567, 'clogs': 8568, 'the': 8569, 'depreciations': 8570, 'usd': 8571, 'election': 8572, 'opposition': 8573, 'kediri': 8574, 'jawa': 8575, 'muttatek': 8576, 'kwwwkwwwk': 8577, 'hug': 8578, 'jiahahahha': 8579, 'yeyeulala': 8580, 'lim': 8581, 'leh': 8582, 'brunette': 8583, 'stretches': 8584, 'victorian': 8585, 'sofa': 8586, 'skardu': 8587, 'saddle': 8588, 'accountable': 8589, 'preferable': 8590, 'brass': 8591, 'tawfmcaw': 8592, 'kamunt': 8593, 'holy': 8594, 'youuu': 8595, 'mortal': 8596, 'kombat': 8597, 'predator': 8598, 'grandeur': 8599, 'audio': 8600, 'differently': 8601, 'qpr': 8602, 'rorington': 8603, 'nowt': 8604, 'fergie': 8605, 'drinkers': 8606, 'wenger': 8607, 'waukesha': 8608, 'rolo': 8609, 'dq': 8610, 'dire': 8611, 'radiant': 8612, 'westerland': 8613, 'dl': 8614, 'patch': 8615, 'error': 8616, 'symantec': 8617, 'computer': 8618, 'ergo': 8619, 'stones': 8620, 'bones': 8621, 'acquire': 8622, 'postexistence': 8623, 'elevation': 8624, 'perquisite': 8625, 'brzjc': 8626, 'gorpuazikinak': 8627, 'puddle': 8628, 'awkward': 8629, 'upi': 8630, 'irannucleardeal': 8631, 'sakhalintribune': 8632, 'eastward': 8633, 'ercjmnea': 8634, 'sunshine': 8635, 'slsandpet': 8636, 'sally': 8637, 'emailed': 8638, 'awol': 8639, 'argh': 8640, 'resigninshame': 8641, 'squirrel': 8642, 'unite': 8643, 'freesikhpoliticalprisnors': 8644, 'bapusuratsingh': 8645, 'gerryconnolly': 8646, 'repdonbeyer': 8647, 'commute': 8648, 'debacle': 8649, 'clearly': 8650, 'mgr': 8651, 'semekeepschanging': 8652, 'soyeh': 8653, 'tagging': 8654, 'lyon': 8655, 'ffvii': 8656, 'exclamation': 8657, 'mark': 8658, 'midweek': 8659, 'auz': 8660, 'cst': 8661, 'radioriffrocks': 8662, 'hrs': 8663, 'hump': 8664, 'whitehouse': 8665, 'pearl': 8666, 'emptive': 8667, 'earners': 8668, 'ooc': 8669, 'subjected': 8670, 'unwarranted': 8671, 'mistakes': 8672, 'mothernaturenetwork': 8673, 'thundersnow': 8674, 'extremely': 8675, 'uncommon': 8676, 'supply': 8677, 'install': 8678, 'frp': 8679, 'tunas': 8680, 'kijangbank': 8681, 'negara': 8682, 'closing': 8683, 'wakefield': 8684, 'stvmlly': 8685, 'safferoonicle': 8686, 'yell': 8687, 'beached': 8688, 'supernovalester': 8689, 'jfc': 8690, 'saline': 8691, 'pendleton': 8692, 'drifting': 8693, 'temecula': 8694, 'englewood': 8695, 'idgaf': 8696, 'borrowers': 8697, 'pizza': 8698, 'adavis': 8699, 'cuddling': 8700, 'greeley': 8701, 'promises': 8702, 'communities': 8703, 'startups': 8704, 'attempted': 8705, 'administration': 8706, 'baileysmsteach': 8707, 'ahhh': 8708, 'perrychat': 8709, 'lzktjnox': 8710, 'epicenter': 8711, 'ad': 8712, 'hooligan': 8713, 'jailed': 8714, 'matches': 8715, 'uknews': 8716, 'apocalpytic': 8717, 'breaks': 8718, 'nuff': 8719, 'pet': 8720, 'onlinecommunities': 8721, 'comfortable': 8722, 'ylisse': 8723, 'masochisticmage': 8724, 'reckless': 8725, 'finnish': 8726, 'financing': 8727, 'secured': 8728, 'impairs': 8729, 'penneys': 8730, 'xela': 8731, 'struggle': 8732, 'grateful': 8733, 'dcfd': 8734, 'chr': 8735, 'lyc': 8736, 'iaff': 8737, 'doghouse': 8738, 'barcelona': 8739, 'alba': 8740, 'rnk': 8741, 'rockingham': 8742, 'stokes': 8743, 'education': 8744, 'nelson': 8745, 'mandela': 8746, 'icon': 8747, 'chromsucks': 8748, 'jetstar': 8749, 'bali': 8750, 'flights': 8751, 'ash': 8752, 'raung': 8753, 'cruz': 8754, 'elizabeth': 8755, 'superintendent': 8756, 'lanford': 8757, 'enemies': 8758, 'warlord': 8759, 'thrusts': 8760, 'jams': 8761, 'cock': 8762, 'womb': 8763, 'bossland': 8764, 'rascal': 8765, 'flatts': 8766, 'tour': 8767, 'element': 8768, 'freedom': 8769, 'delete': 8770, 'micallef': 8771, 'yankees': 8772, 'troubleonmymind': 8773, 'flashflood': 8774, 'gilgit': 8775, 'farmland': 8776, 'collapses': 8777, 'chunks': 8778, 'slappin': 8779, 'smackin': 8780, 'gulfport': 8781, 'realizations': 8782, 'burford': 8783, 'council': 8784, 'fairie': 8785, 'tasted': 8786, 'feast': 8787, 'starving': 8788, 'trusting': 8789, 'jack': 8790, 'writes': 8791, 'iartg': 8792, 'rwa': 8793, 'tw': 8794, 'rw': 8795, 'rrbc': 8796, 'hermitage': 8797, 'chriscesq': 8798, 'voter': 8799, 'circus': 8800, 'stl': 8801, 'ace': 8802, 'grille': 8803, 'mounts': 8804, 'speedtech': 8805, 'amber': 8806, 'gemmahentsch': 8807, 'megynkelly': 8808, 'dloesch': 8809, 'envision': 8810, 'placing': 8811, 'adoption': 8812, 'lancasteronline': 8813, 'beard': 8814, 'any': 8815, 'prison': 8816, 'hideous': 8817, 'uglypeople': 8818, 'vuln': 8819, 'kg': 8820, 'vaal': 8821, 'lmaov': 8822, 'trend': 8823, 'babalmao': 8824, 'nyozi': 8825, 'kwaaaaa': 8826, 'heals': 8827, 'stays': 8828, 'tianta': 8829, 'athens': 8830, 'sioux': 8831, 'silo': 8832, 'titortau': 8833, 'loretta': 8834, 'lynch': 8835, 'fuckin': 8836, 'larious': 8837, 'checking': 8838, 'ombudsmanship': 8839, 'firenews': 8840, 'mofo': 8841, 'unarmed': 8842, 'gunned': 8843, 'worseits': 8844, 'asses': 8845, 'kca': 8846, 'votejkt': 8847, 'housed': 8848, 'osborn': 8849, 'extinguished': 8850, 'snapchat': 8851, 'fvck': 8852, 'ekiti': 8853, 'distributed': 8854, 'ode': 8855, 'gbonyin': 8856, 'lga': 8857, 'bicycles': 8858, 'fences': 8859, 'idiots': 8860, 'swollen': 8861, 'rivers': 8862, 'booktubeathon': 8863, 'paved': 8864, 'pennies': 8865, 'ferry': 8866, 'lemairelee': 8867, 'danharmon': 8868, 'comics': 8869, 'nights': 8870, 'representative': 8871, 'sample': 8872, 'blasting': 8873, 'benediction': 8874, 'sanelesstheory': 8875, 'vai': 8876, 'vir': 8877, 'pra': 8878, 'circle': 8879, 'jumps': 8880, 'cliffs': 8881, 'premonitions': 8882, 'booty': 8883, 'xv': 8884, 'scraped': 8885, 'chazifornia': 8886, 'salute': 8887, 'frog': 8888, 'sm': 8889, 'mentioned': 8890, 'reporting': 8891, 'thedailyshow': 8892, 'mahalo': 8893, 'nui': 8894, 'loa': 8895, 'jonvoyage': 8896, 'holomua': 8897, 'shadowman': 8898, 'monstrosities': 8899, 'annapolis': 8900, 'administrative': 8901, 'modelbubbles': 8902, 'amdollela': 8903, 'kulli': 8904, 'aal': 8905, 'shawie': 8906, 'duh': 8907, 'carmike': 8908, 'cinemas': 8909, 'shark': 8910, 'adamtuss': 8911, 'wheel': 8912, 'climbing': 8913, 'vern': 8914, 'sq': 8915, 'starring': 8916, 'elderly': 8917, 'companionship': 8918, 'chestertweetsuk': 8919, 'kissed': 8920, 'cracks': 8921, 'pour': 8922, 'swmo': 8923, 'strongly': 8924, 'suckers': 8925, 'plotted': 8926, 'vibrator': 8927, 'vape': 8928, 'busted': 8929, 'charlottetown': 8930, 'integrates': 8931, 'format': 8932, 'interval': 8933, 'shaping': 8934, 'techniqu': 8935, 'rockville': 8936, 'glaucoma': 8937, 'occurs': 8938, 'builds': 8939, 'nerve': 8940, 'eyefacts': 8941, 'restore': 8942, 'siding': 8943, 'darnley': 8944, 'prince': 8945, 'decorating': 8946, 'rec': 8947, 'proceeds': 8948, 'iwk': 8949, 'belongs': 8950, 'cabin': 8951, 'fever': 8952, 'fail': 8953, 'immensely': 8954, 'senseless': 8955, 'nonsense': 8956, 'beacon': 8957, 'dacherryontop': 8958, 'ohh': 8959, 'swimming': 8960, 'planes': 8961, 'grandad': 8962, 'mc': 8963, 'impressed': 8964, 'arsonistmusic': 8965, 'cascadia': 8966, 'kathrynschulz': 8967, 'amirite': 8968, 'antigua': 8969, 'ngapain': 8970, 'bitten': 8971, 'mutant': 8972, 'mosquito': 8973, 'acebabes': 8974, 'healthweekly': 8975, 'amateurnester': 8976, 'elijah': 8977, 'walker': 8978, 'obsolete': 8979, 'engvaus': 8980, 'warszawa': 8981, 'ashdod': 8982, 'emittin': 8983, 'dannyonpc': 8984, 'hardline': 8985, 'throwingknifes': 8986, 'defendbutera': 8987, 'calfreedommom': 8988, 'steph': 8989, 'contributor': 8990, 'murderous': 8991, 'sorrower': 8992, 'activates': 8993, 'approach': 8994, 'deflategate': 8995, 'perfectly': 8996, 'incremental': 8997, 'bored': 8998, 'caring': 8999, 'jwalkerlyle': 9000, 'nickcannon': 9001, 'realmandyrain': 9002, 'itunesmusic': 9003, 'blowmandyup': 9004, 'horno': 9005, 'elkhorn': 9006, 'walerga': 9007, 'tiggr': 9008, 'heyitsepark': 9009, 'facts': 9010, 'looooool': 9011, 'musicians': 9012, 'oppose': 9013, 'pepper': 9014, 'spray': 9015, 'fake': 9016, 'violations': 9017, 'chattanooga': 9018, 'conditions': 9019, 'ihhen': 9020, 'msf': 9021, 'papicongress': 9022, 'journo': 9023, 'pragnik': 9024, 'argues': 9025, 'pelosi': 9026, 'kiev': 9027, 'visible': 9028, 'steep': 9029, 'terrain': 9030, 'dmac': 9031, 'reddish': 9032, 'colored': 9033, 'dummies': 9034, 'pronouncing': 9035, 'wolverine': 9036, 'somebody': 9037, 'needed': 9038, 'politifiact': 9039, 'harry': 9040, 'reid': 9041, 'served': 9042, 'pants': 9043, 'tcot': 9044, 'witness': 9045, 'mikecroninwmur': 9046, 'bradleybrad': 9047, 'bokaro': 9048, 'steel': 9049, 'jharkhand': 9050, 'kakajambori': 9051, 'maintenance': 9052, 'distinct': 9053, 'rotation': 9054, 'condenses': 9055, 'villa': 9056, 'mcv': 9057, 'thr': 9058, 'thrarchives': 9059, 'mgm': 9060, 'tbt': 9061, 'shoutout': 9062, 'claiming': 9063, 'banthebomb': 9064, 'marker': 9065, 'tozlet': 9066, 'leprosy': 9067, 'jerkface': 9068, 'syndrome': 9069, 'lateral': 9070, 'lisp': 9071, 'rickets': 9072, 'web': 9073, 'liveonstreamate': 9074, 'grant': 9075, 'grants': 9076, 'weymouth': 9077, 'seawalls': 9078, 'denton': 9079, 'gettin': 9080, 'bowling': 9081, 'redondo': 9082, 'sockets': 9083, 'pleasanton': 9084, 'prompts': 9085, 'recall': 9086, 'kraft': 9087, 'singles': 9088, 'website': 9089, 'liberty': 9090, 'reds': 9091, 'lightly': 9092, 'reserved': 9093, 'halton': 9094, 'preventative': 9095, 'cabling': 9096, 'bracing': 9097, 'cts': 9098, 'cebu': 9099, 'philippi': 9100, 'fbi': 9101, 'honduran': 9102, 'minors': 9103, 'hoop': 9104, 'judge': 9105, 'dis': 9106, 'dump': 9107, 'lordrsbiscuits': 9108, 'blackpool': 9109, 'scmp': 9110, 'kgb': 9111, 'cossack': 9112, 'ushanka': 9113, 'ripped': 9114, 'hole': 9115, 'eytay': 9116, 'neur': 9117, 'smug': 9118, 'dorret': 9119, 'gateau': 9120, 'ziam': 9121, 'tattoos': 9122, 'respect': 9123, 'amarillo': 9124, 'nyt': 9125, 'tayiorrmade': 9126, 'megatronafc': 9127, 'ankles': 9128, 'regardless': 9129, 'compete': 9130, 'badges': 9131, 'knowledge': 9132, 'foolish': 9133, 'wisdom': 9134, 'teaching': 9135, 'amsal': 9136, 'crowdtappers': 9137, 'joinvroom': 9138, 'elsa': 9139, 'anna': 9140, 'ohhhh': 9141, 'tangletalk': 9142, 'committee': 9143, 'osage': 9144, 'tacoma': 9145, 'firemen': 9146, 'firetruck': 9147, 'summertime': 9148, 'ellenfromnowon': 9149, 'speed': 9150, 'nexus': 9151, 'shifter': 9152, 'disillusioned': 9153, 'crowe': 9154, 'tropes': 9155, 'intact': 9156, 'kinesiology': 9157, 'ironman': 9158, 'lasting': 9159, 'durability': 9160, 'effectiveness': 9161, 'seas': 9162, 'giannis': 9163, 'submerged': 9164, 'reef': 9165, 'audacityjamesta': 9166, 'babes': 9167, 'lan': 9168, 'shady': 9169, 'hyenatown': 9170, 'justus': 9171, 'corn': 9172, 'flakes': 9173, 'wate': 9174, 'circular': 9175, 'ruins': 9176, 'codemew': 9177, 'mil': 9178, 'credits': 9179, 'odds': 9180, 'auburn': 9181, 'ton': 9182, 'trucks': 9183, 'scene': 9184, 'jmcwrites': 9185, 'pitchwars': 9186, 'realism': 9187, 'diff': 9188, 'senior': 9189, 'bulletproof': 9190, 'funeral': 9191, 'curtain': 9192, 'becarefulharry': 9193, 'crobscarla': 9194, 'lifetime': 9195, 'bryansinger': 9196, 'rupaul': 9197, 'alexshipppp': 9198, 'attend': 9199, 'rally': 9200, 'organized': 9201, 'protesting': 9202, 'jasoncundy': 9203, 'utd': 9204, 'pedro': 9205, 'mill': 9206, 'snake': 9207, 'yonews': 9208, 'lowndes': 9209, 'exposure': 9210, 'broadcast': 9211, 'otherwise': 9212, 'quot': 9213, 'television': 9214, 'operations': 9215, 'superv': 9216, 'fgcu': 9217, 'quarrel': 9218, 'rjkrraj': 9219, 'karnakarank': 9220, 'vimvith': 9221, 'wud': 9222, 'thalapathi': 9223, 'turner': 9224, 'fenton': 9225, 'particularly': 9226, 'taraswart': 9227, 'vivian': 9228, 'giang': 9229, 'ianokavo': 9230, 'hogsmeade': 9231, 'alger': 9232, 'algeria': 9233, 'jade': 9234, 'gaffney': 9235, 'dorrian': 9236, 'harms': 9237, 'guardrails': 9238, 'starts': 9239, 'johannesburg': 9240, 'achieve': 9241, 'excellence': 9242, 'develop': 9243, 'habit': 9244, 'author': 9245, 'enterprise': 9246, 'identitytheft': 9247, 'taxreturn': 9248, 'cleaning': 9249, 'cri': 9250, 'realhotcullen': 9251, 'lyrium': 9252, 'sacae': 9253, 'peacetime': 9254, 'streaming': 9255, 'garowe': 9256, 'puntland': 9257, 'bah': 9258, 'gear': 9259, 'autumn': 9260, 'winter': 9261, 'menswear': 9262, 'urbanfashion': 9263, 'melrises': 9264, 'gayler': 9265, 'wwwbigbaldhead': 9266, 'jessienojoke': 9267, 'melissaross': 9268, 'monty': 9269, 'python': 9270, 'stiiilo': 9271, 'aogashima': 9272, 'photography': 9273, 'gross': 9274, 'lighting': 9275, 'blowers': 9276, 'tuffers': 9277, 'aussie': 9278, 'batting': 9279, 'bbctms': 9280, 'kevinedwardsjr': 9281, 'rays': 9282, 'mkx': 9283, 'albeit': 9284, 'unsuccessful': 9285, 'tens': 9286, 'mackinnon': 9287, 'inbounds': 9288, 'bounds': 9289, 'nats': 9290, 'nl': 9291, 'anywehere': 9292, 'drinks': 9293, 'aliveafter': 9294, 'icy': 9295, 'rum': 9296, 'thisdayinhistory': 9297, 'confederate': 9298, 'montetjwitter': 9299, 'nolesfan': 9300, 'nutsandboltssp': 9301, 'concern': 9302, 'restive': 9303, 'northwest': 9304, 'nother': 9305, 'amateur': 9306, 'actress': 9307, 'reprises': 9308, 'role': 9309, 'horrormovies': 9310, 'marches': 9311, 'doylech': 9312, 'persecution': 9313, 'wonderousallure': 9314, 'tipperary': 9315, 'sweetpea': 9316, 'allotment': 9317, 'brightening': 9318, 'rainy': 9319, 'newberg': 9320, 'jacque': 9321, 'betz': 9322, 'orcot': 9323, 'orpol': 9324, 'foxdebatequestions': 9325, 'institute': 9326, 'sharia': 9327, 'nsfw': 9328, 'milf': 9329, 'oiled': 9330, 'closeup': 9331, 'summit': 9332, 'acaciapenn': 9333, 'shidddd': 9334, 'manitou': 9335, 'spirits': 9336, 'orders': 9337, 'mma': 9338, 'noted': 9339, 'presume': 9340, 'soggy': 9341, 'lashings': 9342, 'moist': 9343, 'thread': 9344, 'frautrapani': 9345, 'flow': 9346, 'rar': 9347, 'dissonance': 9348, 'soonergrunt': 9349, 'tons': 9350, 'telemarketing': 9351, 'maatmhi': 9352, 'barry': 9353, 'solo': 9354, 'generally': 9355, 'pea': 9356, 'hamont': 9357, 'edwin': 9358, 'chick': 9359, 'masturbates': 9360, 'largo': 9361, 'controlled': 9362, 'passive': 9363, 'aggressively': 9364, 'coerced': 9365, 'commitment': 9366, 'bhopal': 9367, 'michaelwestbiz': 9368, 'particulate': 9369, 'solid': 9370, 'fossil': 9371, 'voltaic': 9372, 'voc': 9373, 'petroleum': 9374, 'bacteria': 9375, 'decomposition': 9376, 'surgical': 9377, 'healed': 9378, 'jeannathomas': 9379, 'bit': 9380, 'vic': 9381, 'hardy': 9382, 'freeman': 9383, 'practicing': 9384, 'wale': 9385, 'bldrcosheriff': 9386, 'younger': 9387, 'cbsdenver': 9388, 'misfitrarity': 9389, 'misfit': 9390, 'assured': 9391, 'crowd': 9392, 'investigated': 9393, 'overload': 9394, 'context': 9395, 'structure': 9396, 'treating': 9397, 'patient': 9398, 'thestrain': 9399, 'hooters': 9400, 'peachtree': 9401, 'midget': 9402, 'overhead': 9403, 'oakridge': 9404, 'sw': 9405, 'melt': 9406, 'zimbabwe': 9407, 'samaritans': 9408, 'twimbos': 9409, 'zimpapersviews': 9410, 'modern': 9411, 'lizz': 9412, 'untameddirewolf': 9413, 'sansa': 9414, 'shook': 9415, 'blinked': 9416, 'mgn': 9417, 'wizkidayo': 9418, 'meganbee': 9419, 'kadiegrr': 9420, 'tyler': 9421, 'blackburns': 9422, 'pll': 9423, 'ushiocomics': 9424, 'submitting': 9425, 'form': 9426, 'generational': 9427, 'schism': 9428, 'privacy': 9429, 'peekskill': 9430, 'beet': 9431, 'lively': 9432, 'ttw': 9433, 'towers': 9434, 'fotofill': 9435, 'gorgeous': 9436, 'gazette': 9437, 'homemade': 9438, 'frozen': 9439, 'yogurt': 9440, 'pops': 9441, 'luck': 9442, 'zak': 9443, 'bagans': 9444, 'sabrina': 9445, 'cage': 9446, 'pagasa': 9447, 'panay': 9448, 'guimaras': 9449, 'landslides': 9450, 'mountainous': 9451, 'trivium': 9452, 'rrusa': 9453, 'nasa': 9454, 'erker': 9455, 'eep': 9456, 'universityoflaw': 9457, 'freakiest': 9458, 'indi': 9459, 'indiannews': 9460, 'kierannicholson': 9461, 'gmtty': 9462, 'mhtw': 9463, 'fnet': 9464, 'router': 9465, 'ddos': 9466, 'gaming': 9467, 'thursd': 9468, 'nanaimo': 9469, 'hakogaku': 9470, 'born': 9471, 'raised': 9472, 'maddzz': 9473, 'babby': 9474, 'turning': 9475, 'bricks': 9476, 'crazyideascollege': 9477, 'mclean': 9478, 'pinto': 9479, 'orpik': 9480, 'ambulances': 9481, 'lorry': 9482, 'emsne': 9483, 'fsc': 9484, 'emilee': 9485, 'indexing': 9486, 'remedial': 9487, 'angioplasty': 9488, 'dissertation': 9489, 'elite': 9490, 'hospitals': 9491, 'dismayed': 9492, 'jimmyfallon': 9493, 'wearethenews': 9494, 'cosponsor': 9495, 'renew': 9496, 'akcsl': 9497, 'venture': 9498, 'suitable': 9499, 'jariana': 9500, 'justinbieber': 9501, 'emily': 9502, 'helen': 9503, 'shelley': 9504, 'attjcdemos': 9505, 'folieacat': 9506, 'timebomb': 9507, 'destined': 9508, 'teamvodg': 9509, 'atcha': 9510, 'golfball': 9511, 'parkchat': 9512, 'unsuckdcmetro': 9513, 'interlocking': 9514, 'crashes': 9515, 'barrier': 9516, 't': 9517, 'padded': 9518, 'speaker': 9519, 'qty': 9520, 'shadows': 9521, 'disappearance': 9522, 'novel': 9523, 'minimehh': 9524, 'cjoyner': 9525, 'overlooking': 9526, 'blacklivesmatter': 9527, 'lahore': 9528, 'profile': 9529, 'lamha': 9530, 'ba': 9531, 'icc': 9532, 'realckt': 9533, 'stung': 9534, 'stepped': 9535, 'dna': 9536, 'hebrooon': 9537, 'derivative': 9538, 'formula': 9539, 'sousse': 9540, 'tunis': 9541, 'invited': 9542, 'feelin': 9543, 'joelsherman': 9544, 'dw': 9545, 'chipper': 9546, 'sprinklers': 9547, 'faq': 9548, 'lawn': 9549, 'answered': 9550, 'ebb': 9551, 'carr': 9552, 'twoptwips': 9553, 'adding': 9554, 'headlines': 9555, 'sifting': 9556, 'generalnews': 9557, 'paying': 9558, 'influencers': 9559, 'socialtimes': 9560, 'kemal': 9561, 'atlay': 9562, 'roleplay': 9563, 'jasonpope': 9564, 'johnfugelsang': 9565, 'referring': 9566, 'ruled': 9567, 'dictator': 9568, 'nghlth': 9569, 'envyseven': 9570, 'aquarius': 9571, 'queenmy': 9572, 'pretenses': 9573, 'overtures': 9574, 'sing': 9575, 'phantom': 9576, 'songfor': 9577, 'cute': 9578, 'cams': 9579, 'graduated': 9580, 'williams': 9581, 'outcomes': 9582, 'term': 9583, 'metastatic': 9584, 'colorectal': 9585, 'surgery': 9586, 'shadowflame': 9587, 'wraith': 9588, 'angles': 9589, 'hometownglory': 9590, 'disappear': 9591, 'atmospheric': 9592, 'newz': 9593, 'mzmandilynn': 9594, 'inmates': 9595, 'remand': 9596, 'pez': 9597, 'sophia': 9598, 'freyas': 9599, 'houma': 9600, 'womem': 9601, 'mommyisbomb': 9602, 'unrelenting': 9603, 'salisbury': 9604, 'cypress': 9605, 'afk': 9606, 'johanfranzen': 9607, 'orchs': 9608, 'frontlines': 9609, 'tyrant': 9610, 'reopen': 9611, 'jmastrodonato': 9612, 'ortiz': 9613, 'bunting': 9614, 'forefathers': 9615, 'boards': 9616, 'display': 9617, 'gopdebate': 9618, 'independence': 9619, 'rowyso': 9620, 'setlist': 9621, 'craig': 9622, 'brics': 9623, 'jupiter': 9624, 'usnwsgov': 9625, 'prehistoric': 9626, 'theatres': 9627, 'authentic': 9628, 'pochette': 9629, 'bosphore': 9630, 'playstation': 9631, 'retro': 9632, 'platinum': 9633, 'terlingua': 9634, 'climatechange': 9635, 'anarchy': 9636, 'shores': 9637, 'kilby': 9638, 'padres': 9639, 'fiasco': 9640, 'jennife': 9641, 'peeked': 9642, 'immune': 9643, 'deafening': 9644, 'hermancranston': 9645, 'atk': 9646, 'letsfootball': 9647, 'outbid': 9648, 'catlow': 9649, 'swivels': 9650, 'shar': 9651, 'pizzas': 9652, 'thisispublichealth': 9653, 'argent': 9654, 'mohammed': 9655, 'yobe': 9656, 'damaturu': 9657, 'meerkat': 9658, 'periscope': 9659, 'scotts': 9660, 'economies': 9661, 'coping': 9662, 'nola': 9663, 'reiterate': 9664, 'mindset': 9665, 'individual': 9666, 'legion': 9667, 'chapel': 9668, 'undone': 9669, 'adverse': 9670, 'gotriangle': 9671, 'purfleet': 9672, 'whereas': 9673, 'jez': 9674, 'printing': 9675, 'genius': 9676, 'clvlnd': 9677, 'testicles': 9678, 'surprises': 9679, 'rand': 9680, 'jesse': 9681, 'suffers': 9682, 'gym': 9683, 'waldo': 9684, 'cooperstown': 9685, 'joestrong': 9686, 'gokitgo': 9687, 'whose': 9688, 'drako': 9689, 'zarharzar': 9690, 'guillermo': 9691, 'noaa': 9692, 'looping': 9693, 'hazards': 9694, 'recovery': 9695, 'recommend': 9696, 'hashtags': 9697, 'reads': 9698, 'wicdiv': 9699, 'tangled': 9700, 'marked': 9701, 'ratings': 9702, 'categories': 9703, 'defined': 9704, 'navigating': 9705, 'prayforsaipan': 9706, 'enniscrone': 9707, 'aughris': 9708, 'epa': 9709, 'toxic': 9710, 'tyrone': 9711, 'tastes': 9712, 'paulhollywood': 9713, 'frequent': 9714, 'midtown': 9715, 'cn': 9716, 'modnao': 9717, 'ruining': 9718, 'migraine': 9719, 'slytherin': 9720, 'lapse': 9721, 'islamophobe': 9722, 'vegetarian': 9723, 'vegan': 9724, 'torching': 9725, 'popular': 9726, 'bk': 9727, 'restaurant': 9728, 'strictly': 9729, 'govegan': 9730, 'uniteblue': 9731, 'robpulsenews': 9732, 'huyovoetripolye': 9733, 'phillips': 9734, 'assisting': 9735, 'ldnr': 9736, 'neverland': 9737, 'pace': 9738, 'nike': 9739, 'sportwatch': 9740, 'gps': 9741, 'nikeplus': 9742, 'toosoon': 9743, 'fraction': 9744, 'econom': 9745, 'candy': 9746, 'illogical': 9747, 'opa': 9748, 'locka': 9749, 'osama': 9750, 'ironic': 9751, 'mhmmm': 9752, 'galveston': 9753, 'sixth': 9754, 'premium': 9755, 'galvnews': 9756, 'standwithpp': 9757, 'sidjsjdjekdjskdjd': 9758, 'session': 9759, 'testimony': 9760, 'examiner': 9761, 'discussing': 9762, 'aracaju': 9763, 'sergipe': 9764, 'njturnpike': 9765, 'reopens': 9766, 'cryptic': 9767, 'guided': 9768, 'squabble': 9769, 'immigration': 9770, 'eurotunnel': 9771, 'mm': 9772, 'dartmouth': 9773, 'yewa': 9774, 'overcome': 9775, 'behold': 9776, 'tcc': 9777, 'endless': 9778, 'atleast': 9779, 'selfies': 9780, 'jubail': 9781, 'ic': 9782, 'basildudin': 9783, 'barbaric': 9784, 'saudies': 9785, 'austrian': 9786, 'meditationbymsg': 9787, 'meditation': 9788, 'divine': 9789, 'blessing': 9790, 'authorities': 9791, 'allay': 9792, 'glanders': 9793, 'equestrian': 9794, 'horsetalknz': 9795, 'solitude': 9796, 'summary': 9797, 'utfire': 9798, 'cope': 9799, 'resilience': 9800, 'factsheet': 9801, 'van': 9802, 'buren': 9803, 'bathtub': 9804, 'bett': 9805, 'smoak': 9806, 'pointing': 9807, 'resident': 9808, 'usama': 9809, 'ladins': 9810, 'naturally': 9811, 'quest': 9812, 'murlo': 9813, 'android': 9814, 'tribez': 9815, 'androidgames': 9816, 'gameinsight': 9817, 'odawara': 9818, 'okinawan': 9819, 'fetch': 9820, 'pyjamas': 9821, 'demco': 9822, 'hitch': 9823, 'ultra': 9824, 'pivot': 9825, 'uhc': 9826, 'creeper': 9827, 'uninvestigated': 9828, 'incite': 9829, 'thetwister': 9830, 'maddie': 9831, 'tae': 9832, 'oktxduo': 9833, 'motha': 9834, 'lucysforsale': 9835, 'dumb': 9836, 'leagues': 9837, 'brrookkllyynnr': 9838, 'mithitennis': 9839, 'crackedgem': 9840, 'ride': 9841, 'riddler': 9842, 'presidential': 9843, 'wannabe': 9844, 'rich': 9845, 'iafflocal': 9846, 'protecting': 9847, 'tj': 9848, 'robertson': 9849, 'strawberries': 9850, 'bez': 9851, 'bangin': 9852, 'sty': 9853, 'rochdale': 9854, 'heywood': 9855, 'cramming': 9856, 'cspan': 9857, 'maker': 9858, 'stomach': 9859, 'terms': 9860, 'traditional': 9861, 'azure': 9862, 'cloud': 9863, 'seismicsoftware': 9864, 'channel': 9865, 'sales': 9866, 'enablement': 9867, 'ljubljana': 9868, 'slovenia': 9869, 'japanjapan': 9870, 'inferior': 9871, 'anonymous': 9872, 'baan': 9873, 'thai': 9874, 'sushi': 9875, 'jetixrestored': 9876, 'teamo': 9877, 'supremo': 9878, 'pogo': 9879, 'pardon': 9880, 'mindless': 9881, 'niqqa': 9882, 'judgement': 9883, 'mpc': 9884, 'opposite': 9885, 'comunidad': 9886, 'esn': 9887, 'cilla': 9888, 'stroke': 9889, 'idols': 9890, 'wdym': 9891, 'bridport': 9892, 'roman': 9893, 'buena': 9894, 'nora': 9895, 'coursing': 9896, 'weyrey': 9897, 'gidi': 9898, 'ukfloods': 9899, 'trekkers': 9900, 'himalayas': 9901, 'realistic': 9902, 'assets': 9903, 'entering': 9904, 'koz': 9905, 'meinlcymbals': 9906, 'medium': 9907, 'endorsement': 9908, 'savioursquad': 9909, 'watches': 9910, 'duststormfilm': 9911, 'flunkie': 9912, 'crowns': 9913, 'champions': 9914, 'championsblackfoot': 9915, 'christiana': 9916, 'vgbootcamp': 9917, 'sn': 9918, 'vabengal': 9919, 'zss': 9920, 'sws': 9921, 'radios': 9922, 'stoponesounds': 9923, 'airwaves': 9924, 'fm': 9925, 'stickynyc': 9926, 'roots': 9927, 'cdc': 9928, 'extensive': 9929, 'handling': 9930, 'balvanera': 9931, 'afterwards': 9932, 'savour': 9933, 'prolong': 9934, 'intensity': 9935, 'sigue': 9936, 'sara': 9937, 'misguided': 9938, 'prophets': 9939, 'imprison': 9940, 'fueling': 9941, 'disturb': 9942, 'kiddie': 9943, 'ploppy': 9944, 'bakersfield': 9945, 'kern': 9946, 'mornings': 9947, 'airing': 9948, 'kbak': 9949, 'liveonkbak': 9950, 'envw': 9951, 'nickcocofree': 9952, 'juliedicaro': 9953, 'jdabe': 9954, 'julie': 9955, 'frail': 9956, 'despite': 9957, 'fantasticfour': 9958, 'cuana': 9959, 'minded': 9960, 'reince': 9961, 'presssec': 9962, 'assholes': 9963, 'magnets': 9964, 'woods': 9965, 'yep': 9966, 'freemarketeer': 9967, 'dibang': 9968, 'mdash': 9969, 'bronville': 9970, 'janta': 9971, 'firstpostin': 9972, 'badotweet': 9973, 'beef': 9974, 'ministers': 9975, 'fennovoima': 9976, 'breakingnews': 9977, 'aaronthefm': 9978, 'drums': 9979, 'janice': 9980, 'silverstar': 9981, 'romero': 9982, 'cared': 9983, 'nia': 9984, 'quizzed': 9985, 'denies': 9986, 'elections': 9987, 'achedin': 9988, 'rubybot': 9989, 'modiministry': 9990, 'rossum': 9991, 'difficultpeople': 9992, 'damidnighter': 9993, 'magisters': 9994, 'arent': 9995, 'inspection': 9996, 'kenai': 9997, 'spur': 9998, 'cw': 9999, 'dealing': 10000, 'mf': 10001, 'lyrical': 10002, 'vocalist': 10003, 'themale': 10004, 'madonna': 10005, 'melanie': 10006, 'fiona': 10007, 'slept': 10008, 'lonelyness': 10009, 'strange': 10010, 'silas': 10011, 'sliced': 10012, 'headlinelike': 10013, 'chopped': 10014, 'cabbage': 10015, 'gh': 10016, 'sanganer': 10017, 'rahulkanwal': 10018, 'soft': 10019, 'rhodeisland': 10020, 'absurdly': 10021, 'manhood': 10022, 'drob': 10023, 'chair': 10024, 'rohnertparkdps': 10025, 'goofballs': 10026, 'pd': 10027, 'wwa': 10028, 'auckland': 10029, 'unsure': 10030, 'paging': 10031, 'hagerstown': 10032, 'your': 10033, 'whag': 10034, 'filmed': 10035, 'lifting': 10036, 'chrisdanielshow': 10037, 'pee': 10038, 'jogja': 10039, 'excellent': 10040, 'sega': 10041, 'wctv': 10042, 'amageddon': 10043, 'freespeech': 10044, 'baydestrian': 10045, 'suddenly': 10046, 'gloomy': 10047, 'shakes': 10048, 'misery': 10049, 'gazans': 10050, 'presstv': 10051, 'hrips': 10052, 'corpse': 10053, 'jittering': 10054, 'otp': 10055, 'grandma': 10056, 'ssshhheeesshh': 10057, 'busey': 10058, 'dixie': 10059, 'fiddle': 10060, 'celebration': 10061, 'sequence': 10062, 'chasing': 10063, 'jass': 10064, 'jusstdoitgirl': 10065, 'wbu': 10066, 'homie': 10067, 'chairs': 10068, 'emmy': 10069, 'iit': 10070, 'logically': 10071, 'sanction': 10072, 'sneaking': 10073, 'glances': 10074, 'thancred': 10075, 'mogacola': 10076, 'zamtriossu': 10077, 'banditregina': 10078, 'caroline': 10079, 'bigsby': 10080, 'supermarket': 10081, 'elkhart': 10082, 'appointment': 10083, 'lolo': 10084, 'rafael': 10085, 'castillo': 10086, 'rcmp': 10087, 'tch': 10088, 'whitbourne': 10089, 'anger': 10090, 'mideast': 10091, 'ncms': 10092, 'thundering': 10093, 'picthis': 10094, 'amazingness': 10095, 'finall': 10096, 'thetimepast': 10097, 'saalon': 10098, 'resolved': 10099, 'fricken': 10100, 'reflections': 10101, 'forms': 10102, 'delusion': 10103, 'seeking': 10104, 'pity': 10105, 'humanityi': 10106, 'apologized': 10107, 'nuclearweapons': 10108, 'leicester': 10109, 'icymi': 10110, 'miranda': 10111, 'kinkyconnors': 10112, 'tooth': 10113, 'absecon': 10114, 'kaumelite': 10115, 'vor': 10116, 'smofc': 10117, 'byuwnbeki': 10118, 'tacit': 10119, 'raging': 10120, 'punpunl': 10121, 'ndia': 10122, 'lobo': 10123, 'paranoico': 10124, 'golborne': 10125, 'businessman': 10126, 'condos': 10127, 'foiled': 10128, 'troupe': 10129, 'multi': 10130, 'racial': 10131, 'breakdancers': 10132, 'illegally': 10133, 'imported': 10134, 'tcgreno': 10135, 'reset': 10136, 'transporting': 10137, 'hannover': 10138, 'cpr': 10139, 'panama': 10140, 'athlete': 10141, 'devil': 10142, 'vergil': 10143, 'agnus': 10144, 'dmd': 10145, 'leedstraif': 10146, 'budapest': 10147, 'hungary': 10148, 'describing': 10149, 'technologies': 10150, 'sexuality': 10151, 'diagnosis': 10152, 'digitalhealth': 10153, 'hcsm': 10154, 'collar': 10155, 'cody': 10156, 'crawling': 10157, 'hea': 10158, 'mercury': 10159, 'quarter': 10160, 'trim': 10161, 'moulding': 10162, 'cobra': 10163, 'cj': 10164, 'wings': 10165, 'freegucci': 10166, 'texting': 10167, 'greensburg': 10168, 'lilithsaintcrow': 10169, 'evil': 10170, 'piano': 10171, 'yelllowheather': 10172, 'undeserving': 10173, 'thirsty': 10174, 'aids': 10175, 'grown': 10176, 'sunnyvale': 10177, 'bentossell': 10178, 'producthunt': 10179, 'newbeginningsanimalrescue': 10180, 'llf': 10181, 'fez': 10182, 'heavyweight': 10183, 'rapping': 10184, 'lemon': 10185, 'lolla': 10186, 'structuring': 10187, 'edcxo': 10188, 'burrow': 10189, 'dorette': 10190, 'thats': 10191, 'campers': 10192, 'blazes': 10193, 'teamatowinner': 10194, 'mino': 10195, 'aussies': 10196, 'thetshirtkid': 10197, 'hfxstanfield': 10198, 'beelievedc': 10199, 'discoverycntr': 10200, 'contractor': 10201, 'danville': 10202, 'snowflake': 10203, 'boulder': 10204, 'greenharvard': 10205, 'documenting': 10206, 'ford': 10207, 'drives': 10208, 'bahstun': 10209, 'porta': 10210, 'reeko': 10211, 'papi': 10212, 'fleek': 10213, 'netflix': 10214, 'bhavana': 10215, 'advance': 10216, 'wqow': 10217, 'appraisal': 10218, 'hugomatz': 10219, 'bubblycuteone': 10220, 'okayyyyyy': 10221, 'corey': 10222, 'brewer': 10223, 'azimel': 10224, 'scientist': 10225, 'deceased': 10226, 'tumbling': 10227, 'investigation': 10228, 'lovemywife': 10229, 'shedid': 10230, 'washard': 10231, 'stopping': 10232, 'me': 10233, 'sews': 10234, 'relaxinpr': 10235, 'miprv': 10236, 'latimes': 10237, 'shedding': 10238, 'escondido': 10239, 'mcdonald': 10240, 'coolest': 10241, 'hawthorne': 10242, 'pledged': 10243, 'seek': 10244, 'frightening': 10245, 'somehow': 10246, 'letting': 10247, 'micom': 10248, 'contrast': 10249, 'bowknot': 10250, 'womengirls': 10251, 'zip': 10252, 'po': 10253, 'kate': 10254, 'infp': 10255, 'minsuwoongs': 10256, 'understand': 10257, 'rotations': 10258, 'leaning': 10259, 'learni': 10260, 'mentality': 10261, 'nearest': 10262, 'photogenic': 10263, 'gosh': 10264, 'iminchina': 10265, 'portable': 10266, 'closet': 10267, 'ebooks': 10268, 'medieval': 10269, 'files': 10270, 'dixon': 10271, 'aladdin': 10272, 'teacher': 10273, 'tootrue': 10274, 'gabriel': 10275, 'afraid': 10276, 'sudden': 10277, 'cometh': 10278, 'shore': 10279, 'wailuku': 10280, 'maui': 10281, 'cervix': 10282, 'odell': 10283, 'definitely': 10284, 'scotto': 10285, 'believing': 10286, 'awake': 10287, 'cove': 10288, 'standing': 10289, 'hardball': 10290, 'heyot': 10291, 'ore': 10292, 'ordered': 10293, 'koin': 10294, 'mourns': 10295, 'superhero': 10296, 'epilepsy': 10297, 'bradley': 10298, 'diebold': 10299, 'epileptic': 10300, 'standardized': 10301, 'tests': 10302, 'parentsacrossam': 10303, 'billgates': 10304, 'wishing': 10305, 'equally': 10306, 'incapable': 10307, 'nothingness': 10308, 'emerges': 10309, 'blaise': 10310, 'pascal': 10311, 'asbury': 10312, 'asburyparkpress': 10313, 'lifeguard': 10314, 'positively': 10315, 'inning': 10316, 'preacher': 10317, 'faces': 10318, 'quincy': 10319, 'khqa': 10320, 'simmering': 10321, 'nhl': 10322, 'concussion': 10323, 'pioneerpress': 10324, 'flushing': 10325, 'warthen': 10326, 'midst': 10327, 'bullpen': 10328, 'bubble': 10329, 'cardiff': 10330, 'benaffleck': 10331, 'respected': 10332, 'talent': 10333, 'stil': 10334, 'restricted': 10335, 'demonstratio': 10336, 'currency': 10337, 'transgress': 10338, 'ward': 10339, 'fund': 10340, 'payment': 10341, 'unsecured': 10342, 'jbumzqpk': 10343, 'praiz': 10344, 'shite': 10345, 'plez': 10346, 'spare': 10347, 'oom': 10348, 'suing': 10349, 'blizzheroes': 10350, 'dustinbrowder': 10351, 'constantly': 10352, 'distraction': 10353, 'yuppies': 10354, 'tourists': 10355, 'layer': 10356, 'tryouts': 10357, 'minus': 10358, 'toenail': 10359, 'nus': 10360, 'brokenscnecal': 10361, 'lasvegaslocally': 10362, 'vitalvegas': 10363, 'reined': 10364, 'stool': 10365, 'najib': 10366, 'razak': 10367, 'isla': 10368, 'yrs': 10369, 'iamhorsefly': 10370, 'hide': 10371, 'grtvnews': 10372, 'scottwalker': 10373, 'inroices': 10374, 'preserve': 10375, 'ajw': 10376, 'jishin': 10377, 'minamisoma': 10378, 'hsu': 10379, 'hao': 10380, 'paname': 10381, 'boundaries': 10382, 'unconsciously': 10383, 'negative': 10384, 'cardboard': 10385, 'heartwarming': 10386, 'ginga': 10387, 'thinks': 10388, 'defeat': 10389, 'drago': 10390, 'walmart': 10391, 'innovative': 10392, 'lizbon': 10393, 'kidicalmassdc': 10394, 'breakdown': 10395, 'netkicorp': 10396, 'guests': 10397, 'branch': 10398, 'surety': 10399, 'underwriter': 10400, 'product': 10401, 'languages': 10402, 'monterrey': 10403, 'despair': 10404, 'grindhouse': 10405, 'screening': 10406, 'texaschainsawmassacre': 10407, 'morbidmovies': 10408, 'wowo': 10409, 'piss': 10410, 'moan': 10411, 'choices': 10412, 'demeanor': 10413, 'staid': 10414, 'brisk': 10415, 'myfitnesspal': 10416, 'nicosia': 10417, 'ought': 10418, 'victorinox': 10419, 'swiss': 10420, 'mop': 10421, 'wagger': 10422, 'ominican': 10423, 'lomasvisto': 10424, 'hipsters': 10425, 'devours': 10426, 'intersectio': 10427, 'cadenadeseguidores': 10428, 'alvinnelson': 10429, 'withstand': 10430, 'collisions': 10431, 'immediate': 10432, 'skiing': 10433, 'alexandria': 10434, 'chocolate': 10435, 'moir': 10436, 'suitland': 10437, 'officialtjonez': 10438, 'skills': 10439, 'varies': 10440, 'appreciativeinquiry': 10441, 'seanhannity': 10442, 'medford': 10443, 'heyseto': 10444, 'lytham': 10445, 'anne': 10446, 'grand': 10447, 'romeo': 10448, 'juliet': 10449, 'warmbodies': 10450, 'afterlife': 10451, 'freed': 10452, 'bokoharam': 10453, 'captives': 10454, 'speak': 10455, 'khalidkkazi': 10456, 'todaysbigstock': 10457, 'stocks': 10458, 'foxa': 10459, 'cmcsa': 10460, 'sni': 10461, 'amcx': 10462, 'viab': 10463, 'twx': 10464, 'nsw': 10465, 'volcanoes': 10466, 'spouting': 10467, 'willie': 10468, 'justthebottle': 10469, 'cooling': 10470, 'winechat': 10471, 'transfer': 10472, 'virgil': 10473, 'dijk': 10474, 'decatur': 10475, 'rotterdam': 10476, 'benji': 10477, 'devos': 10478, 'partsunknown': 10479, 'seagull': 10480, 'aleisstokes': 10481, 'intelligencebar': 10482, 'libertygeek': 10483, 'kissing': 10484, 'hw': 10485, 'ohlordy': 10486, 'fandom': 10487, 'panik': 10488, 'kelbytomlinson': 10489, 'sicamous': 10490, 'lizzie': 10491, 'cstsmith': 10492, 'repair': 10493, 'thnk': 10494, 'abbyairshow': 10495, 'tornados': 10496, 'impacted': 10497, 'calwildfires': 10498, 'aftermath': 10499, 'danryckert': 10500, 'drewscanlon': 10501, 'stealth': 10502, 'silenced': 10503, 'trillac': 10504, 'murders': 10505, 'kuwait': 10506, 'japton': 10507, 'poss': 10508, 'kristyleemusic': 10509, 'attic': 10510, 'naturaldisasters': 10511, 'schelbertgeorg': 10512, 'ren': 10513, 'damatu': 10514, 'suites': 10515, 'offices': 10516, 'salvi': 10517, 'bistro': 10518, 'fury': 10519, 'xvii': 10520, 'aa': 10521, 'worldoil': 10522, 'subscription': 10523, 'corii': 10524, 'spoil': 10525, 'wishlist': 10526, 'exc': 10527, 'daorcey': 10528, 'nsit': 10529, 'graywardens': 10530, 'bizzlemahomie': 10531, 'hamptonroadsfor': 10532, 'slave': 10533, 'trade': 10534, 'coastal': 10535, 'shared': 10536, 'wwi': 10537, 'bozeman': 10538, 'names': 10539, 'deployments': 10540, 'deeds': 10541, 'swinfo': 10542, 'dot': 10543, 'offloading': 10544, 'stuntfm': 10545, 'torrent': 10546, 'recommended': 10547, 'java': 10548, 'scariest': 10549, 'mentions': 10550, 'spike': 10551, 'min': 10552, 'prior': 10553, 'ckec': 10554, 'abha': 10555, 'methville': 10556, 'flipadelphia': 10557, 'soonermagic': 10558, 'sounding': 10559, 'infantry': 10560, 'mens': 10561, 'lume': 10562, 'dial': 10563, 'analog': 10564, 'quartz': 10565, 'nylon': 10566, 'fabric': 10567, 'snap': 10568, 'tools': 10569, 'cap': 10570, 'embroidered': 10571, 'logo': 10572, 'brittanypetko': 10573, 'groton': 10574, 'prohibits': 10575, 'grills': 10576, 'decks': 10577, 'wwat': 10578, 'victorious': 10579, 'rv': 10580, 'brentwood': 10581, 'ssb': 10582, 'losers': 10583, 'daisycuttertz': 10584, 'grogparty': 10585, 'burke': 10586, 'imam': 10587, 'brains': 10588, 'lincoln': 10589, 'yahooschwab': 10590, 'bulgarian': 10591, 'tittie': 10592, 'noemotion': 10593, 'edk': 10594, 'pathfinders': 10595, 'hd': 10596, 'bolshevik': 10597, 'monopolized': 10598, 'seize': 10599, 'hunhry': 10600, 'artificial': 10601, 'beginners': 10602, 'tutorial': 10603, 'plymouth': 10604, 'brobread': 10605, 'urogyn': 10606, 'mesh': 10607, 'talks': 10608, 'offenders': 10609, 'meshnewsdesk': 10610, 'everton': 10611, 'wonderkid': 10612, 'molina': 10613, 'milioooo': 10614, 'emilio': 10615, 'lawsonofficial': 10616, 'followed': 10617, 'contain': 10618, 'thankyou': 10619, 'woosley': 10620, 'itsnasb': 10621, 'sarcasm': 10622, 'alameda': 10623, 'squeezed': 10624, 'tear': 10625, 'blubber': 10626, 'baffling': 10627, 'telegraph': 10628, 'headline': 10629, 'rchs': 10630, 'players': 10631, 'coffins': 10632, 'rooms': 10633, 'tommorow': 10634, 'alarmed': 10635, 'harassed': 10636, 'beside': 10637, 'motors': 10638, 'iredell': 10639, 'congestion': 10640, 'poorly': 10641, 'fiction': 10642, 'escaping': 10643, 'farms': 10644, 'christianvalues': 10645, 'crptotech': 10646, 'banks': 10647, 'banking': 10648, 'bitcoing': 10649, 'blockchain': 10650, 'briannafrost': 10651, 'paxton': 10652, 'whelen': 10653, 'model': 10654, 'amplifier': 10655, 'ashberxo': 10656, 'mischief': 10657, 'traces': 10658, 'shaker': 10659, 'northampton': 10660, 'jimmozel': 10661, 'puck': 10662, 'nashhmu': 10663, 'skinless': 10664, 'nightbeat': 10665, 'veronicadlcruz': 10666, 'minutemix': 10667, 'burglary': 10668, 'watford': 10669, 'dopey': 10670, 'junsuisengen': 10671, 'switch': 10672, 'oem': 10673, 'odu': 10674, 'nopeach': 10675, 'antoniooooo': 10676, 'liam': 10677, 'payne': 10678, 'lungs': 10679, 'addtexastonext': 10680, 'dtour': 10681, 'geneva': 10682, 'heather': 10683, 'sparxxx': 10684, 'threesome': 10685, 'bakeofffriends': 10686, 'gains': 10687, 'jerry': 10688, 'udhampuragain': 10689, 'hurn': 10690, 'tokteacher': 10691, 'skynet': 10692, 'cakes': 10693, 'arthas': 10694, 'giveaway': 10695, 'dren': 10696, 'railway': 10697, 'track': 10698, 'warsaw': 10699, 'homefolks': 10700, 'opinionated': 10701, 'proposal': 10702, 'modernized': 10703, 'omw': 10704, 'pandora': 10705, 'coworker': 10706, 'jetengine': 10707, 'turbojet': 10708, 'boing': 10709, 'marietta': 10710, 'stemming': 10711, 'cubs': 10712, 'rosters': 10713, 'arizzo': 10714, 'jlester': 10715, 'explosive': 10716, 'decisions': 10717, 'tween': 10718, 'lisowski': 10719, 'whitewashes': 10720, 'shanghai': 10721, 'masters': 10722, 'quals': 10723, 'snooker': 10724, 'stare': 10725, 'furious': 10726, 'freezing': 10727, 'erally': 10728, 'unplug': 10729, 'myelf': 10730, 'lhh': 10731, 'mastered': 10732, 'lamia': 10733, 'shrimplevy': 10734, 'napa': 10735, 'postal': 10736, 'agrees': 10737, 'sell': 10738, 'brazos': 10739, 'languishing': 10740, 'noirandeal': 10741, 'tedcruz': 10742, 'loathing': 10743, 'deck': 10744, 'peterborough': 10745, 'fowlers': 10746, 'occupants': 10747, 'suppose': 10748, 'labs': 10749, 'northwestern': 10750, 'contruction': 10751, 'upgrading': 10752, 'ferries': 10753, 'standards': 10754, 'vashon': 10755, 'mukilteo': 10756, 'earthquakenews': 10757, 'piprhys': 10758, 'thetxi': 10759, 'gunnersfan': 10760, 'ham': 10761, 'relegation': 10762, 'mermaid': 10763, 'whistled': 10764, 'skirt': 10765, 'managers': 10766, 'uniforms': 10767, 'implication': 10768, 'glove': 10769, 'fifty': 10770, 'dates': 10771, 'datingtips': 10772, 'goodreads': 10773, 'hwrf': 10774, 'lashes': 10775, 'taipei': 10776, 'devinjoslyn': 10777, 'cannon': 10778, 'ashayo': 10779, 'msmiggi': 10780, 'vods': 10781, 'presentation': 10782, 'hoxton': 10783, 'poignant': 10784, 'reminder': 10785, 'scarier': 10786, 'uga': 10787, 'alumnus': 10788, 'annoying': 10789, 'crusty': 10790, 'phil': 10791, 'gravel': 10792, 'sobbing': 10793, 'endlessly': 10794, 'confused': 10795, 'randerson': 10796, 'prayed': 10797, 'huffpostrelig': 10798, 'wasnt': 10799, 'everwhe': 10800, 'gumptown': 10801, 'arobotlegion': 10802, 'oppressed': 10803, 'react': 10804, 'ignorant': 10805, 'akure': 10806, 'ondo': 10807, 'bsf': 10808, 'jawans': 10809, 'fidayeen': 10810, 'aks': 10811, 'insas': 10812, 'etribune': 10813, 'waziristan': 10814, 'acebreakingnews': 10815, 'awwww': 10816, 'rewatchingthepilot': 10817, 'teamscorpion': 10818, 'hinatobot': 10819, 'firefighting': 10820, 'easternoregon': 10821, 'rural': 10822, 'mccauleysdesign': 10823, 'abysmaljoiner': 10824, 'dyamiplotke': 10825, 'purpose': 10826, 'paci': 10827, 'rsf': 10828, 'gag': 10829, 'rickybonessxm': 10830, 'sirius': 10831, 'sayin': 10832, 'dhs': 10833, 'hkxfymhex': 10834, 'alley': 10835, 'psalm': 10836, 'redeemeth': 10837, 'servants': 10838, 'desde': 10839, 'ml': 10840, 'magnitude': 10841, 'cs': 10842, 'hearthstone': 10843, 'jerseys': 10844, 'thexfiles': 10845, 'cascade': 10846, 'childress': 10847, 'soldier': 10848, 'ranking': 10849, 'wews': 10850, 'commas': 10851, 'slab': 10852, 'ripping': 10853, 'apart': 10854, 'labourleadership': 10855, 'contest': 10856, 'explanation': 10857, 'request': 10858, 'provided': 10859, 'limpar': 10860, 'sweeping': 10861, 'derives': 10862, 'powers': 10863, 'norman': 10864, 'vincent': 10865, 'peale': 10866, 'coyotes': 10867, 'lizards': 10868, 'sirbrandonknt': 10869, 'exactly': 10870, 'lesnar': 10871, 'cena': 10872, 'summerslam': 10873, 'brock': 10874, 'ferno': 10875, 'engineering': 10876, 'inspect': 10877, 'components': 10878, 'arnhem': 10879, 'artectura': 10880, 'florence': 10881, 'andygilder': 10882, 'rspca': 10883, 'infomercial': 10884, 'crept': 10885, 'connormidd': 10886, 'jacket': 10887, 'lakewood': 10888, 'channels': 10889, 'followurdreams': 10890, 'lookss': 10891, 'brand': 10892, 'indo': 10893, 'pact': 10894, 'aix': 10895, 'provence': 10896, 'utrecht': 10897, 'creationmin': 10898, 'rwrabbit': 10899, 'gooneratheist': 10900, 'atheistic': 10901, 'lolatjesus': 10902, 'replacement': 10903, 'oral': 10904, 'cosme': 10905, 'szuter': 10906, 'destination': 10907, 'lifts': 10908, 'glided': 10909, 'yahoofinance': 10910, 'answers': 10911, 'nyse': 10912, 'fdx': 10913, 'packages': 10914, 'du': 10915, 'camila': 10916, 'spree': 10917, 'happiness': 10918, 'rvfriedmann': 10919, 'belief': 10920, 'lodisilverado': 10921, 'ritzy': 10922, 'jewels': 10923, 'mariveles': 10924, 'bataan': 10925, 'croat': 10926, 'homeworldgym': 10927, 'thisisperidot': 10928, 'bailiwick': 10929, 'scriptettesar': 10930, 'katiecool': 10931, 'btw': 10932, 'barbi': 10933, 'mutek': 10934, 'montreal': 10935, 'isea': 10936, 'newswatch': 10937, 'lock': 10938, 'lansdowne': 10939, 'sts': 10940, 'ptbo': 10941, 'emerg': 10942, 'kent': 10943, 'lee': 10944, 'leejasper': 10945, 'tories': 10946, 'interestraterise': 10947, 'dratomic': 10948, 'trophies': 10949, 'photoshop': 10950, 'melrose': 10951, 'rockland': 10952, 'nyack': 10953, 'pineview': 10954, 'railroad': 10955, 'crossing': 10956, 'csx': 10957, 'balanced': 10958, 'massgrave': 10959, 'excited': 10960, 'ensuing': 10961, 'ud': 10962, 'ypres': 10963, 'dyersburg': 10964, 'tak': 10965, 'usfs': 10966, 'acronym': 10967, 'labyrinthia': 10968, 'harveymaine': 10969, 'aaaa': 10970, 'lem': 10971, 'roomr': 10972, 'hears': 10973, 'nomad': 10974, 'draenor': 10975, 'iateyourfood': 10976, 'yikes': 10977, 'pup': 10978, 'freelancer': 10979, 'raabchar': 10980, 'drphil': 10981, 'morganlawgrp': 10982, 'inflict': 10983, 'consistent': 10984, 'dimensions': 10985, 'encouragement': 10986, 'positivity': 10987, 'eur': 10988, 'bwin': 10989, 'brave': 10990, 'inspi': 10991, 'alil': 10992, 'indepth': 10993, 'mrsbinker': 10994, 'emiliorivera': 10995, 'davidlabrava': 10996, 'diesel': 10997, 'breed': 10998, 'pug': 10999, 'spouse': 11000, 'certificate': 11001, 'aphiabeta': 11002, 'ugliness': 11003, 'amesocialaction': 11004, 'frat': 11005, 'bioterrorismi': 11006, 'tolewant': 11007, 'macclesfield': 11008, 'binellithresa': 11009, 'ty': 11010, 'hhbu': 11011, 'antipozi': 11012, 'cucks': 11013, 'waiver': 11014, 'weight': 11015, 'hmmm': 11016, 'laughtraders': 11017, 'capitulation': 11018, 'joke': 11019, 'freestyles': 11020, 'lv': 11021, 'mars': 11022, 'defines': 11023, 'perpetrators': 11024, 'ilford': 11025, 'wingers': 11026, 'prem': 11027, 'basically': 11028, 'enclave': 11029, 'ohmygoshi': 11030, 'metrobus': 11031, 'cincinnati': 11032, 'periferico': 11033, 'orapinforma': 11034, 'boarding': 11035, 'galleria': 11036, 'apts': 11037, 'kleenex': 11038, 'optical': 11039, 'illusion': 11040, 'clouds': 11041, 'subcontractor': 11042, 'survey': 11043, 'cgg': 11044, 'metlife': 11045, 'otratmetlife': 11046, 'raheel': 11047, 'sharif': 11048, 'chitral': 11049, 'lauded': 11050, 'fwo': 11051, 'aviation': 11052, 'opera': 11053, 'affiliate': 11054, 'marketers': 11055, 'marketer': 11056, 'omaha': 11057, 'utility': 11058, 'pole': 11059, 'ojodu': 11060, 'blutz': 11061, 'indictment': 11062, 'consent': 11063, 'underway': 11064, 'reg': 11065, 'competitiveness': 11066, 'brockton': 11067, 'regc': 11068, 'commonwealth': 11069, 'ppc': 11070, 'boxes': 11071, 'exploding': 11072, 'kittens': 11073, 'gameofkittens': 11074, 'explodingkittens': 11075, 'dollar': 11076, 'gem': 11077, 'bu': 11078, 'pl': 11079, 'satin': 11080, 'toledo': 11081, 'hank': 11082, 'cassadaga': 11083, 'fa': 11084, 'lived': 11085, 'tolerated': 11086, 'curry': 11087, 'herman': 11088, 'stephenson': 11089, 'overturned': 11090, 'victorville': 11091, 'wut': 11092, 'ditched': 11093, 'hungrier': 11094, 'mnpdnashville': 11095, 'montalbanony': 11096, 'clap': 11097, 'goingdownthetoilet': 11098, 'unaware': 11099, 'sanitizing': 11100, 'sites': 11101, 'merc': 11102, 'boise': 11103, 'idaho': 11104, 'abomb': 11105, 'destroyd': 11106, 'cnv': 11107, 'vigils': 11108, 'africansinsf': 11109, 'beyondgps': 11110, 'routes': 11111, 'calgarians': 11112, 'stunned': 11113, 'busy': 11114, 'seoul': 11115, 'thyroid': 11116, 'thousand': 11117, 'paraguay': 11118, 'thinkpink': 11119, 'magichairbump': 11120, 'vacation': 11121, 'untangle': 11122, 'requiring': 11123, 'partner': 11124, 'besttalkradio': 11125, 'themagickidraps': 11126, 'executing': 11127, 'ayyo': 11128, 'dei': 11129, 'serva': 11130, 'fidem': 11131, 'embra': 11132, 'tier': 11133, 'dee': 11134, 'dum': 11135, 'mink': 11136, 'dakounty': 11137, 'cyhitheprynce': 11138, 'elephantintheroom': 11139, 'alexeivolkov': 11140, 'mcfaul': 11141, 'roskomnadzor': 11142, 'ridiculously': 11143, 'politicized': 11144, 'autismawareness': 11145, 'balcony': 11146, 'ferriby': 11147, 'rightways': 11148, 'inspections': 11149, 'rightwaystan': 11150, 'outback': 11151, 'insurers': 11152, 'numbers': 11153, 'controllers': 11154, 'formerly': 11155, 'usnoaagov': 11156, 'exceptional': 11157, 'steady': 11158, 'droughtgov': 11159, 'gusto': 11160, 'persist': 11161, 'pated': 11162, 'hpssjd': 11163, 'resting': 11164, 'peoria': 11165, 'ppsellsbabyparts': 11166, 'jervis': 11167, 'pugprobs': 11168, 'szmnextdoor': 11169, 'appleofficlal': 11170, 'migrating': 11171, 'iphoto': 11172, 'wasted': 11173, 'hrsto': 11174, 'earthtwerk': 11175, 'crouch': 11176, 'tyre': 11177, 'startup': 11178, 'flowers': 11179, 'latechwatch': 11180, 'surrey': 11181, 'carneross': 11182, 'remarkably': 11183, 'puny': 11184, 'epoch': 11185, 'pxnatosil': 11186, 'renunciedilma': 11187, 'annoyed': 11188, 'hung': 11189, 'audaciousspunk': 11190, 'spokes': 11191, 'raptors': 11192, 'differ': 11193, 'rang': 11194, 'musik': 11195, 'goodlook': 11196, 'microsofts': 11197, 'virus': 11198, 'kodiak': 11199, 'whs': 11200, 'daniglasgow': 11201, 'sweden': 11202, 'publicizing': 11203, 'blossominglilac': 11204, 'attempting': 11205, 'munch': 11206, 'sec': 11207, 'bobbyofhomewood': 11208, 'joxroundtable': 11209, 'dropping': 11210, 'leitchfield': 11211, 'mercados': 11212, 'runjewels': 11213, 'met': 11214, 'discuss': 11215, 'relations': 11216, 'loveislove': 11217, 'pore': 11218, 'littleton': 11219, 'terran': 11220, 'prettyboyshyflizzy': 11221, 'beautifully': 11222, 'grc': 11223, 'subscribers': 11224, 'stolen': 11225, 'albany': 11226, 'stressed': 11227, 'bloomberg': 11228, 'cal': 11229, 'calzone': 11230, 'sorrow': 11231, 'throwin': 11232, 'kaneohe': 11233, 'kuualohax': 11234, 'husband': 11235, 'posting': 11236, 'kenton': 11237, 'chelsdelong': 11238, 'kendra': 11239, 'leigh': 11240, 'laos': 11241, 'underwater': 11242, 'vision': 11243, 'responding': 11244, 'pros': 11245, 'failures': 11246, 'contr': 11247, 'inviting': 11248, 'brigade': 11249, 'detains': 11250, 'journeys': 11251, 'healthandsafety': 11252, 'lesa': 11253, 'trombonetristan': 11254, 'ooooohshit': 11255, 'ooohshit': 11256, 'nagpur': 11257, 'lifeline': 11258, 'fci': 11259, 'grains': 11260, 'fr': 11261, 'available': 11262, 'kennethbauer': 11263, 'noodles': 11264, 'flee': 11265, 'burundi': 11266, 'vice': 11267, 'pmarca': 11268, 'affiliation': 11269, 'eagles': 11270, 'matthews': 11271, 'hotnewscake': 11272, 'drfriedencdc': 11273, 'infections': 11274, 'adiossuperbacterias': 11275, 'appetite': 11276, 'mafia': 11277, 'mulan': 11278, 'malkavius': 11279, 'gassymexican': 11280, 'realities': 11281, 'glitch': 11282, 'edfringe': 11283, 'nf': 11284, 'titania': 11285, 'summerhallery': 11286, 'reimagining': 11287, 'shakespeare': 11288, 'midsummer': 11289, 'yadkinville': 11290, 'collideworship': 11291, 'garrett': 11292, 'unhappy': 11293, 'purposely': 11294, 'iii': 11295, 'pattonoswalt': 11296, 'alamodc': 11297, 'slateport': 11298, 'hoenn': 11299, 'snazzychipz': 11300, 'alexalltimelow': 11301, 'cuties': 11302, 'animallogic': 11303, 'lotg': 11304, 'smoothed': 11305, 'bird': 11306, 'moth': 11307, 'chalked': 11308, 'mouse': 11309, 'subtle': 11310, 'diss': 11311, 'earn': 11312, 'mcr': 11313, 'snort': 11314, 'flavorchargedtea': 11315, 'slit': 11316, 'throat': 11317, 'apologize': 11318, 'rebeccaforreal': 11319, 'accepts': 11320, 'govwalker': 11321, 'nbc': 11322, 'radical': 11323, 'wwe': 11324, 'mycareer': 11325, 'mutt': 11326, 'matching': 11327, 'stury': 11328, 'futurea': 11329, 'totalitarian': 11330, 'employs': 11331, 'literature': 11332, 'nbcpolitics': 11333, 'barracks': 11334, 'bombers': 11335, 'milky': 11336, 'visiting': 11337, 'cfc': 11338, 'ancop': 11339, 'tita': 11340, 'swayback': 11341, 'voluntary': 11342, 'inciweb': 11343, 'calfires': 11344, 'eastcarolina': 11345, 'flooded': 11346, 'traintragedy': 11347, 'wonders': 11348, 'pilgrims': 11349, 'unimpressed': 11350, 'trib': 11351, 'fishing': 11352, 'suspended': 11353, 'awickedassassin': 11354, 'hugged': 11355, 'tightly': 11356, 'tremont': 11357, 'cosmetic': 11358, 'periwinkle': 11359, 'copper': 11360, 'piping': 11361, 'waialua': 11362, 'gecko': 11363, 'missleylaha': 11364, 'kissimmee': 11365, 'gages': 11366, 'beckyfeigin': 11367, 'defs': 11368, 'unpredictable': 11369, 'disconnected': 11370, 'favorites': 11371, 'californians': 11372, 'sahel': 11373, 'finding': 11374, 'chore': 11375, 'adventist': 11376, 'lesson': 11377, 'sabbath': 11378, 'landsli': 11379, 'bloodymonday': 11380, 'tvshowtime': 11381, 'ster': 11382, 'whvholst': 11383, 'leashless': 11384, 'competence': 11385, 'soc': 11386, 'democratic': 11387, 'parties': 11388, 'pissing': 11389, 'antis': 11390, 'faze': 11391, 'violators': 11392, 'improved': 11393, 'hurled': 11394, 'nuked': 11395, 'hint': 11396, 'beyondthebomb': 11397, 'theashes': 11398, 'frusciante': 11399, 'himalayan': 11400, 'taiji': 11401, 'worship': 11402, 'superstitions': 11403, 'cg': 11404, 'ovofest': 11405, 'ovo': 11406, 'ziphimup': 11407, 'surrounding': 11408, 'eugene': 11409, 'kezi': 11410, 'melton': 11411, 'msnbc': 11412, 'terminated': 11413, 'activated': 11414, 'greenpoint': 11415, 'delany': 11416, 'dhalgren': 11417, 'beastly': 11418, 'downing': 11419, 'doflamingo': 11420, 'charlesadler': 11421, 'browner': 11422, 'savannahross': 11423, 'chibi': 11424, 'language': 11425, 'shouted': 11426, 'deadend': 11427, 'buddha': 11428, 'urbanisation': 11429, 'challenged': 11430, 'brahmans': 11431, 'dominance': 11432, 'misty': 11433, 'indifference': 11434, 'shutdown': 11435, 'separated': 11436, 'escorts': 11437, 'gfe': 11438, 'whack': 11439, 'mole': 11440, 'kosciusko': 11441, 'crocodile': 11442, 'gravy': 11443, 'kidscompany': 11444, 'ibadan': 11445, 'oyo': 11446, 'ika': 11447, 'soup': 11448, 'diet': 11449, 'recip': 11450, 'ville': 11451, 'wkrn': 11452, 'emails': 11453, 'trinna': 11454, 'roadside': 11455, 'rembr': 11456, 'vest': 11457, 'ohmyloz': 11458, 'rondarousey': 11459, 'detectado': 11460, 'jap': 11461, 'miyagi': 11462, 'estimated': 11463, 'jst': 11464, 'megancoopy': 11465, 'laurathorne': 11466, 'colinhoffman': 11467, 'prairie': 11468, 'corsicana': 11469, 'recording': 11470, 'thrown': 11471, 'dougmartin': 11472, 'doug': 11473, 'longbreastyat': 11474, 'galatians': 11475, 'josh': 11476, 'salyers': 11477, 'blair': 11478, 'jenna': 11479, 'macdaddy': 11480, 'caption': 11481, 'freshman': 11482, 'stacey': 11483, 'basement': 11484, 'streetlight': 11485, 'elm': 11486, 'remade': 11487, 'listeria': 11488, 'theneeds': 11489, 'folks': 11490, 'bash': 11491, 'cheated': 11492, 'skip': 11493, 'basic': 11494, 'thh': 11495, 'furst': 11496, 'newsdict': 11497, 'rogue': 11498, 'siskiyou': 11499, 'stylishly': 11500, 'unique': 11501, 'detectors': 11502, 'shevlin': 11503, 'hixon': 11504, 'kp': 11505, 'allegations': 11506, 'janenelson': 11507, 'stephenscifi': 11508, 'adaptation': 11509, 'optioned': 11510, 'sciencefiction': 11511, 'carterville': 11512, 'swaning': 11513, 'chairman': 11514, 'crowds': 11515, 'reeves': 11516, 'corner': 11517, 'croydonization': 11518, 'huber': 11519, 'meanwhile': 11520, 'hush': 11521, 'burp': 11522, 'freshness': 11523, 'convene': 11524, 'awards': 11525, 'gis': 11526, 'gisuserpr': 11527, 'geotech': 11528, 'alcoholism': 11529, 'addiction': 11530, 'forgiving': 11531, 'canvas': 11532, 'letter': 11533, 'print': 11534, 'zipper': 11535, 'qld': 11536, 'returned': 11537, 'fleeing': 11538, 'presser': 11539, 'interpretation': 11540, 'uhhhhh': 11541, 'crusade': 11542, 'longaberger': 11543, 'floral': 11544, 'strap': 11545, 'hinterestland': 11546, 'sel': 11547, 'hinterestin': 11548, 'damp': 11549, 'qnh': 11550, 'violation': 11551, 'socialmedia': 11552, 'couches': 11553, 'virtual': 11554, 'horowitz': 11555, 'vaccines': 11556, 'rainier': 11557, 'jeb': 11558, 'mitt': 11559, 'laugh': 11560, 'fools': 11561, 'tsipras': 11562, 'wallybaiter': 11563, 'recal': 11564, 'btown': 11565, 'beatdown': 11566, 'forrestmankins': 11567, 'camping': 11568, 'pp': 11569, 'sami': 11570, 'kanger': 11571, 'coils': 11572, 'vaping': 11573, 'newsintweets': 11574, 'moved': 11575, 'orcas': 11576, 'tounge': 11577, 'pepperoni': 11578, 'canuck': 11579, 'justintrudeau': 11580, 'reusing': 11581, 'advanced': 11582, 'equipments': 11583, 'drumming': 11584, 'champaign': 11585, 'fdbdp': 11586, 'transformation': 11587, 'aliens': 11588, 'exterminate': 11589, 'humans': 11590, 'mysteries': 11591, 'cis': 11592, 'istj': 11593, 'okgooner': 11594, 'liver': 11595, 'chiyoda': 11596, 'jayankondacholapuram': 11597, 'tamilnadu': 11598, 'chowchilla': 11599, 'schoenfeld': 11600, 'jdb': 11601, 'ljc': 11602, 'agb': 11603, 'ahhhh': 11604, 'bashes': 11605, 'comparison': 11606, 'iranians': 11607, 'shouting': 11608, 'bluebirddenver': 11609, 'iembot': 11610, 'hfo': 11611, 'nnw': 11612, 'hana': 11613, 'annmarieronan': 11614, 'niamhosullivanx': 11615, 'tat': 11616, 'flashbacks': 11617, 'locksmith': 11618, 'domesticate': 11619, 'mechanic': 11620, 'circa': 11621, 'clock': 11622, 'gba': 11623, 'smarttek': 11624, 'mpers': 11625, 'hermosa': 11626, 'taron': 11627, 'wilshere': 11628, 'recordand': 11629, 'behaviors': 11630, 'bago': 11631, 'taaylordarr': 11632, 'intriguing': 11633, 'dominant': 11634, 'jobbing': 11635, 'mistresspip': 11636, 'amazed': 11637, 'mistress': 11638, 'okuma': 11639, 'gpv': 11640, 'wnw': 11641, 'ogba': 11642, 'chieftain': 11643, 'tasks': 11644, 'dickson': 11645, 'donation': 11646, 'proposed': 11647, 'burton': 11648, 'messnermatthew': 11649, 'newcity': 11650, 'appoints': 11651, 'brig': 11652, 'kaiser': 11653, 'mississippi': 11654, 'commission': 11655, 'mrc': 11656, 'myrtlegroggins': 11657, 'gasp': 11658, 'predjama': 11659, 'eslovenia': 11660, 'bsg': 11661, 'sufficiently': 11662, 'hyped': 11663, 'delayed': 11664, 'theemobrago': 11665, 'jitsu': 11666, 'hexagon': 11667, 'yelled': 11668, 'male': 11669, 'southdown': 11670, 'royal': 11671, 'mississauga': 11672, 'weyburn': 11673, 'warn': 11674, 'fentanyl': 11675, 'province': 11676, 'thane': 11677, 'honolulu': 11678, 'serephina': 11679, 'saudiarabia': 11680, 'wolverhampton': 11681, 'brum': 11682, 'wholesale': 11683, 'engines': 11684, 'ordained': 11685, 'spurgeon': 11686, 'midwestern': 11687, 'cowgirllawyer': 11688, 'unawares': 11689, 'intoxicated': 11690, 'fangirling': 11691, 'clayton': 11692, 'lionx': 11693, 'nebraska': 11694, 'warfare': 11695, 'thankful': 11696, 'gfz': 11697, 'minuscule': 11698, 'etp': 11699, 'pasadena': 11700, 'ladyfleur': 11701, 'caf': 11702, 'destinythegame': 11703, 'bungie': 11704, 'experiences': 11705, 'challenge': 11706, 'dravet': 11707, 'drowns': 11708, 'fairfield': 11709, 'northbayhealth': 11710, 'shines': 11711, 'gunmen': 11712, 'salvador': 11713, 'salvadoran': 11714, 'gang': 11715, 'praying': 11716, 'alton': 11717, 'livestream': 11718, 'nut': 11719, 'joseph': 11720, 'minnesota': 11721, 'eddie': 11722, 'vedders': 11723, 'lap': 11724, 'questergirl': 11725, 'ditto': 11726, 'drank': 11727, 'vodka': 11728, 'celebrations': 11729, 'sarahmcpants': 11730, 'justjon': 11731, 'titty': 11732, 'libyan': 11733, 'progressives': 11734, 'vilnius': 11735, 'vroman': 11736, 'grabakahitman': 11737, 'izi': 11738, 'garcia': 11739, 'machida': 11740, 'acne': 11741, 'diarrhea': 11742, 'naturalemblem': 11743, 'whitewalkers': 11744, 'intrigued': 11745, 'everett': 11746, 'westmarch': 11747, 'arreat': 11748, 'ikorodu': 11749, 'dicky': 11750, 'councilscc': 11751, 'receipts': 11752, 'desperate': 11753, 'scandinavia': 11754, 'clev': 11755, 'cleverbot': 11756, 'wrigley': 11757, 'katiekatcubs': 11758, 'yahoocare': 11759, 'complaints': 11760, 'jackass': 11761, 'stuffin': 11762, 'capicapricapri': 11763, 'brento': 11764, 'bento': 11765, 'wha': 11766, 'hueco': 11767, 'mundo': 11768, 'doublecups': 11769, 'prod': 11770, 'thisizbwright': 11771, 'nouvelle': 11772, 'cosse': 11773, 'maxsys': 11774, 'funtua': 11775, 'keeper': 11776, 'runnin': 11777, 'nno': 11778, 'bki': 11779, 'kua': 11780, 'tutor': 11781, 'preferably': 11782, 'lightumupbeast': 11783, 'deli': 11784, 'greasy': 11785, 'oomf': 11786, 'instagrams': 11787, 'youngstown': 11788, 'osp': 11789, 'mounting': 11790, 'wipp': 11791, 'sejorg': 11792, 'sigmund': 11793, 'freud': 11794, 'caaaaaall': 11795, 'upgraded': 11796, 'hyperbole': 11797, 'saintsfc': 11798, 'pictures': 11799, 'stockton': 11800, 'cdcwhistleblower': 11801, 'measles': 11802, 'complications': 11803, 'looses': 11804, 'crickets': 11805, 'newton': 11806, 'produces': 11807, 'specialists': 11808, 'peterhowenecn': 11809, 'necn': 11810, 'gigagil': 11811, 'iof': 11812, 'morality': 11813, 'zionism': 11814, 'faked': 11815, 'fx': 11816, 'vanished': 11817, 'heheh': 11818, 'playa': 11819, 'livemint': 11820, 'allthenews': 11821, 'uruguay': 11822, 'skyler': 11823, 'durban': 11824, 'cools': 11825, 'martial': 11826, 'anzio': 11827, 'abusing': 11828, 'obispo': 11829, 'exhibition': 11830, 'dill': 11831, 'pickle': 11832, 'taste': 11833, 'torn': 11834, 'shotgun': 11835, 'fizzy': 11836, 'seats': 11837, 'ibeyiofficial': 11838, 'landolina': 11839, 'instantly': 11840, 'realestate': 11841, 'wildomar': 11842, 'radychildrens': 11843, 'beijing': 11844, 'smile': 11845, 'luhan': 11846, 'exo': 11847, 'emaaalay': 11848, 'nsa': 11849, 'software': 11850, 'zeal': 11851, 'indecisiveness': 11852, 'ogtomd': 11853, 'spotlight': 11854, 'wniagospel': 11855, 'chpsre': 11856, 'rezaphotography': 11857, 'dwight': 11858, 'eisenhower': 11859, 'chira': 11860, 'scseestapreparando': 11861, 'mag': 11862, 'khuzdar': 11863, 'wednes': 11864, 'volcanodiscover': 11865, 'lado': 11866, 'tweeting': 11867, 'joshua': 11868, 'typos': 11869, 'glassanimals': 11870, 'slithering': 11871, 'viscous': 11872, 'yeahs': 11873, 'erykah': 11874, 'badu': 11875, 'frascati': 11876, 'novalismi': 11877, 'mallord': 11878, 'william': 11879, 'shade': 11880, 'darkness': 11881, 'clicca': 11882, 'titolo': 11883, 'devise': 11884, 'suffering': 11885, 'refugeesmatter': 11886, 'ronge': 11887, 'sask': 11888, 'cosmic': 11889, 'oneness': 11890, 'definition': 11891, 'barack': 11892, 'declared': 11893, 'tnn': 11894, 'knight': 11895, 'nosy': 11896, 'ma': 11897, 'imeshika': 11898, 'hapa': 11899, 'mats': 11900, 'bumper': 11901, 'aar': 11902, 'bonnieg': 11903, 'piga': 11904, 'kijan': 11905, 'virg': 11906, 'volfan': 11907, 'tneazzy': 11908, 'mizzou': 11909, 'muschamp': 11910, 'bama': 11911, 'gcc': 11912, 'joined': 11913, 'daesh': 11914, 'june': 11915, 'confesses': 11916, 'kindermorgan': 11917, 'danisnotonfire': 11918, 'advertise': 11919, 'turnedonfetaboo': 11920, 'hsjb': 11921, 'vickybrush': 11922, 'topic': 11923, 'xoxo': 11924, 'ay': 11925, 'ethiopian': 11926, 'multinational': 11927, 'jamesmelville': 11928, 'conflicts': 11929, 'tactics': 11930, 'corruption': 11931, 'infiltration': 11932, 'trending': 11933, 'ruler': 11934, 'informant': 11935, 'roadway': 11936, 'statesville': 11937, 'sindria': 11938, 'fukurodani': 11939, 'bokuto': 11940, 'ppor': 11941, 'bravery': 11942, 'randy': 11943, 'irwin': 11944, 'evansville': 11945, 'limit': 11946, 'usage': 11947, 'wompppp': 11948, 'valparaiso': 11949, 'rizzo': 11950, 'manhattan': 11951, 'iwate': 11952, 'resin': 11953, 'flatback': 11954, 'rhinestone': 11955, 'decoration': 11956, 'reebok': 11957, 'xl': 11958, 'hockey': 11959, 'lucia': 11960, 'missjadebrown': 11961, 'tells': 11962, 'claimed': 11963, 'riding': 11964, 'tiffanyfrizzell': 11965, 'unprecedented': 11966, 'frenzy': 11967, 'disorder': 11968, 'astounding': 11969, 'catovitch': 11970, 'faith': 11971, 'akito': 11972, 'roses': 11973, 'frothy': 11974, 'gyp': 11975, 'weddinghour': 11976, 'barak': 11977, 'depends': 11978, 'voting': 11979, 'le': 11980, 'memenet': 11981, 'kainyusanagi': 11982, 'grummz': 11983, 'pixelcanuck': 11984, 'raynor': 11985, 'balding': 11986, 'imperfect': 11987, 'biker': 11988, 'emo': 11989, 'generic': 11990, 'xleak': 11991, 'tos': 11992, 'festac': 11993, 'delta': 11994, 'sed': 11995, 'bbm': 11996, 'leaked': 11997, 'bartender': 11998, 'wisely': 11999, 'carnage': 12000, 'continuing': 12001, 'ggindependencmessage': 12002, 'researchers': 12003, 'select': 12004, 'guaravitas': 12005, 'yellowknife': 12006, 'nt': 12007, 'gnwt': 12008, 'pickerel': 12009, 'baskets': 12010, 'charming': 12011, 'tonyakappes': 12012, 'paranormal': 12013, 'mackem': 12014, 'bolton': 12015, 'macbreck': 12016, 'math': 12017, 'sugarhouse': 12018, 'dccomics': 12019, 'imagecomics': 12020, 'darkhorsecomics': 12021, 'idwpublishing': 12022, 'enabling': 12023, 'dimapur': 12024, 'helmet': 12025, 'silvery': 12026, 'floors': 12027, 'karnal': 12028, 'sampling': 12029, 'pbcanpcx': 12030, 'thda': 12031, 'kicks': 12032, 'greenspace': 12033, 'development': 12034, 'kyee': 12035, 'nockthie': 12036, 'hamlet': 12037, 'taungbazar': 12038, 'buthidaung': 12039, 'severely': 12040, 'kasitaroch': 12041, 'vivianunhcr': 12042, 'returning': 12043, 'southline': 12044, 'yennora': 12045, 'repairs': 12046, 'cabramatta': 12047, 'immigrant': 12048, 'arrests': 12049, 'kash': 12050, 'foundation': 12051, 'magazine': 12052, 'mold': 12053, 'growth': 12054, 'proudgreenhome': 12055, 'livin': 12056, 'plastic': 12057, 'toddyrockstar': 12058, 'tarragona': 12059, 'aaarrrgghhh': 12060, 'classycolkett': 12061, 'thorgan': 12062, 'gladbach': 12063, 'ashenforest': 12064, 'floorburnt': 12065, 'manzanita': 12066, 'timber': 12067, 'johnson': 12068, 'gurgaon': 12069, 'haryana': 12070, 'tornadogiveaway': 12071, 'thebookclub': 12072, 'suginami': 12073, 'ku': 12074, 'pummel': 12075, 'fuckyeahcarey': 12076, 'bornverified': 12077, 'canoe': 12078, 'fastest': 12079, 'lrhcthband': 12080, 'bournemouth': 12081, 'microphone': 12082, 'ovaries': 12083, 'sincerely': 12084, 'rfp': 12085, 'transporta': 12086, 'tool': 12087, 'weallheartonedirection': 12088, 'broader': 12089, 'conservation': 12090, 'akgovbillwalker': 12091, 'burma': 12092, 'enduring': 12093, 'unrest': 12094, 'cheap': 12095, 'concludes': 12096, 'deactivated': 12097, 'walkthrough': 12098, 'myfriendmina': 12099, 'screenshot': 12100, 'berlin': 12101, 'peterjukes': 12102, 'systematic': 12103, 'torture': 12104, 'grahamwp': 12105, 'aggressif': 12106, 'janeenorman': 12107, 'probability': 12108, 'deputy': 12109, 'dimitri': 12110, 'mageavexis': 12111, 'tema': 12112, 'realville': 12113, 'flgovscott': 12114, 'males': 12115, 'conning': 12116, 'portfolio': 12117, 'diversification': 12118, 'edappally': 12119, 'kochi': 12120, 'paducah': 12121, 'bilsko': 12122, 'humofthecity': 12123, 'spyro': 12124, 'texture': 12125, 'hacks': 12126, 'modis': 12127, 'morocco': 12128, 'straits': 12129, 'gibraltar': 12130, 'duststorm': 12131, 'estados': 12132, 'unidos': 12133, 'infested': 12134, 'mouth': 12135, 'wimp': 12136, 'shity': 12137, 'itsmegss': 12138, 'barking': 12139, 'cooool': 12140, 'electricity': 12141, 'scofield': 12142, 'hotbox': 12143, 'sona': 12144, 'stockholm': 12145, 'copperfields': 12146, 'enfant': 12147, 'closest': 12148, 'bae': 12149, 'soak': 12150, 'backroom': 12151, 'thisiswhywecanthavenicethings': 12152, 'exquisite': 12153, 'cumshot': 12154, 'porno': 12155, 'rq': 12156, 'fittscott': 12157, 'pacquiao': 12158, 'marquez': 12159, 'unfilled': 12160, 'swarm': 12161, 'durvod': 12162, 'blica': 12163, 'mentalhealthgov': 12164, 'ahhhhh': 12165, 'alec': 12166, 'tort': 12167, 'comp': 12168, 'injustice': 12169, 'pitched': 12170, 'noise': 12171, 'ofnsixjks': 12172, 'senfeinstein': 12173, 'sen': 12174, 'hurry': 12175, 'uncontrolled': 12176, 'infected': 12177, 'ear': 12178, 'piercings': 12179, 'aus': 12180, 'marlon': 12181, 'elvis': 12182, 'presley': 12183, 'panther': 12184, 'shuffle': 12185, 'legend': 12186, 'cutekitten': 12187, 'catsofinstagram': 12188, 'summerinsweden': 12189, 'katt': 12190, 'katterp': 12191, 'dumle': 12192, 'dagens': 12193, 'glue': 12194, 'finger': 12195, 'adhd': 12196, 'rover': 12197, 'internetradio': 12198, 'collegeradi': 12199, 'chernobyl': 12200, 'moore': 12201, 'shootings': 12202, 'explosions': 12203, 'baffles': 12204, 'gloriavelez': 12205, 'lonepine': 12206, 'descendants': 12207, 'gallipoli': 12208, 'monica': 12209, 'quality': 12210, 'licensed': 12211, 'agent': 12212, 'produc': 12213, 'tweetinglew': 12214, 'tersestuff': 12215, 'notley': 12216, 'harper': 12217, 'heartland': 12218, 'tfw': 12219, 'slaves': 12220, 'albertans': 12221, 'hammersmith': 12222, 'dalailama': 12223, 'aust': 12224, 'surabaya': 12225, 'hoodedu': 12226, 'berlatsky': 12227, 'personally': 12228, 'illustrated': 12229, 'horrifying': 12230, 'isai': 12231, 'psm': 12232, 'conspiracy': 12233, 'scattered': 12234, 'episcopal': 12235, 'priests': 12236, 'interracial': 12237, 'harrowing': 12238, 'harassment': 12239, 'whereveri': 12240, 'rapper': 12241, 'settle': 12242, 'sneaks': 12243, 'cockpit': 12244, 'goku': 12245, 'birb': 12246, 'royton': 12247, 'pbohanna': 12248, 'boring': 12249, 'justaguess': 12250, 'queenwendy': 12251, 'isle': 12252, 'tlc': 12253, 'afrikaan': 12254, 'preorder': 12255, 'thebargain': 12256, 'granttamane': 12257, 'drewwtaylor': 12258, 'dtop': 12259, 'christie': 12260, 'hillside': 12261, 'collateral': 12262, 'yahootv': 12263, 'colombia': 12264, 'nueva': 12265, 'favorita': 12266, 'bits': 12267, 'deezercolombia': 12268, 'thesensualeye': 12269, 'apr': 12270, 'boobs': 12271, 'mobile': 12272, 'pune': 12273, 'mostly': 12274, 'adani': 12275, 'modi': 12276, 'backed': 12277, 'palermo': 12278, 'naypyidaw': 12279, 'prensa': 12280, 'latina': 12281, 'enfield': 12282, 'illusoria': 12283, 'icarus': 12284, 'squibby': 12285, 'ha': 12286, 'somecity': 12287, 'scout': 12288, 'kerrykatona': 12289, 'bak': 12290, 'puth': 12291, 'wandsworth': 12292, 'noises': 12293, 'epsom': 12294, 'wimbledon': 12295, 'cottage': 12296, 'morganite': 12297, 'gemstone': 12298, 'opal': 12299, 'ring': 12300, 'ifs': 12301, 'ands': 12302, 'buts': 12303, 'harwich': 12304, 'prediction': 12305, 'expanded': 12306, 'slight': 12307, 'twcnews': 12308, 'ncwx': 12309, 'wakanda': 12310, 'strickskin': 12311, 'nickscomics': 12312, 'objective': 12313, 'tubestrike': 12314, 'pisco': 12315, 'coya': 12316, 'gg': 12317, 'keeponrockin': 12318, 'strawberrysoryu': 12319, 'suspicious': 12320, 'rl': 12321, 'recorded': 12322, 'noida': 12323, 'ncr': 12324, 'twitterville': 12325, 'articals': 12326, 'striked': 12327, 'otm': 12328, 'purduee': 12329, 'courtney': 12330, 'laudner': 12331, 'teases': 12332, 'panties': 12333, 'bunker': 12334, 'mayoroflondon': 12335, 'compulsory': 12336, 'notrocketscience': 12337, 'eritrean': 12338, 'hyider': 12339, 'ghost': 12340, 'mina': 12341, 'steveycheese': 12342, 'mapmyrun': 12343, 'alhaji': 12344, 'sha': 12345, 'ibeto': 12346, 'cement': 12347, 'competitor': 12348, 'random': 12349, 'rutherfordton': 12350, 'esteem': 12351, 'ruhl': 12352, 'modoc': 12353, 'temporarily': 12354, 'reassigned': 12355, 'ndabndiv': 12356, 'paratroopers': 12357, 'eau': 12358, 'claire': 12359, 'sentenced': 12360, 'chippewa': 12361, 'ibrahimmisau': 12362, 'phdsquares': 12363, 'built': 12364, 'epl': 12365, 'deluxe': 12366, 'chxrmingprince': 12367, 'luna': 12368, 'folding': 12369, 'rainfall': 12370, 'nrw': 12371, 'elielcruz': 12372, 'streams': 12373, 'stephen': 12374, 'pots': 12375, 'iamdowntown': 12376, 'agreed': 12377, 'insula': 12378, 'barataria': 12379, 'hypocrisy': 12380, 'francisunderwood': 12381, 'hoc': 12382, 'ibiza': 12383, 'pill': 12384, 'dannyjohnjules': 12385, 'spencer': 12386, 'fearon': 12387, 'christielinford': 12388, 'jamaicaplain': 12389, 'frisco': 12390, 'wfaaweather': 12391, 'scouts': 12392, 'okla': 12393, 'meteors': 12394, 'nside': 12395, 'kamchatka': 12396, 'daniel': 12397, 'korzhonov': 12398, 'danagould': 12399, 'waynesteratl': 12400, 'checks': 12401, 'equalizer': 12402, 'mazda': 12403, 'upper': 12404, 'clair': 12405, 'thomasvissman': 12406, 'keithyyl': 12407, 'keithyy': 12408, 'babybackreeve': 12409, 'oct': 12410, 'scotrail': 12411, 'bloke': 12412, 'hassle': 12413, 'mousse': 12414, 'winik': 12415, 'maine': 12416, 'addict': 12417, 'loughborough': 12418, 'stephenking': 12419, 'thedarktower': 12420, 'bdisgusting': 12421, 'dundee': 12422, 'blairmcdougall': 12423, 'commenting': 12424, 'dealings': 12425, 'arkan': 12426, 'straightfire': 12427, 'waseembadami': 12428, 'condemning': 12429, 'gv': 12430, 'heirs': 12431, 'notified': 12432, 'banbridge': 12433, 'indoors': 12434, 'arfur': 12435, 'georgecole': 12436, 'ankara': 12437, 'malatya': 12438, 'orontem': 12439, 'ara': 12440, 'infiltrated': 12441, 'ashrafiyah': 12442, 'afrin': 12443, 'ypg': 12444, 'imposed': 12445, 'runaway': 12446, 'minion': 12447, 'thecomedyquote': 12448, 'shadezofgrey': 12449, 'thirst': 12450, 'perez': 12451, 'sandunes': 12452, 'gentle': 12453, 'lapping': 12454, 'gulls': 12455, 'sizewell': 12456, 'worldwatchesferguson': 12457, 'govjaynixon': 12458, 'clairecmc': 12459, 'tripoli': 12460, 'kristindavis': 12461, 'sedar': 12462, 'anaheim': 12463, 'deliberately': 12464, 'cpanel': 12465, 'kelworldpeace': 12466, 'taxstone': 12467, 'yoga': 12468, 'raidersreporter': 12469, 'cookie': 12470, 'dough': 12471, 'williamsburg': 12472, 'selangor': 12473, 'govts': 12474, 'advised': 12475, 'smell': 12476, 'rotting': 12477, 'potatoes': 12478, 'smelled': 12479, 'walthamstow': 12480, 'looooooooooool': 12481, 'mistrustful': 12482, 'friendship': 12483, 'onegreenplanet': 12484, 'giorgio': 12485, 'hiatt': 12486, 'neanderrebel': 12487, 'suit': 12488, 'belonged': 12489, 'democrat': 12490, 'yhngsjlg': 12491, 'tweeted': 12492, 'productive': 12493, 'yamaku': 12494, 'academy': 12495, 'rin': 12496, 'shizune': 12497, 'emi': 12498, 'kenji': 12499, 'nomiya': 12500, 'hisao': 12501, 'flip': 12502, 'cultivating': 12503, 'ccot': 12504, 'taint': 12505, 'worstoverdose': 12506, 'jaileens': 12507, 'caked': 12508, 'campsite': 12509, 'recommendations': 12510, 'toilets': 12511, 'pub': 12512, 'midges': 12513, 'snakes': 12514, 'starve': 12515, 'suru': 12516, 'launches': 12517, 'airstrikes': 12518, 'kurdistan': 12519, 'camps': 12520, 'fizz': 12521, 'vince': 12522, 'mcmahon': 12523, 'billionaire': 12524, 'haiku': 12525, 'arrogant': 12526, 'srajapakse': 12527, 'missy': 12528, 'suited': 12529, 'yee': 12530, 'haw': 12531, 'hotboy': 12532, 'watchthevideo': 12533, 'lahar': 12534, 'gwalior': 12535, 'grupdates': 12536, 'buscame': 12537, 'tu': 12538, 'melte': 12539, 'checkout': 12540, 'nurgle': 12541, 'features': 12542, 'snuck': 12543, 'khrone': 12544, 'dehydration': 12545, 'decree': 12546, 'neddick': 12547, 'evahanderek': 12548, 'marleyknysh': 12549, 'cantwaittoplayinminneapolis': 12550, 'sundercr': 12551, 'remixes': 12552, 'merged': 12553, 'evacuating': 12554, 'okcfox': 12555, 'offramp': 12556, 'gleaned': 12557, 'chandler': 12558, 'chews': 12559, 'chewing': 12560, 'gum': 12561, 'newcastleupontyne': 12562, 'widda': 12563, 'goner': 12564, 'attended': 12565, 'romford': 12566, 'londonfire': 12567, 'preservation': 12568, 'parks': 12569, 'imposition': 12570, 'imagined': 12571, 'prescott': 12572, 'jrlallo': 12573, 'narrator': 12574, 'chemically': 12575, 'lavatory': 12576, 'db': 12577, 'easier': 12578, 'nashvillefd': 12579, 'acted': 12580, 'swiftly': 12581, 'captainn': 12582, 'kinetic': 12583, 'typography': 12584, 'fuso': 12585, 'yamashiro': 12586, 'naval': 12587, 'cachet': 12588, 'chevrolet': 12589, 'pickup': 12590, 'glendale': 12591, 'trafficalert': 12592, 'citrus': 12593, 'azusa': 12594, 'motorcycles': 12595, 'involved': 12596, 'lanes': 12597, 'basketball': 12598, 'burberryant': 12599, 'faction': 12600, 'testimonials': 12601, 'voltaire': 12602, 'capeann': 12603, 'seagulls': 12604, 'triciaoneill': 12605, 'triciaoneillphoto': 12606, 'greenville': 12607, 'summons': 12608, 'pokemon': 12609, 'elation': 12610, 'papcrdoll': 12611, 'deactivate': 12612, 'witnesses': 12613, 'slopeofhope': 12614, 'dilute': 12615, 'bridgetown': 12616, 'superintende': 12617, 'albuquerque': 12618, 'kristenkoin': 12619, 'pdx': 12620, 'abq': 12621, 'bcuz': 12622, 'dances': 12623, 'coasts': 12624, 'sorrows': 12625, 'jarmusch': 12626, 'vampires': 12627, 'smells': 12628, 'teamhennessy': 12629, 'tprimo': 12630, 'djeddygnj': 12631, 'colombian': 12632, 'mello': 12633, 'argentaelite': 12634, 'cagov': 12635, 'vp': 12636, 'misfortunebut': 12637, 'nawf': 12638, 'poking': 12639, 'twentynine': 12640, 'kaylak': 12641, 'eve': 12642, 'jon': 12643, 'honored': 12644, 'crippling': 12645, 'tepco': 12646, 'integrative': 12647, 'mustachemurse': 12648, 'dateswhitecoats': 12649, 'pulled': 12650, 'mocked': 12651, 'nissannews': 12652, 'hospitalized': 12653, 'bing': 12654, 'ff': 12655, 'riceechrispies': 12656, 'committed': 12657, 'kessler': 12658, 'exponential': 12659, 'proliferation': 12660, 'satellites': 12661, 'gravitymovie': 12662, 'worldwideweb': 12663, 'breathing': 12664, 'stationcdrkelly': 12665, 'sys': 12666, 'clergyforced': 12667, 'grossly': 12668, 'disfigured': 12669, 'roaming': 12670, 'tadhgtgmtel': 12671, 'branco': 12672, 'fatally': 12673, 'adventuring': 12674, 'infinitegrace': 12675, 'mmxi': 12676, 'granted': 12677, 'whatever': 12678, 'theadvocatemag': 12679, 'brut': 12680, 'stunckle': 12681, 'gordon': 12682, 'crazydoctorlady': 12683, 'uranium': 12684, 'rods': 12685, 'creatures': 12686, 'argue': 12687, 'greensboro': 12688, 'suggs': 12689, 'psychrewatch': 12690, 'lover': 12691, 'drama': 12692, 'caserta': 12693, 'roma': 12694, 'allocating': 12695, 'veneto': 12696, 'theyre': 12697, 'eyesss': 12698, 'manitoba': 12699, 'occupy': 12700, 'patio': 12701, 'umbrella': 12702, 'flipped': 12703, 'suspense': 12704, 'ls': 12705, 'barely': 12706, 'grade': 12707, 'eddyville': 12708, 'slows': 12709, 'katunews': 12710, 'oak': 12711, 'southdowns': 12712, 'treeporn': 12713, 'consequences': 12714, 'insanelimits': 12715, 'plugin': 12716, 'enabled': 12717, 'tps': 12718, 'tdm': 12719, 'limits': 12720, 'mba': 12721, 'careen': 12722, 'eovm': 12723, 'stings': 12724, 'dm': 12725, 'duckvillelol': 12726, 'flips': 12727, 'grabs': 12728, 'niiiice': 12729, 'chorley': 12730, 'lancashire': 12731, 'fylde': 12732, 'preston': 12733, 'iconic': 12734, 'disappearing': 12735, 'hometown': 12736, 'karnythia': 12737, 'gaining': 12738, 'retiredfilth': 12739, 'unreal': 12740, 'pawsox': 12741, 'oblivion': 12742, 'hairdryer': 12743, 'fernandez': 12744, 'theblaze': 12745, 'hector': 12746, 'bellerin': 12747, 'questioning': 12748, 'regarding': 12749, 'perished': 12750, 'holodomor': 12751, 'erected': 12752, 'hardstyle': 12753, 'messy': 12754, 'alien': 12755, 'mixify': 12756, 'begging': 12757, 'rodkiai': 12758, 'dil': 12759, 'dreamer': 12760, 'adventures': 12761, 'mineness': 12762, 'quarrels': 12763, 'litter': 12764, 'locomotives': 12765, 'magne': 12766, 'traction': 12767, 'sportinggoods': 12768, 'kisumu': 12769, 'loner': 12770, 'diaries': 12771, 'patterns': 12772, 'twos': 12773, 'choked': 12774, 'revel': 12775, 'wmv': 12776, 'farewell': 12777, 'gtxrwm': 12778, 'piper': 12779, 'curda': 12780, 'gansey': 12781, 'busting': 12782, 'brick': 12783, 'walls': 12784, 'shield': 12785, 'cecilthelion': 12786, 'postponed': 12787, 'lurking': 12788, 'assume': 12789, 'holmgren': 12790, 'lou': 12791, 'robertbenglund': 12792, 'con': 12793, 'unkn': 12794, 'fowler': 12795, 'daewony': 12796, 'exhausted': 12797, 'hurricanes': 12798, 'terrified': 12799, 'shanaynay': 12800, 'atljw': 12801, 'cnnbrk': 12802, 'polit': 12803, 'aspect': 12804, 'however': 12805, 'icrc': 12806, 'heavydirtysoul': 12807, 'roppongi': 12808, 'minato': 12809, 'thatpersianguy': 12810, 'youngsafe': 12811, 'harden': 12812, 'flopping': 12813, 'identical': 12814, 'strutting': 12815, 'bg': 12816, 'soulja': 12817, 'chappaqua': 12818, 'redlands': 12819, 'sayed': 12820, 'ridha': 12821, 'amin': 12822, 'akh': 12823, 'congratulations': 12824, 'capturing': 12825, 'besieged': 12826, 'indiscriminate': 12827, 'courage': 12828, 'engage': 12829, 'mbataweel': 12830, 'binladen': 12831, 'kabarmesir': 12832, 'badr': 12833, 'rabaa': 12834, 'observed': 12835, 'rememberrabaa': 12836, 'thu': 12837, 'millcityio': 12838, 'theramin': 12839, 'todayng': 12840, 'bruv': 12841, 'dqsvyusy': 12842, 'brant': 12843, 'drummond': 12844, 'sisterhood': 12845, 'rosemarytravale': 12846, 'screwed': 12847, 'irishtimesworld': 12848, 'illnesses': 12849, 'crazyindapeg': 12850, 'understandable': 12851, 'bot': 12852, 'helens': 12853, 'jlabuz': 12854, 'pleasure': 12855, 'huzzah': 12856, 'molly': 12857, 'tanz': 12858, 'vermilion': 12859, 'eeasterling': 12860, 'liveleak': 12861, 'alfapedia': 12862, 'biolab': 12863, 'facilities': 12864, 'dumbfounded': 12865, 'domination': 12866, 'pounds': 12867, 'dundalk': 12868, 'askcharley': 12869, 'cher': 12870, 'lloyd': 12871, 'brighton': 12872, 'hove': 12873, 'reacts': 12874, 'ryleedowns': 12875, 'nevaehburton': 12876, 'aannnnd': 12877, 'ramp': 12878, 'abandonedpics': 12879, 'abbandoned': 12880, 'darsena': 12881, 'castello': 12882, 'scaligero': 12883, 'sirmione': 12884, 'confirmation': 12885, 'jtw': 12886, 'workplace': 12887, 'writings': 12888, 'contributions': 12889, 'earl': 12890, 'sow': 12891, 'aubilenon': 12892, 'markkriegsman': 12893, 'carolinagutierr': 12894, 'anonchimp': 12895, 'tie': 12896, 'gameday': 12897, 'stacdemon': 12898, 'mullin': 12899, 'sjubb': 12900, 'formed': 12901, 'sirtophamhat': 12902, 'scynic': 12903, 'nafeezahmed': 12904, 'jeremyduns': 12905, 'ryanoss': 12906, 'hitters': 12907, 'pitchers': 12908, 'pft': 12909, 'barkevious': 12910, 'mingo': 12911, 'browns': 12912, 'preschool': 12913, 'calestous': 12914, 'tanzania': 12915, 'census': 12916, 'grrrr': 12917, 'thorium': 12918, 'scandals': 12919, 'environmental': 12920, 'comings': 12921, 'labelled': 12922, 'skinny': 12923, 'screamqueens': 12924, 'katherine': 12925, 'dugout': 12926, 'lifelong': 12927, 'mumbling': 12928, 'cackling': 12929, 'wolter': 12930, 'peeters': 12931, 'cmpostela': 12932, 'mprnews': 12933, 'rhyme': 12934, 'tribe': 12935, 'titanic': 12936, 'chronicillness': 12937, 'avoided': 12938, 'mylifestory': 12939, 'khq': 12940, 'holidays': 12941, 'wordk': 12942, 'zmne': 12943, 'tbr': 12944, 'browsing': 12945, 'gr': 12946, 'homepage': 12947, 'pines': 12948, 'scrolling': 12949, 'exact': 12950, 'laevantine': 12951, 'fortunately': 12952, 'reworked': 12953, 'plumbing': 12954, 'glitter': 12955, 'pyramidhead': 12956, 'halt': 12957, 'hastings': 12958, 'checked': 12959, 'chambers': 12960, 'ykelquiban': 12961, 'mrmikeeaton': 12962, 'muazimus': 12963, 'hil': 12964, 'wahhabism': 12965, 'poconos': 12966, 'flaws': 12967, 'okinawa': 12968, 'maximum': 12969, 'overtime': 12970, 'stuck': 12971, 'kodak': 12972, 'metrics': 12973, 'penalties': 12974, 'pcps': 12975, 'physicians': 12976, 'huffpostcomedy': 12977, 'attendees': 12978, 'blanket': 12979, 'reafs': 12980, 'bluewestlo': 12981, 'fuddy': 12982, 'authenticating': 12983, 'sole': 12984, 'condition': 12985, 'terwilliger': 12986, 'limerick': 12987, 'aul': 12988, 'excuse': 12989, 'shoppe': 12990, 'horrors': 12991, 'harperanetflixshow': 12992, 'elxn': 12993, 'stopharper': 12994, 'kalinandmyles': 12995, 'kalinwhite': 12996, 'givebackkalinwhiteaccount': 12997, 'lucio': 12998, 'overwatch': 12999, 'mcdonalds': 13000, 'greatbritishbakeoff': 13001, 'nadiad': 13002, 'gujarat': 13003, 'thankkk': 13004, 'soo': 13005, 'notificationsu': 13006, 'fella': 13007, 'parsholics': 13008, 'superb': 13009, 'jus': 13010, 'awesomelove': 13011, 'frvrgrateful': 13012, 'tumblr': 13013, 'necro': 13014, 'interviews': 13015, 'submissions': 13016, 'modest': 13017, 'sniff': 13018, 'sniiiiiiff': 13019, 'donny': 13020, 'theevilolives': 13021, 'hypo': 13022, 'comcastcares': 13023, 'happing': 13024, 'audreyp': 13025, 'teena': 13026, 'darryl': 13027, 'brooks': 13028, 'elitesportsny': 13029, 'lopezandthelion': 13030, 'natsnation': 13031, 'dispatch': 13032, 'rutherford': 13033, 'brucewillis': 13034, 'monkeys': 13035, 'auction': 13036, 'coated': 13037, 'grit': 13038, 'corleonedaboss': 13039, 'significance': 13040, 'churubusco': 13041, 'roving': 13042, 'raccoons': 13043, 'toughens': 13044, 'estellasrevenge': 13045, 'swiming': 13046, 'draco': 13047, 'sparking': 13048, 'akxbskdn': 13049, 'legionna': 13050, 'playingnow': 13051, 'bloodbound': 13052, 'noches': 13053, 'bestia': 13054, 'alexis': 13055, 'sanchez': 13056, 'teammates': 13057, 'goodnight': 13058, 'gunners': 13059, 'nationwide': 13060, 'dress': 13061, 'memes': 13062, 'spark': 13063, 'benignovito': 13064, 'libertybell': 13065, 'hillarymass': 13066, 'shells': 13067, 'rebooting': 13068, 'swells': 13069, 'alexbelloli': 13070, 'outlaw': 13071, 'orbette': 13072, 'directed': 13073, 'firefigthers': 13074, 'mothe': 13075, 'breathe': 13076, 'nonucleariran': 13077, 'badirandeal': 13078, 'jebbush': 13079, 'nne': 13080, 'geysers': 13081, 'incognito': 13082, 'enders': 13083, 'mgs': 13084, 'pagexxi': 13085, 'hangout': 13086, 'dolce': 13087, 'prob': 13088, 'meets': 13089, 'youd': 13090, 'bo': 13091, 'perrie': 13092, 'edwards': 13093, 'engagement': 13094, 'darrylb': 13095, 'anarchic': 13096, 'teapot': 13097, 'boironusa': 13098, 'zeno': 13099, 'glononium': 13100, 'bashing': 13101, 'nitroglycerin': 13102, 'narendramodi': 13103, 'bjpsamvad': 13104, 'meekmill': 13105, 'trollingtilmeekdiss': 13106, 'innovation': 13107, 'treescape': 13108, 'ransomware': 13109, 'locked': 13110, 'wilson': 13111, 'killa': 13112, 'monkey': 13113, 'ninja': 13114, 'commence': 13115, 'colon': 13116, 'horiikawa': 13117, 'prove': 13118, 'begun': 13119, 'tren': 13120, 'phnotf': 13121, 'cheekiness': 13122, 'bleeds': 13123, 'recoil': 13124, 'baseballquotes': 13125, 'dynasty': 13126, 'silverhusky': 13127, 'shtap': 13128, 'salted': 13129, 'laying': 13130, 'dubloadz': 13131, 'droppd': 13132, 'meelllttting': 13133, 'dwarfonjetpack': 13134, 'spell': 13135, 'properly': 13136, 'tmgcgart': 13137, 'romeocrow': 13138, 'organizing': 13139, 'important': 13140, 'wolforth': 13141, 'fourth': 13142, 'altamonte': 13143, 'wps': 13144, 'gamertag': 13145, 'bexrayandvav': 13146, 'haydnexists': 13147, 'ona': 13148, 'tvd': 13149, 'provokes': 13150, 'guk': 13151, 'catskills': 13152, 'bobcats': 13153, 'backyards': 13154, 'vivid': 13155, 'triad': 13156, 'freddie': 13157, 'senatemajldr': 13158, 'catalogue': 13159, 'hazelannmac': 13160, 'ooh': 13161, 'hatman': 13162, 'delicious': 13163, 'freefromwolves': 13164, 'danny': 13165, 'hawaiianpaddlesports': 13166, 'roles': 13167, 'rudd': 13168, 'emile': 13169, 'hirsch': 13170, 'filmmakers': 13171, 'entretenimento': 13172, 'agony': 13173, 'wrightsboro': 13174, 'barcousky': 13175, 'pb': 13176, 'lexington': 13177, 'expo': 13178, 'keith': 13179, 'ibaraki': 13180, 'prefecture': 13181, 'offing': 13182, 'pumpkin': 13183, 'lolly': 13184, 'knickers': 13185, 'vaginaorcake': 13186, 'dirty': 13187, 'hick': 13188, 'pfft': 13189, 'unhinged': 13190, 'machismo': 13191, 'bullshit': 13192, 'beaverton': 13193, 'samel': 13194, 'novices': 13195, 'renison': 13196, 'tasmania': 13197, 'tem': 13198, 'newsmornings': 13199, 'suplex': 13200, 'durrellb': 13201, 'punishing': 13202, 'whitby': 13203, 'relentless': 13204, 'pascoe': 13205, 'vale': 13206, 'outbound': 13207, 'tullamarine': 13208, 'citylink': 13209, 'moreland': 13210, 'mongolia': 13211, 'trident': 13212, 'pumper': 13213, 'ims': 13214, 'ho': 13215, 'veldfest': 13216, 'announces': 13217, 'refunds': 13218, 'highland': 13219, 'medics': 13220, 'dorling': 13221, 'kindersley': 13222, 'publishing': 13223, 'originalfunko': 13224, 'spencers': 13225, 'buddys': 13226, 'alabamaquake': 13227, 'versethe': 13228, 'interlaken': 13229, 'rsa': 13230, 'baghdad': 13231, 'lubrication': 13232, 'metrofmtalk': 13233, 'rams': 13234, 'rammed': 13235, 'soldi': 13236, 'advantages': 13237, 'apropos': 13238, 'favorable': 13239, 'regard': 13240, 'pwhvgwax': 13241, 'bayonets': 13242, 'departments': 13243, 'randpaul': 13244, 'evilempire': 13245, 'jadehelm': 13246, 'dysfunctional': 13247, 'mcconnell': 13248, 'judicial': 13249, 'nominations': 13250, 'govern': 13251, 'notorious': 13252, 'laboratory': 13253, 'dealer': 13254, 'peta': 13255, 'isnt': 13256, 'parade': 13257, 'oneheartonemindonecss': 13258, 'rhee': 13259, 'deliciousvomit': 13260, 'defeater': 13261, 'yeaahh': 13262, 'bribriony': 13263, 'ndtv': 13264, 'drayesha': 13265, 'indiakomuntorjawabdo': 13266, 'pleb': 13267, 'perthshire': 13268, 'aberdeen': 13269, 'guelph': 13270, 'warped': 13271, 'attila': 13272, 'cafetiere': 13273, 'grounds': 13274, 'crockery': 13275, 'fau': 13276, 'absolute': 13277, 'blackparavde': 13278, 'frankie': 13279, 'tyleroakley': 13280, 'murfreesboro': 13281, 'dnj': 13282, 'postering': 13283, 'calgaryfringe': 13284, 'mothernature': 13285, 'yycfringe': 13286, 'killhard': 13287, 'bella': 13288, 'rosalie': 13289, 'sponsorships': 13290, 'slain': 13291, 'mexican': 13292, 'unknowingly': 13293, 'breitbartnews': 13294, 'islamabad': 13295, 'psn': 13296, 'pipbois': 13297, 'demetae': 13298, 'najibrazak': 13299, 'malaysiaairlines': 13300, 'suffield': 13301, 'dam': 13302, 'gms': 13303, 'multidimensional': 13304, 'catwalk': 13305, 'gasoline': 13306, 'anchors': 13307, 'bv': 13308, 'publish': 13309, 'favor': 13310, 'coppednews': 13311, 'freeze': 13312, 'fruits': 13313, 'veggies': 13314, 'goulburn': 13315, 'bilsen': 13316, 'disappeared': 13317, 'joining': 13318, 'vvorm': 13319, 'poffin': 13320, 'jimin': 13321, 'mrrobinson': 13322, 'thesteveharveyshow': 13323, 'vibe': 13324, 'abran': 13325, 'caballero': 13326, 'adamrubinespn': 13327, 'arm': 13328, 'overrated': 13329, 'lydeard': 13330, 'thewesterngaz': 13331, 'overwhelming': 13332, 'fairly': 13333, 'adjusted': 13334, 'metrotown': 13335, 'maintained': 13336, 'apartments': 13337, 'burnaby': 13338, 'changefortheworse': 13339, 'thebriankrause': 13340, 'leos': 13341, 'metaphorically': 13342, 'piperwearsthepants': 13343, 'charmed': 13344, 'batteries': 13345, 'ds': 13346, 'tees': 13347, 'teesside': 13348, 'antpips': 13349, 'johnejefferson': 13350, 'obviously': 13351, 'heed': 13352, 'package': 13353, 'tours': 13354, 'yyeso': 13355, 'sl': 13356, 'greinke': 13357, 'worcester': 13358, 'mafireems': 13359, 'wmur': 13360, 'kcarosawmur': 13361, 'secondhand': 13362, 'therealrittz': 13363, 'galapa': 13364, 'ntico': 13365, 'llegaste': 13366, 'bellville': 13367, 'cloydrivers': 13368, 'tosu': 13369, 'championship': 13370, 'fonts': 13371, 'fewmoretweets': 13372, 'neighbors': 13373, 'balikesir': 13374, 'eskisehir': 13375, 'feminist': 13376, 'fried': 13377, 'ravioli': 13378, 'porcini': 13379, 'ricotta': 13380, 'warming': 13381, 'foliage': 13382, 'ignited': 13383, 'douchebag': 13384, 'hiker': 13385, 'tafekop': 13386, 'matsepe': 13387, 'imperialism': 13388, 'spins': 13389, 'militarism': 13390, 'crushes': 13391, 'peoples': 13392, 'rowysolouisville': 13393, 'anew': 13394, 'cancers': 13395, 'equate': 13396, 'kowing': 13397, 'beclearoncancer': 13398, 'drothvader': 13399, 'nevalistis': 13400, 'arachys': 13401, 'inbetween': 13402, 'gangsta': 13403, 'icymagistrate': 13404, 'icicle': 13405, 'projectiles': 13406, 'various': 13407, 'miniature': 13408, 'rzl': 13409, 'atm': 13410, 'displaces': 13411, 'breakth': 13412, 'broseidonrex': 13413, 'dapurplesharpie': 13414, 'skimmed': 13415, 'kamindoz': 13416, 'boots': 13417, 'filming': 13418, 'sonyprousa': 13419, 'lumixusa': 13420, 'djiglobal': 13421, 'profbriancox': 13422, 'xiumin': 13423, 'nonexistent': 13424, 'solos': 13425, 'makai': 13426, 'daughterofnai': 13427, 'tenshi': 13428, 'yuki': 13429, 'pocatello': 13430, 'nagel': 13431, 'vicken': 13432, 'basedlarock': 13433, 'goonc': 13434, 'moe': 13435, 'bouta': 13436, 'flint': 13437, 'metropolis': 13438, 'highsmith': 13439, 'foodborne': 13440, 'illness': 13441, 'frackfreelancs': 13442, 'dears': 13443, 'deccgovuk': 13444, 'frackfree': 13445, 'tarleton': 13446, 'namjoon': 13447, 'bye': 13448, 'redsoxnation': 13449, 'juliechen': 13450, 'liv': 13451, 'oliviaapalmerr': 13452, 'thatswhatfriendsarefor': 13453, 'salvages': 13454, 'tomatoes': 13455, 'cabrillo': 13456, 'magellan': 13457, 'mir': 13458, 'cameronhigdon': 13459, 'texasss': 13460, 'optich': 13461, 'cz': 13462, 'askh': 13463, 'jealous': 13464, 'elgato': 13465, 'bday': 13466, 'citizen': 13467, 'blowjobs': 13468, 'cannibalism': 13469, 'masturbation': 13470, 'holtz': 13471, 'quiet': 13472, 'phandom': 13473, 'tire': 13474, 'sbee': 13475, 'gilderoy': 13476, 'nails': 13477, 'throwback': 13478, 'lucymayofficial': 13479, 'acrylic': 13480, 'campground': 13481, 'cameronciletti': 13482, 'tigersjostun': 13483, 'cutting': 13484, 'celebrety': 13485, 'yooooooo': 13486, 'disclos': 13487, 'patrickjbutler': 13488, 'damiengayle': 13489, 'closure': 13490, 'burbank': 13491, 'killings': 13492, 'commenters': 13493, 'dothraki': 13494, 'underestimate': 13495, 'susanj': 13496, 'allinwithchris': 13497, 'lawfulsurvivor': 13498, 'morales': 13499, 'andrea': 13500, 'jacqui': 13501, 'merle': 13502, 'custom': 13503, 'threatconnect': 13504, 'infosec': 13505, 'dfir': 13506, 'threatintel': 13507, 'bites': 13508, 'neck': 13509, 'specific': 13510, 'strategies': 13511, 'securing': 13512, 'blowout': 13513, 'xojademarie': 13514, 'batista': 13515, 'webster': 13516, 'mogadishu': 13517, 'indigo': 13518, 'carful': 13519, 'spotting': 13520, 'baggage': 13521, 'robin': 13522, 'although': 13523, 'steak': 13524, 'pastie': 13525, 'industrial': 13526, 'negotiating': 13527, 'simultaneous': 13528, 'uncertain': 13529, 'be': 13530, 'sketch': 13531, 'startrek': 13532, 'bd': 13533, 'sham': 13534, 'stanford': 13535, 'blackinamerica': 13536, 'growingupblack': 13537, 'remote': 13538, 'encaustic': 13539, 'cerography': 13540, 'byityf': 13541, 'kc': 13542, 'masses': 13543, 'oilandgas': 13544, 'kasich': 13545, 'wordldwide': 13546, 'cest': 13547, 'current': 13548, 'fforecast': 13549, 'riverroaming': 13550, 'tarmineta': 13551, 'mrtophypup': 13552, 'drools': 13553, 'wrex': 13554, 'helsinki': 13555, 'josephjett': 13556, 'theblackshag': 13557, 'dannyoneil': 13558, 'noxious': 13559, 'michelleellle': 13560, 'euro': 13561, 'guthrie': 13562, 'op': 13563, 'huntington': 13564, 'irishirr': 13565, 'mchapmanwsaz': 13566, 'wsaz': 13567, 'brittany': 13568, 'kellyannwx': 13569, 'bcfcticketlady': 13570, 'aamir': 13571, 'javaid': 13572, 'kro': 13573, 'pittsboro': 13574, 'quirk': 13575, 'dantmatrafajlo': 13576, 'violentfeminazi': 13577, 'armenians': 13578, 'coreyashe': 13579, 'jamrock': 13580, 'remodeled': 13581, 'pearlharbor': 13582, 'ally': 13583, 'skill': 13584, 'hired': 13585, 'incompetent': 13586, 'lewis': 13587, 'quotes': 13588, 'puente': 13589, 'crowned': 13590, 'tends': 13591, 'buckmasonusa': 13592, 'supporter': 13593, 'legitimate': 13594, 'needing': 13595, 'heidia': 13596, 'butterfinger': 13597, 'hoods': 13598, 'silentmind': 13599, 'bookofdaniel': 13600, 'notts': 13601, 'wonderfully': 13602, 'installment': 13603, 'ng': 13604, 'meme': 13605, 'baiting': 13606, 'camper': 13607, 'foxsportscom': 13608, 'peterdutton': 13609, 'labor': 13610, 'dope': 13611, 'kjfordays': 13612, 'shayoly': 13613, 'hogwarts': 13614, 'wwexdreamer': 13615, 'rotherham': 13616, 'terrific': 13617, 'tactful': 13618, 'direct': 13619, 'premier': 13620, 'ableg': 13621, 'cdnpoli': 13622, 'directions': 13623, 'cafire': 13624, 'inverness': 13625, 'ezralevant': 13626, 'moms': 13627, 'freemurphy': 13628, 'hitchhiking': 13629, 'sorely': 13630, 'dreamoforgonon': 13631, 'teeess': 13632, 'bona': 13633, 'fide': 13634, 'cislady': 13635, 'incidental': 13636, 'tewkesbury': 13637, 'prepares': 13638, 'juanny': 13639, 'beisbol': 13640, 'lgm': 13641, 'officialmqm': 13642, 'vit': 13643, 'ria': 13644, 'es': 13645, 'marshall': 13646, 'dambisa': 13647, 'moyo': 13648, 'prosyn': 13649, 'oped': 13650, 'cruces': 13651, 'neat': 13652, 'achieving': 13653, 'deltachildren': 13654, 'instaquote': 13655, 'quoteoftheday': 13656, 'waltdisney': 13657, 'canterbury': 13658, 'jaiden': 13659, 'establishment': 13660, 'donzilla': 13661, 'kaputt': 13662, 'gregory': 13663, 'wickett': 13664, 'cervelli': 13665, 'puff': 13666, 'sarniamakchris': 13667, 'hromadske': 13668, 'kasiadear': 13669, 'silly': 13670, 'clowns': 13671, 'riverside': 13672, 'kcrw': 13673, 'stallion': 13674, 'kbeastx': 13675, 'genisys': 13676, 'wc': 13677, 'weebly': 13678, 'eaton': 13679, 'doningtondash': 13680, 'sept': 13681, 'donington': 13682, 'diageo': 13683, 'stresses': 13684, 'revolt': 13685, 'zhejiang': 13686, 'hpa': 13687, 'gust': 13688, 'skyhold': 13689, 'fadelurker': 13690, 'dalinthanelan': 13691, 'camped': 13692, 'redcliffe': 13693, 'aidan': 13694, 'cpt': 13695, 'jhb': 13696, 'navigate': 13697, 'inevitable': 13698, 'internal': 13699, 'audit': 13700, 'ctafails': 13701, 'hourfamine': 13702, 'bangladesh': 13703, 'worldvision': 13704, 'eles': 13705, 'kaylee': 13706, 'jannellix': 13707, 'puts': 13708, 'kiro': 13709, 'sheer': 13710, 'herring': 13711, 'scraptrident': 13712, 'deans': 13713, 'stupidity': 13714, 'battles': 13715, 'committing': 13716, 'angela': 13717, 'sanders': 13718, 'roundhouse': 13719, 'calamity': 13720, 'mpp': 13721, 'lambasts': 13722, 'kanglaonline': 13723, 'oneborn': 13724, 'stormbeard': 13725, 'judas': 13726, 'priest': 13727, 'scorpions': 13728, 'astonishing': 13729, 'gig': 13730, 'materialism': 13731, 'talkradio': 13732, 'raychielovesu': 13733, 'lemonade': 13734, 'semi': 13735, 'paid': 13736, 'cydia': 13737, 'tweak': 13738, 'phillipten': 13739, 'deputies': 13740, 'dispute': 13741, 'gunfail': 13742, 'nra': 13743, 'bchs': 13744, 'lesley': 13745, 'mariiee': 13746, 'ngata': 13747, 'lions': 13748, 'difficulties': 13749, 'osteen': 13750, 'reizei': 13751, 'sama': 13752, 'rindou': 13753, 'parisian': 13754, 'dollars': 13755, 'blakeschmidt': 13756, 'stark': 13757, 'imsushickoflove': 13758, 'alekalicante': 13759, 'gauze': 13760, 'lightseraphs': 13761, 'pikachu': 13762, 'diretube': 13763, 'benton': 13764, 'itss': 13765, 'selenaluna': 13766, 'uchwtlc': 13767, 'zjugh': 13768, 'ydlb': 13769, 'iw': 13770, 'reboot': 13771, 'bel': 13772, 'thruuu': 13773, 'vitaly': 13774, 'churkin': 13775, 'briliantly': 13776, 'exposes': 13777, 'klimkin': 13778, 'shopping': 13779, 'defensenews': 13780, 'comus': 13781, 'subsd': 13782, 'railguns': 13783, 'badge': 13784, 'wrapped': 13785, 'mnl': 13786, 'tallahassee': 13787, 'vaxshill': 13788, 'wreak': 13789, 'seatbelt': 13790, 'concentration': 13791, 'kurds': 13792, 'trampling': 13793, 'turkmen': 13794, 'vandalized': 13795, 'diyala': 13796, 'cdcgov': 13797, 'reminded': 13798, 'freshly': 13799, 'coiffed': 13800, 'devon': 13801, 'minna': 13802, 'su': 13803, 'stevie': 13804, 'breeder': 13805, 'bred': 13806, 'dragonvale': 13807, 'strain': 13808, 'mugged': 13809, 'excuses': 13810, 'oman': 13811, 'muscat': 13812, 'seeb': 13813, 'tremor': 13814, 'dlc': 13815, 'leedsrouge': 13816, 'nail': 13817, 'mariomaraczi': 13818, 'freaked': 13819, 'commerce': 13820, 'counting': 13821, 'bene': 13822, 'gesserit': 13823, 'litany': 13824, 'dune': 13825, 'atgrannyshouse': 13826, 'toocodtodd': 13827, 'wyattb': 13828, 'winner': 13829, 'jolly': 13830, 'jinu': 13831, 'babri': 13832, 'todayhave': 13833, 'revenge': 13834, 'aunt': 13835, 'fierce': 13836, 'thisisfaz': 13837, 'mixes': 13838, 'byebyesoundcloud': 13839, 'misdirection': 13840, 'ignite': 13841, 'vanishing': 13842, 'kurokobot': 13843, 'pettyville': 13844, 'drying': 13845, 'jamshedpur': 13846, 'renamed': 13847, 'goonda': 13848, 'motley': 13849, 'hooligans': 13850, 'selfavowed': 13851, 'crooks': 13852, 'determined': 13853, 'democracy': 13854, 'wrote': 13855, 'greatly': 13856, 'npzp': 13857, 'seanpeconi': 13858, 'lynchonsports': 13859, 'criscyborg': 13860, 'scandal': 13861, 'parliamentary': 13862, 'expenses': 13863, 'subsequent': 13864, 'sackings': 13865, 'sleeper': 13866, 'railing': 13867, 'pit': 13868, 'lynchburg': 13869, 'prosper': 13870, 'comdev': 13871, 'stations': 13872, 'broadcasting': 13873, 'programs': 13874, 'upcoming': 13875, 'uabstephenlong': 13876, 'courtlizcamp': 13877, 'nifc': 13878, 'closures': 13879, 'uphill': 13880, 'personalize': 13881, 'customer': 13882, 'islamist': 13883, 'anjem': 13884, 'choudary': 13885, 'shire': 13886, 'cocaine': 13887, 'coke': 13888, 'hannahkauthor': 13889, 'freeamirnow': 13890, 'freeallfour': 13891, 'garrison': 13892, 'sector': 13893, 'vaca': 13894, 'benson': 13895, 'clegg': 13896, 'maps': 13897, 'txlege': 13898, 'unsigned': 13899, 'codythompson': 13900, 'lakeeffect': 13901, 'twill': 13902, 'denim': 13903, 'jackets': 13904, 'moly': 13905, 'gilmanrocks': 13906, 'aberdeenshire': 13907, 'trails': 13908, 'roadid': 13909, 'compton': 13910, 'oversee': 13911, 'folk': 13912, 'doe': 13913, 'lifeaintfairkid': 13914, 'brooo': 13915, 'gards': 13916, 'shelli': 13917, 'entitlement': 13918, 'goodell': 13919, 'brandonmulcahy': 13920, 'fpine': 13921, 'dancer': 13922, 'gmmbc': 13923, 'inspiring': 13924, 'spacex': 13925, 'musk': 13926, 'strict': 13927, 'liability': 13928, 'component': 13929, 'bestie': 13930, 'chainsaw': 13931, 'mooseknuckle': 13932, 'lolgop': 13933, 'fraud': 13934, 'vra': 13935, 'tirelessly': 13936, 'shops': 13937, 'dented': 13938, 'deductible': 13939, 'wcvb': 13940, 'err': 13941, 'flour': 13942, 'klarajoelsson': 13943, 'bummer': 13944, 'mackay': 13945, 'mmmmmm': 13946, 'oooooohhhh': 13947, 'oooh': 13948, 'puncture': 13949, 'foreign': 13950, 'index': 13951, 'icd': 13952, 'thriving': 13953, 'hub': 13954, 'flamethrower': 13955, 'dirk': 13956, 'trossen': 13957, 'lighter': 13958, 'innsmouth': 13959, 'staged': 13960, 'locomotive': 13961, 'gregorysanders': 13962, 'usdot': 13963, 'stat': 13964, 'lightrail': 13965, 'hints': 13966, 'snippets': 13967, 'apologies': 13968, 'travis': 13969, 'nuys': 13970, 'vannuyscouncil': 13971, 'exited': 13972, 'cech': 13973, 'enolagay': 13974, 'disarmed': 13975, 'cheshire': 13976, 'allover': 13977, 'supportive': 13978, 'economically': 13979, 'imawesome': 13980, 'yug': 13981, 'itzsteven': 13982, 'xdojjjj': 13983, 'whopper': 13984, 'starmade': 13985, 'stardate': 13986, 'planetary': 13987, 'danielle': 13988, 'ou': 13989, 'wbball': 13990, 'bestcoast': 13991, 'alexjacobsonpfs': 13992, 'andre': 13993, 'gore': 13994, 'lalaloopsy': 13995, 'dolls': 13996, 'seed': 13997, 'sunburst': 13998, 'seashore': 13999, 'spice': 14000, 'kajang': 14001, 'uitm': 14002, 'puncak': 14003, 'kettering': 14004, 'bailed': 14005, 'nite': 14006, 'bangor': 14007, 'johndcgow': 14008, 'xi': 14009, 'yahoonewsdigest': 14010, 'lasted': 14011, 'standstill': 14012, 'blevins': 14013, 'receives': 14014, 'impacting': 14015, 'push': 14016, 'railways': 14017, 'gladiator': 14018, 'casually': 14019, 'jasmine': 14020, 'senate': 14021, 'spilled': 14022, 'crude': 14023, 'previously': 14024, 'contoocook': 14025, 'politicians': 14026, 'plannedparenthood': 14027, 'fooled': 14028, 'ruddyyyyyy': 14029, 'jamiegriff': 14030, 'jamie': 14031, 'stavernise': 14032, 'repay': 14033, 'delivered': 14034, 'juan': 14035, 'himeruisu': 14036, 'shove': 14037, 'pillows': 14038, 'muffle': 14039, 'ssssnell': 14040, 'factor': 14041, 'ropes': 14042, 'angers': 14043, 'shitton': 14044, 'exclusively': 14045, 'playthrough': 14046, 'saskatchewan': 14047, 'jamienye': 14048, 'coaching': 14049, 'defence': 14050, 'cursed': 14051, 'stern': 14052, 'lesbians': 14053, 'boyinahorsemask': 14054, 'panda': 14055, 'highqualitybird': 14056, 'reverse': 14057, 'specifically': 14058, 'utilized': 14059, 'gut': 14060, 'deutsch': 14061, 'rotten': 14062, 'monarchy': 14063, 'brinco': 14064, 'abia': 14065, 'inec': 14066, 'ikpeazu': 14067, 'apga': 14068, 'kotolily': 14069, 'hellotybeeren': 14070, 'requiem': 14071, 'illegals': 14072, 'protected': 14073, 'hustletown': 14074, 'tinybaby': 14075, 'adultblackmale': 14076, 'mattytalks': 14077, 'mwednesday': 14078, 'londonstan': 14079, 'keits': 14080, 'liva': 14081, 'obligatory': 14082, 'promised': 14083, 'nukes': 14084, 'onlinemh': 14085, 'onlinea': 14086, 'whistle': 14087, 'torch': 14088, 'knife': 14089, 'texansdc': 14090, 'kylekrenek': 14091, 'zepp': 14092, 'frobeus': 14093, 'teddy': 14094, 'mare': 14095, 'olliebailey': 14096, 'havnt': 14097, 'discount': 14098, 'redesigning': 14099, 'itrawcwb': 14100, 'eaubonne': 14101, 'mammy': 14102, 'hendy': 14103, 'purdies': 14104, 'meereen': 14105, 'remembrance': 14106, 'kingswinford': 14107, 'typing': 14108, 'ants': 14109, 'notes': 14110, 'daviesmutia': 14111, 'unexplainable': 14112, 'childhooddefined': 14113, 'ashghebranious': 14114, 'rights': 14115, 'trans': 14116, 'janiethekillr': 14117, 'sketchbook': 14118, 'biting': 14119, 'mask': 14120, 'marge': 14121, 'eheks': 14122, 'ticklemeshawn': 14123, 'evebrigid': 14124, 'finalise': 14125, 'alt': 14126, 'electro': 14127, 'comingsoon': 14128, 'bone': 14129, 'opener': 14130, 'gasping': 14131, 'giggling': 14132, 'shipsxanchors': 14133, 'idek': 14134, 'dogger': 14135, 'westward': 14136, 'regent': 14137, 'towing': 14138, 'metre': 14139, 'reviewing': 14140, 'commuters': 14141, 'pandemic': 14142, 'rappers': 14143, 'wesleylowery': 14144, 'overland': 14145, 'robertharding': 14146, 'repjohnkatko': 14147, 'netanyahu': 14148, 'flush': 14149, 'djjohnblaze': 14150, 'shout': 14151, 'sothwest': 14152, 'harbinger': 14153, 'legacyofthesith': 14154, 'sagacioussaber': 14155, 'lordofbetrayal': 14156, 'crescent': 14157, 'newser': 14158, 'portoviejo': 14159, 'manabi': 14160, 'pouring': 14161, 'coquitlam': 14162, 'restart': 14163, 'psychological': 14164, 'appy': 14165, 'myths': 14166, 'obscuring': 14167, 'salon': 14168, 'kitana': 14169, 'slay': 14170, 'kody': 14171, 'kombatfans': 14172, 'clyde': 14173, 'asianshawtyy': 14174, 'dramaa': 14175, 'llama': 14176, 'lilourry': 14177, 'stan': 14178, 'narry': 14179, 'losangelestimes': 14180, 'generous': 14181, 'feeds': 14182, 'thedailybeast': 14183, 'neces': 14184, 'todayngr': 14185, 'towns': 14186, 'marketforce': 14187, 'crane': 14188, 'demolishes': 14189, 'hoisting': 14190, 'band': 14191, 'bbcintroducing': 14192, 'purpleturtlerdg': 14193, 'giantgiantsound': 14194, 'rdg': 14195, 'jasalhad': 14196, 'brianboru': 14197, 'jimskiv': 14198, 'hijinks': 14199, 'mega': 14200, 'droughts': 14201, 'sewing': 14202, 'jailbreak': 14203, 'bayonne': 14204, 'bugs': 14205, 'symbolicjensen': 14206, 'martynwaites': 14207, 'valentine': 14208, 'oompah': 14209, 'waits': 14210, 'bestfriends': 14211, 'yourboy': 14212, 'shawn': 14213, 'mxaaaa': 14214, 'africans': 14215, 'battered': 14216, 'uprootin': 14217, 'kellkane': 14218, 'narrowly': 14219, 'averted': 14220, 'interrupt': 14221, 'bernard': 14222, 'renovation': 14223, 'entrepreneur': 14224, 'smallbiz': 14225, 'rabidmonkeys': 14226, 'gamin': 14227, 'ight': 14228, 'badastronomer': 14229, 'farther': 14230, 'exercise': 14231, 'pledge': 14232, 'allegiance': 14233, 'groningen': 14234, 'shekhargupta': 14235, 'mihirssharma': 14236, 'realised': 14237, 'trp': 14238, 'ads': 14239, 'mockery': 14240, 'emporia': 14241, 'outs': 14242, 'superpower': 14243, 'buchana': 14244, 'dalkeith': 14245, 'edison': 14246, 'lightbulb': 14247, 'teslas': 14248, 'wank': 14249, 'easton': 14250, 'softball': 14251, 'fastpitch': 14252, 'wolmers': 14253, 'jamaicaobserver': 14254, 'cnewslive': 14255, 'nashua': 14256, 'tradcatknight': 14257, 'okanowa': 14258, 'mainline': 14259, 'andy': 14260, 'difference': 14261, 'masterchef': 14262, 'yeda': 14263, 'yakub': 14264, 'condemn': 14265, 'unity': 14266, 'weeaboos': 14267, 'yygb': 14268, 'strongest': 14269, 'referencereference': 14270, 'xekstrin': 14271, 'nostrils': 14272, 'cried': 14273, 'partake': 14274, 'creel': 14275, 'moron': 14276, 'brainless': 14277, 'schoolboy': 14278, 'avoids': 14279, 'rockford': 14280, 'nugget': 14281, 'phiddleface': 14282, 'normally': 14283, 'embrace': 14284, 'legionnaire': 14285, 'lyeh': 14286, 'ursula': 14287, 'drool': 14288, 'protoshoggoth': 14289, 'everever': 14290, 'scheer': 14291, 'huebel': 14292, 'pyrotechnic': 14293, 'artwork': 14294, 'cai': 14295, 'guo': 14296, 'qiang': 14297, 'explodes': 14298, 'blossom': 14299, 'davao': 14300, 'importance': 14301, 'exits': 14302, 'heartbeat': 14303, 'familiar': 14304, 'kinder': 14305, 'reporters': 14306, 'planeta': 14307, 'soultech': 14308, 'trey': 14309, 'songz': 14310, 'oblivious': 14311, 'gesture': 14312, 'choosegod': 14313, 'restoringpaths': 14314, 'missionhills': 14315, 'thinner': 14316, 'loot': 14317, 'ricin': 14318, 'cartel': 14319, 'heroine': 14320, 'bust': 14321, 'bradford': 14322, 'weep': 14323, 'featuring': 14324, 'favorited': 14325, 'malang': 14326, 'intervene': 14327, 'vitesse': 14328, 'supporters': 14329, 'clash': 14330, 'buildup': 14331, 'bandung': 14332, 'aimlessly': 14333, 'detersion': 14334, 'hlg': 14335, 'nazis': 14336, 'istanbul': 14337, 'agalloch': 14338, 'nicoma': 14339, 'choctaw': 14340, 'kach': 14341, 'jannet': 14342, 'concrete': 14343, 'feb': 14344, 'poem': 14345, 'daubt': 14346, 'chubychux': 14347, 'brochure': 14348, 'downside': 14349, 'wny': 14350, 'firework': 14351, 'cinla': 14352, 'windowgatribble': 14353, 'contrasts': 14354, 'foreboding': 14355, 'expansive': 14356, 'divisions': 14357, 'saturation': 14358, 'hue': 14359, 'wiltshire': 14360, 'trained': 14361, 'westend': 14362, 'puritan': 14363, 'dwilliams': 14364, 'ieansquad': 14365, 'ayshbanaysh': 14366, 'emotion': 14367, 'grapes': 14368, 'archipelagowolves': 14369, 'nearing': 14370, 'extinction': 14371, 'protection': 14372, 'standforwolves': 14373, 'ymcglaun': 14374, 'connects': 14375, 'charter': 14376, 'vrwc': 14377, 'ol': 14378, 'haiti': 14379, 'jakartapost': 14380, 'typewriter': 14381, 'gunk': 14382, 'mirad': 14383, 'evaded': 14384, 'slate': 14385, 'malistkiss': 14386, 'sunnis': 14387, 'righteous': 14388, 'shias': 14389, 'defeats': 14390, 'ideals': 14391, 'documentary': 14392, 'narrated': 14393, 'parter': 14394, 'bearers': 14395, 'charlieputh': 14396, 'vibrates': 14397, 'handle': 14398, 'pelham': 14399, 'microbes': 14400, 'joints': 14401, 'eliminate': 14402, 'homeimprovement': 14403, 'asgard': 14404, 'godof': 14405, 'loki': 14406, 'daggers': 14407, 'jammed': 14408, 'thigh': 14409, 'grabbed': 14410, 'sif': 14411, 'uncontrollable': 14412, 'nathan': 14413, 'sequel': 14414, 'ralph': 14415, 'catalonia': 14416, 'ling': 14417, 'rainbows': 14418, 'brandonskeie': 14419, 'samsmithworld': 14420, 'gail': 14421, 'russell': 14422, 'dalroy': 14423, 'devpeace': 14424, 'lax': 14425, 'ceder': 14426, 'mclaughlin': 14427, 'stateless': 14428, 'correcting': 14429, 'hendersonville': 14430, 'annoucement': 14431, 'risky': 14432, 'costly': 14433, 'blackfalds': 14434, 'sailors': 14435, 'artillery': 14436, 'cartridges': 14437, 'norfolk': 14438, 'waited': 14439, 'cab': 14440, 'goldrush': 14441, 'buhh': 14442, 'designed': 14443, 'quests': 14444, 'arts': 14445, 'mic': 14446, 'nycha': 14447, 'tale': 14448, 'pox': 14449, 'infectiousdiseases': 14450, 'bleak': 14451, 'elecman': 14452, 'pompano': 14453, 'dries': 14454, 'bhp': 14455, 'billiton': 14456, 'goode': 14457, 'ski': 14458, 'championships': 14459, 'mon': 14460, 'chaboyyhd': 14461, 'dukes': 14462, 'undercover': 14463, 'disappears': 14464, 'benkin': 14465, 'mili': 14466, 'probs': 14467, 'rebahe': 14468, 'zenande': 14469, 'mcfen': 14470, 'ndzedze': 14471, 'themaine': 14472, 'ifak': 14473, 'efak': 14474, 'whaley': 14475, 'ofclans': 14476, 'keli': 14477, 'halsey': 14478, 'troye': 14479, 'collab': 14480, 'dressed': 14481, 'afycso': 14482, 'allergic': 14483, 'sunflower': 14484, 'argentings': 14485, 'aaaaaaallll': 14486, 'casewrites': 14487, 'taxes': 14488, 'conversing': 14489, 'janet': 14490, 'invincible': 14491, 'panam': 14492, 'redeem': 14493, 'serene': 14494, 'ofentse': 14495, 'tsie': 14496, 'insomnia': 14497, 'costa': 14498, 'urg': 14499, 'hienshi': 14500, 'gbay': 14501, 'wouldnt': 14502, 'samihonkonen': 14503, 'impressive': 14504, 'diplomat': 14505, 'exum': 14506, 'stem': 14507, 'mofanon': 14508, 'retweet': 14509, 'aubrey': 14510, 'sholt': 14511, 'mtgrotto': 14512, 'carlsbadbugkil': 14513, 'lowered': 14514, 'wealthy': 14515, 'sacrifice': 14516, 'bremerton': 14517, 'spin': 14518, 'hampstead': 14519, 'kushwush': 14520, 'hogging': 14521, 'intelligence': 14522, 'bhusa': 14523, 'gailsimone': 14524, 'iwasdisappointedby': 14525, 'telltale': 14526, 'thanjavur': 14527, 'unharmed': 14528, 'denied': 14529, 'nationals': 14530, 'beauscoven': 14531, 'debbie': 14532, 'camarillo': 14533, 'organicallyrude': 14534, 'mattingly': 14535, 'bundy': 14536, 'mcgwire': 14537, 'bushman': 14538, 'safari': 14539, 'palmer': 14540, 'cecil': 14541, 'commentes': 14542, 'perceive': 14543, 'faintly': 14544, 'sputtering': 14545, 'vast': 14546, 'glacier': 14547, 'eternity': 14548, 'gyrsi': 14549, 'adamnibloe': 14550, 'valdes': 14551, 'forgive': 14552, 'testy': 14553, 'hatred': 14554, 'hashtagteaclub': 14555, 'pars': 14556, 'defender': 14557, 'tod': 14558, 'ensued': 14559, 'singer': 14560, 'songwriter': 14561, 'darchambau': 14562, 'rationing': 14563, 'clnv': 14564, 'vegetable': 14565, 'sweep': 14566, 'mailonline': 14567, 'sweated': 14568, 'breakingnewslh': 14569, 'bree': 14570, 'seventies': 14571, 'roguewatson': 14572, 'nycdivorcelaw': 14573, 'denier': 14574, 'algae': 14575, 'bloom': 14576, 'alska': 14577, 'seeweed': 14578, 'caribean': 14579, 'snowball': 14580, 'inhofe': 14581, 'seclusion': 14582, 'compliance': 14583, 'morevoices': 14584, 'ashford': 14585, 'kauai': 14586, 'pierce': 14587, 'veil': 14588, 'bracelet': 14589, 'wristband': 14590, 'rawfoodbliss': 14591, 'humid': 14592, 'forehead': 14593, 'flared': 14594, 'oli': 14595, 'extract': 14596, 'tbs': 14597, 'seeds': 14598, 'mre': 14599, 'elianaraquel': 14600, 'wilden': 14601, 'trashed': 14602, 'kijima': 14603, 'consumes': 14604, 'sparks': 14605, 'fct': 14606, 'sebee': 14607, 'harpurhey': 14608, 'infantryman': 14609, 'experimental': 14610, 'tutorials': 14611, 'assertative': 14612, 'disabledveterans': 14613, 'groin': 14614, 'thepartyofmeanness': 14615, 'tellyfckngo': 14616, 'jaycootchi': 14617, 'babality': 14618, 'cbsbigbrother': 14619, 'turkmenistan': 14620, 'activate': 14621, 'timey': 14622, 'laurenjauregui': 14623, 'cityofhummus': 14624, 'ilnewsflash': 14625, 'diasporas': 14626, 'hammock': 14627, 'dserialpcilp': 14628, 'pci': 14629, 'dual': 14630, 'fragrance': 14631, 'bathe': 14632, 'spit': 14633, 'princess': 14634, 'reddakushgodd': 14635, 'smfh': 14636, 'snapharmony': 14637, 'gn': 14638, 'njh': 14639, 'cth': 14640, 'mannequin': 14641, 'tammy': 14642, 'elijahmallari': 14643, 'cnni': 14644, 'prisonplanet': 14645, 'specialist': 14646, 'noting': 14647, 'bardissimo': 14648, 'woodland': 14649, 'tryout': 14650, 'tennessees': 14651, 'tourist': 14652, 'rained': 14653, 'jackholes': 14654, 'statesboro': 14655, 'vidalia': 14656, 'thatrussianman': 14657, 'cspanwj': 14658, 'heathrow': 14659, 'amen': 14660, 'salvation': 14661, 'potter': 14662, 'remind': 14663, 'itirapina': 14664, 'rolandonabeats': 14665, 'ellie': 14666, 'goulding': 14667, 'acesse': 14668, 'nosso': 14669, 'ouvir': 14670, 'ruby': 14671, 'pours': 14672, 'upgrades': 14673, 'vulnera': 14674, 'huntley': 14675, 'nankana': 14676, 'sahib': 14677, 'correspondent': 14678, 'electr': 14679, 'aseer': 14680, 'unexercised': 14681, 'honda': 14682, 'psqd': 14683, 'gap': 14684, 'shorts': 14685, 'playthursdays': 14686, 'everybody': 14687, 'waverly': 14688, 'suruc': 14689, 'reached': 14690, 'oun': 14691, 'logan': 14692, 'mordechai': 14693, 'yehuda': 14694, 'friedman': 14695, 'ramat': 14696, 'shemesh': 14697, 'camaqu': 14698, 'pelotas': 14699, 'rinkydnk': 14700, 'zaibatsunews': 14701, 'neoprogressive': 14702, 'ecology': 14703, 'afghetc': 14704, 'humanitarian': 14705, 'daniels': 14706, 'motivator': 14707, 'dumbass': 14708, 'reviewers': 14709, 'boxset': 14710, 'lindsay': 14711, 'buroker': 14712, 'thelegendblue': 14713, 'cozmo': 14714, 'ascend': 14715, 'attained': 14716, 'illustrations': 14717, 'jurors': 14718, 'wallahi': 14719, 'microchip': 14720, 'tbh': 14721, 'followback': 14722, 'ganseyman': 14723, 'hyatt': 14724, 'aia': 14725, 'cote': 14726, 'huffpostarts': 14727, 'recent': 14728, 'traitor': 14729, 'hopes': 14730, 'morn': 14731, 'crazyweather': 14732, 'actionmoviestaughtus': 14733, 'reaad': 14734, 'plsss': 14735, 'duty': 14736, 'ghosts': 14737, 'campanha': 14738, 'roy': 14739, 'spx': 14740, 'finite': 14741, 'mint': 14742, 'chicagoland': 14743, 'calumet': 14744, 'cins': 14745, 'tg': 14746, 'hp': 14747, 'tmr': 14748, 'neal': 14749, 'rigga': 14750, 'amznfavorites': 14751, 'devereaux': 14752, 'scifi': 14753, 'unholy': 14754, 'georgous': 14755, 'alternatives': 14756, 'demonstration': 14757, 'sincere': 14758, 'nieces': 14759, 'megan': 14760, 'swanger': 14761, 'ruthann': 14762, 'mccormick': 14763, 'daisy': 14764, 'henley': 14765, 'catwoman': 14766, 'crazier': 14767, 'bilingual': 14768, 'ormond': 14769, 'tackettdc': 14770, 'gobsmacked': 14771, 'harrybecareful': 14772, 'jedi': 14773, 'droid': 14774, 'hasbro': 14775, 'lorr': 14776, 'naaa': 14777, 'praise': 14778, 'ministry': 14779, 'wdyouth': 14780, 'biblestudy': 14781, 'doors': 14782, 'feelingmanly': 14783, 'gc': 14784, 'newsbrisbane': 14785, 'newsgoldcoast': 14786, 'sinkingshipindy': 14787, 'scarlet': 14788, 'lenore': 14789, 'saison': 14790, 'stonebrewingco': 14791, 'tribune': 14792, 'arin': 14793, 'gummy': 14794, 'grumpout': 14795, 'smallbusiness': 14796, 'marbella': 14797, 'allowing': 14798, 'saltillo': 14799, 'zaragoza': 14800, 'corona': 14801, 'affair': 14802, 'maricopa': 14803, 'startide': 14804, 'hotter': 14805, 'enormous': 14806, 'warra': 14807, 'deniseromano': 14808, 'kh': 14809, 'derivatives': 14810, 'quadrillion': 14811, 'stillness': 14812, 'aspects': 14813, 'weigh': 14814, 'enemity': 14815, 'bishopfred': 14816, 'beconfident': 14817, 'weaknesses': 14818, 'dylanmcclure': 14819, 'zumiez': 14820, 'hindhede': 14821, 'persistent': 14822, 'fastings': 14823, 'forth': 14824, 'apologise': 14825, 'grudges': 14826, 'unfollow': 14827, 'baking': 14828, 'langata': 14829, 'sunbury': 14830, 'assassinkpg': 14831, 'commercials': 14832, 'frankly': 14833, 'reshape': 14834, 'mineral': 14835, 'waterfront': 14836, 'kamon': 14837, 'breneman': 14838, 'heated': 14839, 'sheff': 14840, 'salamanca': 14841, 'vixmeldrew': 14842, 'cultsierre': 14843, 'piracy': 14844, 'slavery': 14845, 'purely': 14846, 'historical': 14847, 'occur': 14848, 'annihilate': 14849, 'dangdaddy': 14850, 'hensley': 14851, 'brush': 14852, 'liveonk': 14853, 'hav': 14854, 'sht': 14855, 'item': 14856, 'phantasmal': 14857, 'cummerbund': 14858, 'trost': 14859, 'crimsonfuckingv': 14860, 'bitchl': 14861, 'vecannon': 14862, 'seras': 14863, 'sasha': 14864, 'peice': 14865, 'sidewalk': 14866, 'goooooooo': 14867, 'thedoolinggroup': 14868, 'slams': 14869, 'bordento': 14870, 'malabamiandsons': 14871, 'junko': 14872, 'creeping': 14873, 'inflicted': 14874, 'derma': 14875, 'brackets': 14876, 'bairstow': 14877, 'buffet': 14878, 'lad': 14879, 'nicolaclements': 14880, 'covering': 14881, 'scabs': 14882, 'bombardment': 14883, 'epcotexplorer': 14884, 'ransacked': 14885, 'awesomeeeeeeee': 14886, 'syd': 14887, 'bankstown': 14888, 'wattle': 14889, 'eyecuts': 14890, 'erasuterism': 14891, 'gal': 14892, 'deco': 14893, 'trickier': 14894, 'splash': 14895, 'principles': 14896, 'practices': 14897, 'mandem': 14898, 'totteham': 14899, 'maddddd': 14900, 'ting': 14901, 'dere': 14902, 'nopower': 14903, 'ribbon': 14904, 'offtrackhorse': 14905, 'thrissur': 14906, 'lansdale': 14907, 'simpson': 14908, 'signing': 14909, 'nffc': 14910, 'wesley': 14911, 'verhoek': 14912, 'household': 14913, 'tpanic': 14914, 'mulberry': 14915, 'antony': 14916, 'eeenice': 14917, 'swayoung': 14918, 'recognised': 14919, 'droughtmonitor': 14920, 'contig': 14921, 'woodcreek': 14922, 'roseville': 14923, 'holdin': 14924, 'byproduct': 14925, 'numa': 14926, 'casa': 14927, 'iiii': 14928, 'riveeeeeer': 14929, 'dustpiggies': 14930, 'awash': 14931, 'abstract': 14932, 'dustpig': 14933, 'gloucestershire': 14934, 'flowri': 14935, 'marinading': 14936, 'rangerkaitimay': 14937, 'yiayplan': 14938, 'amiibos': 14939, 'december': 14940, 'dismissed': 14941, 'rape': 14942, 'raped': 14943, 'occupational': 14944, 'correlate': 14945, 'marketwatch': 14946, 'grange': 14947, 'filter': 14948, 'offsite': 14949, 'heartless': 14950, 'whipped': 14951, 'fleetwood': 14952, 'sherwood': 14953, 'madonnamking': 14954, 'density': 14955, 'biztip': 14956, 'alternative': 14957, 'blunts': 14958, 'sniping': 14959, 'lumbar': 14960, 'lavapixcom': 14961, 'meteoearth': 14962, 'tarp': 14963, 'outfield': 14964, 'infield': 14965, 'trends': 14966, 'mattcohen': 14967, 'gamma': 14968, 'january': 14969, 'dec': 14970, 'deploy': 14971, 'investigate': 14972, 'mueller': 14973, 'nov': 14974, 'graveyard': 14975, 'affecting': 14976, 'sturgis': 14977, 'kotaweather': 14978, 'khulna': 14979, 'sharethis': 14980, 'someplace': 14981, 'paulista': 14982, 'alliston': 14983, 'scottdpierce': 14984, 'billharris': 14985, 'harrisgle': 14986, 'beezersun': 14987, 'forfeiting': 14988, 'delaware': 14989, 'trillrebel': 14990, 'warriorcord': 14991, 'paracord': 14992, 'strand': 14993, 'pekanbaru': 14994, 'batam': 14995, 'meyerbjoern': 14996, 'thelonevirologi': 14997, 'mackayim': 14998, 'newspaper': 14999, 'reputation': 15000, 'prestige': 15001, 'prosser': 15002, 'whippenz': 15003, 'markoturner': 15004, 'annaciclismo': 15005, 'pharrell': 15006, 'hannomottola': 15007, 'trpreston': 15008, 'mlrydalch': 15009, 'tnwx': 15010, 'wsjthinktank': 15011, 'colleenmnelson': 15012, 'teemo': 15013, 'nigeltanner': 15014, 'newly': 15015, 'maple': 15016, 'offended': 15017, 'transgendered': 15018, 'viterbo': 15019, 'bfa': 15020, 'skh': 15021, 'ashton': 15022, 'journey': 15023, 'cows': 15024, 'insults': 15025, 'devote': 15026, 'pride': 15027, 'fold': 15028, 'reprocussions': 15029, 'retroactive': 15030, 'warri': 15031, 'bartholomew': 15032, 'limestone': 15033, 'yellowstone': 15034, 'fieldstone': 15035, 'marcoarment': 15036, 'toes': 15037, 'sessions': 15038, 'klitschko': 15039, 'device': 15040, 'darlington': 15041, 'rant': 15042, 'theconspiracytheory': 15043, 'newep': 15044, 'imaginedragoner': 15045, 'rheinbach': 15046, 'orchid': 15047, 'witch': 15048, 'lucas': 15049, 'duda': 15050, 'nic': 15051, 'badass': 15052, 'phantrash': 15053, 'middlesbrough': 15054, 'snapchatselfie': 15055, 'wrongperson': 15056, 'apd': 15057, 'emmychappy': 15058, 'chakra': 15059, 'dreieich': 15060, 'ufo': 15061, 'ublogeurope': 15062, 'kilkenny': 15063, 'catfish': 15064, 'retweeted': 15065, 'reginald': 15066, 'assessment': 15067, 'optimization': 15068, 'routing': 15069, 'sustainable': 15070, 'literarycakes': 15071, 'wpri': 15072, 'modernize': 15073, 'manavadar': 15074, 'lp': 15075, 'monitoring': 15076, 'bhramabull': 15077, 'socially': 15078, 'duo': 15079, 'scored': 15080, 'squeaky': 15081, 'skull': 15082, 'obedience': 15083, 'silverman': 15084, 'sarahksilverman': 15085, 'soundtrack': 15086, 'tracey': 15087, 'ullman': 15088, 'fps': 15089, 'intentions': 15090, 'gastric': 15091, 'carcinoma': 15092, 'fragile': 15093, 'gene': 15094, 'romanatwoodvlogs': 15095, 'beluga': 15096, 'seaworld': 15097, 'opseaworld': 15098, 'drained': 15099, 'zboyer': 15100, 'washingtontimes': 15101, 'kai': 15102, 'forbath': 15103, 'goal': 15104, 'oven': 15105, 'employee': 15106, 'paperwork': 15107, 'hronlinetweets': 15108, 'simplify': 15109, 'staffing': 15110, 'fedporn': 15111, 'absurd': 15112, 'satire': 15113, 'indistinguishable': 15114, 'baku': 15115, 'erzurum': 15116, 'ina': 15117, 'buted': 15118, 'truths': 15119, 'fayetteville': 15120, 'overcharging': 15121, 'rent': 15122, 'arnd': 15123, 'hyuk': 15124, 'joonma': 15125, 'dealbreaker': 15126, 'mazing': 15127, 'avi': 15128, 'header': 15129, 'mages': 15130, 'fairy': 15131, 'tail': 15132, 'specialize': 15133, 'natsu': 15134, 'dragneel': 15135, 'juic': 15136, 'tkyonly': 15137, 'fmk': 15138, 'refrigerator': 15139, 'deadgirltalking': 15140, 'unfortunemelody': 15141, 'jaylenejoybeligan': 15142, 'tarynel': 15143, 'dredougie': 15144, 'santanico': 15145, 'aest': 15146, 'wifi': 15147, 'hotspot': 15148, 'perform': 15149, 'shakeology': 15150, 'protein': 15151, 'shake': 15152, 'funkylilshack': 15153, 'mariaf': 15154, 'slapping': 15155, 'showdown': 15156, 'qvc': 15157, 'adventure': 15158, 'professionally': 15159, 'unsensibly': 15160, 'outrun': 15161, 'fiya': 15162, 'topstories': 15163, 'timesofindia': 15164, 'slatina': 15165, 'earthling': 15166, 'sugar': 15167, 'ijournal': 15168, 'garner': 15169, 'asae': 15170, 'exhibitor': 15171, 'assnchat': 15172, 'petereallen': 15173, 'huffpostuk': 15174, 'substantial': 15175, 'outnumbering': 15176, 'licenses': 15177, 'fir': 15178, 'hazmat': 15179, 'techfish': 15180, 'stretched': 15181, 'calhoun': 15182, 'nrc': 15183, 'eileenmfl': 15184, 'delphi': 15185, 'as': 15186, 'keepthefaith': 15187, 'leonalewis': 15188, 'essenceofme': 15189, 'meadow': 15190, 'foto': 15191, 'divided': 15192, 'advances': 15193, 'treasure': 15194, 'outbreed': 15195, 'akx': 15196, 'flyest': 15197, 'hippie': 15198, 'corpus': 15199, 'christi': 15200, 'kwajalein': 15201, 'dmassa': 15202, 'definite': 15203, 'crown': 15204, 'aarhus': 15205, 'jutland': 15206, 'wk': 15207, 'seward': 15208, 'bypass': 15209, 'seattledot': 15210, 'seattletimes': 15211, 'madisonpa': 15212, 'wrongdejavu': 15213, 'flynn': 15214, 'onr': 15215, 'studies': 15216, 'calabria': 15217, 'malta': 15218, 'reactors': 15219, 'stormtrooper': 15220, 'engaged': 15221, 'somme': 15222, 'fla': 15223, 'staining': 15224, 'decisionsondecisions': 15225, 'aiginsurance': 15226, 'divestitures': 15227, 'magnetic': 15228, 'electrostatic': 15229, 'fusion': 15230, 'aace': 15231, 'standardised': 15232, 'clinical': 15233, 'nervana': 15234, 'behaviour': 15235, 'jaq': 15236, 'pleasantly': 15237, 'div': 15238, 'fought': 15239, 'astros': 15240, 'stunningly': 15241, 'pitcher': 15242, 'bats': 15243, 'mia': 15244, 'hoe': 15245, 'eggalie': 15246, 'kawartha': 15247, 'canad': 15248, 'varagesale': 15249, 'candace': 15250, 'dx': 15251, 'osbourne': 15252, 'remark': 15253, 'latinos': 15254, 'leelanau': 15255, 'extended': 15256, 'besafe': 15257, 'chips': 15258, 'redbull': 15259, 'snack': 15260, 'methods': 15261, 'touching': 15262, 'obtaing': 15263, 'rank': 15264, 'transcription': 15265, 'butiqob': 15266, 'tattooed': 15267, 'funnynews': 15268, 'fascinating': 15269, 'propaganda': 15270, 'tailor': 15271, 'kay': 15272, 'robbed': 15273, 'lestah': 15274, 'parksboardfacts': 15275, 'zippoline': 15276, 'moveit': 15277, 'motordom': 15278, 'lobbied': 15279, 'visionzero': 15280, 'joboozoso': 15281, 'usat': 15282, 'cactus': 15283, 'borderlands': 15284, 'oocvg': 15285, 'ftw': 15286, 'jungle': 15287, 'harshness': 15288, 'pacing': 15289, 'hatzolah': 15290, 'johngreen': 15291, 'robthier': 15292, 'pakpattan': 15293, 'jasmines': 15294, 'littlewomenla': 15295, 'wema': 15296, 'booze': 15297, 'offshoot': 15298, 'vinustrip': 15299, 'killafornia': 15300, 'repatriating': 15301, 'hannah': 15302, 'regalo': 15303, 'knives': 15304, 'ojoubot': 15305, 'untmdoutdoors': 15306, 'frustration': 15307, 'dyannbridges': 15308, 'yeshayad': 15309, 'slosheriff': 15310, 'gate': 15311, 'buff': 15312, 'anyways': 15313, 'haveli': 15314, 'salmanmydarling': 15315, 'dub': 15316, 'cimahi': 15317, 'movietheatre': 15318, 'mitigating': 15319, 'anthxvy': 15320, 'cufi': 15321, 'jews': 15322, 'convert': 15323, 'haircuts': 15324, 'minimal': 15325, 'wine': 15326, 'infographic': 15327, 'groceries': 15328, 'aching': 15329, 'runkeeper': 15330, 'loseit': 15331, 'bedding': 15332, 'sticker': 15333, 'decals': 15334, 'ogun': 15335, 'customs': 15336, 'shootout': 15337, 'allegedly': 15338, 'hook': 15339, 'elementary': 15340, 'martyrs': 15341, 'sps': 15342, 'cherry': 15343, 'ootd': 15344, 'doubleghats': 15345, 'jackperu': 15346, 'havenford': 15347, 'nicole': 15348, 'fletcher': 15349, 'tennoatax': 15350, 'tenno': 15351, 'dojo': 15352, 'uchicago': 15353, 'faculty': 15354, 'pushing': 15355, 'overturn': 15356, 'protesters': 15357, 'polmont': 15358, 'taller': 15359, 'reveillertm': 15360, 'macabrelolita': 15361, 'amino': 15362, 'acids': 15363, 'summon': 15364, 'directly': 15365, 'goofy': 15366, 'ja': 15367, 'developer': 15368, 'pvc': 15369, 'durand': 15370, 'achievement': 15371, 'replaced': 15372, 'socket': 15373, 'waddesdon': 15374, 'arrives': 15375, 'sittway': 15376, 'jhaustin': 15377, 'childfund': 15378, 'careemergencies': 15379, 'appeals': 15380, 'fireball': 15381, 'nicolekidman': 15382, 'oprah': 15383, 'grubbing': 15384, 'kikes': 15385, 'cluei': 15386, 'telekinesis': 15387, 'pixelsmovie': 15388, 'northland': 15389, 'uprooting': 15390, 'censor': 15391, 'groupon': 15392, 'thoroughly': 15393, 'brutality': 15394, 'nvr': 15395, 'mistreated': 15396, 'patra': 15397, 'abuses': 15398, 'amtalia': 15399, 'sgc': 15400, 'opportunity': 15401, 'nonprofit': 15402, 'simmons': 15403, 'camden': 15404, 'handsome': 15405, 'siris': 15406, 'norse': 15407, 'landscapes': 15408, 'loads': 15409, 'snotgreen': 15410, 'wastelands': 15411, 'willow': 15412, 'glen': 15413, 'trestle': 15414, 'bioter': 15415, 'torry': 15416, 'alvarez': 15417, 'amo': 15418, 'docker': 15419, 'container': 15420, 'karijobe': 15421, 'tambourine': 15422, 'codycarnes': 15423, 'listings': 15424, 'dorrie': 15425, 'caruana': 15426, 'conklin': 15427, 'shuffled': 15428, 'augusta': 15429, 'hgf': 15430, 'robbie': 15431, 'redsox': 15432, 'guayaquil': 15433, 'pornhub': 15434, 'marrakech': 15435, 'dina': 15436, 'tensift': 15437, 'haouz': 15438, 'nasasolarsystem': 15439, 'emts': 15440, 'minimum': 15441, 'wage': 15442, 'paramedics': 15443, 'zipped': 15444, 'beauce': 15445, 'bets': 15446, 'boylesports': 15447, 'casino': 15448, 'gia': 15449, 'kardashianempire': 15450, 'carajdeievingnc': 15451, 'ratio': 15452, 'js': 15453, 'jasminehuerta': 15454, 'blah': 15455, 'maxi': 15456, 'addresses': 15457, 'veld': 15458, 'refund': 15459, 'trc': 15460, 'torontorc': 15461, 'thehammers': 15462, 'tonycottee': 15463, 'alsowhat': 15464, 'bilic': 15465, 'slated': 15466, 'themhe': 15467, 'carmen': 15468, 'nypdnews': 15469, 'louavul': 15470, 'bbshelli': 15471, 'engineshed': 15472, 'pratt': 15473, 'wye': 15474, 'scratching': 15475, 'pedals': 15476, 'bowery': 15477, 'onfireanders': 15478, 'dmerida': 15479, 'nataly': 15480, 'cheer': 15481, 'poconorecord': 15482, 'emergencymgtmag': 15483, 'households': 15484, 'chann': 15485, 'spa': 15486, 'quoted': 15487, 'purported': 15488, 'volleyball': 15489, 'kesabaran': 15490, 'membuahkan': 15491, 'hasil': 15492, 'indah': 15493, 'pada': 15494, 'saat': 15495, 'tepat': 15496, 'connection': 15497, 'income': 15498, 'policies': 15499, 'buckley': 15500, 'eganator': 15501, 'omron': 15502, 'hem': 15503, 'cuffs': 15504, 'developing': 15505, 'symptoms': 15506, 'stamford': 15507, 'shropshire': 15508}\n"
          ]
        }
      ]
    },
    {
      "cell_type": "code",
      "source": [
        "device = torch.device('cuda' if torch.cuda.is_available() else 'cpu')\n",
        "# 1. Tokenización:\n",
        "# Crear un tokenizador que considere palabras más frecuentes\n",
        "tokenizer = Tokenizer(num_words=len(vocab2index))\n",
        "# Ajustar el tokenizador a los datos de entrenamiento para crear un vocabulario\n",
        "tokenizer.fit_on_texts(X_train['combined_text'])\n",
        "\n",
        "# Convertir el texto en secuencias de enteros, donde cada entero representa una palabra en el vocabulario\n",
        "X_train_sequences = tokenizer.texts_to_sequences(X_train['combined_text'])\n",
        "X_test_sequences = tokenizer.texts_to_sequences(X_test['combined_text'])\n",
        "\n",
        "# Determine cual es la secuencia mas larga para determinar el tamaño del embedding\n",
        "max_train = 0\n",
        "for sequence in X_train_sequences:\n",
        "  max_train = max(max_train, len(sequence))\n",
        "print(\"max_train \", max_train)\n",
        "\n",
        "max_test = 0\n",
        "for sequence in X_test_sequences:\n",
        "  max_test = max(max_test, len(sequence))\n",
        "print(\"max_test \", max_test)\n",
        "\n",
        "# 2. Padding:\n",
        "# Establecer la longitud máxima de la secuencia (ajustar según sea necesario)\n",
        "max_length = max(max_test, max_train)\n",
        "print(\"max_length \", max_length)\n",
        "\n",
        "# Asegurar que todas las secuencias tengan la misma longitud rellenando con ceros las secuencias más cortas\n",
        "X_train_padded = pad_sequences(X_train_sequences, maxlen=max_length, padding='post')\n",
        "X_test_padded = pad_sequences(X_test_sequences, maxlen=max_length, padding='post')\n",
        "\n",
        "# 3. Conversión a tensores de PyTorch:\n",
        "# Convertir las secuencias rellenadas y las etiquetas en tensores de PyTorch\n",
        "X_train_tensor = torch.tensor(X_train_padded, dtype=torch.long).to(device)\n",
        "X_test_tensor = torch.tensor(X_test_padded, dtype=torch.long).to(device)\n",
        "y_train_tensor = torch.tensor(y_train.values, dtype=torch.long).to(device)\n",
        "y_test_tensor = torch.tensor(y_test.values, dtype=torch.long).to(device)\n",
        "\n",
        "print(X_train_tensor.shape)\n",
        "print(X_test_tensor.shape)\n",
        "print(y_train_tensor.shape)\n",
        "print(y_test_tensor.shape)\n"
      ],
      "metadata": {
        "id": "wSEQSOtzlzG-",
        "colab": {
          "base_uri": "https://localhost:8080/"
        },
        "outputId": "d67a76ae-b34b-4386-affc-0a8e064995ab",
        "executionInfo": {
          "status": "ok",
          "timestamp": 1727641796467,
          "user_tz": 360,
          "elapsed": 830,
          "user": {
            "displayName": "",
            "userId": ""
          }
        }
      },
      "execution_count": 10,
      "outputs": [
        {
          "output_type": "stream",
          "name": "stdout",
          "text": [
            "max_train  29\n",
            "max_test  27\n",
            "max_length  29\n",
            "torch.Size([6090, 29])\n",
            "torch.Size([1523, 29])\n",
            "torch.Size([6090])\n",
            "torch.Size([1523])\n"
          ]
        }
      ]
    },
    {
      "cell_type": "markdown",
      "source": [
        "## **Experimentos** (10 puntos)"
      ],
      "metadata": {
        "id": "80Ajk-R-lznj"
      }
    },
    {
      "cell_type": "markdown",
      "source": [
        "### 13. Utilice la biblioteca Pytorch para implementar y entrenar un clasificador usando una red recurrente LSTM.\n",
        "\n",
        "### 14. Durante el entrenamiento grafique la curva de error, explique los resultados obtenidos en gráfica y ajuste el modelo o el proceso de entrenamiento apropiadamente (por ejemplo, verifique que el modelo no esté sobre-ajustado)\n",
        "\n",
        "### 15. Obtener predicciones del modelo LSTM usando el conjunto de prueba.\n",
        "\n",
        "\n"
      ],
      "metadata": {
        "id": "hKVtq4g85NCC"
      }
    },
    {
      "cell_type": "markdown",
      "source": [
        "## **Evaluación** (5 puntos)\n"
      ],
      "metadata": {
        "id": "GcDzJGEcl6I1"
      }
    },
    {
      "cell_type": "code",
      "source": [
        "# Definición del modelo LSTMClassifier\n",
        "class LSTMClassifier(nn.Module):\n",
        "    def __init__(self, vocab_size, embedding_dim, hidden_dim, dropout_rate=0.01):\n",
        "        super(LSTMClassifier, self).__init__()\n",
        "        self.embedding = nn.Embedding(vocab_size, embedding_dim)\n",
        "        self.lstm = nn.LSTM(embedding_dim, hidden_dim, batch_first=True)\n",
        "        self.dropout = nn.Dropout(dropout_rate)\n",
        "        self.fc = nn.Linear(hidden_dim, 1)  # Capa lineal para salida binaria\n",
        "        self.sigmoid = nn.Sigmoid()  # Función de activación sigmoide\n",
        "\n",
        "    def forward(self, sentence):\n",
        "        embedded = self.embedding(sentence)\n",
        "        output, (hidden, cell) = self.lstm(embedded)\n",
        "        hidden = hidden[-1]\n",
        "        hidden = self.dropout(hidden)\n",
        "        tag_space = self.fc(hidden)\n",
        "        pred = self.sigmoid(tag_space)  # Salida 0 o 1\n",
        "        # print(\"prediccion \", pred, pred.round())\n",
        "        return pred\n"
      ],
      "metadata": {
        "id": "WEet7Nf06dy7",
        "executionInfo": {
          "status": "ok",
          "timestamp": 1727641802347,
          "user_tz": 360,
          "elapsed": 192,
          "user": {
            "displayName": "",
            "userId": ""
          }
        }
      },
      "execution_count": 11,
      "outputs": []
    },
    {
      "source": [
        "# Configuración del dispositivo (GPU si está disponible)\n",
        "device = torch.device('cuda' if torch.cuda.is_available() else 'cpu')\n",
        "\n",
        "# Hiperparámetros\n",
        "vocab_size = len(vocab2index)   # Tamaño del vocabulario\n",
        "embedding_dim = max_length     # Dimensionalidad de los embeddings\n",
        "hidden_dim = 8        # Dimensionalidad de las capas ocultas de la LSTM\n",
        "output_dim = 1        # Salida binaria (clasificación binaria)\n",
        "lr = 0.1              # Tasa de aprendizaje\n",
        "epochs = 50           # Número de épocas\n",
        "batch_size = 32       # Tamaño de lote\n",
        "\n",
        "# Crear el modelo, la función de pérdida y el optimizador\n",
        "model = LSTMClassifier(vocab_size, embedding_dim, hidden_dim).to(device)\n",
        "\n",
        "# criterion = nn.HingeEmbeddingLoss()\n",
        "criterion = nn.BCEWithLogitsLoss()\n",
        "\n",
        "# optimizer = optim.SGD(model.parameters(), lr=lr)\n",
        "optimizer = optim.Adam(model.parameters(), lr=lr)\n",
        "# optimizer = optim.AdamW(model.parameters(), lr=lr)\n",
        "# optimizer = optim.RMSprop(model.parameters(), lr=lr)\n",
        "\n",
        "# Crear DataLoader para manejar los lotes de datos\n",
        "train_data = TensorDataset(X_train_tensor, y_train_tensor)\n",
        "train_loader = DataLoader(train_data, shuffle=True, batch_size=batch_size)\n",
        "\n",
        "# Función para entrenar el modelo\n",
        "def train_model(model, train_loader, criterion, optimizer, epochs):\n",
        "    model.train()  # Modo de entrenamiento\n",
        "    train_losses = []\n",
        "\n",
        "    for epoch in range(epochs):\n",
        "        epoch_loss = 0\n",
        "\n",
        "        for texts, labels in train_loader:\n",
        "            texts, labels = texts.to(device), labels.to(device)\n",
        "\n",
        "            # Paso 1. Pytorch acumula gradientes, por eso se resetean\n",
        "            # model.zero_grad()  # Resetear gradientes\n",
        "            optimizer.zero_grad()  # Resetear gradientes\n",
        "\n",
        "            # Paso 2. Genera una prediccion\n",
        "            predictions = model(texts).squeeze(1)  # Forward pass\n",
        "            # print(predictions)\n",
        "            # Paso 3. Calcula la perdida, y actualiza gradientes\n",
        "\n",
        "            # Convert labels to float\n",
        "            labels = labels.float()\n",
        "\n",
        "            loss = criterion(predictions, labels)  # Cálculo de la pérdida\n",
        "\n",
        "            # print(texts)\n",
        "            # print('preds', predictions)\n",
        "            # print('labels ', labels)\n",
        "            # print('loss ', loss)\n",
        "\n",
        "            loss.backward()  # Backpropagation\n",
        "            optimizer.step()  # Actualizar pesos\n",
        "\n",
        "            epoch_loss += loss.item()\n",
        "\n",
        "        train_losses.append(epoch_loss/len(train_loader)) # Agregar la pérdida promedio de la época\n",
        "        print(f'Epoch {epoch+1}/{epochs}, Loss: {epoch_loss/len(train_loader):.8f}')\n",
        "\n",
        "    return train_losses\n",
        "\n",
        "\n",
        "# Registra el tiempo de inicio\n",
        "start_time = time.time()\n",
        "\n",
        "# Entrena el clasificador\n",
        "train_losses = train_model(model, train_loader, criterion, optimizer, epochs)\n",
        "\n",
        "# Registra el tiempo de finalización\n",
        "end_time = time.time()\n",
        "\n",
        "# Calcula la duración del entrenamiento\n",
        "training_time = end_time - start_time\n",
        "\n",
        "print(f\"El entrenamiento tomó {training_time:.2f} segundos.\")"
      ],
      "cell_type": "code",
      "metadata": {
        "id": "qgbfjuJDdevY",
        "colab": {
          "base_uri": "https://localhost:8080/"
        },
        "executionInfo": {
          "status": "ok",
          "timestamp": 1727642144585,
          "user_tz": 360,
          "elapsed": 30445,
          "user": {
            "displayName": "",
            "userId": ""
          }
        },
        "outputId": "ab303df7-1e37-44cf-bd89-657947bc1019"
      },
      "execution_count": 19,
      "outputs": [
        {
          "output_type": "stream",
          "name": "stdout",
          "text": [
            "Epoch 1/50, Loss: 0.69415047\n",
            "Epoch 2/50, Loss: 0.69318927\n",
            "Epoch 3/50, Loss: 0.69316096\n",
            "Epoch 4/50, Loss: 0.69315636\n",
            "Epoch 5/50, Loss: 0.69315585\n",
            "Epoch 6/50, Loss: 0.69315366\n",
            "Epoch 7/50, Loss: 0.69314957\n",
            "Epoch 8/50, Loss: 0.69315079\n",
            "Epoch 9/50, Loss: 0.69315035\n",
            "Epoch 10/50, Loss: 0.69314921\n",
            "Epoch 11/50, Loss: 0.69314921\n",
            "Epoch 12/50, Loss: 0.69314829\n",
            "Epoch 13/50, Loss: 0.69314877\n",
            "Epoch 14/50, Loss: 0.69314891\n",
            "Epoch 15/50, Loss: 0.69314806\n",
            "Epoch 16/50, Loss: 0.69314798\n",
            "Epoch 17/50, Loss: 0.69314801\n",
            "Epoch 18/50, Loss: 0.69314752\n",
            "Epoch 19/50, Loss: 0.69314755\n",
            "Epoch 20/50, Loss: 0.69314809\n",
            "Epoch 21/50, Loss: 0.69314744\n",
            "Epoch 22/50, Loss: 0.69314711\n",
            "Epoch 23/50, Loss: 0.69314855\n",
            "Epoch 24/50, Loss: 0.69314728\n",
            "Epoch 25/50, Loss: 0.69314772\n",
            "Epoch 26/50, Loss: 0.69314750\n",
            "Epoch 27/50, Loss: 0.69314744\n",
            "Epoch 28/50, Loss: 0.69314721\n",
            "Epoch 29/50, Loss: 0.69314740\n",
            "Epoch 30/50, Loss: 0.69314735\n",
            "Epoch 31/50, Loss: 0.69314722\n",
            "Epoch 32/50, Loss: 0.69314741\n",
            "Epoch 33/50, Loss: 0.69314742\n",
            "Epoch 34/50, Loss: 0.69314731\n",
            "Epoch 35/50, Loss: 0.69314733\n",
            "Epoch 36/50, Loss: 0.69314729\n",
            "Epoch 37/50, Loss: 0.69314713\n",
            "Epoch 38/50, Loss: 0.69314714\n",
            "Epoch 39/50, Loss: 0.69314730\n",
            "Epoch 40/50, Loss: 0.69314723\n",
            "Epoch 41/50, Loss: 0.69314729\n",
            "Epoch 42/50, Loss: 0.69314731\n",
            "Epoch 43/50, Loss: 0.69314718\n",
            "Epoch 44/50, Loss: 0.69314716\n",
            "Epoch 45/50, Loss: 0.69314717\n",
            "Epoch 46/50, Loss: 0.69314726\n",
            "Epoch 47/50, Loss: 0.69314712\n",
            "Epoch 48/50, Loss: 0.69314718\n",
            "Epoch 49/50, Loss: 0.69314720\n",
            "Epoch 50/50, Loss: 0.69314730\n",
            "El entrenamiento tomó 30.24 segundos.\n"
          ]
        }
      ]
    },
    {
      "cell_type": "code",
      "source": [
        "plt.plot(train_losses)\n",
        "plt.title('Curva de error de entrenamiento')\n",
        "plt.xlabel('Época')\n",
        "plt.ylabel('Pérdida')\n",
        "plt.show()\n",
        "\n",
        "# Función de evaluación (utilizando los mismos datos de entrenamiento para simplificar)\n",
        "def evaluate_model(model, X, y):\n",
        "    model.eval()  # Modo de evaluación\n",
        "    with torch.no_grad():\n",
        "        X, y = X.to(device), y.to(device)\n",
        "        predictions = torch.sigmoid(model(X).squeeze(1))\n",
        "        predictions = torch.round(predictions)\n",
        "        accuracy = (predictions == y).float().mean().item()  # Calcular precisión\n",
        "    return accuracy\n",
        "\n",
        "# Evaluar la precisión en el conjunto de entrenamiento\n",
        "accuracy = evaluate_model(model, X_train_tensor, y_train_tensor)\n",
        "print(f'Accuracy: {accuracy * 100:.2f}%')"
      ],
      "metadata": {
        "id": "rFt8y2C7_2nv",
        "colab": {
          "base_uri": "https://localhost:8080/",
          "height": 491
        },
        "executionInfo": {
          "status": "ok",
          "timestamp": 1727642144801,
          "user_tz": 360,
          "elapsed": 220,
          "user": {
            "displayName": "",
            "userId": ""
          }
        },
        "outputId": "fd4dbb0c-a027-43c1-ff19-7b0db0163c36"
      },
      "execution_count": 20,
      "outputs": [
        {
          "output_type": "display_data",
          "data": {
            "text/plain": [
              "<Figure size 640x480 with 1 Axes>"
            ],
            "image/png": "[encoded data removed]"
          },
          "metadata": {}
        },
        {
          "output_type": "stream",
          "name": "stdout",
          "text": [
            "Accuracy: 43.05%\n"
          ]
        }
      ]
    },
    {
      "cell_type": "markdown",
      "source": [
        "### 16. Obtener los valores de precisión, recall, f1-score y acierto para el modelo. Tanto globales como por clase.\n"
      ],
      "metadata": {
        "id": "uUCaj_DS5YAV"
      }
    },
    {
      "cell_type": "code",
      "source": [
        "# Función de evaluación que devuelve la matriz de confusión y las métricas\n",
        "def evaluate_model_with_confusion_matrix(model, X, y):\n",
        "    model.eval()  # Modo de evaluación\n",
        "    with torch.no_grad():\n",
        "        X, y = X.to(device), y.to(device)\n",
        "        predictions = torch.sigmoid(model(X).squeeze(1))\n",
        "        predictions_rounded = torch.round(predictions)  # Convertir probabilidades a 0 o 1\n",
        "\n",
        "        y_true = y.cpu().numpy()  # Etiquetas reales\n",
        "        y_pred = predictions_rounded.cpu().numpy()  # Predicciones redondeadas\n",
        "\n",
        "        # Calcular matriz de confusión\n",
        "        cm = confusion_matrix(y_true, y_pred)\n",
        "\n",
        "        # Calcular métricas\n",
        "        accuracy = accuracy_score(y_true, y_pred)\n",
        "        precision = precision_score(y_true, y_pred, average=\"binary\")\n",
        "        recall = recall_score(y_true, y_pred, average=\"binary\")\n",
        "        f1 = f1_score(y_true, y_pred, average=\"binary\")\n",
        "        print(classification_report(y_true, y_pred))\n",
        "        return cm, accuracy, precision, recall, f1\n",
        "\n",
        "# Evaluar las métricas en el conjunto de entrenamiento\n",
        "cm, accuracy, precision, recall, f1 = evaluate_model_with_confusion_matrix(model, X_train_tensor, y_train_tensor)\n",
        "\n",
        "# Imprimir las métricas\n",
        "print(f\"Global Accuracy: {accuracy * 100:.2f}%\")\n",
        "print(f\"Global Precision: {precision * 100:.2f}%\")\n",
        "print(f\"Global Recall: {recall * 100:.2f}%\")\n",
        "print(f\"Global F1-Score: {f1 * 100:.2f}%\")\n",
        "print(cm)\n"
      ],
      "metadata": {
        "id": "k_WSSQBC5ab1",
        "colab": {
          "base_uri": "https://localhost:8080/"
        },
        "executionInfo": {
          "status": "ok",
          "timestamp": 1727642149154,
          "user_tz": 360,
          "elapsed": 178,
          "user": {
            "displayName": "",
            "userId": ""
          }
        },
        "outputId": "1a41a0d7-3921-47b2-e622-a8ae4f5afe09"
      },
      "execution_count": 21,
      "outputs": [
        {
          "output_type": "stream",
          "name": "stdout",
          "text": [
            "              precision    recall  f1-score   support\n",
            "\n",
            "           0       0.00      0.00      0.00      3468\n",
            "           1       0.43      1.00      0.60      2622\n",
            "\n",
            "    accuracy                           0.43      6090\n",
            "   macro avg       0.22      0.50      0.30      6090\n",
            "weighted avg       0.19      0.43      0.26      6090\n",
            "\n",
            "Global Accuracy: 43.05%\n",
            "Global Precision: 43.05%\n",
            "Global Recall: 100.00%\n",
            "Global F1-Score: 60.19%\n",
            "[[   0 3468]\n",
            " [   0 2622]]\n"
          ]
        },
        {
          "output_type": "stream",
          "name": "stderr",
          "text": [
            "/usr/local/lib/python3.10/dist-packages/sklearn/metrics/_classification.py:1471: UndefinedMetricWarning: Precision and F-score are ill-defined and being set to 0.0 in labels with no predicted samples. Use `zero_division` parameter to control this behavior.\n",
            "  _warn_prf(average, modifier, msg_start, len(result))\n",
            "/usr/local/lib/python3.10/dist-packages/sklearn/metrics/_classification.py:1471: UndefinedMetricWarning: Precision and F-score are ill-defined and being set to 0.0 in labels with no predicted samples. Use `zero_division` parameter to control this behavior.\n",
            "  _warn_prf(average, modifier, msg_start, len(result))\n",
            "/usr/local/lib/python3.10/dist-packages/sklearn/metrics/_classification.py:1471: UndefinedMetricWarning: Precision and F-score are ill-defined and being set to 0.0 in labels with no predicted samples. Use `zero_division` parameter to control this behavior.\n",
            "  _warn_prf(average, modifier, msg_start, len(result))\n"
          ]
        }
      ]
    },
    {
      "cell_type": "markdown",
      "source": [
        "## 17. Comente y compare los resultados obtenidos con SVM y LSTM."
      ],
      "metadata": {
        "id": "ilCW2uW25XwU"
      }
    },
    {
      "cell_type": "markdown",
      "source": [
        "Comparación de resultados SVM vs LSTM\n",
        "-------------------------------------\n",
        "SVM:\n",
        "- Precisión: Alta (>0.77)\n",
        "- Recall: Moderado (~0.68)\n",
        "- F1-score: Moderado (~0.70)\n",
        "- Tendencia a clasificar mejor la clase 0 (no desastre).\n",
        "- Puede mejorar en identificar la clase 1 (desastre).\n",
        "\n",
        "LSTM:\n",
        "- Precisión: Baja\n",
        "- Recall: Bajo\n",
        "- F1-score: Bajo\n",
        "- Tendencia a clasificar todo como clase 0 (no desastre).\n",
        "- Puede que el modelo no esté aprendiendo adecuadamente las características de los tweets que son desastres.\n",
        "- Posible sobreajuste del modelo\n",
        "\n",
        "Posibles razones por las que el LSTM falla en predecir la clase 1:\n",
        "- **Datos desbalanceados:** El conjunto de datos puede tener más ejemplos de la clase 0 que de la clase 1. Esto puede llevar a que el modelo se sesgue hacia la clase mayoritaria.\n",
        "- **Complejidad del modelo:** El modelo LSTM puede ser demasiado complejo para la cantidad de datos disponibles.\n",
        "- **Hiperparámetros:** La configuración de los hiperparámetros del modelo LSTM (como la tasa de aprendizaje, el número de capas, etc.) puede no ser óptima.\n",
        "- **Datos insuficientes:** La cantidad de datos de entrenamiento puede ser insuficiente para que el modelo aprenda las características de la clase 1.\n",
        "- **Preprocesamiento:** El preprocesamiento del texto puede no ser adecuado para el modelo LSTM.\n",
        "- **Características limitadas:** El modelo LSTM puede no estar capturando las características del texto que son relevantes para la clasificación de desastres.\n",
        "- **Sobreajuste:** El modelo puede estar sobreajustando los datos de entrenamiento, lo que afecta su capacidad de generalizar a los datos de prueba.\n",
        "\n",
        "Recomendaciones para mejorar el LSTM:\n",
        "- **Balancear los datos:** Utilizar técnicas de sobremuestreo o submuestreo para balancear las clases.\n",
        "- **Simplificar el modelo:** Reducir la complejidad del modelo para evitar el sobreajuste.\n",
        "- **Optimizar los hiperparámetros:** Ajustar la tasa de aprendizaje, el tamaño de lote, el número de épocas, la dimensionalidad de los vectores, etc.\n",
        "- **Aumentar los datos:** Obtener más datos de entrenamiento.\n",
        "- **Mejorar el preprocesamiento:** Experimentar con diferentes técnicas de preprocesamiento de texto, como la eliminación de stopwords o el uso de stemming.\n",
        "- **Capturar características más relevantes:** Considerar el uso de técnicas como Word2Vec o BERT para capturar características más semánticas del texto.\n",
        "- **Regularización:** Utilizar técnicas de regularización para evitar el sobreajuste.\n",
        "- **Entrenamiento más largo:** Aumentar el número de épocas de entrenamiento."
      ],
      "metadata": {
        "id": "dKYghfkGNotH"
      }
    }
  ],
  "metadata": {
    "colab": {
      "provenance": [],
      "gpuType": "T4",
      "name": "NLP_tarea_5_SVM_LSTM_VOEV.ipynb"
    },
    "kernelspec": {
      "display_name": "Python 3",
      "name": "python3"
    },
    "language_info": {
      "codemirror_mode": {
        "name": "ipython",
        "version": 3
      },
      "file_extension": ".py",
      "mimetype": "text/x-python",
      "name": "python",
      "nbconvert_exporter": "python",
      "pygments_lexer": "ipython3",
      "version": "3.9.15"
    },
    "accelerator": "GPU"
  },
  "nbformat": 4,
  "nbformat_minor": 0
}